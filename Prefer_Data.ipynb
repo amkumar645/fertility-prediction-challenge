{
  "cells": [
    {
      "cell_type": "markdown",
      "metadata": {
        "id": "Am6dS3FYQEpR"
      },
      "source": [
        "# Initial Stuff"
      ]
    },
    {
      "cell_type": "code",
      "execution_count": 46,
      "metadata": {
        "id": "PxHfOXe1Vpdi"
      },
      "outputs": [],
      "source": [
        "import pandas as pd\n",
        "import matplotlib.pyplot as plt\n",
        "import numpy as np\n",
        "from sklearn.decomposition import PCA\n",
        "from sklearn.preprocessing import StandardScaler"
      ]
    },
    {
      "cell_type": "code",
      "execution_count": 47,
      "metadata": {
        "colab": {
          "base_uri": "https://localhost:8080/"
        },
        "id": "nvosussxD0DN",
        "outputId": "8f4966c9-7d04-4bb2-c632-0771c95f6f93"
      },
      "outputs": [
        {
          "name": "stderr",
          "output_type": "stream",
          "text": [
            "Exception ignored in: <bound method IPythonKernel._clean_thread_parent_frames of <ipykernel.ipkernel.IPythonKernel object at 0x10411d1d0>>\n",
            "Traceback (most recent call last):\n",
            "  File \"/Users/arnavkumar/opt/anaconda3/envs/eyra-rank/lib/python3.11/site-packages/ipykernel/ipkernel.py\", line 770, in _clean_thread_parent_frames\n",
            "    def _clean_thread_parent_frames(\n",
            "\n",
            "KeyboardInterrupt: \n"
          ]
        },
        {
          "ename": "FileNotFoundError",
          "evalue": "[Errno 2] No such file or directory: 'PreFer_codebook.csv'",
          "output_type": "error",
          "traceback": [
            "\u001b[0;31m---------------------------------------------------------------------------\u001b[0m",
            "\u001b[0;31mFileNotFoundError\u001b[0m                         Traceback (most recent call last)",
            "Cell \u001b[0;32mIn[47], line 2\u001b[0m\n\u001b[1;32m      1\u001b[0m \u001b[38;5;66;03m# List of variables\u001b[39;00m\n\u001b[0;32m----> 2\u001b[0m df \u001b[38;5;241m=\u001b[39m \u001b[43mpd\u001b[49m\u001b[38;5;241;43m.\u001b[39;49m\u001b[43mread_csv\u001b[49m\u001b[43m(\u001b[49m\u001b[38;5;124;43m\"\u001b[39;49m\u001b[38;5;124;43mPreFer_codebook.csv\u001b[39;49m\u001b[38;5;124;43m\"\u001b[39;49m\u001b[43m)\u001b[49m\n\u001b[1;32m      3\u001b[0m \u001b[38;5;28mprint\u001b[39m(df\u001b[38;5;241m.\u001b[39mcolumns)\n",
            "File \u001b[0;32m~/opt/anaconda3/envs/eyra-rank/lib/python3.11/site-packages/pandas/io/parsers/readers.py:1026\u001b[0m, in \u001b[0;36mread_csv\u001b[0;34m(filepath_or_buffer, sep, delimiter, header, names, index_col, usecols, dtype, engine, converters, true_values, false_values, skipinitialspace, skiprows, skipfooter, nrows, na_values, keep_default_na, na_filter, verbose, skip_blank_lines, parse_dates, infer_datetime_format, keep_date_col, date_parser, date_format, dayfirst, cache_dates, iterator, chunksize, compression, thousands, decimal, lineterminator, quotechar, quoting, doublequote, escapechar, comment, encoding, encoding_errors, dialect, on_bad_lines, delim_whitespace, low_memory, memory_map, float_precision, storage_options, dtype_backend)\u001b[0m\n\u001b[1;32m   1013\u001b[0m kwds_defaults \u001b[38;5;241m=\u001b[39m _refine_defaults_read(\n\u001b[1;32m   1014\u001b[0m     dialect,\n\u001b[1;32m   1015\u001b[0m     delimiter,\n\u001b[0;32m   (...)\u001b[0m\n\u001b[1;32m   1022\u001b[0m     dtype_backend\u001b[38;5;241m=\u001b[39mdtype_backend,\n\u001b[1;32m   1023\u001b[0m )\n\u001b[1;32m   1024\u001b[0m kwds\u001b[38;5;241m.\u001b[39mupdate(kwds_defaults)\n\u001b[0;32m-> 1026\u001b[0m \u001b[38;5;28;01mreturn\u001b[39;00m \u001b[43m_read\u001b[49m\u001b[43m(\u001b[49m\u001b[43mfilepath_or_buffer\u001b[49m\u001b[43m,\u001b[49m\u001b[43m \u001b[49m\u001b[43mkwds\u001b[49m\u001b[43m)\u001b[49m\n",
            "File \u001b[0;32m~/opt/anaconda3/envs/eyra-rank/lib/python3.11/site-packages/pandas/io/parsers/readers.py:620\u001b[0m, in \u001b[0;36m_read\u001b[0;34m(filepath_or_buffer, kwds)\u001b[0m\n\u001b[1;32m    617\u001b[0m _validate_names(kwds\u001b[38;5;241m.\u001b[39mget(\u001b[38;5;124m\"\u001b[39m\u001b[38;5;124mnames\u001b[39m\u001b[38;5;124m\"\u001b[39m, \u001b[38;5;28;01mNone\u001b[39;00m))\n\u001b[1;32m    619\u001b[0m \u001b[38;5;66;03m# Create the parser.\u001b[39;00m\n\u001b[0;32m--> 620\u001b[0m parser \u001b[38;5;241m=\u001b[39m \u001b[43mTextFileReader\u001b[49m\u001b[43m(\u001b[49m\u001b[43mfilepath_or_buffer\u001b[49m\u001b[43m,\u001b[49m\u001b[43m \u001b[49m\u001b[38;5;241;43m*\u001b[39;49m\u001b[38;5;241;43m*\u001b[39;49m\u001b[43mkwds\u001b[49m\u001b[43m)\u001b[49m\n\u001b[1;32m    622\u001b[0m \u001b[38;5;28;01mif\u001b[39;00m chunksize \u001b[38;5;129;01mor\u001b[39;00m iterator:\n\u001b[1;32m    623\u001b[0m     \u001b[38;5;28;01mreturn\u001b[39;00m parser\n",
            "File \u001b[0;32m~/opt/anaconda3/envs/eyra-rank/lib/python3.11/site-packages/pandas/io/parsers/readers.py:1620\u001b[0m, in \u001b[0;36mTextFileReader.__init__\u001b[0;34m(self, f, engine, **kwds)\u001b[0m\n\u001b[1;32m   1617\u001b[0m     \u001b[38;5;28mself\u001b[39m\u001b[38;5;241m.\u001b[39moptions[\u001b[38;5;124m\"\u001b[39m\u001b[38;5;124mhas_index_names\u001b[39m\u001b[38;5;124m\"\u001b[39m] \u001b[38;5;241m=\u001b[39m kwds[\u001b[38;5;124m\"\u001b[39m\u001b[38;5;124mhas_index_names\u001b[39m\u001b[38;5;124m\"\u001b[39m]\n\u001b[1;32m   1619\u001b[0m \u001b[38;5;28mself\u001b[39m\u001b[38;5;241m.\u001b[39mhandles: IOHandles \u001b[38;5;241m|\u001b[39m \u001b[38;5;28;01mNone\u001b[39;00m \u001b[38;5;241m=\u001b[39m \u001b[38;5;28;01mNone\u001b[39;00m\n\u001b[0;32m-> 1620\u001b[0m \u001b[38;5;28mself\u001b[39m\u001b[38;5;241m.\u001b[39m_engine \u001b[38;5;241m=\u001b[39m \u001b[38;5;28;43mself\u001b[39;49m\u001b[38;5;241;43m.\u001b[39;49m\u001b[43m_make_engine\u001b[49m\u001b[43m(\u001b[49m\u001b[43mf\u001b[49m\u001b[43m,\u001b[49m\u001b[43m \u001b[49m\u001b[38;5;28;43mself\u001b[39;49m\u001b[38;5;241;43m.\u001b[39;49m\u001b[43mengine\u001b[49m\u001b[43m)\u001b[49m\n",
            "File \u001b[0;32m~/opt/anaconda3/envs/eyra-rank/lib/python3.11/site-packages/pandas/io/parsers/readers.py:1880\u001b[0m, in \u001b[0;36mTextFileReader._make_engine\u001b[0;34m(self, f, engine)\u001b[0m\n\u001b[1;32m   1878\u001b[0m     \u001b[38;5;28;01mif\u001b[39;00m \u001b[38;5;124m\"\u001b[39m\u001b[38;5;124mb\u001b[39m\u001b[38;5;124m\"\u001b[39m \u001b[38;5;129;01mnot\u001b[39;00m \u001b[38;5;129;01min\u001b[39;00m mode:\n\u001b[1;32m   1879\u001b[0m         mode \u001b[38;5;241m+\u001b[39m\u001b[38;5;241m=\u001b[39m \u001b[38;5;124m\"\u001b[39m\u001b[38;5;124mb\u001b[39m\u001b[38;5;124m\"\u001b[39m\n\u001b[0;32m-> 1880\u001b[0m \u001b[38;5;28mself\u001b[39m\u001b[38;5;241m.\u001b[39mhandles \u001b[38;5;241m=\u001b[39m \u001b[43mget_handle\u001b[49m\u001b[43m(\u001b[49m\n\u001b[1;32m   1881\u001b[0m \u001b[43m    \u001b[49m\u001b[43mf\u001b[49m\u001b[43m,\u001b[49m\n\u001b[1;32m   1882\u001b[0m \u001b[43m    \u001b[49m\u001b[43mmode\u001b[49m\u001b[43m,\u001b[49m\n\u001b[1;32m   1883\u001b[0m \u001b[43m    \u001b[49m\u001b[43mencoding\u001b[49m\u001b[38;5;241;43m=\u001b[39;49m\u001b[38;5;28;43mself\u001b[39;49m\u001b[38;5;241;43m.\u001b[39;49m\u001b[43moptions\u001b[49m\u001b[38;5;241;43m.\u001b[39;49m\u001b[43mget\u001b[49m\u001b[43m(\u001b[49m\u001b[38;5;124;43m\"\u001b[39;49m\u001b[38;5;124;43mencoding\u001b[39;49m\u001b[38;5;124;43m\"\u001b[39;49m\u001b[43m,\u001b[49m\u001b[43m \u001b[49m\u001b[38;5;28;43;01mNone\u001b[39;49;00m\u001b[43m)\u001b[49m\u001b[43m,\u001b[49m\n\u001b[1;32m   1884\u001b[0m \u001b[43m    \u001b[49m\u001b[43mcompression\u001b[49m\u001b[38;5;241;43m=\u001b[39;49m\u001b[38;5;28;43mself\u001b[39;49m\u001b[38;5;241;43m.\u001b[39;49m\u001b[43moptions\u001b[49m\u001b[38;5;241;43m.\u001b[39;49m\u001b[43mget\u001b[49m\u001b[43m(\u001b[49m\u001b[38;5;124;43m\"\u001b[39;49m\u001b[38;5;124;43mcompression\u001b[39;49m\u001b[38;5;124;43m\"\u001b[39;49m\u001b[43m,\u001b[49m\u001b[43m \u001b[49m\u001b[38;5;28;43;01mNone\u001b[39;49;00m\u001b[43m)\u001b[49m\u001b[43m,\u001b[49m\n\u001b[1;32m   1885\u001b[0m \u001b[43m    \u001b[49m\u001b[43mmemory_map\u001b[49m\u001b[38;5;241;43m=\u001b[39;49m\u001b[38;5;28;43mself\u001b[39;49m\u001b[38;5;241;43m.\u001b[39;49m\u001b[43moptions\u001b[49m\u001b[38;5;241;43m.\u001b[39;49m\u001b[43mget\u001b[49m\u001b[43m(\u001b[49m\u001b[38;5;124;43m\"\u001b[39;49m\u001b[38;5;124;43mmemory_map\u001b[39;49m\u001b[38;5;124;43m\"\u001b[39;49m\u001b[43m,\u001b[49m\u001b[43m \u001b[49m\u001b[38;5;28;43;01mFalse\u001b[39;49;00m\u001b[43m)\u001b[49m\u001b[43m,\u001b[49m\n\u001b[1;32m   1886\u001b[0m \u001b[43m    \u001b[49m\u001b[43mis_text\u001b[49m\u001b[38;5;241;43m=\u001b[39;49m\u001b[43mis_text\u001b[49m\u001b[43m,\u001b[49m\n\u001b[1;32m   1887\u001b[0m \u001b[43m    \u001b[49m\u001b[43merrors\u001b[49m\u001b[38;5;241;43m=\u001b[39;49m\u001b[38;5;28;43mself\u001b[39;49m\u001b[38;5;241;43m.\u001b[39;49m\u001b[43moptions\u001b[49m\u001b[38;5;241;43m.\u001b[39;49m\u001b[43mget\u001b[49m\u001b[43m(\u001b[49m\u001b[38;5;124;43m\"\u001b[39;49m\u001b[38;5;124;43mencoding_errors\u001b[39;49m\u001b[38;5;124;43m\"\u001b[39;49m\u001b[43m,\u001b[49m\u001b[43m \u001b[49m\u001b[38;5;124;43m\"\u001b[39;49m\u001b[38;5;124;43mstrict\u001b[39;49m\u001b[38;5;124;43m\"\u001b[39;49m\u001b[43m)\u001b[49m\u001b[43m,\u001b[49m\n\u001b[1;32m   1888\u001b[0m \u001b[43m    \u001b[49m\u001b[43mstorage_options\u001b[49m\u001b[38;5;241;43m=\u001b[39;49m\u001b[38;5;28;43mself\u001b[39;49m\u001b[38;5;241;43m.\u001b[39;49m\u001b[43moptions\u001b[49m\u001b[38;5;241;43m.\u001b[39;49m\u001b[43mget\u001b[49m\u001b[43m(\u001b[49m\u001b[38;5;124;43m\"\u001b[39;49m\u001b[38;5;124;43mstorage_options\u001b[39;49m\u001b[38;5;124;43m\"\u001b[39;49m\u001b[43m,\u001b[49m\u001b[43m \u001b[49m\u001b[38;5;28;43;01mNone\u001b[39;49;00m\u001b[43m)\u001b[49m\u001b[43m,\u001b[49m\n\u001b[1;32m   1889\u001b[0m \u001b[43m\u001b[49m\u001b[43m)\u001b[49m\n\u001b[1;32m   1890\u001b[0m \u001b[38;5;28;01massert\u001b[39;00m \u001b[38;5;28mself\u001b[39m\u001b[38;5;241m.\u001b[39mhandles \u001b[38;5;129;01mis\u001b[39;00m \u001b[38;5;129;01mnot\u001b[39;00m \u001b[38;5;28;01mNone\u001b[39;00m\n\u001b[1;32m   1891\u001b[0m f \u001b[38;5;241m=\u001b[39m \u001b[38;5;28mself\u001b[39m\u001b[38;5;241m.\u001b[39mhandles\u001b[38;5;241m.\u001b[39mhandle\n",
            "File \u001b[0;32m~/opt/anaconda3/envs/eyra-rank/lib/python3.11/site-packages/pandas/io/common.py:873\u001b[0m, in \u001b[0;36mget_handle\u001b[0;34m(path_or_buf, mode, encoding, compression, memory_map, is_text, errors, storage_options)\u001b[0m\n\u001b[1;32m    868\u001b[0m \u001b[38;5;28;01melif\u001b[39;00m \u001b[38;5;28misinstance\u001b[39m(handle, \u001b[38;5;28mstr\u001b[39m):\n\u001b[1;32m    869\u001b[0m     \u001b[38;5;66;03m# Check whether the filename is to be opened in binary mode.\u001b[39;00m\n\u001b[1;32m    870\u001b[0m     \u001b[38;5;66;03m# Binary mode does not support 'encoding' and 'newline'.\u001b[39;00m\n\u001b[1;32m    871\u001b[0m     \u001b[38;5;28;01mif\u001b[39;00m ioargs\u001b[38;5;241m.\u001b[39mencoding \u001b[38;5;129;01mand\u001b[39;00m \u001b[38;5;124m\"\u001b[39m\u001b[38;5;124mb\u001b[39m\u001b[38;5;124m\"\u001b[39m \u001b[38;5;129;01mnot\u001b[39;00m \u001b[38;5;129;01min\u001b[39;00m ioargs\u001b[38;5;241m.\u001b[39mmode:\n\u001b[1;32m    872\u001b[0m         \u001b[38;5;66;03m# Encoding\u001b[39;00m\n\u001b[0;32m--> 873\u001b[0m         handle \u001b[38;5;241m=\u001b[39m \u001b[38;5;28;43mopen\u001b[39;49m\u001b[43m(\u001b[49m\n\u001b[1;32m    874\u001b[0m \u001b[43m            \u001b[49m\u001b[43mhandle\u001b[49m\u001b[43m,\u001b[49m\n\u001b[1;32m    875\u001b[0m \u001b[43m            \u001b[49m\u001b[43mioargs\u001b[49m\u001b[38;5;241;43m.\u001b[39;49m\u001b[43mmode\u001b[49m\u001b[43m,\u001b[49m\n\u001b[1;32m    876\u001b[0m \u001b[43m            \u001b[49m\u001b[43mencoding\u001b[49m\u001b[38;5;241;43m=\u001b[39;49m\u001b[43mioargs\u001b[49m\u001b[38;5;241;43m.\u001b[39;49m\u001b[43mencoding\u001b[49m\u001b[43m,\u001b[49m\n\u001b[1;32m    877\u001b[0m \u001b[43m            \u001b[49m\u001b[43merrors\u001b[49m\u001b[38;5;241;43m=\u001b[39;49m\u001b[43merrors\u001b[49m\u001b[43m,\u001b[49m\n\u001b[1;32m    878\u001b[0m \u001b[43m            \u001b[49m\u001b[43mnewline\u001b[49m\u001b[38;5;241;43m=\u001b[39;49m\u001b[38;5;124;43m\"\u001b[39;49m\u001b[38;5;124;43m\"\u001b[39;49m\u001b[43m,\u001b[49m\n\u001b[1;32m    879\u001b[0m \u001b[43m        \u001b[49m\u001b[43m)\u001b[49m\n\u001b[1;32m    880\u001b[0m     \u001b[38;5;28;01melse\u001b[39;00m:\n\u001b[1;32m    881\u001b[0m         \u001b[38;5;66;03m# Binary mode\u001b[39;00m\n\u001b[1;32m    882\u001b[0m         handle \u001b[38;5;241m=\u001b[39m \u001b[38;5;28mopen\u001b[39m(handle, ioargs\u001b[38;5;241m.\u001b[39mmode)\n",
            "\u001b[0;31mFileNotFoundError\u001b[0m: [Errno 2] No such file or directory: 'PreFer_codebook.csv'"
          ]
        }
      ],
      "source": [
        "# List of variables\n",
        "df = pd.read_csv(\"PreFer_codebook.csv\")\n",
        "print(df.columns)"
      ]
    },
    {
      "cell_type": "code",
      "execution_count": null,
      "metadata": {
        "colab": {
          "base_uri": "https://localhost:8080/"
        },
        "id": "fdsgfax0WySR",
        "outputId": "a41bdbfa-dd4f-4416-d3db-24eeb21f2d78"
      },
      "outputs": [
        {
          "name": "stdout",
          "output_type": "stream",
          "text": [
            "31667\n"
          ]
        }
      ],
      "source": [
        "print(len(df))"
      ]
    },
    {
      "cell_type": "code",
      "execution_count": null,
      "metadata": {
        "colab": {
          "base_uri": "https://localhost:8080/"
        },
        "id": "4xlwkF31V75w",
        "outputId": "12167626-aac5-48b7-89fd-62d98195c692"
      },
      "outputs": [
        {
          "name": "stdout",
          "output_type": "stream",
          "text": [
            "['numeric' 'categorical' 'response to open-ended question' 'date or time'\n",
            " 'character [almost exclusively empty strings]']\n"
          ]
        }
      ],
      "source": [
        "print(df['type_var'].unique())"
      ]
    },
    {
      "cell_type": "code",
      "execution_count": null,
      "metadata": {
        "colab": {
          "base_uri": "https://localhost:8080/"
        },
        "id": "MpL-jpflWIis",
        "outputId": "d51c5e40-477a-4762-ccda-4d9ed1c03f4d"
      },
      "outputs": [
        {
          "name": "stdout",
          "output_type": "stream",
          "text": [
            "['Starting date of the questionnaire' 'Starting time of the questionnaire'\n",
            " 'End date of the questionnaire' 'End time of the questionnaire'\n",
            " 'What other reason do you mean?' 'Duration in seconds'\n",
            " ' Starting date of the questionnaire'\n",
            " ' Starting time of the questionnaire' ' End date of the questionnaire'\n",
            " ' End time of the questionnaire' 'Starting time questionnaire'\n",
            " 'End time questionnaire' 'Starting date of the interview'\n",
            " 'Starting date questionnaire' 'Starting time of the interview'\n",
            " 'End date of the interview' 'End date questionnaire'\n",
            " 'End time of the interview' 'Starting date questionnaire - part 1'\n",
            " 'Starting time questionnaire - part 1' 'End date questionnaire - part 1'\n",
            " 'End time questionnaire - part 1' 'Starting date questionnaire - part 2'\n",
            " 'Starting time questionnaire - part 2' 'End date questionnaire - part 2'\n",
            " 'End time questionnaire - part 2' 'Starting date questionnaire - part 3'\n",
            " 'Starting time questionnaire - part 3' 'End date questionnaire - part 3'\n",
            " 'End time questionnaire - part 3' 'Questionnaire starting date'\n",
            " 'Questionnaire starting time' 'Questionnaire end date'\n",
            " 'Questionnaire end time'\n",
            " 'Since when are you providing informal care to this person?'\n",
            " 'Starting time uestionnaire']\n"
          ]
        }
      ],
      "source": [
        "print(df[df['type_var']== 'date or time']['var_label'].unique())"
      ]
    },
    {
      "cell_type": "code",
      "execution_count": null,
      "metadata": {
        "colab": {
          "base_uri": "https://localhost:8080/"
        },
        "id": "Wf4VNaiKWewn",
        "outputId": "c7f71a56-e865-4dc4-8bae-e7da37c9b765"
      },
      "outputs": [
        {
          "name": "stdout",
          "output_type": "stream",
          "text": [
            "30007\n"
          ]
        }
      ],
      "source": [
        "# Only keep numerical and categorical\n",
        "df_new = df[(df['type_var'] == 'numeric') | (df['type_var'] == 'categorical')]\n",
        "print(len(df_new))"
      ]
    },
    {
      "cell_type": "code",
      "execution_count": null,
      "metadata": {
        "colab": {
          "base_uri": "https://localhost:8080/",
          "height": 496
        },
        "id": "V8M6Uh7KXOyI",
        "outputId": "5d6165d2-b3a3-4130-d087-90240e28041e"
      },
      "outputs": [
        {
          "data": {
            "application/vnd.google.colaboratory.intrinsic+json": {
              "summary": "{\n  \"name\": \"df_new\",\n  \"rows\": 30007,\n  \"fields\": [\n    {\n      \"column\": \"var_name\",\n      \"properties\": {\n        \"dtype\": \"string\",\n        \"num_unique_values\": 30007,\n        \"samples\": [\n          \"cf20m108\",\n          \"ci11d082\",\n          \"ch15h167\"\n        ],\n        \"semantic_type\": \"\",\n        \"description\": \"\"\n      }\n    },\n    {\n      \"column\": \"var_label\",\n      \"properties\": {\n        \"dtype\": \"category\",\n        \"num_unique_values\": 9126,\n        \"samples\": [\n          \"Which of the old age pensions or life annuities listed below did you receive in 2015? - life annuity\",\n          \"Can you indicate, then, to what category the gross amount belongs that you received in 2008 as nabestaandenpensioen (through a pension fund or insurer)?\",\n          \"Can you indicate, then, to what category the gross amount of VUT belongs that you received in 2007?\"\n        ],\n        \"semantic_type\": \"\",\n        \"description\": \"\"\n      }\n    },\n    {\n      \"column\": \"values_cat\",\n      \"properties\": {\n        \"dtype\": \"category\",\n        \"num_unique_values\": 119,\n        \"samples\": [\n          \"1; 2; 3; 4; 5; 6; 98\",\n          \"-9; 1; 2; 3; 4; 5; 6; 7; 8; 9\",\n          \"1; 2; 99\"\n        ],\n        \"semantic_type\": \"\",\n        \"description\": \"\"\n      }\n    },\n    {\n      \"column\": \"labels_cat\",\n      \"properties\": {\n        \"dtype\": \"category\",\n        \"num_unique_values\": 671,\n        \"samples\": [\n          \"VVD (liberal party); PvdA (labor party); PVV (Wilders freedom party); CDA (Christian democrat party); SP (socialist party); D66 (social-liberal party); GroenLinks (green party); ChristenUnie (Christian union party); SGP (Christian Reformed party); Partij voor de Dieren (animal welfare party); other party\",\n          \"less than 8,000 euros; 8,000-16,000 euros; 16,000-24,000 euros; 24,000-36,000 euros; 36,000-48,000 euros; 48,000-60,000 euros; 60,000 euros or more; I prefer not to say; I don\\u2019t know\",\n          \"not at all satisfied; 1; 2; 3; 4; 5; 6; 7; 8; 9; fully satisfied\"\n        ],\n        \"semantic_type\": \"\",\n        \"description\": \"\"\n      }\n    },\n    {\n      \"column\": \"unique_values_n\",\n      \"properties\": {\n        \"dtype\": \"number\",\n        \"std\": 306.33524811022176,\n        \"min\": 0.0,\n        \"max\": 26324.0,\n        \"num_unique_values\": 670,\n        \"samples\": [\n          270.0,\n          613.0,\n          1950.0\n        ],\n        \"semantic_type\": \"\",\n        \"description\": \"\"\n      }\n    },\n    {\n      \"column\": \"n_missing\",\n      \"properties\": {\n        \"dtype\": \"number\",\n        \"std\": 8407,\n        \"min\": 0,\n        \"max\": 686230,\n        \"num_unique_values\": 5334,\n        \"samples\": [\n          5510,\n          3050,\n          5907\n        ],\n        \"semantic_type\": \"\",\n        \"description\": \"\"\n      }\n    },\n    {\n      \"column\": \"prop_missing\",\n      \"properties\": {\n        \"dtype\": \"number\",\n        \"std\": 0.41189843346688254,\n        \"min\": 0.0,\n        \"max\": 1.0,\n        \"num_unique_values\": 12385,\n        \"samples\": [\n          0.33861874559549,\n          0.138038401660612,\n          0.864026063100137\n        ],\n        \"semantic_type\": \"\",\n        \"description\": \"\"\n      }\n    },\n    {\n      \"column\": \"type_var\",\n      \"properties\": {\n        \"dtype\": \"category\",\n        \"num_unique_values\": 2,\n        \"samples\": [\n          \"categorical\",\n          \"numeric\"\n        ],\n        \"semantic_type\": \"\",\n        \"description\": \"\"\n      }\n    },\n    {\n      \"column\": \"note\",\n      \"properties\": {\n        \"dtype\": \"category\",\n        \"num_unique_values\": 43,\n        \"samples\": [\n          \"This variable originally had value labels = {c(`I don\\u2019t know` = 999999)} but non were observed in the data, and we turned the variable [value_labels] into NULL and [value_labels_n] into 0. All values in the variable were numeric, which is why we turned the variable [type_var] into {numeric}. Please be advised that this variable type for this questionmay vary across waves, if any of the value labels were present in other waves, and the variable would have been assigned with {categorical}. The summary codebook will also flag this issue.\",\n          \"This variable originally had value labels = {c(`Ik wil het niet zeggen` = 9999999998, `Ik weet het niet` = 9999999999)} but non were observed in the data, and we turned the variable [value_labels] into NULL and [value_labels_n] into 0. All values in the variable were numeric, which is why we turned the variable [type_var] into {numeric}. Please be advised that this variable type for this questionmay vary across waves, if any of the value labels were present in other waves, and the variable would have been assigned with {categorical}. The summary codebook will also flag this issue.\"\n        ],\n        \"semantic_type\": \"\",\n        \"description\": \"\"\n      }\n    },\n    {\n      \"column\": \"year\",\n      \"properties\": {\n        \"dtype\": \"number\",\n        \"std\": 3.7772442576060574,\n        \"min\": 2007.0,\n        \"max\": 2020.0,\n        \"num_unique_values\": 14,\n        \"samples\": [\n          2017.0,\n          2019.0\n        ],\n        \"semantic_type\": \"\",\n        \"description\": \"\"\n      }\n    },\n    {\n      \"column\": \"survey\",\n      \"properties\": {\n        \"dtype\": \"category\",\n        \"num_unique_values\": 14,\n        \"samples\": [\n          \"Religion and Ethnicity\",\n          \"Work & Schooling\"\n        ],\n        \"semantic_type\": \"\",\n        \"description\": \"\"\n      }\n    },\n    {\n      \"column\": \"dataset\",\n      \"properties\": {\n        \"dtype\": \"category\",\n        \"num_unique_values\": 3,\n        \"samples\": [\n          \"PreFer_train_data.csv\",\n          \"PreFer_train_background_data.csv\"\n        ],\n        \"semantic_type\": \"\",\n        \"description\": \"\"\n      }\n    }\n  ]\n}",
              "type": "dataframe",
              "variable_name": "df_new"
            },
            "text/html": [
              "\n",
              "  <div id=\"df-ff038e54-d4e5-4df3-b5a9-08f5400b0e46\" class=\"colab-df-container\">\n",
              "    <div>\n",
              "<style scoped>\n",
              "    .dataframe tbody tr th:only-of-type {\n",
              "        vertical-align: middle;\n",
              "    }\n",
              "\n",
              "    .dataframe tbody tr th {\n",
              "        vertical-align: top;\n",
              "    }\n",
              "\n",
              "    .dataframe thead th {\n",
              "        text-align: right;\n",
              "    }\n",
              "</style>\n",
              "<table border=\"1\" class=\"dataframe\">\n",
              "  <thead>\n",
              "    <tr style=\"text-align: right;\">\n",
              "      <th></th>\n",
              "      <th>var_name</th>\n",
              "      <th>var_label</th>\n",
              "      <th>values_cat</th>\n",
              "      <th>labels_cat</th>\n",
              "      <th>unique_values_n</th>\n",
              "      <th>n_missing</th>\n",
              "      <th>prop_missing</th>\n",
              "      <th>type_var</th>\n",
              "      <th>note</th>\n",
              "      <th>year</th>\n",
              "      <th>survey</th>\n",
              "      <th>dataset</th>\n",
              "    </tr>\n",
              "  </thead>\n",
              "  <tbody>\n",
              "    <tr>\n",
              "      <th>0</th>\n",
              "      <td>nomem_encr</td>\n",
              "      <td>Number of household member encrypted</td>\n",
              "      <td>NaN</td>\n",
              "      <td>NaN</td>\n",
              "      <td>NaN</td>\n",
              "      <td>0</td>\n",
              "      <td>0.00000</td>\n",
              "      <td>numeric</td>\n",
              "      <td>NaN</td>\n",
              "      <td>NaN</td>\n",
              "      <td>All surveys</td>\n",
              "      <td>PreFer_train_data.csv</td>\n",
              "    </tr>\n",
              "    <tr>\n",
              "      <th>1</th>\n",
              "      <td>outcome_available</td>\n",
              "      <td>Whether the outcome is available for the respo...</td>\n",
              "      <td>NaN</td>\n",
              "      <td>NaN</td>\n",
              "      <td>2.0</td>\n",
              "      <td>7622</td>\n",
              "      <td>0.43106</td>\n",
              "      <td>numeric</td>\n",
              "      <td>NaN</td>\n",
              "      <td>NaN</td>\n",
              "      <td>Outcome</td>\n",
              "      <td>PreFer_train_data.csv</td>\n",
              "    </tr>\n",
              "    <tr>\n",
              "      <th>2</th>\n",
              "      <td>cf08a_m</td>\n",
              "      <td>Year and month of field work period</td>\n",
              "      <td>NaN</td>\n",
              "      <td>NaN</td>\n",
              "      <td>2.0</td>\n",
              "      <td>0</td>\n",
              "      <td>0.00000</td>\n",
              "      <td>numeric</td>\n",
              "      <td>NaN</td>\n",
              "      <td>2008.0</td>\n",
              "      <td>Family &amp; Household</td>\n",
              "      <td>PreFer_train_data.csv</td>\n",
              "    </tr>\n",
              "    <tr>\n",
              "      <th>3</th>\n",
              "      <td>cf09b_m</td>\n",
              "      <td>Year and month of field work period</td>\n",
              "      <td>NaN</td>\n",
              "      <td>NaN</td>\n",
              "      <td>2.0</td>\n",
              "      <td>0</td>\n",
              "      <td>0.00000</td>\n",
              "      <td>numeric</td>\n",
              "      <td>NaN</td>\n",
              "      <td>2009.0</td>\n",
              "      <td>Family &amp; Household</td>\n",
              "      <td>PreFer_train_data.csv</td>\n",
              "    </tr>\n",
              "    <tr>\n",
              "      <th>4</th>\n",
              "      <td>cf10c_m</td>\n",
              "      <td>Year and month of field work period</td>\n",
              "      <td>NaN</td>\n",
              "      <td>NaN</td>\n",
              "      <td>1.0</td>\n",
              "      <td>0</td>\n",
              "      <td>0.00000</td>\n",
              "      <td>numeric</td>\n",
              "      <td>NaN</td>\n",
              "      <td>2010.0</td>\n",
              "      <td>Family &amp; Household</td>\n",
              "      <td>PreFer_train_data.csv</td>\n",
              "    </tr>\n",
              "  </tbody>\n",
              "</table>\n",
              "</div>\n",
              "    <div class=\"colab-df-buttons\">\n",
              "\n",
              "  <div class=\"colab-df-container\">\n",
              "    <button class=\"colab-df-convert\" onclick=\"convertToInteractive('df-ff038e54-d4e5-4df3-b5a9-08f5400b0e46')\"\n",
              "            title=\"Convert this dataframe to an interactive table.\"\n",
              "            style=\"display:none;\">\n",
              "\n",
              "  <svg xmlns=\"http://www.w3.org/2000/svg\" height=\"24px\" viewBox=\"0 -960 960 960\">\n",
              "    <path d=\"M120-120v-720h720v720H120Zm60-500h600v-160H180v160Zm220 220h160v-160H400v160Zm0 220h160v-160H400v160ZM180-400h160v-160H180v160Zm440 0h160v-160H620v160ZM180-180h160v-160H180v160Zm440 0h160v-160H620v160Z\"/>\n",
              "  </svg>\n",
              "    </button>\n",
              "\n",
              "  <style>\n",
              "    .colab-df-container {\n",
              "      display:flex;\n",
              "      gap: 12px;\n",
              "    }\n",
              "\n",
              "    .colab-df-convert {\n",
              "      background-color: #E8F0FE;\n",
              "      border: none;\n",
              "      border-radius: 50%;\n",
              "      cursor: pointer;\n",
              "      display: none;\n",
              "      fill: #1967D2;\n",
              "      height: 32px;\n",
              "      padding: 0 0 0 0;\n",
              "      width: 32px;\n",
              "    }\n",
              "\n",
              "    .colab-df-convert:hover {\n",
              "      background-color: #E2EBFA;\n",
              "      box-shadow: 0px 1px 2px rgba(60, 64, 67, 0.3), 0px 1px 3px 1px rgba(60, 64, 67, 0.15);\n",
              "      fill: #174EA6;\n",
              "    }\n",
              "\n",
              "    .colab-df-buttons div {\n",
              "      margin-bottom: 4px;\n",
              "    }\n",
              "\n",
              "    [theme=dark] .colab-df-convert {\n",
              "      background-color: #3B4455;\n",
              "      fill: #D2E3FC;\n",
              "    }\n",
              "\n",
              "    [theme=dark] .colab-df-convert:hover {\n",
              "      background-color: #434B5C;\n",
              "      box-shadow: 0px 1px 3px 1px rgba(0, 0, 0, 0.15);\n",
              "      filter: drop-shadow(0px 1px 2px rgba(0, 0, 0, 0.3));\n",
              "      fill: #FFFFFF;\n",
              "    }\n",
              "  </style>\n",
              "\n",
              "    <script>\n",
              "      const buttonEl =\n",
              "        document.querySelector('#df-ff038e54-d4e5-4df3-b5a9-08f5400b0e46 button.colab-df-convert');\n",
              "      buttonEl.style.display =\n",
              "        google.colab.kernel.accessAllowed ? 'block' : 'none';\n",
              "\n",
              "      async function convertToInteractive(key) {\n",
              "        const element = document.querySelector('#df-ff038e54-d4e5-4df3-b5a9-08f5400b0e46');\n",
              "        const dataTable =\n",
              "          await google.colab.kernel.invokeFunction('convertToInteractive',\n",
              "                                                    [key], {});\n",
              "        if (!dataTable) return;\n",
              "\n",
              "        const docLinkHtml = 'Like what you see? Visit the ' +\n",
              "          '<a target=\"_blank\" href=https://colab.research.google.com/notebooks/data_table.ipynb>data table notebook</a>'\n",
              "          + ' to learn more about interactive tables.';\n",
              "        element.innerHTML = '';\n",
              "        dataTable['output_type'] = 'display_data';\n",
              "        await google.colab.output.renderOutput(dataTable, element);\n",
              "        const docLink = document.createElement('div');\n",
              "        docLink.innerHTML = docLinkHtml;\n",
              "        element.appendChild(docLink);\n",
              "      }\n",
              "    </script>\n",
              "  </div>\n",
              "\n",
              "\n",
              "<div id=\"df-8d0d8fe6-e0fe-4ff9-bf8b-1a1dab6f0f79\">\n",
              "  <button class=\"colab-df-quickchart\" onclick=\"quickchart('df-8d0d8fe6-e0fe-4ff9-bf8b-1a1dab6f0f79')\"\n",
              "            title=\"Suggest charts\"\n",
              "            style=\"display:none;\">\n",
              "\n",
              "<svg xmlns=\"http://www.w3.org/2000/svg\" height=\"24px\"viewBox=\"0 0 24 24\"\n",
              "     width=\"24px\">\n",
              "    <g>\n",
              "        <path d=\"M19 3H5c-1.1 0-2 .9-2 2v14c0 1.1.9 2 2 2h14c1.1 0 2-.9 2-2V5c0-1.1-.9-2-2-2zM9 17H7v-7h2v7zm4 0h-2V7h2v10zm4 0h-2v-4h2v4z\"/>\n",
              "    </g>\n",
              "</svg>\n",
              "  </button>\n",
              "\n",
              "<style>\n",
              "  .colab-df-quickchart {\n",
              "      --bg-color: #E8F0FE;\n",
              "      --fill-color: #1967D2;\n",
              "      --hover-bg-color: #E2EBFA;\n",
              "      --hover-fill-color: #174EA6;\n",
              "      --disabled-fill-color: #AAA;\n",
              "      --disabled-bg-color: #DDD;\n",
              "  }\n",
              "\n",
              "  [theme=dark] .colab-df-quickchart {\n",
              "      --bg-color: #3B4455;\n",
              "      --fill-color: #D2E3FC;\n",
              "      --hover-bg-color: #434B5C;\n",
              "      --hover-fill-color: #FFFFFF;\n",
              "      --disabled-bg-color: #3B4455;\n",
              "      --disabled-fill-color: #666;\n",
              "  }\n",
              "\n",
              "  .colab-df-quickchart {\n",
              "    background-color: var(--bg-color);\n",
              "    border: none;\n",
              "    border-radius: 50%;\n",
              "    cursor: pointer;\n",
              "    display: none;\n",
              "    fill: var(--fill-color);\n",
              "    height: 32px;\n",
              "    padding: 0;\n",
              "    width: 32px;\n",
              "  }\n",
              "\n",
              "  .colab-df-quickchart:hover {\n",
              "    background-color: var(--hover-bg-color);\n",
              "    box-shadow: 0 1px 2px rgba(60, 64, 67, 0.3), 0 1px 3px 1px rgba(60, 64, 67, 0.15);\n",
              "    fill: var(--button-hover-fill-color);\n",
              "  }\n",
              "\n",
              "  .colab-df-quickchart-complete:disabled,\n",
              "  .colab-df-quickchart-complete:disabled:hover {\n",
              "    background-color: var(--disabled-bg-color);\n",
              "    fill: var(--disabled-fill-color);\n",
              "    box-shadow: none;\n",
              "  }\n",
              "\n",
              "  .colab-df-spinner {\n",
              "    border: 2px solid var(--fill-color);\n",
              "    border-color: transparent;\n",
              "    border-bottom-color: var(--fill-color);\n",
              "    animation:\n",
              "      spin 1s steps(1) infinite;\n",
              "  }\n",
              "\n",
              "  @keyframes spin {\n",
              "    0% {\n",
              "      border-color: transparent;\n",
              "      border-bottom-color: var(--fill-color);\n",
              "      border-left-color: var(--fill-color);\n",
              "    }\n",
              "    20% {\n",
              "      border-color: transparent;\n",
              "      border-left-color: var(--fill-color);\n",
              "      border-top-color: var(--fill-color);\n",
              "    }\n",
              "    30% {\n",
              "      border-color: transparent;\n",
              "      border-left-color: var(--fill-color);\n",
              "      border-top-color: var(--fill-color);\n",
              "      border-right-color: var(--fill-color);\n",
              "    }\n",
              "    40% {\n",
              "      border-color: transparent;\n",
              "      border-right-color: var(--fill-color);\n",
              "      border-top-color: var(--fill-color);\n",
              "    }\n",
              "    60% {\n",
              "      border-color: transparent;\n",
              "      border-right-color: var(--fill-color);\n",
              "    }\n",
              "    80% {\n",
              "      border-color: transparent;\n",
              "      border-right-color: var(--fill-color);\n",
              "      border-bottom-color: var(--fill-color);\n",
              "    }\n",
              "    90% {\n",
              "      border-color: transparent;\n",
              "      border-bottom-color: var(--fill-color);\n",
              "    }\n",
              "  }\n",
              "</style>\n",
              "\n",
              "  <script>\n",
              "    async function quickchart(key) {\n",
              "      const quickchartButtonEl =\n",
              "        document.querySelector('#' + key + ' button');\n",
              "      quickchartButtonEl.disabled = true;  // To prevent multiple clicks.\n",
              "      quickchartButtonEl.classList.add('colab-df-spinner');\n",
              "      try {\n",
              "        const charts = await google.colab.kernel.invokeFunction(\n",
              "            'suggestCharts', [key], {});\n",
              "      } catch (error) {\n",
              "        console.error('Error during call to suggestCharts:', error);\n",
              "      }\n",
              "      quickchartButtonEl.classList.remove('colab-df-spinner');\n",
              "      quickchartButtonEl.classList.add('colab-df-quickchart-complete');\n",
              "    }\n",
              "    (() => {\n",
              "      let quickchartButtonEl =\n",
              "        document.querySelector('#df-8d0d8fe6-e0fe-4ff9-bf8b-1a1dab6f0f79 button');\n",
              "      quickchartButtonEl.style.display =\n",
              "        google.colab.kernel.accessAllowed ? 'block' : 'none';\n",
              "    })();\n",
              "  </script>\n",
              "</div>\n",
              "    </div>\n",
              "  </div>\n"
            ],
            "text/plain": [
              "            var_name                                          var_label  \\\n",
              "0         nomem_encr               Number of household member encrypted   \n",
              "1  outcome_available  Whether the outcome is available for the respo...   \n",
              "2            cf08a_m                Year and month of field work period   \n",
              "3            cf09b_m                Year and month of field work period   \n",
              "4            cf10c_m                Year and month of field work period   \n",
              "\n",
              "  values_cat labels_cat  unique_values_n  n_missing  prop_missing type_var  \\\n",
              "0        NaN        NaN              NaN          0       0.00000  numeric   \n",
              "1        NaN        NaN              2.0       7622       0.43106  numeric   \n",
              "2        NaN        NaN              2.0          0       0.00000  numeric   \n",
              "3        NaN        NaN              2.0          0       0.00000  numeric   \n",
              "4        NaN        NaN              1.0          0       0.00000  numeric   \n",
              "\n",
              "  note    year              survey                dataset  \n",
              "0  NaN     NaN         All surveys  PreFer_train_data.csv  \n",
              "1  NaN     NaN             Outcome  PreFer_train_data.csv  \n",
              "2  NaN  2008.0  Family & Household  PreFer_train_data.csv  \n",
              "3  NaN  2009.0  Family & Household  PreFer_train_data.csv  \n",
              "4  NaN  2010.0  Family & Household  PreFer_train_data.csv  "
            ]
          },
          "execution_count": 9,
          "metadata": {},
          "output_type": "execute_result"
        }
      ],
      "source": [
        "df_new.head()"
      ]
    },
    {
      "cell_type": "code",
      "execution_count": null,
      "metadata": {
        "colab": {
          "base_uri": "https://localhost:8080/",
          "height": 515
        },
        "id": "UWGTQvjKW4qS",
        "outputId": "29bc0f92-6bdb-44e5-a2bf-4acf76ffa385"
      },
      "outputs": [
        {
          "data": {
            "text/plain": [
              "(array([5.324e+03, 2.000e+00, 2.000e+00, 2.000e+00, 0.000e+00, 0.000e+00,\n",
              "        1.000e+00, 2.000e+00, 0.000e+00, 1.000e+00]),\n",
              " array([     0.,  68623., 137246., 205869., 274492., 343115., 411738.,\n",
              "        480361., 548984., 617607., 686230.]),\n",
              " <BarContainer object of 10 artists>)"
            ]
          },
          "execution_count": 10,
          "metadata": {},
          "output_type": "execute_result"
        },
        {
          "data": {
            "image/png": "[encoded data removed]",
            "text/plain": [
              "<Figure size 640x480 with 1 Axes>"
            ]
          },
          "metadata": {},
          "output_type": "display_data"
        }
      ],
      "source": [
        "# Missing values\n",
        "hist = df['n_missing'].unique()\n",
        "plt.hist(hist)"
      ]
    },
    {
      "cell_type": "code",
      "execution_count": null,
      "metadata": {
        "colab": {
          "base_uri": "https://localhost:8080/",
          "height": 498
        },
        "id": "Wlo3tuURW95k",
        "outputId": "8f1d6c07-cb1f-40f5-ff99-9ad2ad0ed560"
      },
      "outputs": [
        {
          "data": {
            "text/plain": [
              "(array([2420.,  694.,  468.,  613.,  832.,  627.,  620.,  766., 1028.,\n",
              "        4317.]),\n",
              " array([0. , 0.1, 0.2, 0.3, 0.4, 0.5, 0.6, 0.7, 0.8, 0.9, 1. ]),\n",
              " <BarContainer object of 10 artists>)"
            ]
          },
          "execution_count": 11,
          "metadata": {},
          "output_type": "execute_result"
        },
        {
          "data": {
            "image/png": "[encoded data removed]",
            "text/plain": [
              "<Figure size 640x480 with 1 Axes>"
            ]
          },
          "metadata": {},
          "output_type": "display_data"
        }
      ],
      "source": [
        "hist = df_new['prop_missing'].unique()\n",
        "plt.hist(hist)"
      ]
    },
    {
      "cell_type": "code",
      "execution_count": null,
      "metadata": {
        "colab": {
          "base_uri": "https://localhost:8080/",
          "height": 1000
        },
        "id": "7tUvKElWYwyj",
        "outputId": "fd9cd081-fb50-497a-855d-25e466c2ac66"
      },
      "outputs": [
        {
          "data": {
            "application/vnd.google.colaboratory.intrinsic+json": {
              "summary": "{\n  \"name\": \"df_new[df_new['prop_missing'] >= 0\",\n  \"rows\": 11200,\n  \"fields\": [\n    {\n      \"column\": \"var_name\",\n      \"properties\": {\n        \"dtype\": \"string\",\n        \"num_unique_values\": 11200,\n        \"samples\": [\n          \"cf16i496\",\n          \"cf18k371\",\n          \"cd17j004\"\n        ],\n        \"semantic_type\": \"\",\n        \"description\": \"\"\n      }\n    },\n    {\n      \"column\": \"var_label\",\n      \"properties\": {\n        \"dtype\": \"category\",\n        \"num_unique_values\": 5099,\n        \"samples\": [\n          \"Is child 13 (born in the years 1999 through 2012) tended to in school during the lunch break?\",\n          \"Please indicate whether child 9 (born from 1993 onwards and no longer attend primary school) attends school full-time, part-time, or not at all.\",\n          \"Is child 2 (born in the years 1993 through 2006) tended to in school during the lunch break?\"\n        ],\n        \"semantic_type\": \"\",\n        \"description\": \"\"\n      }\n    },\n    {\n      \"column\": \"values_cat\",\n      \"properties\": {\n        \"dtype\": \"category\",\n        \"num_unique_values\": 71,\n        \"samples\": [\n          \"1; 2; 3; 4; 5; 6; 7; 8; 9; 10; 999\",\n          \"1; 2; 3; 4; 5; 6; 7; 8; 9; 10; 11; 12; 13; 14; 15; 16; 17; 18; 19\",\n          \"-9; 1; 2; 3; 4; 5; 6\"\n        ],\n        \"semantic_type\": \"\",\n        \"description\": \"\"\n      }\n    },\n    {\n      \"column\": \"labels_cat\",\n      \"properties\": {\n        \"dtype\": \"category\",\n        \"num_unique_values\": 297,\n        \"samples\": [\n          \"not at all; not so much; in principle, yes; complete\",\n          \"yes, I think I will additionally be able to put some aside in savings; yes, I think it will be just what I need to make ends meet; no, my plan is to eat into my accumulated capital; no, I don't think it will be sufficient to make ends meet; I don't know\",\n          \"no problem at all; 1; 2; 3; 4; 5; 6; 7; 8; 9; very hard\"\n        ],\n        \"semantic_type\": \"\",\n        \"description\": \"\"\n      }\n    },\n    {\n      \"column\": \"unique_values_n\",\n      \"properties\": {\n        \"dtype\": \"number\",\n        \"std\": 50.77960143609186,\n        \"min\": 0.0,\n        \"max\": 1056.0,\n        \"num_unique_values\": 294,\n        \"samples\": [\n          27.0,\n          70.0,\n          82.0\n        ],\n        \"semantic_type\": \"\",\n        \"description\": \"\"\n      }\n    },\n    {\n      \"column\": \"n_missing\",\n      \"properties\": {\n        \"dtype\": \"number\",\n        \"std\": 821,\n        \"min\": 2649,\n        \"max\": 27888,\n        \"num_unique_values\": 2179,\n        \"samples\": [\n          6383,\n          6444,\n          5954\n        ],\n        \"semantic_type\": \"\",\n        \"description\": \"\"\n      }\n    },\n    {\n      \"column\": \"prop_missing\",\n      \"properties\": {\n        \"dtype\": \"number\",\n        \"std\": 0.05589173942781696,\n        \"min\": 0.80003374957813,\n        \"max\": 1.0,\n        \"num_unique_values\": 5345,\n        \"samples\": [\n          0.887454485269778,\n          0.997454545454545,\n          0.967050209205021\n        ],\n        \"semantic_type\": \"\",\n        \"description\": \"\"\n      }\n    },\n    {\n      \"column\": \"type_var\",\n      \"properties\": {\n        \"dtype\": \"category\",\n        \"num_unique_values\": 2,\n        \"samples\": [\n          \"categorical\",\n          \"numeric\"\n        ],\n        \"semantic_type\": \"\",\n        \"description\": \"\"\n      }\n    },\n    {\n      \"column\": \"note\",\n      \"properties\": {\n        \"dtype\": \"category\",\n        \"num_unique_values\": 26,\n        \"samples\": [\n          \"This variable originally had value labels = {c(`I don't know` = -9, `I prefer not to say` = -8)} but non were observed in the data, and we turned the variable [value_labels] into NULL and [value_labels_n] into 0. All values in the variable were numeric, which is why we turned the variable [type_var] into {numeric}. Please be advised that this variable type for this questionmay vary across waves, if any of the value labels were present in other waves, and the variable would have been assigned with {categorical}. The summary codebook will also flag this issue.\",\n          \"This variable originally had value labels = {c(`I don't know` = 0)} but non were observed in the data, and we turned the variable [value_labels] into NULL and [value_labels_n] into 0. All values in the variable were numeric, which is why we turned the variable [type_var] into {numeric}. Please be advised that this variable type for this questionmay vary across waves, if any of the value labels were present in other waves, and the variable would have been assigned with {categorical}. The summary codebook will also flag this issue.\"\n        ],\n        \"semantic_type\": \"\",\n        \"description\": \"\"\n      }\n    },\n    {\n      \"column\": \"year\",\n      \"properties\": {\n        \"dtype\": \"number\",\n        \"std\": 3.69417825899423,\n        \"min\": 2007.0,\n        \"max\": 2020.0,\n        \"num_unique_values\": 14,\n        \"samples\": [\n          2011.0,\n          2013.0\n        ],\n        \"semantic_type\": \"\",\n        \"description\": \"\"\n      }\n    },\n    {\n      \"column\": \"survey\",\n      \"properties\": {\n        \"dtype\": \"category\",\n        \"num_unique_values\": 11,\n        \"samples\": [\n          \"Personality\",\n          \"Family & Household\"\n        ],\n        \"semantic_type\": \"\",\n        \"description\": \"\"\n      }\n    },\n    {\n      \"column\": \"dataset\",\n      \"properties\": {\n        \"dtype\": \"category\",\n        \"num_unique_values\": 1,\n        \"samples\": [\n          \"PreFer_train_data.csv\"\n        ],\n        \"semantic_type\": \"\",\n        \"description\": \"\"\n      }\n    }\n  ]\n}",
              "type": "dataframe"
            },
            "text/html": [
              "\n",
              "  <div id=\"df-1cd380f2-74fb-4963-98fe-c64d7a4af715\" class=\"colab-df-container\">\n",
              "    <div>\n",
              "<style scoped>\n",
              "    .dataframe tbody tr th:only-of-type {\n",
              "        vertical-align: middle;\n",
              "    }\n",
              "\n",
              "    .dataframe tbody tr th {\n",
              "        vertical-align: top;\n",
              "    }\n",
              "\n",
              "    .dataframe thead th {\n",
              "        text-align: right;\n",
              "    }\n",
              "</style>\n",
              "<table border=\"1\" class=\"dataframe\">\n",
              "  <thead>\n",
              "    <tr style=\"text-align: right;\">\n",
              "      <th></th>\n",
              "      <th>var_name</th>\n",
              "      <th>var_label</th>\n",
              "      <th>values_cat</th>\n",
              "      <th>labels_cat</th>\n",
              "      <th>unique_values_n</th>\n",
              "      <th>n_missing</th>\n",
              "      <th>prop_missing</th>\n",
              "      <th>type_var</th>\n",
              "      <th>note</th>\n",
              "      <th>year</th>\n",
              "      <th>survey</th>\n",
              "      <th>dataset</th>\n",
              "    </tr>\n",
              "  </thead>\n",
              "  <tbody>\n",
              "    <tr>\n",
              "      <th>35</th>\n",
              "      <td>cf15h002</td>\n",
              "      <td>Year of birth of randomly selected child</td>\n",
              "      <td>NaN</td>\n",
              "      <td>NaN</td>\n",
              "      <td>14.0</td>\n",
              "      <td>4958</td>\n",
              "      <td>0.812654</td>\n",
              "      <td>numeric</td>\n",
              "      <td>NaN</td>\n",
              "      <td>2015.0</td>\n",
              "      <td>Family &amp; Household</td>\n",
              "      <td>PreFer_train_data.csv</td>\n",
              "    </tr>\n",
              "    <tr>\n",
              "      <th>36</th>\n",
              "      <td>cf16i002</td>\n",
              "      <td>Year of birth of randomly selected child</td>\n",
              "      <td>NaN</td>\n",
              "      <td>NaN</td>\n",
              "      <td>14.0</td>\n",
              "      <td>4483</td>\n",
              "      <td>0.811109</td>\n",
              "      <td>numeric</td>\n",
              "      <td>NaN</td>\n",
              "      <td>2016.0</td>\n",
              "      <td>Family &amp; Household</td>\n",
              "      <td>PreFer_train_data.csv</td>\n",
              "    </tr>\n",
              "    <tr>\n",
              "      <th>37</th>\n",
              "      <td>cf17j002</td>\n",
              "      <td>Year of birth of randomly selected child</td>\n",
              "      <td>NaN</td>\n",
              "      <td>NaN</td>\n",
              "      <td>14.0</td>\n",
              "      <td>5264</td>\n",
              "      <td>0.815871</td>\n",
              "      <td>numeric</td>\n",
              "      <td>NaN</td>\n",
              "      <td>2017.0</td>\n",
              "      <td>Family &amp; Household</td>\n",
              "      <td>PreFer_train_data.csv</td>\n",
              "    </tr>\n",
              "    <tr>\n",
              "      <th>38</th>\n",
              "      <td>cf18k002</td>\n",
              "      <td>Year of birth of randomly selected child</td>\n",
              "      <td>NaN</td>\n",
              "      <td>NaN</td>\n",
              "      <td>14.0</td>\n",
              "      <td>4679</td>\n",
              "      <td>0.824348</td>\n",
              "      <td>numeric</td>\n",
              "      <td>NaN</td>\n",
              "      <td>2018.0</td>\n",
              "      <td>Family &amp; Household</td>\n",
              "      <td>PreFer_train_data.csv</td>\n",
              "    </tr>\n",
              "    <tr>\n",
              "      <th>39</th>\n",
              "      <td>cf19l002</td>\n",
              "      <td>Year of birth of randomly selected child</td>\n",
              "      <td>NaN</td>\n",
              "      <td>NaN</td>\n",
              "      <td>14.0</td>\n",
              "      <td>4340</td>\n",
              "      <td>0.824311</td>\n",
              "      <td>numeric</td>\n",
              "      <td>NaN</td>\n",
              "      <td>2019.0</td>\n",
              "      <td>Family &amp; Household</td>\n",
              "      <td>PreFer_train_data.csv</td>\n",
              "    </tr>\n",
              "    <tr>\n",
              "      <th>...</th>\n",
              "      <td>...</td>\n",
              "      <td>...</td>\n",
              "      <td>...</td>\n",
              "      <td>...</td>\n",
              "      <td>...</td>\n",
              "      <td>...</td>\n",
              "      <td>...</td>\n",
              "      <td>...</td>\n",
              "      <td>...</td>\n",
              "      <td>...</td>\n",
              "      <td>...</td>\n",
              "      <td>...</td>\n",
              "    </tr>\n",
              "    <tr>\n",
              "      <th>31452</th>\n",
              "      <td>brutoink_f_2007</td>\n",
              "      <td>Personal gross monthly income in Euros, imputed</td>\n",
              "      <td>NaN</td>\n",
              "      <td>NaN</td>\n",
              "      <td>0.0</td>\n",
              "      <td>27888</td>\n",
              "      <td>1.000000</td>\n",
              "      <td>numeric</td>\n",
              "      <td>NaN</td>\n",
              "      <td>2007.0</td>\n",
              "      <td>Summary Background Variables</td>\n",
              "      <td>PreFer_train_data.csv</td>\n",
              "    </tr>\n",
              "    <tr>\n",
              "      <th>31480</th>\n",
              "      <td>netinc_2007</td>\n",
              "      <td>Personal net monthly income in Euros</td>\n",
              "      <td>-15; -14; -13</td>\n",
              "      <td>Unknown (missing); Prefer not to say; I dont know</td>\n",
              "      <td>0.0</td>\n",
              "      <td>27888</td>\n",
              "      <td>1.000000</td>\n",
              "      <td>categorical</td>\n",
              "      <td>NaN</td>\n",
              "      <td>2007.0</td>\n",
              "      <td>Summary Background Variables</td>\n",
              "      <td>PreFer_train_data.csv</td>\n",
              "    </tr>\n",
              "    <tr>\n",
              "      <th>31494</th>\n",
              "      <td>nettohh_f_2007</td>\n",
              "      <td>Net household income in Euros</td>\n",
              "      <td>NaN</td>\n",
              "      <td>NaN</td>\n",
              "      <td>0.0</td>\n",
              "      <td>27888</td>\n",
              "      <td>1.000000</td>\n",
              "      <td>numeric</td>\n",
              "      <td>NaN</td>\n",
              "      <td>2007.0</td>\n",
              "      <td>Summary Background Variables</td>\n",
              "      <td>PreFer_train_data.csv</td>\n",
              "    </tr>\n",
              "    <tr>\n",
              "      <th>31522</th>\n",
              "      <td>nettoink_f_2007</td>\n",
              "      <td>Personal net monthly income in Euros, imputed</td>\n",
              "      <td>NaN</td>\n",
              "      <td>NaN</td>\n",
              "      <td>0.0</td>\n",
              "      <td>27888</td>\n",
              "      <td>1.000000</td>\n",
              "      <td>numeric</td>\n",
              "      <td>NaN</td>\n",
              "      <td>2007.0</td>\n",
              "      <td>Summary Background Variables</td>\n",
              "      <td>PreFer_train_data.csv</td>\n",
              "    </tr>\n",
              "    <tr>\n",
              "      <th>31592</th>\n",
              "      <td>sted_2007</td>\n",
              "      <td>Urban character of place of residence</td>\n",
              "      <td>1; 2; 3; 4; 5</td>\n",
              "      <td>Extremely urban; Very urban; Moderately urban;...</td>\n",
              "      <td>0.0</td>\n",
              "      <td>27888</td>\n",
              "      <td>1.000000</td>\n",
              "      <td>categorical</td>\n",
              "      <td>NaN</td>\n",
              "      <td>2007.0</td>\n",
              "      <td>Summary Background Variables</td>\n",
              "      <td>PreFer_train_data.csv</td>\n",
              "    </tr>\n",
              "  </tbody>\n",
              "</table>\n",
              "<p>11200 rows × 12 columns</p>\n",
              "</div>\n",
              "    <div class=\"colab-df-buttons\">\n",
              "\n",
              "  <div class=\"colab-df-container\">\n",
              "    <button class=\"colab-df-convert\" onclick=\"convertToInteractive('df-1cd380f2-74fb-4963-98fe-c64d7a4af715')\"\n",
              "            title=\"Convert this dataframe to an interactive table.\"\n",
              "            style=\"display:none;\">\n",
              "\n",
              "  <svg xmlns=\"http://www.w3.org/2000/svg\" height=\"24px\" viewBox=\"0 -960 960 960\">\n",
              "    <path d=\"M120-120v-720h720v720H120Zm60-500h600v-160H180v160Zm220 220h160v-160H400v160Zm0 220h160v-160H400v160ZM180-400h160v-160H180v160Zm440 0h160v-160H620v160ZM180-180h160v-160H180v160Zm440 0h160v-160H620v160Z\"/>\n",
              "  </svg>\n",
              "    </button>\n",
              "\n",
              "  <style>\n",
              "    .colab-df-container {\n",
              "      display:flex;\n",
              "      gap: 12px;\n",
              "    }\n",
              "\n",
              "    .colab-df-convert {\n",
              "      background-color: #E8F0FE;\n",
              "      border: none;\n",
              "      border-radius: 50%;\n",
              "      cursor: pointer;\n",
              "      display: none;\n",
              "      fill: #1967D2;\n",
              "      height: 32px;\n",
              "      padding: 0 0 0 0;\n",
              "      width: 32px;\n",
              "    }\n",
              "\n",
              "    .colab-df-convert:hover {\n",
              "      background-color: #E2EBFA;\n",
              "      box-shadow: 0px 1px 2px rgba(60, 64, 67, 0.3), 0px 1px 3px 1px rgba(60, 64, 67, 0.15);\n",
              "      fill: #174EA6;\n",
              "    }\n",
              "\n",
              "    .colab-df-buttons div {\n",
              "      margin-bottom: 4px;\n",
              "    }\n",
              "\n",
              "    [theme=dark] .colab-df-convert {\n",
              "      background-color: #3B4455;\n",
              "      fill: #D2E3FC;\n",
              "    }\n",
              "\n",
              "    [theme=dark] .colab-df-convert:hover {\n",
              "      background-color: #434B5C;\n",
              "      box-shadow: 0px 1px 3px 1px rgba(0, 0, 0, 0.15);\n",
              "      filter: drop-shadow(0px 1px 2px rgba(0, 0, 0, 0.3));\n",
              "      fill: #FFFFFF;\n",
              "    }\n",
              "  </style>\n",
              "\n",
              "    <script>\n",
              "      const buttonEl =\n",
              "        document.querySelector('#df-1cd380f2-74fb-4963-98fe-c64d7a4af715 button.colab-df-convert');\n",
              "      buttonEl.style.display =\n",
              "        google.colab.kernel.accessAllowed ? 'block' : 'none';\n",
              "\n",
              "      async function convertToInteractive(key) {\n",
              "        const element = document.querySelector('#df-1cd380f2-74fb-4963-98fe-c64d7a4af715');\n",
              "        const dataTable =\n",
              "          await google.colab.kernel.invokeFunction('convertToInteractive',\n",
              "                                                    [key], {});\n",
              "        if (!dataTable) return;\n",
              "\n",
              "        const docLinkHtml = 'Like what you see? Visit the ' +\n",
              "          '<a target=\"_blank\" href=https://colab.research.google.com/notebooks/data_table.ipynb>data table notebook</a>'\n",
              "          + ' to learn more about interactive tables.';\n",
              "        element.innerHTML = '';\n",
              "        dataTable['output_type'] = 'display_data';\n",
              "        await google.colab.output.renderOutput(dataTable, element);\n",
              "        const docLink = document.createElement('div');\n",
              "        docLink.innerHTML = docLinkHtml;\n",
              "        element.appendChild(docLink);\n",
              "      }\n",
              "    </script>\n",
              "  </div>\n",
              "\n",
              "\n",
              "<div id=\"df-da3dc5ad-6c0d-457f-9f4c-e0ac07f647e7\">\n",
              "  <button class=\"colab-df-quickchart\" onclick=\"quickchart('df-da3dc5ad-6c0d-457f-9f4c-e0ac07f647e7')\"\n",
              "            title=\"Suggest charts\"\n",
              "            style=\"display:none;\">\n",
              "\n",
              "<svg xmlns=\"http://www.w3.org/2000/svg\" height=\"24px\"viewBox=\"0 0 24 24\"\n",
              "     width=\"24px\">\n",
              "    <g>\n",
              "        <path d=\"M19 3H5c-1.1 0-2 .9-2 2v14c0 1.1.9 2 2 2h14c1.1 0 2-.9 2-2V5c0-1.1-.9-2-2-2zM9 17H7v-7h2v7zm4 0h-2V7h2v10zm4 0h-2v-4h2v4z\"/>\n",
              "    </g>\n",
              "</svg>\n",
              "  </button>\n",
              "\n",
              "<style>\n",
              "  .colab-df-quickchart {\n",
              "      --bg-color: #E8F0FE;\n",
              "      --fill-color: #1967D2;\n",
              "      --hover-bg-color: #E2EBFA;\n",
              "      --hover-fill-color: #174EA6;\n",
              "      --disabled-fill-color: #AAA;\n",
              "      --disabled-bg-color: #DDD;\n",
              "  }\n",
              "\n",
              "  [theme=dark] .colab-df-quickchart {\n",
              "      --bg-color: #3B4455;\n",
              "      --fill-color: #D2E3FC;\n",
              "      --hover-bg-color: #434B5C;\n",
              "      --hover-fill-color: #FFFFFF;\n",
              "      --disabled-bg-color: #3B4455;\n",
              "      --disabled-fill-color: #666;\n",
              "  }\n",
              "\n",
              "  .colab-df-quickchart {\n",
              "    background-color: var(--bg-color);\n",
              "    border: none;\n",
              "    border-radius: 50%;\n",
              "    cursor: pointer;\n",
              "    display: none;\n",
              "    fill: var(--fill-color);\n",
              "    height: 32px;\n",
              "    padding: 0;\n",
              "    width: 32px;\n",
              "  }\n",
              "\n",
              "  .colab-df-quickchart:hover {\n",
              "    background-color: var(--hover-bg-color);\n",
              "    box-shadow: 0 1px 2px rgba(60, 64, 67, 0.3), 0 1px 3px 1px rgba(60, 64, 67, 0.15);\n",
              "    fill: var(--button-hover-fill-color);\n",
              "  }\n",
              "\n",
              "  .colab-df-quickchart-complete:disabled,\n",
              "  .colab-df-quickchart-complete:disabled:hover {\n",
              "    background-color: var(--disabled-bg-color);\n",
              "    fill: var(--disabled-fill-color);\n",
              "    box-shadow: none;\n",
              "  }\n",
              "\n",
              "  .colab-df-spinner {\n",
              "    border: 2px solid var(--fill-color);\n",
              "    border-color: transparent;\n",
              "    border-bottom-color: var(--fill-color);\n",
              "    animation:\n",
              "      spin 1s steps(1) infinite;\n",
              "  }\n",
              "\n",
              "  @keyframes spin {\n",
              "    0% {\n",
              "      border-color: transparent;\n",
              "      border-bottom-color: var(--fill-color);\n",
              "      border-left-color: var(--fill-color);\n",
              "    }\n",
              "    20% {\n",
              "      border-color: transparent;\n",
              "      border-left-color: var(--fill-color);\n",
              "      border-top-color: var(--fill-color);\n",
              "    }\n",
              "    30% {\n",
              "      border-color: transparent;\n",
              "      border-left-color: var(--fill-color);\n",
              "      border-top-color: var(--fill-color);\n",
              "      border-right-color: var(--fill-color);\n",
              "    }\n",
              "    40% {\n",
              "      border-color: transparent;\n",
              "      border-right-color: var(--fill-color);\n",
              "      border-top-color: var(--fill-color);\n",
              "    }\n",
              "    60% {\n",
              "      border-color: transparent;\n",
              "      border-right-color: var(--fill-color);\n",
              "    }\n",
              "    80% {\n",
              "      border-color: transparent;\n",
              "      border-right-color: var(--fill-color);\n",
              "      border-bottom-color: var(--fill-color);\n",
              "    }\n",
              "    90% {\n",
              "      border-color: transparent;\n",
              "      border-bottom-color: var(--fill-color);\n",
              "    }\n",
              "  }\n",
              "</style>\n",
              "\n",
              "  <script>\n",
              "    async function quickchart(key) {\n",
              "      const quickchartButtonEl =\n",
              "        document.querySelector('#' + key + ' button');\n",
              "      quickchartButtonEl.disabled = true;  // To prevent multiple clicks.\n",
              "      quickchartButtonEl.classList.add('colab-df-spinner');\n",
              "      try {\n",
              "        const charts = await google.colab.kernel.invokeFunction(\n",
              "            'suggestCharts', [key], {});\n",
              "      } catch (error) {\n",
              "        console.error('Error during call to suggestCharts:', error);\n",
              "      }\n",
              "      quickchartButtonEl.classList.remove('colab-df-spinner');\n",
              "      quickchartButtonEl.classList.add('colab-df-quickchart-complete');\n",
              "    }\n",
              "    (() => {\n",
              "      let quickchartButtonEl =\n",
              "        document.querySelector('#df-da3dc5ad-6c0d-457f-9f4c-e0ac07f647e7 button');\n",
              "      quickchartButtonEl.style.display =\n",
              "        google.colab.kernel.accessAllowed ? 'block' : 'none';\n",
              "    })();\n",
              "  </script>\n",
              "</div>\n",
              "    </div>\n",
              "  </div>\n"
            ],
            "text/plain": [
              "              var_name                                        var_label  \\\n",
              "35            cf15h002         Year of birth of randomly selected child   \n",
              "36            cf16i002         Year of birth of randomly selected child   \n",
              "37            cf17j002         Year of birth of randomly selected child   \n",
              "38            cf18k002         Year of birth of randomly selected child   \n",
              "39            cf19l002         Year of birth of randomly selected child   \n",
              "...                ...                                              ...   \n",
              "31452  brutoink_f_2007  Personal gross monthly income in Euros, imputed   \n",
              "31480      netinc_2007             Personal net monthly income in Euros   \n",
              "31494   nettohh_f_2007                    Net household income in Euros   \n",
              "31522  nettoink_f_2007    Personal net monthly income in Euros, imputed   \n",
              "31592        sted_2007            Urban character of place of residence   \n",
              "\n",
              "          values_cat                                         labels_cat  \\\n",
              "35               NaN                                                NaN   \n",
              "36               NaN                                                NaN   \n",
              "37               NaN                                                NaN   \n",
              "38               NaN                                                NaN   \n",
              "39               NaN                                                NaN   \n",
              "...              ...                                                ...   \n",
              "31452            NaN                                                NaN   \n",
              "31480  -15; -14; -13  Unknown (missing); Prefer not to say; I dont know   \n",
              "31494            NaN                                                NaN   \n",
              "31522            NaN                                                NaN   \n",
              "31592  1; 2; 3; 4; 5  Extremely urban; Very urban; Moderately urban;...   \n",
              "\n",
              "       unique_values_n  n_missing  prop_missing     type_var note    year  \\\n",
              "35                14.0       4958      0.812654      numeric  NaN  2015.0   \n",
              "36                14.0       4483      0.811109      numeric  NaN  2016.0   \n",
              "37                14.0       5264      0.815871      numeric  NaN  2017.0   \n",
              "38                14.0       4679      0.824348      numeric  NaN  2018.0   \n",
              "39                14.0       4340      0.824311      numeric  NaN  2019.0   \n",
              "...                ...        ...           ...          ...  ...     ...   \n",
              "31452              0.0      27888      1.000000      numeric  NaN  2007.0   \n",
              "31480              0.0      27888      1.000000  categorical  NaN  2007.0   \n",
              "31494              0.0      27888      1.000000      numeric  NaN  2007.0   \n",
              "31522              0.0      27888      1.000000      numeric  NaN  2007.0   \n",
              "31592              0.0      27888      1.000000  categorical  NaN  2007.0   \n",
              "\n",
              "                             survey                dataset  \n",
              "35               Family & Household  PreFer_train_data.csv  \n",
              "36               Family & Household  PreFer_train_data.csv  \n",
              "37               Family & Household  PreFer_train_data.csv  \n",
              "38               Family & Household  PreFer_train_data.csv  \n",
              "39               Family & Household  PreFer_train_data.csv  \n",
              "...                             ...                    ...  \n",
              "31452  Summary Background Variables  PreFer_train_data.csv  \n",
              "31480  Summary Background Variables  PreFer_train_data.csv  \n",
              "31494  Summary Background Variables  PreFer_train_data.csv  \n",
              "31522  Summary Background Variables  PreFer_train_data.csv  \n",
              "31592  Summary Background Variables  PreFer_train_data.csv  \n",
              "\n",
              "[11200 rows x 12 columns]"
            ]
          },
          "execution_count": 12,
          "metadata": {},
          "output_type": "execute_result"
        }
      ],
      "source": [
        "df_new[df_new['prop_missing'] >= 0.8]"
      ]
    },
    {
      "cell_type": "code",
      "execution_count": null,
      "metadata": {
        "colab": {
          "base_uri": "https://localhost:8080/"
        },
        "id": "r_hQv5u-Y9Df",
        "outputId": "d2211ff1-740e-4302-f041-0c6f05ee7d05"
      },
      "outputs": [
        {
          "name": "stdout",
          "output_type": "stream",
          "text": [
            "13216\n"
          ]
        }
      ],
      "source": [
        "df_nomissing = df_new[df_new['prop_missing'] < 0.4]\n",
        "print(len(df_nomissing))"
      ]
    },
    {
      "cell_type": "code",
      "execution_count": null,
      "metadata": {
        "id": "IjV_2LW3IC8Q"
      },
      "outputs": [],
      "source": []
    },
    {
      "cell_type": "code",
      "execution_count": null,
      "metadata": {
        "colab": {
          "base_uri": "https://localhost:8080/"
        },
        "id": "2zEhqrdiZcX4",
        "outputId": "63bb9a4e-18f6-40dc-f9b4-4fc47ce4bdd4"
      },
      "outputs": [
        {
          "name": "stdout",
          "output_type": "stream",
          "text": [
            "['All surveys' 'Family & Household' 'Economic Situation Assets'\n",
            " 'Economic Situation Housing' 'Economic Situation Income' 'Health'\n",
            " 'Personality' 'Politics and Values' 'Religion and Ethnicity'\n",
            " 'Social Integration and Leisure' 'Work & Schooling'\n",
            " 'Summary Background Variables' 'Background Variables']\n"
          ]
        }
      ],
      "source": [
        "print(df_nomissing['survey'].unique())"
      ]
    },
    {
      "cell_type": "code",
      "execution_count": null,
      "metadata": {
        "colab": {
          "base_uri": "https://localhost:8080/"
        },
        "id": "Y0vG8x__ZWln",
        "outputId": "aa7b0d8c-005a-4ea3-db9f-fd61383ea45e"
      },
      "outputs": [
        {
          "name": "stdout",
          "output_type": "stream",
          "text": [
            "593\n",
            "['cf08a_m' 'cf09b_m' 'cf10c_m' 'cf11d_m' 'cf12e_m' 'cf13f_m' 'cf14g_m'\n",
            " 'cf15h_m' 'cf16i_m' 'cf17j_m' 'cf18k_m' 'cf19l_m' 'cf20m_m' 'cf08a001'\n",
            " 'cf09b001' 'cf10c001' 'cf11d001' 'cf12e001' 'cf13f001' 'cf14g001'\n",
            " 'cf15h001' 'cf16i001' 'cf17j001' 'cf18k001' 'cf19l001' 'cf20m001'\n",
            " 'cf08a003' 'cf09b003' 'cf10c003' 'cf11d003' 'cf12e003' 'cf13f003'\n",
            " 'cf14g003' 'cf15h003' 'cf16i003' 'cf17j003' 'cf18k003' 'cf19l003'\n",
            " 'cf20m003' 'cf08a004' 'cf09b004' 'cf10c004' 'cf11d004' 'cf12e004'\n",
            " 'cf13f004' 'cf14g004' 'cf15h004' 'cf16i004' 'cf17j004' 'cf18k004'\n",
            " 'cf19l004' 'cf20m004' 'cf08a005' 'cf08a007' 'cf08a009' 'cf09b009'\n",
            " 'cf10c009' 'cf12e009' 'cf14g009' 'cf17j009' 'cf08a011' 'cf09b011'\n",
            " 'cf10c011' 'cf12e011' 'cf14g011' 'cf17j011' 'cf20m011' 'cf08a013'\n",
            " 'cf08a022' 'cf09b022' 'cf08a024' 'cf09b024' 'cf10c024' 'cf11d024'\n",
            " 'cf12e024' 'cf13f024' 'cf14g024' 'cf15h024' 'cf16i024' 'cf17j024'\n",
            " 'cf18k024' 'cf19l024' 'cf20m024' 'cf08a025' 'cf09b025' 'cf10c025'\n",
            " 'cf11d025' 'cf12e025' 'cf13f025' 'cf14g025' 'cf15h025' 'cf16i025'\n",
            " 'cf17j025' 'cf18k025' 'cf19l025' 'cf20m025' 'cf08a026' 'cf08a027'\n",
            " 'cf08a028' 'cf08a029' 'cf09b029' 'cf10c029' 'cf11d029' 'cf12e029'\n",
            " 'cf13f029' 'cf14g029' 'cf15h029' 'cf16i029' 'cf17j029' 'cf18k029'\n",
            " 'cf19l029' 'cf20m029' 'cf08a030' 'cf09b030' 'cf10c030' 'cf11d030'\n",
            " 'cf12e030' 'cf13f030' 'cf14g030' 'cf15h030' 'cf16i030' 'cf17j030'\n",
            " 'cf18k030' 'cf19l030' 'cf20m030' 'cf08a032' 'cf20m032' 'cf08a033'\n",
            " 'cf08a035' 'cf08a036' 'cf13f036' 'cf14g036' 'cf08a037' 'cf09b037'\n",
            " 'cf10c037' 'cf11d037' 'cf12e037' 'cf13f037' 'cf14g037' 'cf08a052'\n",
            " 'cf09b052' 'cf10c052' 'cf11d052' 'cf12e052' 'cf13f052' 'cf14g052'\n",
            " 'cf08a068' 'cf09b068' 'cf10c068' 'cf11d068' 'cf12e068' 'cf13f068'\n",
            " 'cf14g068' 'cf15h068' 'cf16i068' 'cf17j068' 'cf18k068' 'cf19l068'\n",
            " 'cf20m068' 'cf08a083' 'cf09b083' 'cf10c083' 'cf11d083' 'cf12e083'\n",
            " 'cf13f083' 'cf14g083' 'cf15h083' 'cf16i083' 'cf17j083' 'cf18k083'\n",
            " 'cf19l083' 'cf20m083' 'cf08a098' 'cf09b098' 'cf10c098' 'cf11d098'\n",
            " 'cf12e098' 'cf13f098' 'cf14g098' 'cf15h098' 'cf16i098' 'cf17j098'\n",
            " 'cf18k098' 'cf19l098' 'cf20m098' 'cf08a113' 'cf08a132' 'cf08a136'\n",
            " 'cf08a138' 'cf09b138' 'cf08a144' 'cf08a146' 'cf08a148' 'cf08a150'\n",
            " 'cf08a152' 'cf09b152' 'cf08a158' 'cf08a160' 'cf08a161' 'cf09b161'\n",
            " 'cf08a163' 'cf09b163' 'cf10c163' 'cf11d163' 'cf12e163' 'cf13f163'\n",
            " 'cf14g163' 'cf15h163' 'cf16i163' 'cf17j163' 'cf18k163' 'cf19l163'\n",
            " 'cf20m163' 'cf08a164' 'cf09b164' 'cf10c164' 'cf11d164' 'cf12e164'\n",
            " 'cf13f164' 'cf14g164' 'cf15h164' 'cf16i164' 'cf17j164' 'cf18k164'\n",
            " 'cf19l164' 'cf20m164' 'cf08a165' 'cf09b165' 'cf10c165' 'cf11d165'\n",
            " 'cf12e165' 'cf13f165' 'cf14g165' 'cf15h165' 'cf16i165' 'cf17j165'\n",
            " 'cf18k165' 'cf19l165' 'cf20m165' 'cf08a180' 'cf09b180' 'cf10c180'\n",
            " 'cf11d180' 'cf12e180' 'cf13f180' 'cf14g180' 'cf15h180' 'cf16i180'\n",
            " 'cf17j180' 'cf18k180' 'cf19l180' 'cf20m180' 'cf08a182' 'cf09b182'\n",
            " 'cf10c182' 'cf11d182' 'cf12e182' 'cf13f182' 'cf14g182' 'cf15h182'\n",
            " 'cf16i182' 'cf17j182' 'cf18k182' 'cf19l182' 'cf20m182' 'cf08a184'\n",
            " 'cf09b184' 'cf10c184' 'cf11d184' 'cf12e184' 'cf13f184' 'cf14g184'\n",
            " 'cf15h184' 'cf16i184' 'cf17j184' 'cf18k184' 'cf19l184' 'cf08a185'\n",
            " 'cf09b185' 'cf10c185' 'cf11d185' 'cf12e185' 'cf13f185' 'cf14g185'\n",
            " 'cf15h185' 'cf16i185' 'cf17j185' 'cf18k185' 'cf19l185' 'cf20m185'\n",
            " 'cf08a186' 'cf09b186' 'cf10c186' 'cf11d186' 'cf12e186' 'cf13f186'\n",
            " 'cf14g186' 'cf15h186' 'cf16i186' 'cf17j186' 'cf18k186' 'cf19l186'\n",
            " 'cf20m186' 'cf08a187' 'cf09b187' 'cf10c187' 'cf11d187' 'cf12e187'\n",
            " 'cf13f187' 'cf14g187' 'cf08a188' 'cf09b188' 'cf10c188' 'cf11d188'\n",
            " 'cf12e188' 'cf13f188' 'cf14g188' 'cf08a189' 'cf09b189' 'cf10c189'\n",
            " 'cf11d189' 'cf12e189' 'cf13f189' 'cf14g189' 'cf08a190' 'cf09b190'\n",
            " 'cf10c190' 'cf11d190' 'cf12e190' 'cf13f190' 'cf14g190' 'cf08a191'\n",
            " 'cf09b191' 'cf10c191' 'cf11d191' 'cf12e191' 'cf13f191' 'cf14g191'\n",
            " 'cf08a192' 'cf09b192' 'cf10c192' 'cf11d192' 'cf12e192' 'cf13f192'\n",
            " 'cf14g192' 'cf08a388' 'cf09b388' 'cf10c388' 'cf11d388' 'cf12e388'\n",
            " 'cf13f388' 'cf14g388' 'cf15h388' 'cf16i388' 'cf17j388' 'cf18k388'\n",
            " 'cf19l388' 'cf20m388' 'cf08a389' 'cf09b389' 'cf10c389' 'cf11d389'\n",
            " 'cf12e389' 'cf13f389' 'cf14g389' 'cf15h389' 'cf16i389' 'cf17j389'\n",
            " 'cf18k389' 'cf19l389' 'cf20m389' 'cf08a390' 'cf09b390' 'cf10c390'\n",
            " 'cf11d390' 'cf12e390' 'cf13f390' 'cf14g390' 'cf15h390' 'cf16i390'\n",
            " 'cf17j390' 'cf18k390' 'cf19l390' 'cf20m390' 'cf08a391' 'cf09b391'\n",
            " 'cf10c391' 'cf11d391' 'cf12e391' 'cf13f391' 'cf14g391' 'cf15h391'\n",
            " 'cf16i391' 'cf17j391' 'cf18k391' 'cf19l391' 'cf20m391' 'cf08a392'\n",
            " 'cf09b392' 'cf10c392' 'cf11d392' 'cf12e392' 'cf13f392' 'cf14g392'\n",
            " 'cf15h392' 'cf16i392' 'cf17j392' 'cf18k392' 'cf19l392' 'cf20m392'\n",
            " 'cf08a397' 'cf09b397' 'cf10c397' 'cf11d397' 'cf12e397' 'cf13f397'\n",
            " 'cf14g397' 'cf15h397' 'cf16i397' 'cf17j397' 'cf18k397' 'cf19l397'\n",
            " 'cf20m397' 'cf09b402' 'cf11d402' 'cf13f402' 'cf15h402' 'cf16i402'\n",
            " 'cf18k402' 'cf19l402' 'cf09b405' 'cf10c405' 'cf11d405' 'cf12e405'\n",
            " 'cf13f405' 'cf14g405' 'cf09b414' 'cf11d414' 'cf13f414' 'cf09b415'\n",
            " 'cf11d415' 'cf13f415' 'cf09b416' 'cf11d416' 'cf13f416' 'cf09b417'\n",
            " 'cf11d417' 'cf13f417' 'cf09b418' 'cf11d418' 'cf13f418' 'cf09b419'\n",
            " 'cf11d419' 'cf13f419' 'cf09b420' 'cf11d420' 'cf13f420' 'cf09b421'\n",
            " 'cf11d421' 'cf13f421' 'cf09b422' 'cf11d422' 'cf13f422' 'cf09b423'\n",
            " 'cf11d423' 'cf13f423' 'cf09b424' 'cf11d424' 'cf13f424' 'cf09b425'\n",
            " 'cf11d425' 'cf13f425' 'cf11d432' 'cf12e432' 'cf13f432' 'cf14g432'\n",
            " 'cf15h432' 'cf16i432' 'cf17j432' 'cf18k432' 'cf19l432' 'cf11d433'\n",
            " 'cf15h454' 'cf16i454' 'cf17j454' 'cf18k454' 'cf19l454' 'cf20m454'\n",
            " 'cf15h455' 'cf16i455' 'cf17j455' 'cf18k455' 'cf19l455' 'cf20m455'\n",
            " 'cf15h456' 'cf16i456' 'cf17j456' 'cf18k456' 'cf19l456' 'cf20m456'\n",
            " 'cf15h471' 'cf16i471' 'cf17j471' 'cf18k471' 'cf19l471' 'cf20m471'\n",
            " 'cf15h483' 'cf16i483' 'cf17j483' 'cf18k483' 'cf19l483' 'cf15h484'\n",
            " 'cf16i484' 'cf17j484' 'cf18k484' 'cf19l484' 'cf15h485' 'cf16i485'\n",
            " 'cf17j485' 'cf18k485' 'cf19l485' 'cf15h486' 'cf16i486' 'cf17j486'\n",
            " 'cf18k486' 'cf19l486' 'cf15h487' 'cf16i487' 'cf17j487' 'cf18k487'\n",
            " 'cf19l487' 'cf15h488' 'cf16i488' 'cf17j488' 'cf18k488' 'cf19l488'\n",
            " 'cf15h513' 'cf16i513' 'cf17j513' 'cf18k513' 'cf19l513' 'cf20m513'\n",
            " 'cf15h514' 'cf16i514' 'cf17j514' 'cf18k514' 'cf19l514' 'cf20m514'\n",
            " 'cf15h515' 'cf16i515' 'cf17j515' 'cf18k515' 'cf19l515' 'cf20m515'\n",
            " 'cf15h516' 'cf16i516' 'cf17j516' 'cf18k516' 'cf19l516' 'cf20m516'\n",
            " 'cf15h517' 'cf16i517' 'cf17j517' 'cf18k517' 'cf19l517' 'cf20m517'\n",
            " 'cf15h518' 'cf16i518' 'cf17j518' 'cf18k518' 'cf19l518' 'cf20m518'\n",
            " 'cf15h519' 'cf16i519' 'cf17j519' 'cf18k519' 'cf19l519' 'cf20m519'\n",
            " 'cf15h520' 'cf16i520' 'cf17j520' 'cf18k520' 'cf19l520' 'cf20m520'\n",
            " 'cf15h521' 'cf16i521' 'cf17j521' 'cf18k521' 'cf19l521' 'cf20m521'\n",
            " 'cf19l522' 'cf19l524' 'cf20m526']\n"
          ]
        }
      ],
      "source": [
        "df_family = df_nomissing[df_nomissing['survey']=='Family & Household']\n",
        "print(len(df_family))\n",
        "\n",
        "# Get list of variables\n",
        "list_of_family = df_family['var_name'].values\n",
        "print(list_of_family)"
      ]
    },
    {
      "cell_type": "code",
      "execution_count": null,
      "metadata": {
        "colab": {
          "base_uri": "https://localhost:8080/"
        },
        "id": "1idLy7RWap1t",
        "outputId": "7efee2de-77fd-4a5f-f955-e66d75bcbafb"
      },
      "outputs": [
        {
          "name": "stderr",
          "output_type": "stream",
          "text": [
            "<ipython-input-20-661090f7a33e>:1: DtypeWarning: Columns (2583,2584,2585,2586,2587,2588,2589,4358,4359,4360,4361,4362,4363,4364,4365,4366,4367,4368,4369,4370,4371,4372,4373,4374,4375,4379,4380,4381,4382,4383,4384,4385,4386,4387,4388,4389,4390,4391,4392,4393,4394,4395,4396,4397,4398,4399,4400,4401,4405,4406,4407,4408,4409,5215,5216,5219,5220,5613,5614,5615,5616,5617,5618,5619,5620,5621,5622,5624,5625,5626,5627,5628,5629,5630,5631,5632,5633,5634,5635,5636,5638,5639,5640,5787,5788,5789,5790,5791,5792,5793,5794,5795,5796,6393,6394,6395,6396,6397,6398,6399,6400,6401,6402,6403,6619,6620,6621,6622,6623,6624,6625,6626,6627,6628,6629,6630,6631,6632,6633,6634,6635,6638,6640,6641,6642,6643,6644,6645,6646,6647,6648,6649,6650,6651,6652,6653,6654,6655,6656,6657,6658,6659,6660,6661,6664,6666,6667,6668,6669,6670,6965,6966,6967,6968,6969,6970,6971,6972,6973,6974,6975,7064,7065,7066,7067,7068,7069,7070,7071,7072,7073,7074,7163,7164,7165,7166,7167,7168,7169,7170,7171,7172,7408,7409,7410,7411,7412,7413,7414,7415,7416,7417,7418,7419,7420,8818,8819,8820,8821,8822,8823,8824,8825,8826,8827,8828,9989,9990,9991,9992,9993,9994,9995,9996,9997,9998,9999,10065,10066,10067,10068,10069,10070,10071,10072,10073,10074,10075,10076,10077,10078,10079,10080,10081,10082,10083,10085,10086,10087,10088,10089,10090,10091,10092,10093,10094,10095,10096,10097,10098,10099,10100,10101,10102,10103,10104,10105,10106,10107,10108,10109,10111,10112,10113,10114,10115,10116,10340,10341,10342,10343,10344,10736,10737,10738,10739,10740,10741,10742,10743,10744,10745,10746,10747,10748,11896,11897,11898,11899,11900,11901,11902,11903,11904,11905,11906,11907,12168,12169,12170,12171,12172,12173,12174,12175,12176,12177,12178,12179,12180,12181,12182,12183,12184,12185,12186,12187,12188,12189,12190,12191,12192,12193,13339,13340,13341,13342,13343,13344,13345,13346,13347,13348,13349,13488,13489,13490,13491,13492,13493,13494,13495,13496,13497,13498,13499,13500,13501,13502,13506,13507,13510,13511,13512,13513,13514,13515,13516,13517,13518,13519,13520,13521,13522,13523,13524,13525,13526,13530,13531,13534,13535,15787,15788,15789,15790,15791,15792,15793,15794,15795,15796,15797,15798,15799,15800,15801,15802,15805,15808,15809,15810,15811,15812,15813,15814,15815,15816,15817,15818,15819,15820,15821,15822,15823,15824,15825,15826,15829,15832,15833,15834,15951,15952,16600,16601,16602,16606,16607,16608,16612,16613,16754,16755,16756,16757,16758,16759,16760,16761,16762,16763,16764,16765,16848,17490,17491,17492,17493,17494,17495,17496,17497,17498,17499,17500,17501,17505,17506,17507,17508,17509,17510,17511,17512,17513,17514,17515,17516,17517,17521,17548,17549,17550,17551,17552,17553,17554,17555,17556,17559,17560,17563,17564,17605,17608,17628,17630,17644,17645,17646,17647,17648,17649,17650,17654,17655,17656,17657,17658,17659,17660,17797,17798,17799,17800,17801,17802,17807,17808,17809,17810,17811,17812,17813,17820,17821,17824,17914,17915,17916,17917,17980,17981,17982,17983,17984,17985,17986,17987,17988,17989,17990,17991,17992,17993,17994,17995,17996,17997,17998,17999,18000,18001,18002,18003,18004,18005,18006,18007,18008,18009,18010,18011,18012,18013,18014,18015,18055,18056,18057,18058,18059,18060,18061,18062,18063,18064,18065,18066,18067,18068,18069,18070,18071,18072,18073,18074,18075,18076,18077,18078,18079,18080,18081,18082,18083,18084,18085,18086,18087,18088,18089,18090,18091,18092,18093,18094,18095,18096,18097,18098,18099,18100,18101,18102,18103,18104,18105,18106,18107,18108,18109,18110,18111,18112,18197,18198,18199,18200,18201,18202,18204,18205,18206,18207,18208,18209,18210,18211,18212,18213,18215,18216,18217,18218,18219,18220,18221,18222,18223,18224,18225,18226,18227,18228,18229,18239,18241,18242,18243,18244,18245,18246,18247,18248,18249,18250,18251,18311,18317,18318,18319,18320,18322,18324,18329,18330,18331,18332,18333,18334,18335,18336,18337,18338,18339,18340,18341,18345,18347,18349,18351,18352,18353,18354,18355,18356,18357,18358,18359,18360,18361,18407,18409,18414,18416,18428,18429,18430,18431,18432,18433,18434,18435,18436,18437,18438,18441,18450,18451,18452,18453,18454,18455,18456,18457,18458,18459,18460,18744,18745,18746,18747,18748,18749,18750,18751,18752,18753,18754,18755,18756,18783,18784,18785,18786,18787,18788,18789,18790,18791,18792,18793,18794,18795,19062,19063,19064,19065,19066,19067,19068,19069,19070,19071,19072,19073,19074,19075,19076,19077,19078,19082,19083,19084,19085,19086,19087,19088,19089,19090,19091,19092,19093,19094,19095,19096,19097,19098,19099,19100,19101,19102,19103,19104,19108,19109,19110,19111,19112,19113,19141,19142,19143,19144,19145,19146,19147,19148,19149,19150,19160,19161,19162,19163,19164,19165,19166,19167,19168,19169,19170,19189,19190,19227,19228,20075,20076,20077,20078,20079,20080,20081,20082,20083,20084,20085,20086,20087,20165,20166,20167,20168,20169,20170,20171,20172,20173,20174,20175,20176,20177,20241,20242,20243,20244,20245,20246,20247,20248,20249,20250,20251,20252,20757,20758,20759,20760,20761,20762,20763,20764,20765,20766,20767,20768,20769,23130,23131,23132,23133,23134,23135,23136,23137,23138,23139,23140,23141,23142,23272,23273,23274,23275,23276,23277,23278,23279,23280,23281,23282,23283,23284,23414,23415,23416,23417,23418,23419,23420,23421,23422,23423,23424,23425,23426,23556,23557,23558,23559,23560,23561,23562,23563,23564,23565,23566,23567,23568,23698,23699,23700,23701,23702,23703,23704,23705,23706,23707,23708,23709,23710,23814,23815,23816,23817,23818,23819,23820,23821,23822,23823,23824,23825,23826,23827,23828,23829,23830,23835,23836,23837,23838,23839,23840,23841,23842,23843,23844,23845,23846,23847,23848,23849,23850,23851,23852,23853,23854,23855,23856,23861,23862,23863,23864,23865,24683,24684,24685,24686,24687,24688,24746,24747,24748,24749,24750,24751,24752,24974,24975,24976,24977,24978,24979,24980,24981,24982,24983,24984,24985,24986,24995,25003,25153,25154,25155,25156,25157,25158,25159,25160,25161,25162,25163,25190,25191,25192,25193,25194,25195,25196,25197,25198,25199,25200,25434,25435,25436,25437,25438,25439,25440,25441,25442,25443,25444,25445,25446,25530,25531,25532,25533,25534,25535,25536,25537,25538,25539,25540,25575,25576,25577,25578,25579,25580,25581,25582,25583,25584,25585,25658,25659,25660,25661,25662,25663,25664,25665,25666,25667,25668,25693,25694,25695,25696,25697,25698,25699,25700,25701,25702,25703,25728,25729,25730,25731,25732,25733,25734,25735,25736,25737,25738,25772,25773,25774,25775,25776,25777,25778,25779,25780,25781,25782,25849,25850,25851,25852,25853,25854,25855,25856,25857,25858,25859,25882,25883,25884,25886,25887,25888,25889,25890,25891,25892,25915,25916,25917,25918,25919,25920,25921,25922,25923,25924,25925,25959,25960,25961,25962,25963,25964,25965,25966,25967,25968,25969,26036,26037,26038,26039,26040,26041,26042,26044,26045,26046,26069,26070,26071,26072,26074,26075,26076,26077,26078,26079,26413,26414,26415,26416,26417,26418,26419,26420,26421,26422,26423,26424,26425,26865,26866,26867,26868,26869,26870,26871,26872,26873,26874,26875,26876,26877,26914,26915,26916,26917,26918,26919,26920,26921,26922,26923,26924,26925,26926,26963,26964,26965,26966,26967,26968,26969,26970,26971,26972,26973,26974,26975,27012,27015,27017,27018,27019,27020,27022,27023,27024,27061,27066,27068,27069,27070,27071,27073,27115,27118,27119,27120,27122,27164,27167,27168,27169,27171,27213,27216,27217,27218,27265,27266,27314,27810,27811,27812,27813,27814,27815,27816,27817,27818,27819,27820,27821,27822,27823,27824,27825,27826,27827,27828,27829,27830,27831,27832,27833,27834,27835,27839,27842,27844,27845,27846,27847,27848,27859,27861,27872,30979,30980,30981,30982,30983,30984,30985,30986,30987,30988,30989,30990,30991,30992,30993,30994,30995,30996,30999,31000,31001,31002,31003,31004,31005,31006,31007,31008,31009,31010,31011,31012,31013,31014,31015,31016,31017,31018,31019,31020,31021,31022,31025,31026,31027,31028,31029,31030) have mixed types. Specify dtype option on import or set low_memory=False.\n",
            "  df_train = pd.read_csv(\"PreFer_train_data.csv\")\n"
          ]
        }
      ],
      "source": [
        "df_train = pd.read_csv(\"PreFer_train_data.csv\")"
      ]
    },
    {
      "cell_type": "code",
      "execution_count": null,
      "metadata": {
        "colab": {
          "base_uri": "https://localhost:8080/",
          "height": 253
        },
        "id": "kaKvKUZqaxji",
        "outputId": "69d85a03-5e4b-4350-ef3a-186e80fba2ad"
      },
      "outputs": [
        {
          "data": {
            "application/vnd.google.colaboratory.intrinsic+json": {
              "type": "dataframe",
              "variable_name": "df_family_train"
            },
            "text/html": [
              "\n",
              "  <div id=\"df-523ca538-376a-4bff-9a71-335403abc0da\" class=\"colab-df-container\">\n",
              "    <div>\n",
              "<style scoped>\n",
              "    .dataframe tbody tr th:only-of-type {\n",
              "        vertical-align: middle;\n",
              "    }\n",
              "\n",
              "    .dataframe tbody tr th {\n",
              "        vertical-align: top;\n",
              "    }\n",
              "\n",
              "    .dataframe thead th {\n",
              "        text-align: right;\n",
              "    }\n",
              "</style>\n",
              "<table border=\"1\" class=\"dataframe\">\n",
              "  <thead>\n",
              "    <tr style=\"text-align: right;\">\n",
              "      <th></th>\n",
              "      <th>cf08a_m</th>\n",
              "      <th>cf09b_m</th>\n",
              "      <th>cf10c_m</th>\n",
              "      <th>cf11d_m</th>\n",
              "      <th>cf12e_m</th>\n",
              "      <th>cf13f_m</th>\n",
              "      <th>cf14g_m</th>\n",
              "      <th>cf15h_m</th>\n",
              "      <th>cf16i_m</th>\n",
              "      <th>cf17j_m</th>\n",
              "      <th>...</th>\n",
              "      <th>cf20m520</th>\n",
              "      <th>cf15h521</th>\n",
              "      <th>cf16i521</th>\n",
              "      <th>cf17j521</th>\n",
              "      <th>cf18k521</th>\n",
              "      <th>cf19l521</th>\n",
              "      <th>cf20m521</th>\n",
              "      <th>cf19l522</th>\n",
              "      <th>cf19l524</th>\n",
              "      <th>cf20m526</th>\n",
              "    </tr>\n",
              "  </thead>\n",
              "  <tbody>\n",
              "    <tr>\n",
              "      <th>0</th>\n",
              "      <td>200803.0</td>\n",
              "      <td>200904.0</td>\n",
              "      <td>NaN</td>\n",
              "      <td>NaN</td>\n",
              "      <td>201203.0</td>\n",
              "      <td>201303.0</td>\n",
              "      <td>NaN</td>\n",
              "      <td>NaN</td>\n",
              "      <td>NaN</td>\n",
              "      <td>NaN</td>\n",
              "      <td>...</td>\n",
              "      <td>NaN</td>\n",
              "      <td>NaN</td>\n",
              "      <td>NaN</td>\n",
              "      <td>NaN</td>\n",
              "      <td>NaN</td>\n",
              "      <td>NaN</td>\n",
              "      <td>NaN</td>\n",
              "      <td>NaN</td>\n",
              "      <td>NaN</td>\n",
              "      <td>NaN</td>\n",
              "    </tr>\n",
              "    <tr>\n",
              "      <th>1</th>\n",
              "      <td>200803.0</td>\n",
              "      <td>200903.0</td>\n",
              "      <td>201003.0</td>\n",
              "      <td>201103.0</td>\n",
              "      <td>201203.0</td>\n",
              "      <td>201303.0</td>\n",
              "      <td>201403.0</td>\n",
              "      <td>201509.0</td>\n",
              "      <td>201609.0</td>\n",
              "      <td>201709.0</td>\n",
              "      <td>...</td>\n",
              "      <td>NaN</td>\n",
              "      <td>1.0</td>\n",
              "      <td>1.0</td>\n",
              "      <td>1.0</td>\n",
              "      <td>NaN</td>\n",
              "      <td>NaN</td>\n",
              "      <td>NaN</td>\n",
              "      <td>NaN</td>\n",
              "      <td>NaN</td>\n",
              "      <td>NaN</td>\n",
              "    </tr>\n",
              "    <tr>\n",
              "      <th>2</th>\n",
              "      <td>200803.0</td>\n",
              "      <td>200903.0</td>\n",
              "      <td>201003.0</td>\n",
              "      <td>201103.0</td>\n",
              "      <td>201203.0</td>\n",
              "      <td>NaN</td>\n",
              "      <td>201403.0</td>\n",
              "      <td>201509.0</td>\n",
              "      <td>201609.0</td>\n",
              "      <td>201709.0</td>\n",
              "      <td>...</td>\n",
              "      <td>5.0</td>\n",
              "      <td>1.0</td>\n",
              "      <td>1.0</td>\n",
              "      <td>1.0</td>\n",
              "      <td>NaN</td>\n",
              "      <td>1.0</td>\n",
              "      <td>7.0</td>\n",
              "      <td>1.0</td>\n",
              "      <td>1.0</td>\n",
              "      <td>4.0</td>\n",
              "    </tr>\n",
              "    <tr>\n",
              "      <th>3</th>\n",
              "      <td>200803.0</td>\n",
              "      <td>200903.0</td>\n",
              "      <td>NaN</td>\n",
              "      <td>NaN</td>\n",
              "      <td>NaN</td>\n",
              "      <td>NaN</td>\n",
              "      <td>NaN</td>\n",
              "      <td>NaN</td>\n",
              "      <td>NaN</td>\n",
              "      <td>NaN</td>\n",
              "      <td>...</td>\n",
              "      <td>NaN</td>\n",
              "      <td>NaN</td>\n",
              "      <td>NaN</td>\n",
              "      <td>NaN</td>\n",
              "      <td>NaN</td>\n",
              "      <td>NaN</td>\n",
              "      <td>NaN</td>\n",
              "      <td>NaN</td>\n",
              "      <td>NaN</td>\n",
              "      <td>NaN</td>\n",
              "    </tr>\n",
              "    <tr>\n",
              "      <th>4</th>\n",
              "      <td>200803.0</td>\n",
              "      <td>200903.0</td>\n",
              "      <td>201003.0</td>\n",
              "      <td>201103.0</td>\n",
              "      <td>201203.0</td>\n",
              "      <td>201303.0</td>\n",
              "      <td>201403.0</td>\n",
              "      <td>201509.0</td>\n",
              "      <td>201609.0</td>\n",
              "      <td>201709.0</td>\n",
              "      <td>...</td>\n",
              "      <td>NaN</td>\n",
              "      <td>NaN</td>\n",
              "      <td>NaN</td>\n",
              "      <td>NaN</td>\n",
              "      <td>NaN</td>\n",
              "      <td>NaN</td>\n",
              "      <td>NaN</td>\n",
              "      <td>1.0</td>\n",
              "      <td>1.0</td>\n",
              "      <td>4.0</td>\n",
              "    </tr>\n",
              "  </tbody>\n",
              "</table>\n",
              "<p>5 rows × 593 columns</p>\n",
              "</div>\n",
              "    <div class=\"colab-df-buttons\">\n",
              "\n",
              "  <div class=\"colab-df-container\">\n",
              "    <button class=\"colab-df-convert\" onclick=\"convertToInteractive('df-523ca538-376a-4bff-9a71-335403abc0da')\"\n",
              "            title=\"Convert this dataframe to an interactive table.\"\n",
              "            style=\"display:none;\">\n",
              "\n",
              "  <svg xmlns=\"http://www.w3.org/2000/svg\" height=\"24px\" viewBox=\"0 -960 960 960\">\n",
              "    <path d=\"M120-120v-720h720v720H120Zm60-500h600v-160H180v160Zm220 220h160v-160H400v160Zm0 220h160v-160H400v160ZM180-400h160v-160H180v160Zm440 0h160v-160H620v160ZM180-180h160v-160H180v160Zm440 0h160v-160H620v160Z\"/>\n",
              "  </svg>\n",
              "    </button>\n",
              "\n",
              "  <style>\n",
              "    .colab-df-container {\n",
              "      display:flex;\n",
              "      gap: 12px;\n",
              "    }\n",
              "\n",
              "    .colab-df-convert {\n",
              "      background-color: #E8F0FE;\n",
              "      border: none;\n",
              "      border-radius: 50%;\n",
              "      cursor: pointer;\n",
              "      display: none;\n",
              "      fill: #1967D2;\n",
              "      height: 32px;\n",
              "      padding: 0 0 0 0;\n",
              "      width: 32px;\n",
              "    }\n",
              "\n",
              "    .colab-df-convert:hover {\n",
              "      background-color: #E2EBFA;\n",
              "      box-shadow: 0px 1px 2px rgba(60, 64, 67, 0.3), 0px 1px 3px 1px rgba(60, 64, 67, 0.15);\n",
              "      fill: #174EA6;\n",
              "    }\n",
              "\n",
              "    .colab-df-buttons div {\n",
              "      margin-bottom: 4px;\n",
              "    }\n",
              "\n",
              "    [theme=dark] .colab-df-convert {\n",
              "      background-color: #3B4455;\n",
              "      fill: #D2E3FC;\n",
              "    }\n",
              "\n",
              "    [theme=dark] .colab-df-convert:hover {\n",
              "      background-color: #434B5C;\n",
              "      box-shadow: 0px 1px 3px 1px rgba(0, 0, 0, 0.15);\n",
              "      filter: drop-shadow(0px 1px 2px rgba(0, 0, 0, 0.3));\n",
              "      fill: #FFFFFF;\n",
              "    }\n",
              "  </style>\n",
              "\n",
              "    <script>\n",
              "      const buttonEl =\n",
              "        document.querySelector('#df-523ca538-376a-4bff-9a71-335403abc0da button.colab-df-convert');\n",
              "      buttonEl.style.display =\n",
              "        google.colab.kernel.accessAllowed ? 'block' : 'none';\n",
              "\n",
              "      async function convertToInteractive(key) {\n",
              "        const element = document.querySelector('#df-523ca538-376a-4bff-9a71-335403abc0da');\n",
              "        const dataTable =\n",
              "          await google.colab.kernel.invokeFunction('convertToInteractive',\n",
              "                                                    [key], {});\n",
              "        if (!dataTable) return;\n",
              "\n",
              "        const docLinkHtml = 'Like what you see? Visit the ' +\n",
              "          '<a target=\"_blank\" href=https://colab.research.google.com/notebooks/data_table.ipynb>data table notebook</a>'\n",
              "          + ' to learn more about interactive tables.';\n",
              "        element.innerHTML = '';\n",
              "        dataTable['output_type'] = 'display_data';\n",
              "        await google.colab.output.renderOutput(dataTable, element);\n",
              "        const docLink = document.createElement('div');\n",
              "        docLink.innerHTML = docLinkHtml;\n",
              "        element.appendChild(docLink);\n",
              "      }\n",
              "    </script>\n",
              "  </div>\n",
              "\n",
              "\n",
              "<div id=\"df-45820b94-d798-4660-82a1-83de5be2fe73\">\n",
              "  <button class=\"colab-df-quickchart\" onclick=\"quickchart('df-45820b94-d798-4660-82a1-83de5be2fe73')\"\n",
              "            title=\"Suggest charts\"\n",
              "            style=\"display:none;\">\n",
              "\n",
              "<svg xmlns=\"http://www.w3.org/2000/svg\" height=\"24px\"viewBox=\"0 0 24 24\"\n",
              "     width=\"24px\">\n",
              "    <g>\n",
              "        <path d=\"M19 3H5c-1.1 0-2 .9-2 2v14c0 1.1.9 2 2 2h14c1.1 0 2-.9 2-2V5c0-1.1-.9-2-2-2zM9 17H7v-7h2v7zm4 0h-2V7h2v10zm4 0h-2v-4h2v4z\"/>\n",
              "    </g>\n",
              "</svg>\n",
              "  </button>\n",
              "\n",
              "<style>\n",
              "  .colab-df-quickchart {\n",
              "      --bg-color: #E8F0FE;\n",
              "      --fill-color: #1967D2;\n",
              "      --hover-bg-color: #E2EBFA;\n",
              "      --hover-fill-color: #174EA6;\n",
              "      --disabled-fill-color: #AAA;\n",
              "      --disabled-bg-color: #DDD;\n",
              "  }\n",
              "\n",
              "  [theme=dark] .colab-df-quickchart {\n",
              "      --bg-color: #3B4455;\n",
              "      --fill-color: #D2E3FC;\n",
              "      --hover-bg-color: #434B5C;\n",
              "      --hover-fill-color: #FFFFFF;\n",
              "      --disabled-bg-color: #3B4455;\n",
              "      --disabled-fill-color: #666;\n",
              "  }\n",
              "\n",
              "  .colab-df-quickchart {\n",
              "    background-color: var(--bg-color);\n",
              "    border: none;\n",
              "    border-radius: 50%;\n",
              "    cursor: pointer;\n",
              "    display: none;\n",
              "    fill: var(--fill-color);\n",
              "    height: 32px;\n",
              "    padding: 0;\n",
              "    width: 32px;\n",
              "  }\n",
              "\n",
              "  .colab-df-quickchart:hover {\n",
              "    background-color: var(--hover-bg-color);\n",
              "    box-shadow: 0 1px 2px rgba(60, 64, 67, 0.3), 0 1px 3px 1px rgba(60, 64, 67, 0.15);\n",
              "    fill: var(--button-hover-fill-color);\n",
              "  }\n",
              "\n",
              "  .colab-df-quickchart-complete:disabled,\n",
              "  .colab-df-quickchart-complete:disabled:hover {\n",
              "    background-color: var(--disabled-bg-color);\n",
              "    fill: var(--disabled-fill-color);\n",
              "    box-shadow: none;\n",
              "  }\n",
              "\n",
              "  .colab-df-spinner {\n",
              "    border: 2px solid var(--fill-color);\n",
              "    border-color: transparent;\n",
              "    border-bottom-color: var(--fill-color);\n",
              "    animation:\n",
              "      spin 1s steps(1) infinite;\n",
              "  }\n",
              "\n",
              "  @keyframes spin {\n",
              "    0% {\n",
              "      border-color: transparent;\n",
              "      border-bottom-color: var(--fill-color);\n",
              "      border-left-color: var(--fill-color);\n",
              "    }\n",
              "    20% {\n",
              "      border-color: transparent;\n",
              "      border-left-color: var(--fill-color);\n",
              "      border-top-color: var(--fill-color);\n",
              "    }\n",
              "    30% {\n",
              "      border-color: transparent;\n",
              "      border-left-color: var(--fill-color);\n",
              "      border-top-color: var(--fill-color);\n",
              "      border-right-color: var(--fill-color);\n",
              "    }\n",
              "    40% {\n",
              "      border-color: transparent;\n",
              "      border-right-color: var(--fill-color);\n",
              "      border-top-color: var(--fill-color);\n",
              "    }\n",
              "    60% {\n",
              "      border-color: transparent;\n",
              "      border-right-color: var(--fill-color);\n",
              "    }\n",
              "    80% {\n",
              "      border-color: transparent;\n",
              "      border-right-color: var(--fill-color);\n",
              "      border-bottom-color: var(--fill-color);\n",
              "    }\n",
              "    90% {\n",
              "      border-color: transparent;\n",
              "      border-bottom-color: var(--fill-color);\n",
              "    }\n",
              "  }\n",
              "</style>\n",
              "\n",
              "  <script>\n",
              "    async function quickchart(key) {\n",
              "      const quickchartButtonEl =\n",
              "        document.querySelector('#' + key + ' button');\n",
              "      quickchartButtonEl.disabled = true;  // To prevent multiple clicks.\n",
              "      quickchartButtonEl.classList.add('colab-df-spinner');\n",
              "      try {\n",
              "        const charts = await google.colab.kernel.invokeFunction(\n",
              "            'suggestCharts', [key], {});\n",
              "      } catch (error) {\n",
              "        console.error('Error during call to suggestCharts:', error);\n",
              "      }\n",
              "      quickchartButtonEl.classList.remove('colab-df-spinner');\n",
              "      quickchartButtonEl.classList.add('colab-df-quickchart-complete');\n",
              "    }\n",
              "    (() => {\n",
              "      let quickchartButtonEl =\n",
              "        document.querySelector('#df-45820b94-d798-4660-82a1-83de5be2fe73 button');\n",
              "      quickchartButtonEl.style.display =\n",
              "        google.colab.kernel.accessAllowed ? 'block' : 'none';\n",
              "    })();\n",
              "  </script>\n",
              "</div>\n",
              "    </div>\n",
              "  </div>\n"
            ],
            "text/plain": [
              "    cf08a_m   cf09b_m   cf10c_m   cf11d_m   cf12e_m   cf13f_m   cf14g_m  \\\n",
              "0  200803.0  200904.0       NaN       NaN  201203.0  201303.0       NaN   \n",
              "1  200803.0  200903.0  201003.0  201103.0  201203.0  201303.0  201403.0   \n",
              "2  200803.0  200903.0  201003.0  201103.0  201203.0       NaN  201403.0   \n",
              "3  200803.0  200903.0       NaN       NaN       NaN       NaN       NaN   \n",
              "4  200803.0  200903.0  201003.0  201103.0  201203.0  201303.0  201403.0   \n",
              "\n",
              "    cf15h_m   cf16i_m   cf17j_m  ...  cf20m520  cf15h521  cf16i521  cf17j521  \\\n",
              "0       NaN       NaN       NaN  ...       NaN       NaN       NaN       NaN   \n",
              "1  201509.0  201609.0  201709.0  ...       NaN       1.0       1.0       1.0   \n",
              "2  201509.0  201609.0  201709.0  ...       5.0       1.0       1.0       1.0   \n",
              "3       NaN       NaN       NaN  ...       NaN       NaN       NaN       NaN   \n",
              "4  201509.0  201609.0  201709.0  ...       NaN       NaN       NaN       NaN   \n",
              "\n",
              "   cf18k521  cf19l521  cf20m521  cf19l522  cf19l524  cf20m526  \n",
              "0       NaN       NaN       NaN       NaN       NaN       NaN  \n",
              "1       NaN       NaN       NaN       NaN       NaN       NaN  \n",
              "2       NaN       1.0       7.0       1.0       1.0       4.0  \n",
              "3       NaN       NaN       NaN       NaN       NaN       NaN  \n",
              "4       NaN       NaN       NaN       1.0       1.0       4.0  \n",
              "\n",
              "[5 rows x 593 columns]"
            ]
          },
          "execution_count": 21,
          "metadata": {},
          "output_type": "execute_result"
        }
      ],
      "source": [
        "df_family_train = df_train[list_of_family]\n",
        "df_family_train.head()"
      ]
    },
    {
      "cell_type": "code",
      "execution_count": null,
      "metadata": {
        "id": "xDsuBldzbzmS"
      },
      "outputs": [],
      "source": [
        "df_family_train = df_family_train.fillna(df_family_train.mean())"
      ]
    },
    {
      "cell_type": "code",
      "execution_count": null,
      "metadata": {
        "colab": {
          "base_uri": "https://localhost:8080/",
          "height": 350
        },
        "id": "vcJD2qiCaJrq",
        "outputId": "b3ac2931-9619-4ae7-97ec-6c103cd8bc99"
      },
      "outputs": [
        {
          "ename": "ValueError",
          "evalue": "n_components=1000 must be between 0 and min(n_samples, n_features)=593 with svd_solver='full'",
          "output_type": "error",
          "traceback": [
            "\u001b[0;31m---------------------------------------------------------------------------\u001b[0m",
            "\u001b[0;31mValueError\u001b[0m                                Traceback (most recent call last)",
            "\u001b[0;32m<ipython-input-23-a95a13ddc6ba>\u001b[0m in \u001b[0;36m<cell line: 12>\u001b[0;34m()\u001b[0m\n\u001b[1;32m     10\u001b[0m \u001b[0;34m\u001b[0m\u001b[0m\n\u001b[1;32m     11\u001b[0m \u001b[0;31m# Fit PCA to the scaled data\u001b[0m\u001b[0;34m\u001b[0m\u001b[0;34m\u001b[0m\u001b[0m\n\u001b[0;32m---> 12\u001b[0;31m \u001b[0mpca\u001b[0m\u001b[0;34m.\u001b[0m\u001b[0mfit\u001b[0m\u001b[0;34m(\u001b[0m\u001b[0mscaled_data\u001b[0m\u001b[0;34m)\u001b[0m\u001b[0;34m\u001b[0m\u001b[0;34m\u001b[0m\u001b[0m\n\u001b[0m\u001b[1;32m     13\u001b[0m \u001b[0;34m\u001b[0m\u001b[0m\n\u001b[1;32m     14\u001b[0m \u001b[0;31m# Transform the data to the lower-dimensional space\u001b[0m\u001b[0;34m\u001b[0m\u001b[0;34m\u001b[0m\u001b[0m\n",
            "\u001b[0;32m/usr/local/lib/python3.10/dist-packages/sklearn/decomposition/_pca.py\u001b[0m in \u001b[0;36mfit\u001b[0;34m(self, X, y)\u001b[0m\n\u001b[1;32m    433\u001b[0m         \u001b[0mself\u001b[0m\u001b[0;34m.\u001b[0m\u001b[0m_validate_params\u001b[0m\u001b[0;34m(\u001b[0m\u001b[0;34m)\u001b[0m\u001b[0;34m\u001b[0m\u001b[0;34m\u001b[0m\u001b[0m\n\u001b[1;32m    434\u001b[0m \u001b[0;34m\u001b[0m\u001b[0m\n\u001b[0;32m--> 435\u001b[0;31m         \u001b[0mself\u001b[0m\u001b[0;34m.\u001b[0m\u001b[0m_fit\u001b[0m\u001b[0;34m(\u001b[0m\u001b[0mX\u001b[0m\u001b[0;34m)\u001b[0m\u001b[0;34m\u001b[0m\u001b[0;34m\u001b[0m\u001b[0m\n\u001b[0m\u001b[1;32m    436\u001b[0m         \u001b[0;32mreturn\u001b[0m \u001b[0mself\u001b[0m\u001b[0;34m\u001b[0m\u001b[0;34m\u001b[0m\u001b[0m\n\u001b[1;32m    437\u001b[0m \u001b[0;34m\u001b[0m\u001b[0m\n",
            "\u001b[0;32m/usr/local/lib/python3.10/dist-packages/sklearn/decomposition/_pca.py\u001b[0m in \u001b[0;36m_fit\u001b[0;34m(self, X)\u001b[0m\n\u001b[1;32m    510\u001b[0m         \u001b[0;31m# Call different fits for either full or truncated SVD\u001b[0m\u001b[0;34m\u001b[0m\u001b[0;34m\u001b[0m\u001b[0m\n\u001b[1;32m    511\u001b[0m         \u001b[0;32mif\u001b[0m \u001b[0mself\u001b[0m\u001b[0;34m.\u001b[0m\u001b[0m_fit_svd_solver\u001b[0m \u001b[0;34m==\u001b[0m \u001b[0;34m\"full\"\u001b[0m\u001b[0;34m:\u001b[0m\u001b[0;34m\u001b[0m\u001b[0;34m\u001b[0m\u001b[0m\n\u001b[0;32m--> 512\u001b[0;31m             \u001b[0;32mreturn\u001b[0m \u001b[0mself\u001b[0m\u001b[0;34m.\u001b[0m\u001b[0m_fit_full\u001b[0m\u001b[0;34m(\u001b[0m\u001b[0mX\u001b[0m\u001b[0;34m,\u001b[0m \u001b[0mn_components\u001b[0m\u001b[0;34m)\u001b[0m\u001b[0;34m\u001b[0m\u001b[0;34m\u001b[0m\u001b[0m\n\u001b[0m\u001b[1;32m    513\u001b[0m         \u001b[0;32melif\u001b[0m \u001b[0mself\u001b[0m\u001b[0;34m.\u001b[0m\u001b[0m_fit_svd_solver\u001b[0m \u001b[0;32min\u001b[0m \u001b[0;34m[\u001b[0m\u001b[0;34m\"arpack\"\u001b[0m\u001b[0;34m,\u001b[0m \u001b[0;34m\"randomized\"\u001b[0m\u001b[0;34m]\u001b[0m\u001b[0;34m:\u001b[0m\u001b[0;34m\u001b[0m\u001b[0;34m\u001b[0m\u001b[0m\n\u001b[1;32m    514\u001b[0m             \u001b[0;32mreturn\u001b[0m \u001b[0mself\u001b[0m\u001b[0;34m.\u001b[0m\u001b[0m_fit_truncated\u001b[0m\u001b[0;34m(\u001b[0m\u001b[0mX\u001b[0m\u001b[0;34m,\u001b[0m \u001b[0mn_components\u001b[0m\u001b[0;34m,\u001b[0m \u001b[0mself\u001b[0m\u001b[0;34m.\u001b[0m\u001b[0m_fit_svd_solver\u001b[0m\u001b[0;34m)\u001b[0m\u001b[0;34m\u001b[0m\u001b[0;34m\u001b[0m\u001b[0m\n",
            "\u001b[0;32m/usr/local/lib/python3.10/dist-packages/sklearn/decomposition/_pca.py\u001b[0m in \u001b[0;36m_fit_full\u001b[0;34m(self, X, n_components)\u001b[0m\n\u001b[1;32m    524\u001b[0m                 )\n\u001b[1;32m    525\u001b[0m         \u001b[0;32melif\u001b[0m \u001b[0;32mnot\u001b[0m \u001b[0;36m0\u001b[0m \u001b[0;34m<=\u001b[0m \u001b[0mn_components\u001b[0m \u001b[0;34m<=\u001b[0m \u001b[0mmin\u001b[0m\u001b[0;34m(\u001b[0m\u001b[0mn_samples\u001b[0m\u001b[0;34m,\u001b[0m \u001b[0mn_features\u001b[0m\u001b[0;34m)\u001b[0m\u001b[0;34m:\u001b[0m\u001b[0;34m\u001b[0m\u001b[0;34m\u001b[0m\u001b[0m\n\u001b[0;32m--> 526\u001b[0;31m             raise ValueError(\n\u001b[0m\u001b[1;32m    527\u001b[0m                 \u001b[0;34m\"n_components=%r must be between 0 and \"\u001b[0m\u001b[0;34m\u001b[0m\u001b[0;34m\u001b[0m\u001b[0m\n\u001b[1;32m    528\u001b[0m                 \u001b[0;34m\"min(n_samples, n_features)=%r with \"\u001b[0m\u001b[0;34m\u001b[0m\u001b[0;34m\u001b[0m\u001b[0m\n",
            "\u001b[0;31mValueError\u001b[0m: n_components=1000 must be between 0 and min(n_samples, n_features)=593 with svd_solver='full'"
          ]
        }
      ],
      "source": [
        "# Assuming df is your DataFrame with 1582 variables\n",
        "# Replace 'df' with the name of your DataFrame if it's different\n",
        "\n",
        "# Standardize the data\n",
        "scaler = StandardScaler()\n",
        "scaled_data = scaler.fit_transform(df_family_train)\n",
        "\n",
        "# Initialize PCA with 100 components\n",
        "pca = PCA(n_components=1000)\n",
        "\n",
        "# Fit PCA to the scaled data\n",
        "pca.fit(scaled_data)\n",
        "\n",
        "# Transform the data to the lower-dimensional space\n",
        "reduced_data = pca.transform(scaled_data)\n",
        "\n",
        "# Convert the reduced data to a DataFrame\n",
        "reduced_df = pd.DataFrame(reduced_data, columns=[f'PC{i}' for i in range(1, 1001)])\n",
        "\n",
        "# Print the shape of the reduced DataFrame\n",
        "print(\"Shape of reduced DataFrame:\", reduced_df.shape)"
      ]
    },
    {
      "cell_type": "code",
      "execution_count": null,
      "metadata": {
        "id": "A1FQNPncb4LD"
      },
      "outputs": [],
      "source": [
        "# Calculate the explained variance ratio of the principal components\n",
        "explained_variance_ratio = pca.explained_variance_ratio_\n",
        "print(explained_variance_ratio)\n",
        "\n",
        "# Calculate the total variance explained by the principal components\n",
        "total_variance_explained = explained_variance_ratio.sum()\n",
        "print(total_variance_explained)"
      ]
    },
    {
      "cell_type": "markdown",
      "metadata": {
        "id": "5gZeWPKrIp9k"
      },
      "source": [
        "## Uh"
      ]
    },
    {
      "cell_type": "code",
      "execution_count": null,
      "metadata": {
        "colab": {
          "base_uri": "https://localhost:8080/"
        },
        "id": "7KWGuCWtIo5p",
        "outputId": "f12a8907-61d6-4b61-fb0b-e8774ae39164"
      },
      "outputs": [
        {
          "name": "stderr",
          "output_type": "stream",
          "text": [
            "<ipython-input-3-d97ebaf30621>:3: DtypeWarning: Columns (2583,2584,2585,2586,2587,2588,2589,4358,4359,4360,4361,4362,4363,4364,4365,4366,4367,4368,4369,4370,4371,4372,4373,4374,4375,4379,4380,4381,4382,4383,4384,4385,4386,4387,4388,4389,4390,4391,4392,4393,4394,4395,4396,4397,4398,4399,4400,4401,4405,4406,4407,4408,4409,5215,5216,5219,5220,5613,5614,5615,5616,5617,5618,5619,5620,5621,5622,5624,5625,5626,5627,5628,5629,5630,5631,5632,5633,5634,5635,5636,5638,5639,5640,5787,5788,5789,5790,5791,5792,5793,5794,5795,5796,6393,6394,6395,6396,6397,6398,6399,6400,6401,6402,6403,6619,6620,6621,6622,6623,6624,6625,6626,6627,6628,6629,6630,6631,6632,6633,6634,6635,6638,6640,6641,6642,6643,6644,6645,6646,6647,6648,6649,6650,6651,6652,6653,6654,6655,6656,6657,6658,6659,6660,6661,6664,6666,6667,6668,6669,6670,6965,6966,6967,6968,6969,6970,6971,6972,6973,6974,6975,7064,7065,7066,7067,7068,7069,7070,7071,7072,7073,7074,7163,7164,7165,7166,7167,7168,7169,7170,7171,7172,7408,7409,7410,7411,7412,7413,7414,7415,7416,7417,7418,7419,7420,8818,8819,8820,8821,8822,8823,8824,8825,8826,8827,8828,9989,9990,9991,9992,9993,9994,9995,9996,9997,9998,9999,10065,10066,10067,10068,10069,10070,10071,10072,10073,10074,10075,10076,10077,10078,10079,10080,10081,10082,10083,10085,10086,10087,10088,10089,10090,10091,10092,10093,10094,10095,10096,10097,10098,10099,10100,10101,10102,10103,10104,10105,10106,10107,10108,10109,10111,10112,10113,10114,10115,10116,10340,10341,10342,10343,10344,10736,10737,10738,10739,10740,10741,10742,10743,10744,10745,10746,10747,10748,11896,11897,11898,11899,11900,11901,11902,11903,11904,11905,11906,11907,12168,12169,12170,12171,12172,12173,12174,12175,12176,12177,12178,12179,12180,12181,12182,12183,12184,12185,12186,12187,12188,12189,12190,12191,12192,12193,13339,13340,13341,13342,13343,13344,13345,13346,13347,13348,13349,13488,13489,13490,13491,13492,13493,13494,13495,13496,13497,13498,13499,13500,13501,13502,13506,13507,13510,13511,13512,13513,13514,13515,13516,13517,13518,13519,13520,13521,13522,13523,13524,13525,13526,13530,13531,13534,13535,15787,15788,15789,15790,15791,15792,15793,15794,15795,15796,15797,15798,15799,15800,15801,15802,15805,15808,15809,15810,15811,15812,15813,15814,15815,15816,15817,15818,15819,15820,15821,15822,15823,15824,15825,15826,15829,15832,15833,15834,15951,15952,16600,16601,16602,16606,16607,16608,16612,16613,16754,16755,16756,16757,16758,16759,16760,16761,16762,16763,16764,16765,16848,17490,17491,17492,17493,17494,17495,17496,17497,17498,17499,17500,17501,17505,17506,17507,17508,17509,17510,17511,17512,17513,17514,17515,17516,17517,17521,17548,17549,17550,17551,17552,17553,17554,17555,17556,17559,17560,17563,17564,17605,17608,17628,17630,17644,17645,17646,17647,17648,17649,17650,17654,17655,17656,17657,17658,17659,17660,17797,17798,17799,17800,17801,17802,17807,17808,17809,17810,17811,17812,17813,17820,17821,17824,17914,17915,17916,17917,17980,17981,17982,17983,17984,17985,17986,17987,17988,17989,17990,17991,17992,17993,17994,17995,17996,17997,17998,17999,18000,18001,18002,18003,18004,18005,18006,18007,18008,18009,18010,18011,18012,18013,18014,18015,18055,18056,18057,18058,18059,18060,18061,18062,18063,18064,18065,18066,18067,18068,18069,18070,18071,18072,18073,18074,18075,18076,18077,18078,18079,18080,18081,18082,18083,18084,18085,18086,18087,18088,18089,18090,18091,18092,18093,18094,18095,18096,18097,18098,18099,18100,18101,18102,18103,18104,18105,18106,18107,18108,18109,18110,18111,18112,18197,18198,18199,18200,18201,18202,18204,18205,18206,18207,18208,18209,18210,18211,18212,18213,18215,18216,18217,18218,18219,18220,18221,18222,18223,18224,18225,18226,18227,18228,18229,18239,18241,18242,18243,18244,18245,18246,18247,18248,18249,18250,18251,18311,18317,18318,18319,18320,18322,18324,18329,18330,18331,18332,18333,18334,18335,18336,18337,18338,18339,18340,18341,18345,18347,18349,18351,18352,18353,18354,18355,18356,18357,18358,18359,18360,18361,18407,18409,18414,18416,18428,18429,18430,18431,18432,18433,18434,18435,18436,18437,18438,18441,18450,18451,18452,18453,18454,18455,18456,18457,18458,18459,18460,18744,18745,18746,18747,18748,18749,18750,18751,18752,18753,18754,18755,18756,18783,18784,18785,18786,18787,18788,18789,18790,18791,18792,18793,18794,18795,19062,19063,19064,19065,19066,19067,19068,19069,19070,19071,19072,19073,19074,19075,19076,19077,19078,19082,19083,19084,19085,19086,19087,19088,19089,19090,19091,19092,19093,19094,19095,19096,19097,19098,19099,19100,19101,19102,19103,19104,19108,19109,19110,19111,19112,19113,19141,19142,19143,19144,19145,19146,19147,19148,19149,19150,19160,19161,19162,19163,19164,19165,19166,19167,19168,19169,19170,19189,19190,19227,19228,20075,20076,20077,20078,20079,20080,20081,20082,20083,20084,20085,20086,20087,20165,20166,20167,20168,20169,20170,20171,20172,20173,20174,20175,20176,20177,20241,20242,20243,20244,20245,20246,20247,20248,20249,20250,20251,20252,20757,20758,20759,20760,20761,20762,20763,20764,20765,20766,20767,20768,20769,23130,23131,23132,23133,23134,23135,23136,23137,23138,23139,23140,23141,23142,23272,23273,23274,23275,23276,23277,23278,23279,23280,23281,23282,23283,23284,23414,23415,23416,23417,23418,23419,23420,23421,23422,23423,23424,23425,23426,23556,23557,23558,23559,23560,23561,23562,23563,23564,23565,23566,23567,23568,23698,23699,23700,23701,23702,23703,23704,23705,23706,23707,23708,23709,23710,23814,23815,23816,23817,23818,23819,23820,23821,23822,23823,23824,23825,23826,23827,23828,23829,23830,23835,23836,23837,23838,23839,23840,23841,23842,23843,23844,23845,23846,23847,23848,23849,23850,23851,23852,23853,23854,23855,23856,23861,23862,23863,23864,23865,24683,24684,24685,24686,24687,24688,24746,24747,24748,24749,24750,24751,24752,24974,24975,24976,24977,24978,24979,24980,24981,24982,24983,24984,24985,24986,24995,25003,25153,25154,25155,25156,25157,25158,25159,25160,25161,25162,25163,25190,25191,25192,25193,25194,25195,25196,25197,25198,25199,25200,25434,25435,25436,25437,25438,25439,25440,25441,25442,25443,25444,25445,25446,25530,25531,25532,25533,25534,25535,25536,25537,25538,25539,25540,25575,25576,25577,25578,25579,25580,25581,25582,25583,25584,25585,25658,25659,25660,25661,25662,25663,25664,25665,25666,25667,25668,25693,25694,25695,25696,25697,25698,25699,25700,25701,25702,25703,25728,25729,25730,25731,25732,25733,25734,25735,25736,25737,25738,25772,25773,25774,25775,25776,25777,25778,25779,25780,25781,25782,25849,25850,25851,25852,25853,25854,25855,25856,25857,25858,25859,25882,25883,25884,25886,25887,25888,25889,25890,25891,25892,25915,25916,25917,25918,25919,25920,25921,25922,25923,25924,25925,25959,25960,25961,25962,25963,25964,25965,25966,25967,25968,25969,26036,26037,26038,26039,26040,26041,26042,26044,26045,26046,26069,26070,26071,26072,26074,26075,26076,26077,26078,26079,26413,26414,26415,26416,26417,26418,26419,26420,26421,26422,26423,26424,26425,26865,26866,26867,26868,26869,26870,26871,26872,26873,26874,26875,26876,26877,26914,26915,26916,26917,26918,26919,26920,26921,26922,26923,26924,26925,26926,26963,26964,26965,26966,26967,26968,26969,26970,26971,26972,26973,26974,26975,27012,27015,27017,27018,27019,27020,27022,27023,27024,27061,27066,27068,27069,27070,27071,27073,27115,27118,27119,27120,27122,27164,27167,27168,27169,27171,27213,27216,27217,27218,27265,27266,27314,27810,27811,27812,27813,27814,27815,27816,27817,27818,27819,27820,27821,27822,27823,27824,27825,27826,27827,27828,27829,27830,27831,27832,27833,27834,27835,27839,27842,27844,27845,27846,27847,27848,27859,27861,27872,30979,30980,30981,30982,30983,30984,30985,30986,30987,30988,30989,30990,30991,30992,30993,30994,30995,30996,30999,31000,31001,31002,31003,31004,31005,31006,31007,31008,31009,31010,31011,31012,31013,31014,31015,31016,31017,31018,31019,31020,31021,31022,31025,31026,31027,31028,31029,31030) have mixed types. Specify dtype option on import or set low_memory=False.\n",
            "  df_train = pd.read_csv(\"PreFer_train_data.csv\")\n"
          ]
        }
      ],
      "source": [
        "import pandas as pd\n",
        "\n",
        "df_train = pd.read_csv(\"PreFer_train_data.csv\")"
      ]
    },
    {
      "cell_type": "code",
      "execution_count": null,
      "metadata": {
        "colab": {
          "base_uri": "https://localhost:8080/"
        },
        "id": "A3FMmqviIxZz",
        "outputId": "a510cf12-4329-4a56-ae1d-1d70c04d7b4d"
      },
      "outputs": [
        {
          "data": {
            "text/plain": [
              "Index(['nomem_encr', 'outcome_available', 'cf08a_m', 'cf09b_m', 'cf10c_m',\n",
              "       'cf11d_m', 'cf12e_m', 'cf13f_m', 'cf14g_m', 'cf15h_m',\n",
              "       ...\n",
              "       'woonvorm_2011', 'woonvorm_2012', 'woonvorm_2013', 'woonvorm_2014',\n",
              "       'woonvorm_2015', 'woonvorm_2016', 'woonvorm_2017', 'woonvorm_2018',\n",
              "       'woonvorm_2019', 'woonvorm_2020'],\n",
              "      dtype='object', length=31634)"
            ]
          },
          "execution_count": 3,
          "metadata": {},
          "output_type": "execute_result"
        }
      ],
      "source": [
        "df_train.columns"
      ]
    },
    {
      "cell_type": "code",
      "execution_count": null,
      "metadata": {
        "colab": {
          "base_uri": "https://localhost:8080/"
        },
        "id": "PGgAfxAmJrU4",
        "outputId": "695ba117-9d01-44cc-abe5-57502e345546"
      },
      "outputs": [
        {
          "name": "stdout",
          "output_type": "stream",
          "text": [
            "987\n",
            "nomem_encr             0\n",
            "outcome_available      0\n",
            "cf08a_m              803\n",
            "cf09b_m              792\n",
            "cf10c_m              756\n",
            "                    ... \n",
            "woonvorm_2016        372\n",
            "woonvorm_2017        217\n",
            "woonvorm_2018        208\n",
            "woonvorm_2019        148\n",
            "woonvorm_2020          4\n",
            "Length: 31634, dtype: int64\n"
          ]
        }
      ],
      "source": [
        "df_supervised = df_train[df_train['outcome_available']==1]\n",
        "nan_counts = df_supervised.isna().sum()\n",
        "print(len(df_supervised))\n",
        "print(nan_counts)"
      ]
    },
    {
      "cell_type": "code",
      "execution_count": null,
      "metadata": {
        "colab": {
          "base_uri": "https://localhost:8080/"
        },
        "id": "SIekB_9rPxQt",
        "outputId": "ff583be0-028b-4dec-eb75-a277e3ea5fce"
      },
      "outputs": [
        {
          "name": "stdout",
          "output_type": "stream",
          "text": [
            "2770\n"
          ]
        }
      ],
      "source": [
        "threshold = len(df_supervised) * 0.65\n",
        "df_supervised_filtered = df_supervised.dropna(thresh=threshold, axis=1)\n",
        "print(len(df_supervised_filtered.columns))"
      ]
    },
    {
      "cell_type": "code",
      "execution_count": null,
      "metadata": {
        "colab": {
          "base_uri": "https://localhost:8080/"
        },
        "id": "31YdH2rD0uNt",
        "outputId": "bb5e729f-cf61-494a-cf4f-96bc1fb09585"
      },
      "outputs": [
        {
          "name": "stdout",
          "output_type": "stream",
          "text": [
            "['nomem_encr', 'outcome_available', 'cf17j_m', 'cf18k_m', 'cf19l_m', 'cf20m_m', 'cf17j001', 'cf18k001', 'cf19l001', 'cf20m001', 'cf17j003', 'cf18k003', 'cf19l003', 'cf20m003', 'cf17j004', 'cf18k004', 'cf19l004', 'cf20m004', 'cf20m005', 'cf20m007', 'cf18k009', 'cf19l009', 'cf20m009', 'cf17j011', 'cf18k011', 'cf19l011', 'cf20m011', 'cf20m020', 'cf18k022', 'cf19l022', 'cf20m022', 'cf17j024', 'cf18k024', 'cf19l024', 'cf20m024', 'cf20m025', 'cf20m030', 'cf20m032', 'cf20m128', 'cf20m131', 'cf18k132', 'cf19l132', 'cf20m132', 'cf20m135', 'cf18k136', 'cf19l136', 'cf20m136', 'cf20m137', 'cf18k138', 'cf19l138', 'cf20m138', 'cf20m139', 'cf20m143', 'cf18k144', 'cf19l144', 'cf20m144', 'cf20m145', 'cf18k146', 'cf19l146', 'cf20m146', 'cf20m147', 'cf18k148', 'cf19l148', 'cf20m148', 'cf20m149', 'cf18k150', 'cf19l150', 'cf20m150', 'cf20m151', 'cf18k152', 'cf19l152', 'cf20m152', 'cf20m153', 'cf20m157', 'cf18k158', 'cf19l158', 'cf20m158', 'cf20m159', 'cf18k160', 'cf19l160', 'cf20m160', 'cf18k161', 'cf19l161', 'cf20m161', 'cf20m162', 'cf20m163', 'cf20m164', 'cf20m165', 'cf20m180', 'cf20m185', 'cf17j388', 'cf18k388', 'cf19l388', 'cf20m388', 'cf17j389', 'cf18k389', 'cf19l389', 'cf20m389', 'cf17j390', 'cf18k390', 'cf19l390', 'cf20m390', 'cf17j391', 'cf18k391', 'cf19l391', 'cf20m391', 'cf17j392', 'cf18k392', 'cf19l392', 'cf20m392', 'cf17j393', 'cf18k393', 'cf19l393', 'cf20m393', 'cf17j394', 'cf18k394', 'cf19l394', 'cf20m394', 'cf17j395', 'cf18k395', 'cf19l395', 'cf20m395', 'cf17j396', 'cf18k396', 'cf19l396', 'cf20m396', 'cf17j397', 'cf18k397', 'cf19l397', 'cf20m397', 'cf17j432', 'cf18k432', 'cf19l432', 'cf20m452', 'cf20m453', 'cf17j454', 'cf18k454', 'cf19l454', 'cf20m454', 'cf17j471', 'cf18k471', 'cf19l471', 'cf20m471', 'cf18k504', 'cf19l504', 'cf20m504', 'cf18k505', 'cf19l505', 'cf20m505', 'cf18k506', 'cf19l506', 'cf20m506', 'cf18k507', 'cf19l507', 'cf20m507', 'cf18k508', 'cf19l508', 'cf20m508', 'cf18k509', 'cf19l509', 'cf20m509', 'cf18k510', 'cf19l510', 'cf20m510', 'cf18k511', 'cf19l511', 'cf20m511', 'cf18k512', 'cf19l512', 'cf20m512', 'cf19l522', 'cf19l524', 'cf20m526', 'ca18f_m', 'ca20g_m', 'ca20g001', 'ca20g002', 'ca20g003', 'ca18f005', 'ca20g005', 'ca18f006', 'ca20g006', 'ca18f007', 'ca20g007', 'ca18f008', 'ca20g008', 'ca18f009', 'ca20g009', 'ca18f010', 'ca20g010', 'ca18f011', 'ca20g011', 'ca20g012', 'ca20g054', 'ca18f057', 'ca20g057', 'ca18f058', 'ca20g058', 'ca18f060', 'ca20g060', 'ca18f061', 'ca20g061', 'ca18f062', 'ca20g062', 'ca18f066', 'ca20g066', 'ca18f067', 'ca20g067', 'ca18f068', 'ca20g068', 'ca18f069', 'ca20g069', 'ca18f070', 'ca20g070', 'ca18f071', 'ca20g071', 'ca18f072', 'ca20g072', 'ca18f073', 'ca20g073', 'ca18f074', 'ca20g074', 'ca18f075', 'ca20g075', 'ca18f078', 'ca20g078', 'ca18f079', 'ca20g079', 'ca18f080', 'ca20g080', 'ca18f081', 'ca20g081', 'ca20g082', 'ca18f087', 'ca20g087', 'ci18k_m', 'ci19l_m', 'ci20m_m', 'ci19l001', 'ci20m001', 'ci19l002', 'ci20m002', 'ci19l003', 'ci20m003', 'ci18k005', 'ci19l005', 'ci20m005', 'ci19l006', 'ci20m006', 'ci20m007', 'ci18k008', 'ci19l008', 'ci20m008', 'ci20m009', 'ci19l037', 'ci20m037', 'ci19l038', 'ci20m038', 'ci19l039', 'ci20m039', 'ci19l040', 'ci20m040', 'ci19l041', 'ci20m041', 'ci19l042', 'ci20m042', 'ci19l043', 'ci20m043', 'ci19l044', 'ci20m044', 'ci19l045', 'ci20m045', 'ci19l087', 'ci20m087', 'ci19l090', 'ci20m090', 'ci20m091', 'ci20m094', 'ci20m096', 'ci20m098', 'ci20m099', 'ci20m100', 'ci19l101', 'ci20m101', 'ci20m144', 'ci20m146', 'ci20m147', 'ci20m148', 'ci20m149', 'ci20m150', 'ci20m151', 'ci20m152', 'ci20m153', 'ci20m154', 'ci19l175', 'ci20m175', 'ci19l177', 'ci20m177', 'ci20m203', 'ci20m205', 'ci20m207', 'ci20m213', 'ci20m221', 'ci20m237', 'ci20m238', 'ci20m239', 'ci20m240', 'ci20m241', 'ci20m242', 'ci20m245', 'ci20m246', 'ci20m247', 'ci20m248', 'ci20m249', 'ci20m250', 'ci20m251', 'ci20m252', 'ci20m253', 'ci20m254', 'ci20m306', 'ci20m307', 'ci20m309', 'ci19l313', 'ci20m313', 'ci19l314', 'ci20m314', 'ci19l315', 'ci20m315', 'ci19l316', 'ci20m316', 'ci19l317', 'ci20m317', 'ci18k318', 'ci19l318', 'ci20m318', 'ci18k319', 'ci19l319', 'ci20m319', 'ci19l320', 'ci20m320', 'ci19l321', 'ci20m321', 'ci19l322', 'ci20m322', 'ci19l326', 'ci20m326', 'ci20m327', 'ci20m328', 'ci20m340', 'ci20m341', 'ci20m352', 'ci20m353', 'ci20m354', 'ci20m355', 'ci20m356', 'ci19l374', 'ci20m374', 'ci20m377', 'ci20m378', 'ci19l380', 'ci20m380', 'ci20m382', 'ci19l383', 'ci20m383', 'ch18k_m', 'ch19l_m', 'ch20m_m', 'ch18k001', 'ch19l001', 'ch20m001', 'ch18k002', 'ch19l002', 'ch20m002', 'ch18k003', 'ch19l003', 'ch20m003', 'ch18k004', 'ch19l004', 'ch20m004', 'ch18k005', 'ch19l005', 'ch20m005', 'ch18k006', 'ch19l006', 'ch20m006', 'ch18k007', 'ch19l007', 'ch20m007', 'ch18k011', 'ch19l011', 'ch20m011', 'ch18k012', 'ch19l012', 'ch20m012', 'ch18k013', 'ch19l013', 'ch20m013', 'ch18k014', 'ch19l014', 'ch20m014', 'ch18k015', 'ch19l015', 'ch20m015', 'ch18k016', 'ch19l016', 'ch20m016', 'ch18k017', 'ch19l017', 'ch20m017', 'ch18k018', 'ch19l018', 'ch20m018', 'ch18k020', 'ch19l020', 'ch20m020', 'ch18k021', 'ch19l021', 'ch20m021', 'ch18k022', 'ch19l022', 'ch20m022', 'ch18k023', 'ch19l023', 'ch20m023', 'ch18k024', 'ch19l024', 'ch20m024', 'ch18k025', 'ch19l025', 'ch20m025', 'ch18k026', 'ch19l026', 'ch20m026', 'ch18k027', 'ch19l027', 'ch20m027', 'ch18k028', 'ch19l028', 'ch20m028', 'ch18k029', 'ch19l029', 'ch20m029', 'ch18k030', 'ch19l030', 'ch20m030', 'ch18k031', 'ch19l031', 'ch20m031', 'ch18k032', 'ch19l032', 'ch20m032', 'ch18k033', 'ch19l033', 'ch20m033', 'ch18k034', 'ch19l034', 'ch20m034', 'ch18k035', 'ch19l035', 'ch20m035', 'ch18k036', 'ch19l036', 'ch20m036', 'ch18k037', 'ch19l037', 'ch20m037', 'ch18k038', 'ch19l038', 'ch20m038', 'ch18k039', 'ch19l039', 'ch20m039', 'ch18k040', 'ch19l040', 'ch20m040', 'ch18k041', 'ch19l041', 'ch20m041', 'ch18k042', 'ch19l042', 'ch20m042', 'ch18k043', 'ch19l043', 'ch20m043', 'ch18k044', 'ch19l044', 'ch20m044', 'ch18k045', 'ch19l045', 'ch20m045', 'ch18k070', 'ch19l070', 'ch20m070', 'ch18k071', 'ch19l071', 'ch20m071', 'ch18k072', 'ch19l072', 'ch20m072', 'ch18k073', 'ch19l073', 'ch20m073', 'ch18k074', 'ch19l074', 'ch20m074', 'ch18k075', 'ch19l075', 'ch20m075', 'ch18k076', 'ch19l076', 'ch20m076', 'ch18k077', 'ch19l077', 'ch20m077', 'ch18k078', 'ch19l078', 'ch20m078', 'ch18k079', 'ch19l079', 'ch20m079', 'ch18k080', 'ch19l080', 'ch20m080', 'ch18k081', 'ch19l081', 'ch20m081', 'ch18k082', 'ch19l082', 'ch20m082', 'ch18k083', 'ch19l083', 'ch20m083', 'ch18k084', 'ch19l084', 'ch20m084', 'ch18k085', 'ch19l085', 'ch20m085', 'ch18k086', 'ch19l086', 'ch20m086', 'ch18k087', 'ch19l087', 'ch20m087', 'ch18k088', 'ch19l088', 'ch20m088', 'ch18k089', 'ch19l089', 'ch20m089', 'ch18k090', 'ch19l090', 'ch20m090', 'ch18k091', 'ch19l091', 'ch20m091', 'ch18k092', 'ch19l092', 'ch20m092', 'ch18k093', 'ch19l093', 'ch20m093', 'ch18k094', 'ch19l094', 'ch20m094', 'ch18k095', 'ch19l095', 'ch20m095', 'ch18k096', 'ch19l096', 'ch20m096', 'ch18k097', 'ch19l097', 'ch20m097', 'ch18k098', 'ch19l098', 'ch20m098', 'ch18k099', 'ch19l099', 'ch20m099', 'ch20m100', 'ch20m105', 'ch18k125', 'ch19l125', 'ch20m125', 'ch18k133', 'ch19l133', 'ch20m133', 'ch20m134', 'ch18k159', 'ch19l159', 'ch20m159', 'ch18k160', 'ch19l160', 'ch20m160', 'ch18k161', 'ch19l161', 'ch20m161', 'ch18k162', 'ch19l162', 'ch20m162', 'ch18k163', 'ch19l163', 'ch20m163', 'ch18k169', 'ch19l169', 'ch20m169', 'ch18k170', 'ch19l170', 'ch20m170', 'ch18k171', 'ch19l171', 'ch20m171', 'ch18k172', 'ch19l172', 'ch20m172', 'ch18k173', 'ch19l173', 'ch20m173', 'ch18k174', 'ch19l174', 'ch20m174', 'ch18k175', 'ch19l175', 'ch20m175', 'ch18k176', 'ch19l176', 'ch20m176', 'ch18k177', 'ch19l177', 'ch20m177', 'ch18k178', 'ch19l178', 'ch20m178', 'ch18k179', 'ch19l179', 'ch20m179', 'ch18k180', 'ch19l180', 'ch20m180', 'ch18k181', 'ch19l181', 'ch20m181', 'ch18k182', 'ch19l182', 'ch20m182', 'ch18k183', 'ch19l183', 'ch20m183', 'ch18k184', 'ch19l184', 'ch20m184', 'ch18k185', 'ch18k188', 'ch18k191', 'ch18k194', 'ch18k196', 'ch18k197', 'ch18k198', 'ch18k199', 'ch18k200', 'ch18k201', 'ch18k202', 'ch18k203', 'ch18k206', 'ch19l206', 'ch20m206', 'ch18k207', 'ch19l207', 'ch20m207', 'ch18k208', 'ch19l208', 'ch20m208', 'ch18k209', 'ch19l209', 'ch20m209', 'ch18k210', 'ch19l210', 'ch20m210', 'ch18k211', 'ch19l211', 'ch20m211', 'ch18k212', 'ch19l212', 'ch20m212', 'ch18k213', 'ch19l213', 'ch20m213', 'ch18k214', 'ch19l214', 'ch20m214', 'ch18k215', 'ch19l215', 'ch20m215', 'ch18k216', 'ch19l216', 'ch20m216', 'ch18k217', 'ch19l217', 'ch20m217', 'ch18k218', 'ch19l218', 'ch20m218', 'ch18k219', 'ch19l219', 'ch20m219', 'ch18k220', 'ch19l220', 'ch20m220', 'ch18k221', 'ch19l221', 'ch20m221', 'ch18k222', 'ch19l222', 'ch20m222', 'ch18k223', 'ch19l223', 'ch20m223', 'ch18k224', 'ch19l224', 'ch20m224', 'ch18k225', 'ch19l225', 'ch20m225', 'ch18k226', 'ch19l226', 'ch20m226', 'ch18k227', 'ch19l227', 'ch20m227', 'ch18k228', 'ch19l228', 'ch20m228', 'ch18k229', 'ch19l229', 'ch20m229', 'ch18k232', 'ch19l232', 'ch20m232', 'ch18k233', 'ch19l233', 'ch20m233', 'ch18k234', 'ch19l234', 'ch20m234', 'ch18k235', 'ch19l235', 'ch20m235', 'ch18k238', 'ch18k239', 'ch19l239', 'ch20m239', 'ch18k250', 'ch19l250', 'ch20m250', 'ch18k251', 'ch19l251', 'ch20m251', 'ch18k252', 'ch19l252', 'ch20m252', 'ch18k253', 'ch19l253', 'ch20m253', 'ch18k254', 'ch19l254', 'ch20m254', 'ch18k255', 'ch19l255', 'ch20m255', 'ch18k256', 'ch19l256', 'ch20m256', 'ch18k257', 'ch19l257', 'ch20m257', 'ch18k258', 'ch19l258', 'ch20m258', 'ch18k259', 'ch19l259', 'ch20m259', 'ch19l260', 'ch20m260', 'ch18k261', 'ch18k262', 'ch19l263', 'ch20m263', 'ch18k267', 'ch19l267', 'ch20m267', 'ch20m269', 'ch20m270', 'cp18j_m', 'cp19k_m', 'cp20l_m', 'cp18j001', 'cp18j002', 'cp18j003', 'cp18j004', 'cp18j005', 'cp18j006', 'cp18j007', 'cp18j008', 'cp18j009', 'cp18j010', 'cp19k010', 'cp20l010', 'cp18j011', 'cp19k011', 'cp20l011', 'cp18j012', 'cp19k012', 'cp20l012', 'cp18j013', 'cp19k013', 'cp20l013', 'cp18j014', 'cp19k014', 'cp20l014', 'cp18j015', 'cp19k015', 'cp20l015', 'cp18j016', 'cp19k016', 'cp20l016', 'cp18j017', 'cp19k017', 'cp20l017', 'cp18j018', 'cp19k018', 'cp20l018', 'cp18j019', 'cp19k019', 'cp20l019', 'cp19k020', 'cp20l020', 'cp19k021', 'cp20l021', 'cp19k022', 'cp20l022', 'cp19k023', 'cp20l023', 'cp19k024', 'cp20l024', 'cp19k025', 'cp20l025', 'cp19k026', 'cp20l026', 'cp19k027', 'cp20l027', 'cp19k028', 'cp20l028', 'cp19k029', 'cp20l029', 'cp19k030', 'cp20l030', 'cp19k031', 'cp20l031', 'cp19k032', 'cp20l032', 'cp19k033', 'cp20l033', 'cp19k034', 'cp20l034', 'cp19k035', 'cp20l035', 'cp19k036', 'cp20l036', 'cp19k037', 'cp20l037', 'cp19k038', 'cp20l038', 'cp19k039', 'cp20l039', 'cp19k040', 'cp20l040', 'cp19k041', 'cp20l041', 'cp19k042', 'cp20l042', 'cp19k043', 'cp20l043', 'cp19k044', 'cp20l044', 'cp19k045', 'cp20l045', 'cp19k046', 'cp20l046', 'cp19k047', 'cp20l047', 'cp19k048', 'cp20l048', 'cp19k049', 'cp20l049', 'cp19k050', 'cp20l050', 'cp19k051', 'cp20l051', 'cp19k052', 'cp20l052', 'cp19k053', 'cp20l053', 'cp19k054', 'cp20l054', 'cp19k055', 'cp20l055', 'cp19k056', 'cp20l056', 'cp19k057', 'cp20l057', 'cp19k058', 'cp20l058', 'cp19k059', 'cp20l059', 'cp19k060', 'cp20l060', 'cp19k061', 'cp20l061', 'cp19k062', 'cp20l062', 'cp19k063', 'cp20l063', 'cp19k064', 'cp20l064', 'cp19k065', 'cp20l065', 'cp19k066', 'cp20l066', 'cp19k067', 'cp20l067', 'cp19k068', 'cp20l068', 'cp19k069', 'cp20l069', 'cp19k070', 'cp20l070', 'cp19k071', 'cp20l071', 'cp19k072', 'cp20l072', 'cp19k073', 'cp20l073', 'cp19k074', 'cp20l074', 'cp19k075', 'cp20l075', 'cp19k076', 'cp20l076', 'cp19k077', 'cp20l077', 'cp19k078', 'cp20l078', 'cp19k079', 'cp20l079', 'cp19k099', 'cp20l099', 'cp19k100', 'cp20l100', 'cp19k101', 'cp20l101', 'cp19k102', 'cp20l102', 'cp19k103', 'cp20l103', 'cp19k104', 'cp20l104', 'cp19k105', 'cp20l105', 'cp19k106', 'cp20l106', 'cp19k107', 'cp20l107', 'cp19k108', 'cp20l108', 'cp19k109', 'cp20l109', 'cp19k110', 'cp20l110', 'cp19k111', 'cp20l111', 'cp19k112', 'cp20l112', 'cp19k113', 'cp20l113', 'cp19k114', 'cp20l114', 'cp19k115', 'cp20l115', 'cp19k116', 'cp20l116', 'cp19k117', 'cp20l117', 'cp19k118', 'cp20l118', 'cp19k119', 'cp20l119', 'cp19k120', 'cp20l120', 'cp19k121', 'cp20l121', 'cp19k122', 'cp20l122', 'cp19k123', 'cp20l123', 'cp19k124', 'cp20l124', 'cp19k125', 'cp20l125', 'cp19k126', 'cp20l126', 'cp19k127', 'cp20l127', 'cp19k128', 'cp20l128', 'cp19k129', 'cp20l129', 'cp19k130', 'cp20l130', 'cp19k131', 'cp20l131', 'cp19k132', 'cp20l132', 'cp19k133', 'cp20l133', 'cp19k134', 'cp20l134', 'cp18j135', 'cp19k135', 'cp20l135', 'cp19k136', 'cp20l136', 'cp19k137', 'cp20l137', 'cp19k138', 'cp20l138', 'cp19k139', 'cp20l139', 'cp19k140', 'cp20l140', 'cp19k141', 'cp20l141', 'cp19k142', 'cp20l142', 'cp19k143', 'cp20l143', 'cp19k144', 'cp20l144', 'cp19k145', 'cp20l145', 'cp19k146', 'cp20l146', 'cp19k147', 'cp20l147', 'cp19k148', 'cp20l148', 'cp19k149', 'cp20l149', 'cp19k150', 'cp20l150', 'cp19k151', 'cp20l151', 'cp19k152', 'cp20l152', 'cp19k153', 'cp20l153', 'cp19k154', 'cp20l154', 'cp19k155', 'cp20l155', 'cp19k156', 'cp20l156', 'cp19k157', 'cp20l157', 'cp19k158', 'cp20l158', 'cp19k159', 'cp20l159', 'cp19k160', 'cp20l160', 'cp19k161', 'cp20l161', 'cp19k162', 'cp20l162', 'cp19k163', 'cp20l163', 'cp19k164', 'cp20l164', 'cp19k165', 'cp20l165', 'cp18j184', 'cp19k184', 'cp20l184', 'cp18j185', 'cp19k185', 'cp20l185', 'cp18j186', 'cp19k186', 'cp20l186', 'cp18j187', 'cp19k187', 'cp20l187', 'cp18j188', 'cp19k188', 'cp20l188', 'cp18j189', 'cp19k189', 'cp20l189', 'cp18j190', 'cp19k190', 'cp20l190', 'cp18j191', 'cp19k191', 'cp20l191', 'cp18j192', 'cp19k192', 'cp20l192', 'cp18j193', 'cp19k193', 'cp20l193', 'cp18j194', 'cp18j197', 'cp18j198', 'cp19k198', 'cp20l198', 'cp18j199', 'cp19k199', 'cp20l199', 'cp18j200', 'cp19k200', 'cp20l200', 'cp18j201', 'cp19k201', 'cp20l201', 'cp18j202', 'cp19k202', 'cp20l202', 'cp18j203', 'cp19k203', 'cp20l203', 'cp18j204', 'cp19k204', 'cp20l204', 'cp18j205', 'cp19k205', 'cp20l205', 'cp18j206', 'cp19k206', 'cp20l206', 'cp18j207', 'cp19k207', 'cp20l207', 'cv18j_m1', 'cv18j_m2', 'cv18j_m3', 'cv19k_m1', 'cv19k_m2', 'cv19k_m3', 'cv20l_m1', 'cv20l_m2', 'cv20l_m3', 'cv18j001', 'cv19k001', 'cv20l001', 'cv18j002', 'cv19k002', 'cv20l002', 'cv18j003', 'cv19k003', 'cv20l003', 'cv18j004', 'cv19k004', 'cv20l004', 'cv18j006', 'cv19k006', 'cv20l006', 'cv18j007', 'cv19k007', 'cv18j008', 'cv19k008', 'cv20l008', 'cv19k009', 'cv20l009', 'cv18j010', 'cv19k010', 'cv20l010', 'cv19k011', 'cv20l011', 'cv18j012', 'cv19k012', 'cv20l012', 'cv18j013', 'cv19k013', 'cv20l013', 'cv18j014', 'cv19k014', 'cv20l014', 'cv18j015', 'cv19k015', 'cv20l015', 'cv18j016', 'cv19k016', 'cv20l016', 'cv18j017', 'cv19k017', 'cv20l017', 'cv18j018', 'cv19k018', 'cv20l018', 'cv18j019', 'cv19k019', 'cv20l019', 'cv19k020', 'cv20l020', 'cv18j021', 'cv19k021', 'cv20l021', 'cv18j022', 'cv19k022', 'cv20l022', 'cv18j023', 'cv19k023', 'cv20l023', 'cv18j024', 'cv19k024', 'cv20l024', 'cv18j025', 'cv19k025', 'cv20l025', 'cv18j026', 'cv19k026', 'cv20l026', 'cv18j027', 'cv19k027', 'cv20l027', 'cv18j028', 'cv19k028', 'cv20l028', 'cv18j029', 'cv19k029', 'cv20l029', 'cv18j030', 'cv19k030', 'cv20l030', 'cv19k031', 'cv20l031', 'cv18j032', 'cv19k032', 'cv20l032', 'cv18j033', 'cv19k033', 'cv20l033', 'cv18j034', 'cv19k034', 'cv20l034', 'cv19k035', 'cv20l035', 'cv19k036', 'cv20l036', 'cv20l037', 'cv18j038', 'cv19k038', 'cv20l038', 'cv19k039', 'cv20l039', 'cv18j040', 'cv19k040', 'cv20l040', 'cv18j041', 'cv19k041', 'cv20l041', 'cv19k042', 'cv20l042', 'cv18j043', 'cv19k043', 'cv20l043', 'cv18j044', 'cv19k044', 'cv20l044', 'cv18j045', 'cv19k045', 'cv20l045', 'cv18j046', 'cv19k046', 'cv20l046', 'cv18j047', 'cv19k047', 'cv20l047', 'cv18j048', 'cv19k048', 'cv20l048', 'cv18j049', 'cv19k049', 'cv20l049', 'cv18j050', 'cv19k050', 'cv20l050', 'cv18j051', 'cv19k051', 'cv20l051', 'cv18j052', 'cv19k052', 'cv20l052', 'cv20l053', 'cv18j065', 'cv19k065', 'cv20l065', 'cv18j066', 'cv19k066', 'cv20l066', 'cv18j067', 'cv19k067', 'cv20l067', 'cv18j068', 'cv19k068', 'cv20l068', 'cv18j069', 'cv19k069', 'cv20l069', 'cv18j070', 'cv19k070', 'cv20l070', 'cv18j071', 'cv19k071', 'cv20l071', 'cv18j072', 'cv19k072', 'cv20l072', 'cv18j073', 'cv19k073', 'cv20l073', 'cv18j074', 'cv19k074', 'cv18j098', 'cv19k098', 'cv20l098', 'cv18j102', 'cv19k102', 'cv20l102', 'cv19k103', 'cv20l103', 'cv18j104', 'cv19k104', 'cv20l104', 'cv20l105', 'cv18j106', 'cv19k106', 'cv20l106', 'cv18j107', 'cv19k107', 'cv20l107', 'cv18j108', 'cv19k108', 'cv20l108', 'cv18j109', 'cv19k109', 'cv20l109', 'cv18j110', 'cv19k110', 'cv20l110', 'cv18j111', 'cv19k111', 'cv20l111', 'cv18j112', 'cv19k112', 'cv20l112', 'cv18j113', 'cv19k113', 'cv20l113', 'cv18j114', 'cv19k114', 'cv20l114', 'cv18j115', 'cv19k115', 'cv20l115', 'cv18j116', 'cv19k116', 'cv20l116', 'cv18j117', 'cv19k117', 'cv20l117', 'cv18j118', 'cv19k118', 'cv20l118', 'cv18j119', 'cv19k119', 'cv20l119', 'cv18j120', 'cv19k120', 'cv20l120', 'cv18j121', 'cv19k121', 'cv20l121', 'cv18j122', 'cv19k122', 'cv20l122', 'cv18j123', 'cv19k123', 'cv20l123', 'cv18j124', 'cv19k124', 'cv20l124', 'cv18j125', 'cv19k125', 'cv20l125', 'cv18j126', 'cv19k126', 'cv20l126', 'cv18j127', 'cv19k127', 'cv20l127', 'cv18j128', 'cv19k128', 'cv20l128', 'cv18j129', 'cv19k129', 'cv20l129', 'cv18j130', 'cv19k130', 'cv20l130', 'cv18j131', 'cv19k131', 'cv20l131', 'cv18j132', 'cv19k132', 'cv20l132', 'cv18j133', 'cv19k133', 'cv20l133', 'cv18j134', 'cv19k134', 'cv20l134', 'cv18j139', 'cv19k139', 'cv20l139', 'cv18j140', 'cv19k140', 'cv20l140', 'cv18j141', 'cv19k141', 'cv20l141', 'cv18j142', 'cv19k142', 'cv20l142', 'cv18j143', 'cv19k143', 'cv20l143', 'cv18j144', 'cv19k144', 'cv20l144', 'cv18j145', 'cv19k145', 'cv20l145', 'cv18j146', 'cv19k146', 'cv20l146', 'cv18j147', 'cv19k147', 'cv20l147', 'cv18j148', 'cv19k148', 'cv20l148', 'cv18j151', 'cv19k151', 'cv20l151', 'cv18j152', 'cv19k152', 'cv20l152', 'cv18j153', 'cv19k153', 'cv20l153', 'cv18j154', 'cv19k154', 'cv20l154', 'cv18j160', 'cv19k160', 'cv20l160', 'cv18j166', 'cv19k166', 'cv20l166', 'cv18j167', 'cv19k167', 'cv20l167', 'cv18j199', 'cv19k199', 'cv20l199', 'cv20l200', 'cv20l211', 'cv20l213', 'cv20l215', 'cv20l218', 'cv20l222', 'cv20l224', 'cv20l240', 'cv18j242', 'cv19k242', 'cv20l242', 'cv20l243', 'cv18j274', 'cv19k274', 'cv20l274', 'cv18j275', 'cv19k275', 'cv20l275', 'cv18j276', 'cv19k276', 'cv20l276', 'cv18j277', 'cv19k277', 'cv20l277', 'cv18j278', 'cv19k278', 'cv20l278', 'cv18j279', 'cv19k279', 'cv20l279', 'cv18j280', 'cv19k280', 'cv20l280', 'cv18j281', 'cv19k281', 'cv20l281', 'cv18j282', 'cv19k282', 'cv20l282', 'cv18j283', 'cv19k283', 'cv20l283', 'cv18j284', 'cv19k284', 'cv20l284', 'cv18j285', 'cv19k285', 'cv20l285', 'cv18j286', 'cv19k286', 'cv20l286', 'cv18j287', 'cv19k287', 'cv20l287', 'cv18j288', 'cv19k288', 'cv20l288', 'cv18j289', 'cv19k289', 'cv20l289', 'cv18j290', 'cv19k290', 'cv20l290', 'cv18j291', 'cv19k291', 'cv20l291', 'cv18j292', 'cv19k292', 'cv20l292', 'cv18j293', 'cv19k293', 'cv20l293', 'cv18j294', 'cv19k294', 'cv20l294', 'cv18j295', 'cv19k295', 'cv20l295', 'cv18j296', 'cv19k296', 'cv20l296', 'cv18j297', 'cv19k297', 'cv20l297', 'cv18j298', 'cv19k298', 'cv20l298', 'cv18j299', 'cv19k299', 'cv20l299', 'cv18j300', 'cv19k300', 'cv20l300', 'cv18j301', 'cv19k301', 'cv20l301', 'cv18j302', 'cv19k302', 'cv20l302', 'cv18j303', 'cv19k303', 'cv20l303', 'cr17j_m', 'cr18k_m', 'cr19l_m', 'cr20m_m', 'cr17j002', 'cr18k002', 'cr17j011', 'cr18k011', 'cr17j012', 'cr18k012', 'cr17j030', 'cr18k030', 'cr19l030', 'cr20m030', 'cr19l031', 'cr20m031', 'cr18k032', 'cr18k035', 'cr18k037', 'cr18k038', 'cr18k040', 'cr17j041', 'cr18k041', 'cr19l041', 'cr20m041', 'cr17j042', 'cr18k042', 'cr19l042', 'cr20m042', 'cr17j079', 'cr18k079', 'cr19l079', 'cr20m079', 'cr17j080', 'cr18k080', 'cr19l080', 'cr20m080', 'cr17j081', 'cr18k081', 'cr19l081', 'cr20m081', 'cr17j082', 'cr18k082', 'cr19l082', 'cr20m082', 'cr17j083', 'cr18k083', 'cr19l083', 'cr20m083', 'cr17j084', 'cr18k084', 'cr19l084', 'cr20m084', 'cr17j085', 'cr18k085', 'cr19l085', 'cr20m085', 'cr17j086', 'cr18k086', 'cr19l086', 'cr20m086', 'cr17j087', 'cr18k087', 'cr19l087', 'cr20m087', 'cr17j089', 'cr18k089', 'cr19l089', 'cr20m089', 'cr17j092', 'cr18k092', 'cr19l092', 'cr20m092', 'cr17j093', 'cr18k093', 'cr19l093', 'cr20m093', 'cr17j094', 'cr18k094', 'cr19l094', 'cr20m094', 'cr17j095', 'cr18k095', 'cr19l095', 'cr20m095', 'cr18k096', 'cr19l096', 'cr20m096', 'cr17j097', 'cr18k097', 'cr19l097', 'cr20m097', 'cr17j098', 'cr18k098', 'cr19l098', 'cr20m098', 'cr17j101', 'cr18k101', 'cr17j102', 'cr18k102', 'cr17j103', 'cr18k103', 'cr17j104', 'cr18k104', 'cr18k105', 'cr17j108', 'cr18k108', 'cr17j109', 'cr18k109', 'cr19l109', 'cr20m109', 'cr17j110', 'cr18k110', 'cr19l110', 'cr20m110', 'cr17j111', 'cr18k111', 'cr19l111', 'cr20m111', 'cr17j112', 'cr18k112', 'cr19l112', 'cr20m112', 'cr17j113', 'cr18k113', 'cr19l113', 'cr20m113', 'cr17j116', 'cr18k116', 'cr19l116', 'cr20m116', 'cr17j117', 'cr18k117', 'cr19l117', 'cr20m117', 'cr17j118', 'cr18k118', 'cr19l118', 'cr20m118', 'cr17j119', 'cr18k119', 'cr19l119', 'cr20m119', 'cr17j120', 'cr18k120', 'cr19l120', 'cr20m120', 'cr19l134', 'cr20m134', 'cr19l142', 'cr20m142', 'cr19l143', 'cr20m143', 'cr19l162', 'cr20m162', 'cr19l163', 'cr20m163', 'cr19l164', 'cr20m164', 'cr19l165', 'cr20m165', 'cr19l166', 'cr20m166', 'cr19l167', 'cr20m167', 'cr19l168', 'cr20m168', 'cr19l169', 'cr20m169', 'cr19l170', 'cr20m170', 'cr19l171', 'cr20m171', 'cr19l172', 'cr20m172', 'cr19l173', 'cr20m173', 'cr19l174', 'cr20m174', 'cr19l175', 'cr20m175', 'cr19l176', 'cr20m176', 'cr19l177', 'cr20m177', 'cr19l178', 'cr20m178', 'cr19l179', 'cr20m179', 'cs17j_m', 'cs18k_m', 'cs19l_m', 'cs20m_m', 'cs17j001', 'cs18k001', 'cs19l001', 'cs20m001', 'cs17j002', 'cs18k002', 'cs19l002', 'cs17j003', 'cs18k003', 'cs19l003', 'cs20m003', 'cs17j004', 'cs18k004', 'cs19l004', 'cs20m004', 'cs17j005', 'cs18k005', 'cs19l005', 'cs20m005', 'cs17j006', 'cs18k006', 'cs19l006', 'cs20m006', 'cs17j007', 'cs18k007', 'cs19l007', 'cs20m007', 'cs17j008', 'cs18k008', 'cs19l008', 'cs20m008', 'cs17j009', 'cs18k009', 'cs19l009', 'cs20m009', 'cs17j010', 'cs18k010', 'cs19l010', 'cs20m010', 'cs17j011', 'cs18k011', 'cs19l011', 'cs20m011', 'cs17j012', 'cs18k012', 'cs19l012', 'cs20m012', 'cs17j013', 'cs18k013', 'cs19l013', 'cs20m013', 'cs17j014', 'cs18k014', 'cs19l014', 'cs20m014', 'cs17j015', 'cs18k015', 'cs19l015', 'cs20m015', 'cs17j016', 'cs18k016', 'cs19l016', 'cs20m016', 'cs17j017', 'cs18k017', 'cs19l017', 'cs20m017', 'cs17j018', 'cs18k018', 'cs19l018', 'cs20m018', 'cs17j019', 'cs18k019', 'cs19l019', 'cs20m019', 'cs17j020', 'cs18k020', 'cs19l020', 'cs20m020', 'cs17j021', 'cs18k021', 'cs19l021', 'cs20m021', 'cs17j022', 'cs18k022', 'cs19l022', 'cs20m022', 'cs17j023', 'cs18k023', 'cs19l023', 'cs20m023', 'cs17j024', 'cs18k024', 'cs19l024', 'cs20m024', 'cs17j025', 'cs18k025', 'cs19l025', 'cs20m025', 'cs17j026', 'cs18k026', 'cs19l026', 'cs20m026', 'cs17j027', 'cs18k027', 'cs19l027', 'cs20m027', 'cs17j028', 'cs18k028', 'cs19l028', 'cs20m028', 'cs17j029', 'cs18k029', 'cs19l029', 'cs20m029', 'cs17j030', 'cs18k030', 'cs19l030', 'cs20m030', 'cs17j031', 'cs18k031', 'cs19l031', 'cs20m031', 'cs17j032', 'cs18k032', 'cs19l032', 'cs20m032', 'cs17j033', 'cs18k033', 'cs19l033', 'cs20m033', 'cs17j034', 'cs18k034', 'cs19l034', 'cs20m034', 'cs17j035', 'cs18k035', 'cs19l035', 'cs20m035', 'cs17j036', 'cs18k036', 'cs19l036', 'cs20m036', 'cs17j037', 'cs18k037', 'cs19l037', 'cs20m037', 'cs17j038', 'cs18k038', 'cs19l038', 'cs20m038', 'cs17j039', 'cs18k039', 'cs19l039', 'cs20m039', 'cs17j040', 'cs18k040', 'cs19l040', 'cs20m040', 'cs17j041', 'cs18k041', 'cs19l041', 'cs20m041', 'cs17j042', 'cs18k042', 'cs19l042', 'cs20m042', 'cs17j043', 'cs18k043', 'cs19l043', 'cs20m043', 'cs17j044', 'cs18k044', 'cs19l044', 'cs20m044', 'cs17j045', 'cs18k045', 'cs19l045', 'cs20m045', 'cs17j046', 'cs18k046', 'cs19l046', 'cs20m046', 'cs17j047', 'cs18k047', 'cs19l047', 'cs20m047', 'cs17j048', 'cs18k048', 'cs19l048', 'cs20m048', 'cs17j049', 'cs18k049', 'cs19l049', 'cs20m049', 'cs17j050', 'cs18k050', 'cs19l050', 'cs20m050', 'cs17j051', 'cs18k051', 'cs19l051', 'cs20m051', 'cs17j052', 'cs18k052', 'cs19l052', 'cs20m052', 'cs17j053', 'cs18k053', 'cs19l053', 'cs20m053', 'cs17j054', 'cs18k054', 'cs19l054', 'cs20m054', 'cs17j055', 'cs18k055', 'cs19l055', 'cs20m055', 'cs17j056', 'cs18k056', 'cs19l056', 'cs20m056', 'cs17j057', 'cs18k057', 'cs19l057', 'cs20m057', 'cs17j058', 'cs18k058', 'cs19l058', 'cs20m058', 'cs17j059', 'cs18k059', 'cs19l059', 'cs20m059', 'cs17j060', 'cs18k060', 'cs19l060', 'cs20m060', 'cs17j061', 'cs18k061', 'cs19l061', 'cs20m061', 'cs17j062', 'cs18k062', 'cs19l062', 'cs20m062', 'cs17j063', 'cs18k063', 'cs19l063', 'cs20m063', 'cs17j070', 'cs18k070', 'cs19l070', 'cs20m070', 'cs17j077', 'cs18k077', 'cs19l077', 'cs17j082', 'cs18k082', 'cs19l082', 'cs17j083', 'cs18k083', 'cs19l083', 'cs17j087', 'cs18k087', 'cs19l087', 'cs17j088', 'cs18k088', 'cs19l088', 'cs17j089', 'cs18k089', 'cs19l089', 'cs17j090', 'cs18k090', 'cs19l090', 'cs20m093', 'cs20m094', 'cs20m098', 'cs20m099', 'cs20m100', 'cs20m101', 'cs17j102', 'cs18k102', 'cs19l102', 'cs20m102', 'cs17j103', 'cs18k103', 'cs19l103', 'cs20m103', 'cs17j104', 'cs18k104', 'cs19l104', 'cs20m104', 'cs17j124', 'cs18k124', 'cs19l124', 'cs20m124', 'cs20m125', 'cs20m126', 'cs17j127', 'cs18k127', 'cs19l127', 'cs17j130', 'cs18k130', 'cs19l130', 'cs20m131', 'cs17j132', 'cs18k132', 'cs19l132', 'cs17j133', 'cs18k133', 'cs19l133', 'cs17j134', 'cs18k134', 'cs19l134', 'cs17j135', 'cs18k135', 'cs19l135', 'cs17j136', 'cs18k136', 'cs19l136', 'cs17j137', 'cs18k137', 'cs19l137', 'cs17j138', 'cs18k138', 'cs19l138', 'cs17j139', 'cs18k139', 'cs19l139', 'cs17j141', 'cs18k141', 'cs19l141', 'cs17j142', 'cs18k142', 'cs19l142', 'cs17j143', 'cs18k143', 'cs19l143', 'cs17j144', 'cs18k144', 'cs19l144', 'cs17j145', 'cs18k145', 'cs19l145', 'cs17j146', 'cs18k146', 'cs19l146', 'cs17j147', 'cs18k147', 'cs19l147', 'cs17j148', 'cs18k148', 'cs19l148', 'cs17j149', 'cs18k149', 'cs19l149', 'cs17j150', 'cs18k150', 'cs19l150', 'cs17j151', 'cs18k151', 'cs19l151', 'cs17j152', 'cs18k152', 'cs19l152', 'cs17j153', 'cs18k153', 'cs19l153', 'cs17j154', 'cs18k154', 'cs19l154', 'cs17j155', 'cs18k155', 'cs19l155', 'cs17j156', 'cs18k156', 'cs19l156', 'cs17j157', 'cs18k157', 'cs19l157', 'cs17j158', 'cs18k158', 'cs19l158', 'cs17j159', 'cs18k159', 'cs19l159', 'cs20m160', 'cs20m161', 'cs20m162', 'cs20m164', 'cs20m165', 'cs20m166', 'cs20m167', 'cs20m169', 'cs20m171', 'cs20m172', 'cs20m173', 'cs20m174', 'cs20m175', 'cs20m176', 'cs20m177', 'cs20m178', 'cs20m179', 'cs20m180', 'cs20m181', 'cs20m182', 'cs20m183', 'cs20m184', 'cs20m185', 'cs20m186', 'cs20m191', 'cs20m227', 'cs20m229', 'cs20m231', 'cs20m235', 'cs20m242', 'cs20m243', 'cs20m244', 'cs20m245', 'cs18k251', 'cs19l251', 'cs18k252', 'cs19l252', 'cs18k253', 'cs19l253', 'cs18k254', 'cs19l254', 'cs18k260', 'cs19l260', 'cs18k261', 'cs19l261', 'cs18k262', 'cs19l262', 'cs18k263', 'cs19l263', 'cs18k264', 'cs19l264', 'cs18k265', 'cs19l265', 'cs18k266', 'cs19l266', 'cs18k267', 'cs19l267', 'cs20m267', 'cs20m268', 'cs20m269', 'cs20m270', 'cs20m277', 'cs20m278', 'cs20m279', 'cs20m280', 'cs20m281', 'cs20m282', 'cs18k283', 'cs19l283', 'cs20m283', 'cs17j284', 'cs18k284', 'cs19l284', 'cs20m284', 'cs17j285', 'cs18k285', 'cs19l285', 'cs20m285', 'cs17j286', 'cs18k286', 'cs19l286', 'cs20m286', 'cs17j287', 'cs18k287', 'cs19l287', 'cs20m287', 'cs17j288', 'cs18k288', 'cs19l288', 'cs20m288', 'cs17j289', 'cs18k289', 'cs19l289', 'cs20m289', 'cs18k290', 'cs19l290', 'cs20m290', 'cs19l291', 'cs20m291', 'cs18k292', 'cs19l292', 'cs20m292', 'cs18k293', 'cs19l293', 'cs17j294', 'cs18k294', 'cs19l294', 'cs20m294', 'cs17j295', 'cs18k295', 'cs19l295', 'cs20m295', 'cs17j296', 'cs18k296', 'cs19l296', 'cs20m296', 'cs17j297', 'cs18k297', 'cs19l297', 'cs20m297', 'cs17j298', 'cs18k298', 'cs19l298', 'cs20m298', 'cs20m300', 'cs20m301', 'cs20m305', 'cs20m315', 'cs20m316', 'cs20m320', 'cs20m321', 'cs20m323', 'cs20m324', 'cs20m325', 'cs20m326', 'cs20m327', 'cs20m329', 'cs20m330', 'cs20m331', 'cs20m332', 'cs20m334', 'cs20m335', 'cs20m336', 'cs20m338', 'cs20m340', 'cs20m341', 'cs17j375', 'cs18k375', 'cs19l375', 'cs20m375', 'cs17j376', 'cs18k376', 'cs19l376', 'cs20m376', 'cs18k377', 'cs19l377', 'cs20m377', 'cs18k378', 'cs19l378', 'cs20m378', 'cs20m379', 'cs18k410', 'cs19l410', 'cs20m410', 'cs18k411', 'cs19l411', 'cs20m411', 'cs18k412', 'cs19l412', 'cs20m412', 'cs18k413', 'cs19l413', 'cs20m413', 'cs18k414', 'cs19l414', 'cs20m414', 'cs18k415', 'cs19l415', 'cs20m415', 'cs20m426', 'cs18k429', 'cs19l429', 'cs18k430', 'cs19l430', 'cs18k431', 'cs19l431', 'cs18k432', 'cs19l432', 'cs18k435', 'cs19l435', 'cs20m436', 'cs20m437', 'cs20m438', 'cs20m439', 'cs20m440', 'cs20m443', 'cs17j444', 'cs18k444', 'cs19l444', 'cs20m444', 'cs17j445', 'cs18k445', 'cs19l445', 'cs20m445', 'cs17j446', 'cs18k446', 'cs19l446', 'cs20m446', 'cs17j448', 'cs18k448', 'cs19l448', 'cs17j449', 'cs18k449', 'cs19l449', 'cs20m449', 'cs17j450', 'cs18k450', 'cs19l450', 'cs20m450', 'cs17j451', 'cs18k451', 'cs19l451', 'cs20m451', 'cs20m472', 'cs20m473', 'cs20m474', 'cs20m475', 'cs20m480', 'cs17j483', 'cs18k483', 'cs19l483', 'cs20m483', 'cs17j484', 'cs18k484', 'cs19l484', 'cs20m484', 'cs17j485', 'cs18k485', 'cs19l485', 'cs20m485', 'cs18k486', 'cs19l486', 'cs20m487', 'cs17j488', 'cs18k488', 'cs19l488', 'cs17j489', 'cs18k489', 'cs19l489', 'cs17j490', 'cs18k490', 'cs19l490', 'cs17j491', 'cs18k491', 'cs19l491', 'cs17j492', 'cs18k492', 'cs19l492', 'cs17j493', 'cs18k493', 'cs19l493', 'cs20m494', 'cs20m495', 'cs20m496', 'cs20m497', 'cs20m499', 'cs20m500', 'cs20m501', 'cs17j504', 'cs18k504', 'cs19l504', 'cs20m504', 'cs17j505', 'cs18k505', 'cs19l505', 'cs20m505', 'cs17j506', 'cs18k506', 'cs19l506', 'cs20m506', 'cs17j507', 'cs18k507', 'cs19l507', 'cs20m507', 'cs20m512', 'cs17j514', 'cs18k514', 'cs19l514', 'cs17j515', 'cs18k515', 'cs19l515', 'cs20m516', 'cs20m517', 'cs17j518', 'cs18k518', 'cs19l518', 'cs20m523', 'cs20m524', 'cs20m525', 'cs20m526', 'cs20m527', 'cs20m568', 'cs20m569', 'cs20m570', 'cs20m571', 'cs20m572', 'cs20m577', 'cs20m578', 'cs20m579', 'cs20m580', 'cs20m581', 'cs20m585', 'cs20m587', 'cs20m588', 'cs20m589', 'cs20m594', 'cs20m596', 'cs20m598', 'cw18k000', 'cw19l000', 'cw20m000', 'cw18k_m', 'cw19l_m', 'cw20m_m', 'cw18k001', 'cw19l001', 'cw20m001', 'cw18k002', 'cw19l002', 'cw20m002', 'cw18k003', 'cw19l003', 'cw20m003', 'cw18k004', 'cw18k005', 'cw20m005', 'cw18k008', 'cw19l008', 'cw20m008', 'cw18k011', 'cw19l011', 'cw20m011', 'cw18k012', 'cw19l012', 'cw20m012', 'cw18k013', 'cw19l013', 'cw20m013', 'cw18k014', 'cw19l014', 'cw20m014', 'cw18k015', 'cw19l015', 'cw20m015', 'cw18k016', 'cw19l016', 'cw20m016', 'cw18k017', 'cw19l017', 'cw20m017', 'cw18k018', 'cw19l018', 'cw20m018', 'cw18k019', 'cw19l019', 'cw20m019', 'cw18k020', 'cw19l020', 'cw20m020', 'cw18k021', 'cw19l021', 'cw20m021', 'cw18k022', 'cw19l022', 'cw20m022', 'cw18k023', 'cw19l023', 'cw20m023', 'cw18k024', 'cw19l024', 'cw20m024', 'cw18k025', 'cw19l025', 'cw20m025', 'cw18k026', 'cw19l026', 'cw20m026', 'cw18k027', 'cw19l027', 'cw20m027', 'cw18k028', 'cw19l028', 'cw20m035', 'cw18k088', 'cw19l088', 'cw20m088', 'cw18k089', 'cw19l089', 'cw20m089', 'cw18k090', 'cw19l090', 'cw20m090', 'cw18k091', 'cw19l091', 'cw20m091', 'cw18k092', 'cw19l092', 'cw20m092', 'cw18k093', 'cw19l093', 'cw20m093', 'cw18k094', 'cw19l094', 'cw20m094', 'cw18k095', 'cw19l095', 'cw20m095', 'cw18k096', 'cw19l096', 'cw20m096', 'cw18k097', 'cw19l097', 'cw20m097', 'cw18k098', 'cw19l098', 'cw20m098', 'cw18k099', 'cw19l099', 'cw20m099', 'cw18k100', 'cw19l100', 'cw20m100', 'cw18k101', 'cw19l101', 'cw20m101', 'cw18k102', 'cw19l102', 'cw20m102', 'cw20m114', 'cw20m115', 'cw20m116', 'cw20m117', 'cw20m118', 'cw20m121', 'cw20m122', 'cw20m123', 'cw20m127', 'cw20m146', 'cw20m188', 'cw20m291', 'cw20m292', 'cw20m293', 'cw20m294', 'cw20m295', 'cw20m296', 'cw20m297', 'cw20m298', 'cw20m299', 'cw20m300', 'cw20m301', 'cw20m302', 'cw20m303', 'cw20m304', 'cw20m305', 'cw20m306', 'cw20m402', 'cw20m404', 'cw20m405', 'cw20m409', 'cw20m412', 'cw20m413', 'cw20m414', 'cw20m415', 'cw20m416', 'cw20m417', 'cw20m418', 'cw20m419', 'cw20m420', 'cw20m421', 'cw20m422', 'cw20m423', 'cw20m424', 'cw20m425', 'cw20m426', 'cw20m427', 'cw20m428', 'cw20m429', 'cw20m430', 'cw20m431', 'cw20m432', 'cw20m433', 'cw20m435', 'cw18k450', 'cw19l450', 'cw20m450', 'cw18k496', 'cw19l496', 'cw20m496', 'cw18k497', 'cw19l497', 'cw20m497', 'cw18k498', 'cw19l498', 'cw20m498', 'cw18k499', 'cw19l499', 'cw20m499', 'cw18k500', 'cw19l500', 'cw20m500', 'cw18k501', 'cw19l501', 'cw20m501', 'cw18k502', 'cw19l502', 'cw20m502', 'cw18k503', 'cw19l503', 'cw20m503', 'cw18k504', 'cw19l504', 'cw20m504', 'cw18k505', 'cw19l505', 'cw20m505', 'cw20m511', 'cw18k522', 'cw19l522', 'cw20m522', 'cw18k523', 'cw19l523', 'cw20m523', 'cw18k525', 'cw19l525', 'cw20m525', 'cw19l572', 'cw20m572', 'cw19l576', 'cw20m576', 'cw20m611', 'birthyear_bg', 'gender_bg', 'migration_background_bg', 'age_bg', 'belbezig_2017', 'belbezig_2018', 'belbezig_2019', 'belbezig_2020', 'brutohh_f_2017', 'brutohh_f_2018', 'brutohh_f_2019', 'brutohh_f_2020', 'brutoink_f_2017', 'brutoink_f_2018', 'brutoink_f_2019', 'brutoink_f_2020', 'burgstat_2017', 'burgstat_2018', 'burgstat_2019', 'burgstat_2020', 'netinc_2020', 'nettohh_f_2017', 'nettohh_f_2018', 'nettohh_f_2019', 'nettohh_f_2020', 'nettoink_2017', 'nettoink_2018', 'nettoink_2019', 'nettoink_2020', 'nettoink_f_2017', 'nettoink_f_2018', 'nettoink_f_2019', 'nettoink_f_2020', 'oplcat_2017', 'oplcat_2018', 'oplcat_2019', 'oplcat_2020', 'oplmet_2017', 'oplmet_2018', 'oplmet_2019', 'oplmet_2020', 'oplzon_2017', 'oplzon_2018', 'oplzon_2019', 'oplzon_2020', 'partner_2017', 'partner_2018', 'partner_2019', 'partner_2020', 'sted_2017', 'sted_2018', 'sted_2019', 'sted_2020', 'woning_2017', 'woning_2018', 'woning_2019', 'woning_2020', 'woonvorm_2017', 'woonvorm_2018', 'woonvorm_2019', 'woonvorm_2020']\n"
          ]
        }
      ],
      "source": [
        "columns_list = df_supervised_filtered.columns.tolist()\n",
        "print(columns_list)"
      ]
    },
    {
      "cell_type": "code",
      "execution_count": null,
      "metadata": {
        "colab": {
          "base_uri": "https://localhost:8080/"
        },
        "id": "u9b7mnk9Qp0-",
        "outputId": "53408199-9a44-4f1d-b376-7b4c723ed197"
      },
      "outputs": [
        {
          "name": "stdout",
          "output_type": "stream",
          "text": [
            "Number of numeric columns: 2636\n"
          ]
        }
      ],
      "source": [
        "numeric_columns = df_supervised_filtered.select_dtypes(include='number').columns\n",
        "df_supervised_numeric = df_supervised_filtered[numeric_columns]\n",
        "print(\"Number of numeric columns:\", len(df_supervised_numeric.columns))"
      ]
    },
    {
      "cell_type": "code",
      "execution_count": null,
      "metadata": {
        "colab": {
          "base_uri": "https://localhost:8080/"
        },
        "id": "mujxNvHdQgib",
        "outputId": "3a90ef23-13a8-4b4f-fbd8-c446d41c504e"
      },
      "outputs": [
        {
          "name": "stdout",
          "output_type": "stream",
          "text": [
            "Number of NaN values after imputation:\n",
            "nomem_encr           0\n",
            "outcome_available    0\n",
            "cf17j_m              0\n",
            "cf18k_m              0\n",
            "cf19l_m              0\n",
            "                    ..\n",
            "woning_2020          0\n",
            "woonvorm_2017        0\n",
            "woonvorm_2018        0\n",
            "woonvorm_2019        0\n",
            "woonvorm_2020        0\n",
            "Length: 2636, dtype: int64\n"
          ]
        }
      ],
      "source": [
        "from sklearn.impute import SimpleImputer\n",
        "\n",
        "imputer = SimpleImputer(strategy='mean')\n",
        "df_supervised_imputed = pd.DataFrame(imputer.fit_transform(df_supervised_numeric), columns=df_supervised_numeric.columns)\n",
        "print(\"Number of NaN values after imputation:\")\n",
        "print(df_supervised_imputed.isna().sum())"
      ]
    },
    {
      "cell_type": "code",
      "execution_count": null,
      "metadata": {
        "id": "zlEge3K7RWVt"
      },
      "outputs": [],
      "source": [
        "outcome = pd.read_csv(\"PreFer_train_outcome.csv\")\n",
        "outcome_supervised = outcome.dropna()['new_child']"
      ]
    },
    {
      "cell_type": "code",
      "execution_count": null,
      "metadata": {
        "colab": {
          "base_uri": "https://localhost:8080/",
          "height": 447
        },
        "id": "wf-y619zVl7j",
        "outputId": "69d00b11-723b-40cf-fd4d-3e7c322767f8"
      },
      "outputs": [
        {
          "name": "stdout",
          "output_type": "stream",
          "text": [
            "775 212\n"
          ]
        },
        {
          "data": {
            "image/png": "[encoded data removed]",
            "text/plain": [
              "<Figure size 640x480 with 1 Axes>"
            ]
          },
          "metadata": {},
          "output_type": "display_data"
        }
      ],
      "source": [
        "import matplotlib.pyplot as plt\n",
        "plt.hist(outcome_supervised)\n",
        "print(sum(outcome_supervised < 0.5), sum(outcome_supervised > 0.5))"
      ]
    },
    {
      "cell_type": "code",
      "execution_count": null,
      "metadata": {
        "colab": {
          "base_uri": "https://localhost:8080/"
        },
        "id": "tL8o6PV5WKeZ",
        "outputId": "6956c5ba-3f60-4c08-e92d-3b0bcdfb90b6"
      },
      "outputs": [
        {
          "data": {
            "text/plain": [
              "4.65566037735849"
            ]
          },
          "execution_count": 34,
          "metadata": {},
          "output_type": "execute_result"
        }
      ],
      "source": [
        "1 / (212/(775+212))"
      ]
    },
    {
      "cell_type": "code",
      "execution_count": null,
      "metadata": {
        "colab": {
          "base_uri": "https://localhost:8080/"
        },
        "id": "9L6qrkP5RlXG",
        "outputId": "2da43f85-fcee-42bd-dde1-ed1e1427b832"
      },
      "outputs": [
        {
          "name": "stdout",
          "output_type": "stream",
          "text": [
            "4       0.0\n",
            "8       1.0\n",
            "18      0.0\n",
            "19      0.0\n",
            "35      0.0\n",
            "       ... \n",
            "5975    1.0\n",
            "5981    0.0\n",
            "5984    1.0\n",
            "6105    0.0\n",
            "6216    1.0\n",
            "Name: new_child, Length: 987, dtype: float64\n"
          ]
        }
      ],
      "source": [
        "print(outcome_supervised)"
      ]
    },
    {
      "cell_type": "code",
      "execution_count": null,
      "metadata": {
        "colab": {
          "base_uri": "https://localhost:8080/"
        },
        "id": "mn3AmZGHQ1zj",
        "outputId": "2bcf1871-7bf8-4eaa-dd5a-2f484a4cdf60"
      },
      "outputs": [
        {
          "name": "stdout",
          "output_type": "stream",
          "text": [
            "Accuracy: 0.7373737373737373\n",
            "\n",
            "Classification Report:\n",
            "               precision    recall  f1-score   support\n",
            "\n",
            "         0.0       0.74      1.00      0.85        73\n",
            "         1.0       0.00      0.00      0.00        26\n",
            "\n",
            "    accuracy                           0.74        99\n",
            "   macro avg       0.37      0.50      0.42        99\n",
            "weighted avg       0.54      0.74      0.63        99\n",
            "\n"
          ]
        },
        {
          "name": "stderr",
          "output_type": "stream",
          "text": [
            "/usr/local/lib/python3.10/dist-packages/sklearn/metrics/_classification.py:1344: UndefinedMetricWarning: Precision and F-score are ill-defined and being set to 0.0 in labels with no predicted samples. Use `zero_division` parameter to control this behavior.\n",
            "  _warn_prf(average, modifier, msg_start, len(result))\n",
            "/usr/local/lib/python3.10/dist-packages/sklearn/metrics/_classification.py:1344: UndefinedMetricWarning: Precision and F-score are ill-defined and being set to 0.0 in labels with no predicted samples. Use `zero_division` parameter to control this behavior.\n",
            "  _warn_prf(average, modifier, msg_start, len(result))\n",
            "/usr/local/lib/python3.10/dist-packages/sklearn/metrics/_classification.py:1344: UndefinedMetricWarning: Precision and F-score are ill-defined and being set to 0.0 in labels with no predicted samples. Use `zero_division` parameter to control this behavior.\n",
            "  _warn_prf(average, modifier, msg_start, len(result))\n"
          ]
        }
      ],
      "source": [
        "from sklearn.model_selection import train_test_split\n",
        "from sklearn.linear_model import LogisticRegression\n",
        "from sklearn.metrics import classification_report, accuracy_score\n",
        "\n",
        "X = df_supervised_imputed\n",
        "y = outcome_supervised\n",
        "X_train, X_test, y_train, y_test = train_test_split(X, y, test_size=0.1, random_state=42)\n",
        "\n",
        "model = LogisticRegression()\n",
        "model.fit(X_train, y_train)\n",
        "\n",
        "y_pred = model.predict(X_test)\n",
        "\n",
        "print(\"Accuracy:\", accuracy_score(y_test, y_pred))\n",
        "print(\"\\nClassification Report:\\n\", classification_report(y_test, y_pred))"
      ]
    },
    {
      "cell_type": "code",
      "execution_count": null,
      "metadata": {
        "colab": {
          "base_uri": "https://localhost:8080/"
        },
        "id": "MvHYUfuUVPAO",
        "outputId": "313a9ae0-480b-466d-b3d5-a1570e85d143"
      },
      "outputs": [
        {
          "name": "stdout",
          "output_type": "stream",
          "text": [
            "Accuracy: 0.6565656565656566\n",
            "\n",
            "Classification Report:\n",
            "               precision    recall  f1-score   support\n",
            "\n",
            "           0       0.73      0.85      0.78        73\n",
            "           1       0.21      0.12      0.15        26\n",
            "\n",
            "    accuracy                           0.66        99\n",
            "   macro avg       0.47      0.48      0.47        99\n",
            "weighted avg       0.59      0.66      0.62        99\n",
            "\n"
          ]
        }
      ],
      "source": [
        "import torch\n",
        "import torch.nn as nn\n",
        "import torch.optim as optim\n",
        "from torch.utils.data import DataLoader, TensorDataset\n",
        "from sklearn.preprocessing import StandardScaler\n",
        "from sklearn.metrics import classification_report, accuracy_score\n",
        "\n",
        "# Convert data to PyTorch tensors\n",
        "X_train_tensor = torch.tensor(X_train.values, dtype=torch.float32)\n",
        "y_train_tensor = torch.tensor(y_train.values, dtype=torch.long)\n",
        "X_test_tensor = torch.tensor(X_test.values, dtype=torch.float32)\n",
        "y_test_tensor = torch.tensor(y_test.values, dtype=torch.long)\n",
        "\n",
        "# Standardize the data\n",
        "scaler = StandardScaler()\n",
        "X_train_scaled = scaler.fit_transform(X_train)\n",
        "X_test_scaled = scaler.transform(X_test)\n",
        "\n",
        "# Define a simple neural network\n",
        "class SimpleNN(nn.Module):\n",
        "    def __init__(self, input_size):\n",
        "        super(SimpleNN, self).__init__()\n",
        "        self.fc1 = nn.Linear(input_size, 128)\n",
        "        self.fc2 = nn.Linear(128, 64)\n",
        "        self.fc3 = nn.Linear(64, 2)\n",
        "\n",
        "    def forward(self, x):\n",
        "        x = torch.relu(self.fc1(x))\n",
        "        x = torch.relu(self.fc2(x))\n",
        "        x = self.fc3(x)\n",
        "        return x\n",
        "\n",
        "# Initialize the model, loss function, and optimizer\n",
        "input_size = X_train.shape[1]\n",
        "model = SimpleNN(input_size)\n",
        "criterion = nn.CrossEntropyLoss(weight=torch.tensor([1, 4.65566]))\n",
        "optimizer = optim.Adam(model.parameters(), lr=0.001)\n",
        "\n",
        "train_dataset = TensorDataset(X_train_tensor, y_train_tensor)\n",
        "train_loader = DataLoader(train_dataset, batch_size=64, shuffle=True)\n",
        "\n",
        "num_epochs = 50\n",
        "for epoch in range(num_epochs):\n",
        "  for inputs, labels in train_loader:\n",
        "    optimizer.zero_grad()\n",
        "    outputs = model(inputs)\n",
        "    loss = criterion(outputs, labels)\n",
        "    loss.backward()\n",
        "    optimizer.step()\n",
        "\n",
        "with torch.no_grad():\n",
        "  model.eval()\n",
        "  outputs = model(X_test_tensor)\n",
        "  _, predicted = torch.max(outputs, 1)\n",
        "  acc = accuracy_score(y_test_tensor, predicted)\n",
        "  report = classification_report(y_test_tensor, predicted)\n",
        "\n",
        "print(\"Accuracy:\", acc)\n",
        "print(\"\\nClassification Report:\\n\", report)\n"
      ]
    },
    {
      "cell_type": "markdown",
      "metadata": {
        "id": "BWhzSQT8Vh_I"
      },
      "source": [
        "I'm pretty sure LR is just outputing 0's and the DL is just not that good really so maybe we need to use supplementary data"
      ]
    },
    {
      "cell_type": "markdown",
      "metadata": {
        "id": "oRGlRmm0K3xa"
      },
      "source": [
        "# Setup for Below"
      ]
    },
    {
      "cell_type": "code",
      "execution_count": null,
      "metadata": {
        "id": "TGMJk4yXK5St"
      },
      "outputs": [],
      "source": [
        "import pandas as pd\n",
        "import matplotlib.pyplot as plt\n",
        "import numpy as np\n",
        "from sklearn.impute import SimpleImputer\n",
        "# from sklearn.decomposition import PCA\n",
        "from sklearn.model_selection import train_test_split\n",
        "from sklearn.metrics import classification_report, accuracy_score\n",
        "from sklearn.metrics import confusion_matrix"
      ]
    },
    {
      "cell_type": "code",
      "execution_count": null,
      "metadata": {
        "colab": {
          "base_uri": "https://localhost:8080/"
        },
        "id": "EwbBs7MyK7V0",
        "outputId": "2db4094a-6bc7-4af9-ecb2-97f2f4e31d8f"
      },
      "outputs": [
        {
          "name": "stderr",
          "output_type": "stream",
          "text": [
            "/var/folders/2s/7lws4hcj38g_153307sxm35h0000gn/T/ipykernel_29201/3888584923.py:1: DtypeWarning: Columns (2583,2584,2585,2586,2587,2588,2589,4358,4359,4360,4361,4362,4363,4364,4365,4366,4367,4368,4369,4370,4371,4372,4373,4374,4375,4379,4380,4381,4382,4383,4384,4385,4386,4387,4388,4389,4390,4391,4392,4393,4394,4395,4396,4397,4398,4399,4400,4401,4405,4406,4407,4408,4409,5215,5216,5219,5220,5613,5614,5615,5616,5617,5618,5619,5620,5621,5622,5624,5625,5626,5627,5628,5629,5630,5631,5632,5633,5634,5635,5636,5638,5639,5640,5787,5788,5789,5790,5791,5792,5793,5794,5795,5796,6393,6394,6395,6396,6397,6398,6399,6400,6401,6402,6403,6619,6620,6621,6622,6623,6624,6625,6626,6627,6628,6629,6630,6631,6632,6633,6634,6635,6638,6640,6641,6642,6643,6644,6645,6646,6647,6648,6649,6650,6651,6652,6653,6654,6655,6656,6657,6658,6659,6660,6661,6664,6666,6667,6668,6669,6670,6965,6966,6967,6968,6969,6970,6971,6972,6973,6974,6975,7064,7065,7066,7067,7068,7069,7070,7071,7072,7073,7074,7163,7164,7165,7166,7167,7168,7169,7170,7171,7172,7408,7409,7410,7411,7412,7413,7414,7415,7416,7417,7418,7419,7420,8818,8819,8820,8821,8822,8823,8824,8825,8826,8827,8828,9989,9990,9991,9992,9993,9994,9995,9996,9997,9998,9999,10065,10066,10067,10068,10069,10070,10071,10072,10073,10074,10075,10076,10077,10078,10079,10080,10081,10082,10083,10085,10086,10087,10088,10089,10090,10091,10092,10093,10094,10095,10096,10097,10098,10099,10100,10101,10102,10103,10104,10105,10106,10107,10108,10109,10111,10112,10113,10114,10115,10116,10340,10341,10342,10343,10344,10736,10737,10738,10739,10740,10741,10742,10743,10744,10745,10746,10747,10748,11896,11897,11898,11899,11900,11901,11902,11903,11904,11905,11906,11907,12168,12169,12170,12171,12172,12173,12174,12175,12176,12177,12178,12179,12180,12181,12182,12183,12184,12185,12186,12187,12188,12189,12190,12191,12192,12193,13339,13340,13341,13342,13343,13344,13345,13346,13347,13348,13349,13488,13489,13490,13491,13492,13493,13494,13495,13496,13497,13498,13499,13500,13501,13502,13506,13507,13510,13511,13512,13513,13514,13515,13516,13517,13518,13519,13520,13521,13522,13523,13524,13525,13526,13530,13531,13534,13535,15787,15788,15789,15790,15791,15792,15793,15794,15795,15796,15797,15798,15799,15800,15801,15802,15805,15808,15809,15810,15811,15812,15813,15814,15815,15816,15817,15818,15819,15820,15821,15822,15823,15824,15825,15826,15829,15832,15833,15834,15951,15952,16600,16601,16602,16606,16607,16608,16612,16613,16754,16755,16756,16757,16758,16759,16760,16761,16762,16763,16764,16765,16848,17490,17491,17492,17493,17494,17495,17496,17497,17498,17499,17500,17501,17505,17506,17507,17508,17509,17510,17511,17512,17513,17514,17515,17516,17517,17521,17548,17549,17550,17551,17552,17553,17554,17555,17556,17559,17560,17563,17564,17605,17608,17628,17630,17644,17645,17646,17647,17648,17649,17650,17654,17655,17656,17657,17658,17659,17660,17797,17798,17799,17800,17801,17802,17807,17808,17809,17810,17811,17812,17813,17820,17821,17824,17914,17915,17916,17917,17980,17981,17982,17983,17984,17985,17986,17987,17988,17989,17990,17991,17992,17993,17994,17995,17996,17997,17998,17999,18000,18001,18002,18003,18004,18005,18006,18007,18008,18009,18010,18011,18012,18013,18014,18015,18055,18056,18057,18058,18059,18060,18061,18062,18063,18064,18065,18066,18067,18068,18069,18070,18071,18072,18073,18074,18075,18076,18077,18078,18079,18080,18081,18082,18083,18084,18085,18086,18087,18088,18089,18090,18091,18092,18093,18094,18095,18096,18097,18098,18099,18100,18101,18102,18103,18104,18105,18106,18107,18108,18109,18110,18111,18112,18197,18198,18199,18200,18201,18202,18204,18205,18206,18207,18208,18209,18210,18211,18212,18213,18215,18216,18217,18218,18219,18220,18221,18222,18223,18224,18225,18226,18227,18228,18229,18239,18241,18242,18243,18244,18245,18246,18247,18248,18249,18250,18251,18311,18317,18318,18319,18320,18322,18324,18329,18330,18331,18332,18333,18334,18335,18336,18337,18338,18339,18340,18341,18345,18347,18349,18351,18352,18353,18354,18355,18356,18357,18358,18359,18360,18361,18407,18409,18414,18416,18428,18429,18430,18431,18432,18433,18434,18435,18436,18437,18438,18441,18450,18451,18452,18453,18454,18455,18456,18457,18458,18459,18460,18744,18745,18746,18747,18748,18749,18750,18751,18752,18753,18754,18755,18756,18783,18784,18785,18786,18787,18788,18789,18790,18791,18792,18793,18794,18795,19062,19063,19064,19065,19066,19067,19068,19069,19070,19071,19072,19073,19074,19075,19076,19077,19078,19082,19083,19084,19085,19086,19087,19088,19089,19090,19091,19092,19093,19094,19095,19096,19097,19098,19099,19100,19101,19102,19103,19104,19108,19109,19110,19111,19112,19113,19141,19142,19143,19144,19145,19146,19147,19148,19149,19150,19160,19161,19162,19163,19164,19165,19166,19167,19168,19169,19170,19189,19190,19227,19228,20075,20076,20077,20078,20079,20080,20081,20082,20083,20084,20085,20086,20087,20165,20166,20167,20168,20169,20170,20171,20172,20173,20174,20175,20176,20177,20241,20242,20243,20244,20245,20246,20247,20248,20249,20250,20251,20252,20757,20758,20759,20760,20761,20762,20763,20764,20765,20766,20767,20768,20769,23130,23131,23132,23133,23134,23135,23136,23137,23138,23139,23140,23141,23142,23272,23273,23274,23275,23276,23277,23278,23279,23280,23281,23282,23283,23284,23414,23415,23416,23417,23418,23419,23420,23421,23422,23423,23424,23425,23426,23556,23557,23558,23559,23560,23561,23562,23563,23564,23565,23566,23567,23568,23698,23699,23700,23701,23702,23703,23704,23705,23706,23707,23708,23709,23710,23814,23815,23816,23817,23818,23819,23820,23821,23822,23823,23824,23825,23826,23827,23828,23829,23830,23835,23836,23837,23838,23839,23840,23841,23842,23843,23844,23845,23846,23847,23848,23849,23850,23851,23852,23853,23854,23855,23856,23861,23862,23863,23864,23865,24683,24684,24685,24686,24687,24688,24746,24747,24748,24749,24750,24751,24752,24974,24975,24976,24977,24978,24979,24980,24981,24982,24983,24984,24985,24986,24995,25003,25153,25154,25155,25156,25157,25158,25159,25160,25161,25162,25163,25190,25191,25192,25193,25194,25195,25196,25197,25198,25199,25200,25434,25435,25436,25437,25438,25439,25440,25441,25442,25443,25444,25445,25446,25530,25531,25532,25533,25534,25535,25536,25537,25538,25539,25540,25575,25576,25577,25578,25579,25580,25581,25582,25583,25584,25585,25658,25659,25660,25661,25662,25663,25664,25665,25666,25667,25668,25693,25694,25695,25696,25697,25698,25699,25700,25701,25702,25703,25728,25729,25730,25731,25732,25733,25734,25735,25736,25737,25738,25772,25773,25774,25775,25776,25777,25778,25779,25780,25781,25782,25849,25850,25851,25852,25853,25854,25855,25856,25857,25858,25859,25882,25883,25884,25886,25887,25888,25889,25890,25891,25892,25915,25916,25917,25918,25919,25920,25921,25922,25923,25924,25925,25959,25960,25961,25962,25963,25964,25965,25966,25967,25968,25969,26036,26037,26038,26039,26040,26041,26042,26044,26045,26046,26069,26070,26071,26072,26074,26075,26076,26077,26078,26079,26413,26414,26415,26416,26417,26418,26419,26420,26421,26422,26423,26424,26425,26865,26866,26867,26868,26869,26870,26871,26872,26873,26874,26875,26876,26877,26914,26915,26916,26917,26918,26919,26920,26921,26922,26923,26924,26925,26926,26963,26964,26965,26966,26967,26968,26969,26970,26971,26972,26973,26974,26975,27012,27015,27017,27018,27019,27020,27022,27023,27024,27061,27066,27068,27069,27070,27071,27073,27115,27118,27119,27120,27122,27164,27167,27168,27169,27171,27213,27216,27217,27218,27265,27266,27314,27810,27811,27812,27813,27814,27815,27816,27817,27818,27819,27820,27821,27822,27823,27824,27825,27826,27827,27828,27829,27830,27831,27832,27833,27834,27835,27839,27842,27844,27845,27846,27847,27848,27859,27861,27872,30979,30980,30981,30982,30983,30984,30985,30986,30987,30988,30989,30990,30991,30992,30993,30994,30995,30996,30999,31000,31001,31002,31003,31004,31005,31006,31007,31008,31009,31010,31011,31012,31013,31014,31015,31016,31017,31018,31019,31020,31021,31022,31025,31026,31027,31028,31029,31030) have mixed types. Specify dtype option on import or set low_memory=False.\n",
            "  df_train = pd.read_csv(\"training_data/PreFer_train_data.csv\")\n",
            "/var/folders/2s/7lws4hcj38g_153307sxm35h0000gn/T/ipykernel_29201/3888584923.py:2: DtypeWarning: Columns (2583,2584,2585,2586,2587,2588,2589,5215,5216,5219,5220,5786,5787,5788,5793,5794,6081,6082,6083,6393,6394,6395,6396,6397,6398,6399,6400,6401,6402,6403,6480,6481,6482,6483,6484,6485,6486,6487,6488,6489,6490,6531,6532,6533,6534,6535,6965,6966,6967,6968,6969,6970,6971,6972,6973,6974,6975,7064,7065,7066,7067,7068,7069,7070,7071,7072,7073,7074,7163,7164,7165,7166,7167,7168,7170,7171,7172,7173,7408,7409,7410,7411,7412,7413,7414,7415,7416,7417,7418,7419,7420,8818,8819,8820,8821,8822,8823,8824,8825,8826,8827,8828,9989,9990,9991,9992,9993,9994,9995,9996,9997,9998,9999,10338,10736,10737,10738,10739,10740,10741,10742,10743,10744,10746,10747,10748,11896,11897,11898,11899,11900,11901,11902,11903,11904,11905,11906,11907,12168,12169,12170,12171,12172,12173,12174,12175,12176,12177,12178,12179,12180,12181,12182,12183,12184,12185,12186,12187,12188,12189,12190,12191,12192,12193,13339,13340,13341,13342,13343,13344,13345,13346,13347,13348,13349,16600,16601,16602,16606,16607,16608,16612,16613,16614,16754,16755,16756,16757,16758,16759,16760,16761,16762,16763,16764,16765,16847,16848,16849,17548,17549,17550,17551,17552,17553,17554,17555,17556,17559,17560,17563,17564,17605,17606,17608,17628,17630,17644,17645,17646,17647,17648,17649,17650,17654,17655,17656,17657,17658,17659,17660,17796,17797,17798,17799,17800,17801,17802,17807,17808,17809,17810,17811,17812,17813,17818,17819,17820,17821,17822,17823,17824,17914,17915,17916,17917,18056,18057,18058,18059,18060,18061,18062,18063,18064,18065,18066,18067,18068,18069,18071,18072,18073,18074,18075,18076,18077,18078,18079,18080,18081,18082,18083,18084,18085,18086,18087,18088,18089,18090,18091,18092,18093,18094,18095,18096,18097,18098,18099,18100,18101,18102,18103,18104,18105,18106,18107,18108,18109,18110,18111,18112,18197,18198,18199,18200,18201,18202,18203,18204,18205,18206,18207,18208,18209,18210,18211,18212,18213,18214,18215,18216,18217,18218,18219,18220,18221,18222,18223,18224,18225,18226,18227,18228,18229,18230,18233,18234,18235,18241,18242,18243,18244,18245,18246,18248,18249,18250,18251,18307,18308,18309,18310,18311,18312,18314,18315,18316,18317,18318,18322,18323,18325,18329,18330,18331,18332,18333,18334,18335,18336,18337,18338,18339,18340,18341,18342,18348,18349,18350,18351,18352,18353,18354,18355,18356,18357,18358,18359,18360,18361,18406,18407,18408,18409,18411,18412,18413,18414,18415,18416,18417,18421,18423,18427,18428,18429,18430,18431,18432,18433,18434,18435,18436,18437,18438,18439,18446,18450,18451,18452,18453,18454,18456,18457,18458,18459,18460,18744,18745,18746,18747,18748,18749,18750,18751,18752,18753,18754,18755,18756,18783,18784,18785,18786,18787,18788,18789,18790,18791,18792,18793,18794,18795,19141,19142,19143,19144,19145,19146,19147,19148,19149,19150,19161,19162,19163,19164,19165,19166,19167,19168,19169,19170,19189,19190,19227,19228,20075,20076,20077,20078,20079,20080,20081,20082,20083,20084,20085,20086,20087,20165,20166,20167,20168,20169,20170,20171,20172,20173,20174,20175,20176,20177,20241,20242,20243,20244,20245,20246,20247,20248,20249,20250,20251,20252,20757,20758,20759,20760,20761,20762,20763,20764,20765,20766,20767,20768,20769,23130,23131,23132,23133,23134,23135,23136,23137,23138,23139,23140,23141,23142,23272,23273,23274,23275,23276,23277,23278,23279,23280,23281,23282,23283,23284,23414,23415,23416,23417,23418,23419,23420,23421,23422,23423,23424,23425,23426,23556,23557,23558,23559,23560,23561,23562,23563,23564,23565,23566,23567,23568,23698,23699,23700,23701,23702,23703,23704,23705,23706,23707,23708,23709,23710,24683,24684,24685,24686,24687,24688,24746,24747,24748,24749,24750,24751,24752,24974,24975,24976,24977,24978,24979,24980,24981,24982,24983,24984,24985,24986,24995,25003,25153,25154,25155,25156,25157,25158,25159,25160,25161,25162,25163,25190,25191,25192,25193,25194,25195,25196,25197,25198,25199,25200,25434,25435,25436,25437,25438,25439,25440,25441,25442,25443,25444,25445,25446,25530,25531,25532,25533,25534,25535,25536,25537,25538,25539,25540,25575,25576,25577,25578,25579,25580,25581,25582,25583,25584,25585,25658,25659,25660,25661,25662,25663,25664,25665,25666,25667,25668,25693,25694,25695,25696,25697,25698,25699,25700,25701,25702,25703,25728,25729,25730,25731,25732,25733,25734,25735,25736,25737,25738,25772,25773,25774,25775,25776,25777,25778,25779,25780,25781,25782,25849,25850,25851,25852,25853,25854,25855,25856,25857,25858,25859,25882,25883,25884,25885,25886,25887,25888,25889,25890,25891,25892,25915,25916,25917,25918,25919,25920,25921,25922,25923,25924,25925,25959,25960,25961,25962,25963,25964,25965,25966,25967,25968,25969,26036,26037,26038,26039,26040,26041,26042,26043,26044,26045,26046,26069,26070,26071,26072,26073,26074,26075,26076,26077,26078,26079,26413,26414,26415,26416,26417,26418,26419,26420,26421,26422,26423,26424,26425,26866,26868,26869,26870,26871,26872,26873,26874,26875,26876,26877,26914,26915,26916,26917,26918,26919,26920,26921,26922,26923,26924,26925,26926,26963,26964,26965,26966,26967,26968,26969,26970,26971,26972,26973,26974,26975,27012,27013,27014,27015,27016,27017,27018,27019,27020,27021,27022,27023,27024,27061,27062,27063,27064,27065,27066,27067,27068,27069,27070,27071,27072,27073,27110,27111,27112,27113,27114,27115,27116,27117,27118,27119,27120,27121,27122,27159,27160,27162,27163,27165,27166,27169,27170,27211,27212,27214,27215,27219,27263,27312,27810,27811,27812,27813,27814,27815,27816,27817,27818,27819,27820,27821,27822,27823,27824,27825,27826,27827,27828,27829,27830,27831,27832,27833,27834,27835,27836,27837,27838,27839,27840,27841,27842,27843,27844,27845,27846,27847,27848,27849,27850,27853,27855,27856,27857,27860,27861,27863,27870,27874,27876,27889,27902,27915,27928,29003,29004,29005,29006,29007,29008,29009,29010,29011,29012,29013) have mixed types. Specify dtype option on import or set low_memory=False.\n",
            "  df_supplementary = pd.read_csv(\"other_data/PreFer_train_supplementary_data.csv\")\n"
          ]
        }
      ],
      "source": [
        "df_train = pd.read_csv(\"training_data/PreFer_train_data.csv\")\n",
        "df_supplementary = pd.read_csv(\"other_data/PreFer_train_supplementary_data.csv\")\n",
        "df_train_total = pd.concat([df_train, df_supplementary], ignore_index=True)"
      ]
    },
    {
      "cell_type": "code",
      "execution_count": null,
      "metadata": {
        "id": "4byVjXwkOH6A"
      },
      "outputs": [],
      "source": [
        "outcome = pd.read_csv(\"training_data/PreFer_train_outcome.csv\")\n",
        "outcome_supplementary = pd.read_csv(\"other_data/PreFer_train_supplementary_outcome.csv\")\n",
        "outcome_total = pd.concat([outcome, outcome_supplementary], ignore_index=True)"
      ]
    },
    {
      "cell_type": "code",
      "execution_count": null,
      "metadata": {
        "id": "g95MnUeOK70I"
      },
      "outputs": [],
      "source": [
        "# Get test set of only outcomes that are in train set and are available\n",
        "df_supervised = df_train[df_train['outcome_available']==1]\n",
        "outcome_supervised = outcome.dropna()['new_child']\n",
        "\n",
        "X = df_supervised\n",
        "y = outcome_supervised\n",
        "X_train, X_test, y_train, y_test = train_test_split(X, y, test_size=0.2, random_state=42)\n",
        "\n",
        "# We should use X_test, y_test to test all things from now on"
      ]
    },
    {
      "cell_type": "markdown",
      "metadata": {
        "id": "37ZJLXAzKAfY"
      },
      "source": [
        "# Just using clustering"
      ]
    },
    {
      "cell_type": "markdown",
      "metadata": {
        "id": "OuXkZiF-Lbl6"
      },
      "source": [
        "Actually, how would this work when we try to submit the model, cuz like what is the model"
      ]
    },
    {
      "cell_type": "markdown",
      "metadata": {
        "id": "4uxP6npEJ8ep"
      },
      "source": [
        "# RandomForest with/without Supplementary Data"
      ]
    },
    {
      "cell_type": "markdown",
      "metadata": {
        "id": "ovNntl85NfSi"
      },
      "source": [
        "## Without supplementary data"
      ]
    },
    {
      "cell_type": "code",
      "execution_count": null,
      "metadata": {
        "id": "Jgd2Wai1L194"
      },
      "outputs": [],
      "source": [
        "from sklearn.ensemble import RandomForestClassifier"
      ]
    },
    {
      "cell_type": "code",
      "execution_count": null,
      "metadata": {
        "id": "GfRsncxCNT69"
      },
      "outputs": [
        {
          "name": "stdout",
          "output_type": "stream",
          "text": [
            "Number of remaining columns: 879\n"
          ]
        }
      ],
      "source": [
        "df_train_rf = X_train[X_train['outcome_available']==1]\n",
        "threshold = len(df_train_rf) * 0.75\n",
        "df_train_rf = df_train_rf.dropna(thresh=threshold, axis=1)\n",
        "numeric_columns = df_train_rf.select_dtypes(include='number').columns\n",
        "df_train_rf = df_train_rf[numeric_columns]\n",
        "print(\"Number of remaining columns:\", len(df_train_rf.columns))"
      ]
    },
    {
      "cell_type": "code",
      "execution_count": null,
      "metadata": {
        "id": "-T3GggJBO5Q0"
      },
      "outputs": [
        {
          "name": "stdout",
          "output_type": "stream",
          "text": [
            "['nomem_encr', 'outcome_available', 'cf20m_m', 'cf20m001', 'cf20m003', 'cf20m004', 'cf20m005', 'cf20m007', 'cf20m009', 'cf20m011', 'cf20m020', 'cf20m022', 'cf20m024', 'cf20m128', 'cf20m137', 'cf20m151', 'cf20m161', 'cf20m162', 'cf20m388', 'cf20m389', 'cf20m390', 'cf20m391', 'cf20m392', 'cf20m397', 'cf20m453', 'cf20m454', 'cf20m471', 'cf20m504', 'cf20m505', 'cf20m506', 'cf20m507', 'cf20m508', 'cf20m509', 'cf20m510', 'cf20m511', 'cf20m512', 'cf20m526', 'ca20g_m', 'ca20g001', 'ca20g002', 'ca20g003', 'ca20g005', 'ca20g006', 'ca20g007', 'ca20g008', 'ca20g009', 'ca20g010', 'ca20g011', 'ca20g012', 'ca20g057', 'ca20g058', 'ca20g060', 'ca20g061', 'ca20g062', 'ca20g066', 'ca20g067', 'ca20g068', 'ca20g069', 'ca20g070', 'ca20g075', 'ca20g078', 'ca20g079', 'ca20g080', 'ca20g081', 'ca20g082', 'ca20g087', 'ci20m_m', 'ci20m001', 'ci20m002', 'ci20m003', 'ci20m005', 'ci20m006', 'ci20m007', 'ci20m008', 'ci20m037', 'ci20m038', 'ci20m039', 'ci20m040', 'ci20m041', 'ci20m042', 'ci20m043', 'ci20m044', 'ci20m045', 'ci20m087', 'ci20m090', 'ci20m091', 'ci20m094', 'ci20m096', 'ci20m098', 'ci20m099', 'ci20m100', 'ci20m101', 'ci20m144', 'ci20m146', 'ci20m147', 'ci20m148', 'ci20m149', 'ci20m150', 'ci20m151', 'ci20m152', 'ci20m153', 'ci20m154', 'ci20m175', 'ci20m177', 'ci20m203', 'ci20m205', 'ci20m207', 'ci20m213', 'ci20m313', 'ci20m314', 'ci20m315', 'ci20m316', 'ci20m317', 'ci20m322', 'ci20m326', 'ci20m327', 'ci20m328', 'ci20m341', 'ci20m374', 'ci20m380', 'ci20m383', 'ch20m_m', 'ch20m001', 'ch20m002', 'ch20m003', 'ch20m004', 'ch20m005', 'ch20m006', 'ch20m007', 'ch20m011', 'ch20m012', 'ch20m013', 'ch20m014', 'ch20m015', 'ch20m016', 'ch20m017', 'ch20m018', 'ch20m020', 'ch20m021', 'ch20m022', 'ch20m023', 'ch20m024', 'ch20m025', 'ch20m026', 'ch20m027', 'ch20m028', 'ch20m029', 'ch20m030', 'ch20m031', 'ch20m032', 'ch20m033', 'ch20m034', 'ch20m035', 'ch20m036', 'ch20m037', 'ch20m038', 'ch20m039', 'ch20m040', 'ch20m041', 'ch20m042', 'ch20m043', 'ch20m044', 'ch20m045', 'ch20m070', 'ch20m071', 'ch20m072', 'ch20m073', 'ch20m074', 'ch20m075', 'ch20m076', 'ch20m077', 'ch20m078', 'ch20m079', 'ch20m080', 'ch20m081', 'ch20m082', 'ch20m083', 'ch20m084', 'ch20m085', 'ch20m086', 'ch20m087', 'ch20m088', 'ch20m089', 'ch20m090', 'ch20m091', 'ch20m092', 'ch20m093', 'ch20m094', 'ch20m095', 'ch20m096', 'ch20m097', 'ch20m098', 'ch20m099', 'ch20m125', 'ch20m133', 'ch20m159', 'ch20m160', 'ch20m161', 'ch20m162', 'ch20m163', 'ch20m169', 'ch20m170', 'ch20m171', 'ch20m172', 'ch20m173', 'ch20m174', 'ch20m175', 'ch20m176', 'ch20m177', 'ch20m178', 'ch20m179', 'ch20m180', 'ch20m181', 'ch20m182', 'ch20m183', 'ch20m184', 'ch20m206', 'ch20m207', 'ch20m208', 'ch20m209', 'ch20m210', 'ch20m211', 'ch20m212', 'ch20m213', 'ch20m214', 'ch20m215', 'ch20m216', 'ch20m217', 'ch20m218', 'ch20m219', 'ch20m220', 'ch20m221', 'ch20m222', 'ch20m223', 'ch20m224', 'ch20m225', 'ch20m226', 'ch20m227', 'ch20m228', 'ch20m229', 'ch20m232', 'ch20m233', 'ch20m234', 'ch20m235', 'ch20m239', 'ch20m250', 'ch20m251', 'ch20m252', 'ch20m253', 'ch20m254', 'ch20m259', 'ch20m260', 'ch20m263', 'ch20m267', 'ch20m269', 'ch20m270', 'cp20l_m', 'cp20l010', 'cp20l011', 'cp20l012', 'cp20l013', 'cp20l014', 'cp20l015', 'cp20l016', 'cp20l017', 'cp20l018', 'cp20l019', 'cp20l020', 'cp20l021', 'cp20l022', 'cp20l023', 'cp20l024', 'cp20l025', 'cp20l026', 'cp20l027', 'cp20l028', 'cp20l029', 'cp20l030', 'cp20l031', 'cp20l032', 'cp20l033', 'cp20l034', 'cp20l035', 'cp20l036', 'cp20l037', 'cp20l038', 'cp20l039', 'cp20l040', 'cp20l041', 'cp20l042', 'cp20l043', 'cp20l044', 'cp20l045', 'cp20l046', 'cp20l047', 'cp20l048', 'cp20l049', 'cp20l050', 'cp20l051', 'cp20l052', 'cp20l053', 'cp20l054', 'cp20l055', 'cp20l056', 'cp20l057', 'cp20l058', 'cp20l059', 'cp20l060', 'cp20l061', 'cp20l062', 'cp20l063', 'cp20l064', 'cp20l065', 'cp20l066', 'cp20l067', 'cp20l068', 'cp20l069', 'cp20l070', 'cp20l071', 'cp20l072', 'cp20l073', 'cp20l074', 'cp20l075', 'cp20l076', 'cp20l077', 'cp20l078', 'cp20l079', 'cp20l099', 'cp20l100', 'cp20l101', 'cp20l102', 'cp20l103', 'cp20l104', 'cp20l105', 'cp20l106', 'cp20l107', 'cp20l108', 'cp20l109', 'cp20l110', 'cp20l111', 'cp20l112', 'cp20l113', 'cp20l114', 'cp20l115', 'cp20l116', 'cp20l117', 'cp20l118', 'cp20l119', 'cp20l120', 'cp20l121', 'cp20l122', 'cp20l123', 'cp20l124', 'cp20l125', 'cp20l126', 'cp20l127', 'cp20l128', 'cp20l129', 'cp20l130', 'cp20l131', 'cp20l132', 'cp20l133', 'cp20l134', 'cp20l135', 'cp20l136', 'cp20l137', 'cp20l138', 'cp20l139', 'cp20l140', 'cp20l141', 'cp20l142', 'cp20l143', 'cp20l144', 'cp20l145', 'cp20l146', 'cp20l147', 'cp20l148', 'cp20l149', 'cp20l150', 'cp20l151', 'cp20l152', 'cp20l153', 'cp20l154', 'cp20l155', 'cp20l156', 'cp20l157', 'cp20l158', 'cp20l159', 'cp20l160', 'cp20l161', 'cp20l162', 'cp20l163', 'cp20l164', 'cp20l165', 'cp20l184', 'cp20l185', 'cp20l186', 'cp20l187', 'cp20l188', 'cp20l193', 'cp20l198', 'cp20l199', 'cp20l200', 'cp20l201', 'cp20l202', 'cp20l203', 'cp20l204', 'cp20l205', 'cp20l206', 'cp20l207', 'cv20l_m1', 'cv20l_m2', 'cv20l_m3', 'cv20l001', 'cv20l002', 'cv20l003', 'cv20l004', 'cv20l006', 'cv20l008', 'cv20l010', 'cv20l012', 'cv20l013', 'cv20l015', 'cv20l016', 'cv20l021', 'cv20l023', 'cv20l024', 'cv20l025', 'cv20l028', 'cv20l029', 'cv20l040', 'cv20l041', 'cv20l047', 'cv20l048', 'cv20l049', 'cv20l050', 'cv20l051', 'cv20l052', 'cv20l065', 'cv20l066', 'cv20l067', 'cv20l068', 'cv20l069', 'cv20l070', 'cv20l071', 'cv20l072', 'cv20l073', 'cv20l098', 'cv20l102', 'cv20l103', 'cv20l104', 'cv20l105', 'cv20l106', 'cv20l107', 'cv20l108', 'cv20l109', 'cv20l110', 'cv20l111', 'cv20l112', 'cv20l113', 'cv20l114', 'cv20l115', 'cv20l116', 'cv20l117', 'cv20l118', 'cv20l119', 'cv20l120', 'cv20l121', 'cv20l122', 'cv20l123', 'cv20l124', 'cv20l125', 'cv20l126', 'cv20l127', 'cv20l128', 'cv20l129', 'cv20l130', 'cv20l131', 'cv20l132', 'cv20l133', 'cv20l134', 'cv20l139', 'cv20l140', 'cv20l141', 'cv20l142', 'cv20l143', 'cv20l144', 'cv20l145', 'cv20l146', 'cv20l147', 'cv20l148', 'cv20l151', 'cv20l152', 'cv20l153', 'cv20l154', 'cv20l160', 'cv20l166', 'cv20l167', 'cv20l199', 'cv20l242', 'cv20l274', 'cv20l275', 'cv20l276', 'cv20l277', 'cv20l278', 'cv20l279', 'cv20l280', 'cv20l281', 'cv20l282', 'cv20l283', 'cv20l284', 'cv20l285', 'cv20l286', 'cv20l287', 'cv20l288', 'cv20l301', 'cv20l302', 'cv20l303', 'cr20m_m', 'cr20m030', 'cr20m031', 'cr20m041', 'cr20m042', 'cr20m079', 'cr20m080', 'cr20m081', 'cr20m082', 'cr20m083', 'cr20m084', 'cr20m085', 'cr20m086', 'cr20m087', 'cr20m089', 'cr20m092', 'cr20m093', 'cr20m094', 'cr20m095', 'cr20m096', 'cr20m097', 'cr20m098', 'cr20m109', 'cr20m110', 'cr20m111', 'cr20m112', 'cr20m113', 'cr20m120', 'cr20m134', 'cr20m142', 'cr20m143', 'cr20m162', 'cr20m163', 'cr20m164', 'cr20m165', 'cr20m166', 'cr20m167', 'cr20m168', 'cr20m169', 'cr20m170', 'cr20m171', 'cr20m172', 'cr20m173', 'cr20m174', 'cr20m175', 'cr20m176', 'cr20m177', 'cr20m178', 'cr20m179', 'cs20m_m', 'cs20m001', 'cs20m003', 'cs20m004', 'cs20m005', 'cs20m006', 'cs20m007', 'cs20m008', 'cs20m009', 'cs20m010', 'cs20m011', 'cs20m012', 'cs20m013', 'cs20m014', 'cs20m015', 'cs20m016', 'cs20m017', 'cs20m018', 'cs20m019', 'cs20m020', 'cs20m021', 'cs20m022', 'cs20m023', 'cs20m024', 'cs20m025', 'cs20m026', 'cs20m027', 'cs20m028', 'cs20m029', 'cs20m030', 'cs20m031', 'cs20m032', 'cs20m033', 'cs20m034', 'cs20m035', 'cs20m036', 'cs20m037', 'cs20m038', 'cs20m039', 'cs20m040', 'cs20m041', 'cs20m042', 'cs20m043', 'cs20m044', 'cs20m045', 'cs20m046', 'cs20m047', 'cs20m048', 'cs20m049', 'cs20m050', 'cs20m051', 'cs20m052', 'cs20m053', 'cs20m054', 'cs20m055', 'cs20m056', 'cs20m057', 'cs20m058', 'cs20m059', 'cs20m060', 'cs20m061', 'cs20m062', 'cs20m063', 'cs20m070', 'cs20m093', 'cs20m094', 'cs20m098', 'cs20m099', 'cs20m100', 'cs20m101', 'cs20m102', 'cs20m103', 'cs20m104', 'cs20m124', 'cs20m125', 'cs20m126', 'cs20m131', 'cs20m160', 'cs20m161', 'cs20m162', 'cs20m164', 'cs20m165', 'cs20m166', 'cs20m167', 'cs20m169', 'cs20m171', 'cs20m172', 'cs20m173', 'cs20m174', 'cs20m175', 'cs20m176', 'cs20m177', 'cs20m178', 'cs20m179', 'cs20m180', 'cs20m181', 'cs20m182', 'cs20m183', 'cs20m184', 'cs20m185', 'cs20m186', 'cs20m191', 'cs20m229', 'cs20m231', 'cs20m242', 'cs20m243', 'cs20m244', 'cs20m245', 'cs20m267', 'cs20m268', 'cs20m269', 'cs20m277', 'cs20m278', 'cs20m279', 'cs20m280', 'cs20m281', 'cs20m282', 'cs20m283', 'cs20m284', 'cs20m285', 'cs20m286', 'cs20m287', 'cs20m288', 'cs20m289', 'cs20m290', 'cs20m291', 'cs20m292', 'cs20m294', 'cs20m295', 'cs20m296', 'cs20m297', 'cs20m298', 'cs20m315', 'cs20m320', 'cs20m321', 'cs20m323', 'cs20m324', 'cs20m325', 'cs20m326', 'cs20m327', 'cs20m329', 'cs20m330', 'cs20m379', 'cs20m410', 'cs20m411', 'cs20m412', 'cs20m413', 'cs20m414', 'cs20m415', 'cs20m426', 'cs20m436', 'cs20m437', 'cs20m438', 'cs20m439', 'cs20m440', 'cs20m443', 'cs20m444', 'cs20m445', 'cs20m446', 'cs20m449', 'cs20m450', 'cs20m451', 'cs20m472', 'cs20m473', 'cs20m474', 'cs20m480', 'cs20m483', 'cs20m484', 'cs20m485', 'cs20m487', 'cs20m494', 'cs20m495', 'cs20m496', 'cs20m497', 'cs20m499', 'cs20m500', 'cs20m501', 'cs20m504', 'cs20m505', 'cs20m506', 'cs20m507', 'cs20m516', 'cs20m517', 'cs20m523', 'cs20m524', 'cs20m525', 'cs20m526', 'cs20m527', 'cs20m568', 'cs20m569', 'cs20m570', 'cs20m571', 'cs20m572', 'cs20m577', 'cs20m578', 'cs20m579', 'cs20m580', 'cs20m581', 'cs20m585', 'cs20m587', 'cs20m588', 'cs20m589', 'cs20m594', 'cs20m596', 'cs20m598', 'cw20m000', 'cw20m_m', 'cw20m001', 'cw20m002', 'cw20m003', 'cw20m005', 'cw20m008', 'cw20m011', 'cw20m012', 'cw20m013', 'cw20m014', 'cw20m015', 'cw20m016', 'cw20m017', 'cw20m018', 'cw20m019', 'cw20m020', 'cw20m021', 'cw20m022', 'cw20m023', 'cw20m024', 'cw20m025', 'cw20m026', 'cw20m027', 'cw20m088', 'cw20m089', 'cw20m090', 'cw20m091', 'cw20m092', 'cw20m093', 'cw20m094', 'cw20m095', 'cw20m096', 'cw20m097', 'cw20m098', 'cw20m099', 'cw20m100', 'cw20m101', 'cw20m102', 'cw20m114', 'cw20m115', 'cw20m116', 'cw20m117', 'cw20m118', 'cw20m450', 'cw20m496', 'cw20m497', 'cw20m498', 'cw20m499', 'cw20m500', 'cw20m505', 'cw20m511', 'cw20m522', 'cw20m523', 'cw20m525', 'cw20m572', 'cw20m576', 'birthyear_bg', 'gender_bg', 'migration_background_bg', 'age_bg', 'belbezig_2017', 'belbezig_2018', 'belbezig_2019', 'belbezig_2020', 'brutohh_f_2019', 'brutohh_f_2020', 'brutoink_f_2019', 'brutoink_f_2020', 'burgstat_2017', 'burgstat_2018', 'burgstat_2019', 'burgstat_2020', 'nettohh_f_2019', 'nettohh_f_2020', 'nettoink_2019', 'nettoink_2020', 'nettoink_f_2019', 'nettoink_f_2020', 'oplcat_2017', 'oplcat_2018', 'oplcat_2019', 'oplcat_2020', 'oplmet_2017', 'oplmet_2018', 'oplmet_2019', 'oplmet_2020', 'oplzon_2017', 'oplzon_2018', 'oplzon_2019', 'oplzon_2020', 'partner_2017', 'partner_2018', 'partner_2019', 'partner_2020', 'sted_2017', 'sted_2018', 'sted_2019', 'sted_2020', 'woning_2017', 'woning_2018', 'woning_2019', 'woning_2020', 'woonvorm_2017', 'woonvorm_2018', 'woonvorm_2019', 'woonvorm_2020']\n"
          ]
        }
      ],
      "source": [
        "# Update test data to have same columns\n",
        "columns_list = df_train_rf.columns.tolist()\n",
        "print(columns_list)\n",
        "df_test_rf = X_test[columns_list]"
      ]
    },
    {
      "cell_type": "code",
      "execution_count": null,
      "metadata": {
        "id": "yxbuwsQeN8XV"
      },
      "outputs": [],
      "source": [
        "# Impute remaining columns\n",
        "imputer = SimpleImputer(strategy='mean')\n",
        "df_train_rf = pd.DataFrame(imputer.fit_transform(df_train_rf), columns=df_train_rf.columns)\n",
        "df_test_rf = pd.DataFrame(imputer.fit_transform(df_test_rf), columns=df_test_rf.columns)"
      ]
    },
    {
      "cell_type": "code",
      "execution_count": null,
      "metadata": {
        "id": "VQPBF0udPpWp"
      },
      "outputs": [
        {
          "name": "stdout",
          "output_type": "stream",
          "text": [
            "(789, 879)\n",
            "(789,)\n",
            "(198, 879)\n",
            "(198,)\n"
          ]
        }
      ],
      "source": [
        "print(df_train_rf.shape)\n",
        "print(y_train.shape)\n",
        "print(df_test_rf.shape)\n",
        "print(y_test.shape)"
      ]
    },
    {
      "cell_type": "code",
      "execution_count": null,
      "metadata": {
        "id": "oP3A0O9tOM2n"
      },
      "outputs": [
        {
          "data": {
            "text/html": [
              "<style>#sk-container-id-3 {\n",
              "  /* Definition of color scheme common for light and dark mode */\n",
              "  --sklearn-color-text: black;\n",
              "  --sklearn-color-line: gray;\n",
              "  /* Definition of color scheme for unfitted estimators */\n",
              "  --sklearn-color-unfitted-level-0: #fff5e6;\n",
              "  --sklearn-color-unfitted-level-1: #f6e4d2;\n",
              "  --sklearn-color-unfitted-level-2: #ffe0b3;\n",
              "  --sklearn-color-unfitted-level-3: chocolate;\n",
              "  /* Definition of color scheme for fitted estimators */\n",
              "  --sklearn-color-fitted-level-0: #f0f8ff;\n",
              "  --sklearn-color-fitted-level-1: #d4ebff;\n",
              "  --sklearn-color-fitted-level-2: #b3dbfd;\n",
              "  --sklearn-color-fitted-level-3: cornflowerblue;\n",
              "\n",
              "  /* Specific color for light theme */\n",
              "  --sklearn-color-text-on-default-background: var(--sg-text-color, var(--theme-code-foreground, var(--jp-content-font-color1, black)));\n",
              "  --sklearn-color-background: var(--sg-background-color, var(--theme-background, var(--jp-layout-color0, white)));\n",
              "  --sklearn-color-border-box: var(--sg-text-color, var(--theme-code-foreground, var(--jp-content-font-color1, black)));\n",
              "  --sklearn-color-icon: #696969;\n",
              "\n",
              "  @media (prefers-color-scheme: dark) {\n",
              "    /* Redefinition of color scheme for dark theme */\n",
              "    --sklearn-color-text-on-default-background: var(--sg-text-color, var(--theme-code-foreground, var(--jp-content-font-color1, white)));\n",
              "    --sklearn-color-background: var(--sg-background-color, var(--theme-background, var(--jp-layout-color0, #111)));\n",
              "    --sklearn-color-border-box: var(--sg-text-color, var(--theme-code-foreground, var(--jp-content-font-color1, white)));\n",
              "    --sklearn-color-icon: #878787;\n",
              "  }\n",
              "}\n",
              "\n",
              "#sk-container-id-3 {\n",
              "  color: var(--sklearn-color-text);\n",
              "}\n",
              "\n",
              "#sk-container-id-3 pre {\n",
              "  padding: 0;\n",
              "}\n",
              "\n",
              "#sk-container-id-3 input.sk-hidden--visually {\n",
              "  border: 0;\n",
              "  clip: rect(1px 1px 1px 1px);\n",
              "  clip: rect(1px, 1px, 1px, 1px);\n",
              "  height: 1px;\n",
              "  margin: -1px;\n",
              "  overflow: hidden;\n",
              "  padding: 0;\n",
              "  position: absolute;\n",
              "  width: 1px;\n",
              "}\n",
              "\n",
              "#sk-container-id-3 div.sk-dashed-wrapped {\n",
              "  border: 1px dashed var(--sklearn-color-line);\n",
              "  margin: 0 0.4em 0.5em 0.4em;\n",
              "  box-sizing: border-box;\n",
              "  padding-bottom: 0.4em;\n",
              "  background-color: var(--sklearn-color-background);\n",
              "}\n",
              "\n",
              "#sk-container-id-3 div.sk-container {\n",
              "  /* jupyter's `normalize.less` sets `[hidden] { display: none; }`\n",
              "     but bootstrap.min.css set `[hidden] { display: none !important; }`\n",
              "     so we also need the `!important` here to be able to override the\n",
              "     default hidden behavior on the sphinx rendered scikit-learn.org.\n",
              "     See: https://github.com/scikit-learn/scikit-learn/issues/21755 */\n",
              "  display: inline-block !important;\n",
              "  position: relative;\n",
              "}\n",
              "\n",
              "#sk-container-id-3 div.sk-text-repr-fallback {\n",
              "  display: none;\n",
              "}\n",
              "\n",
              "div.sk-parallel-item,\n",
              "div.sk-serial,\n",
              "div.sk-item {\n",
              "  /* draw centered vertical line to link estimators */\n",
              "  background-image: linear-gradient(var(--sklearn-color-text-on-default-background), var(--sklearn-color-text-on-default-background));\n",
              "  background-size: 2px 100%;\n",
              "  background-repeat: no-repeat;\n",
              "  background-position: center center;\n",
              "}\n",
              "\n",
              "/* Parallel-specific style estimator block */\n",
              "\n",
              "#sk-container-id-3 div.sk-parallel-item::after {\n",
              "  content: \"\";\n",
              "  width: 100%;\n",
              "  border-bottom: 2px solid var(--sklearn-color-text-on-default-background);\n",
              "  flex-grow: 1;\n",
              "}\n",
              "\n",
              "#sk-container-id-3 div.sk-parallel {\n",
              "  display: flex;\n",
              "  align-items: stretch;\n",
              "  justify-content: center;\n",
              "  background-color: var(--sklearn-color-background);\n",
              "  position: relative;\n",
              "}\n",
              "\n",
              "#sk-container-id-3 div.sk-parallel-item {\n",
              "  display: flex;\n",
              "  flex-direction: column;\n",
              "}\n",
              "\n",
              "#sk-container-id-3 div.sk-parallel-item:first-child::after {\n",
              "  align-self: flex-end;\n",
              "  width: 50%;\n",
              "}\n",
              "\n",
              "#sk-container-id-3 div.sk-parallel-item:last-child::after {\n",
              "  align-self: flex-start;\n",
              "  width: 50%;\n",
              "}\n",
              "\n",
              "#sk-container-id-3 div.sk-parallel-item:only-child::after {\n",
              "  width: 0;\n",
              "}\n",
              "\n",
              "/* Serial-specific style estimator block */\n",
              "\n",
              "#sk-container-id-3 div.sk-serial {\n",
              "  display: flex;\n",
              "  flex-direction: column;\n",
              "  align-items: center;\n",
              "  background-color: var(--sklearn-color-background);\n",
              "  padding-right: 1em;\n",
              "  padding-left: 1em;\n",
              "}\n",
              "\n",
              "\n",
              "/* Toggleable style: style used for estimator/Pipeline/ColumnTransformer box that is\n",
              "clickable and can be expanded/collapsed.\n",
              "- Pipeline and ColumnTransformer use this feature and define the default style\n",
              "- Estimators will overwrite some part of the style using the `sk-estimator` class\n",
              "*/\n",
              "\n",
              "/* Pipeline and ColumnTransformer style (default) */\n",
              "\n",
              "#sk-container-id-3 div.sk-toggleable {\n",
              "  /* Default theme specific background. It is overwritten whether we have a\n",
              "  specific estimator or a Pipeline/ColumnTransformer */\n",
              "  background-color: var(--sklearn-color-background);\n",
              "}\n",
              "\n",
              "/* Toggleable label */\n",
              "#sk-container-id-3 label.sk-toggleable__label {\n",
              "  cursor: pointer;\n",
              "  display: block;\n",
              "  width: 100%;\n",
              "  margin-bottom: 0;\n",
              "  padding: 0.5em;\n",
              "  box-sizing: border-box;\n",
              "  text-align: center;\n",
              "}\n",
              "\n",
              "#sk-container-id-3 label.sk-toggleable__label-arrow:before {\n",
              "  /* Arrow on the left of the label */\n",
              "  content: \"▸\";\n",
              "  float: left;\n",
              "  margin-right: 0.25em;\n",
              "  color: var(--sklearn-color-icon);\n",
              "}\n",
              "\n",
              "#sk-container-id-3 label.sk-toggleable__label-arrow:hover:before {\n",
              "  color: var(--sklearn-color-text);\n",
              "}\n",
              "\n",
              "/* Toggleable content - dropdown */\n",
              "\n",
              "#sk-container-id-3 div.sk-toggleable__content {\n",
              "  max-height: 0;\n",
              "  max-width: 0;\n",
              "  overflow: hidden;\n",
              "  text-align: left;\n",
              "  /* unfitted */\n",
              "  background-color: var(--sklearn-color-unfitted-level-0);\n",
              "}\n",
              "\n",
              "#sk-container-id-3 div.sk-toggleable__content.fitted {\n",
              "  /* fitted */\n",
              "  background-color: var(--sklearn-color-fitted-level-0);\n",
              "}\n",
              "\n",
              "#sk-container-id-3 div.sk-toggleable__content pre {\n",
              "  margin: 0.2em;\n",
              "  border-radius: 0.25em;\n",
              "  color: var(--sklearn-color-text);\n",
              "  /* unfitted */\n",
              "  background-color: var(--sklearn-color-unfitted-level-0);\n",
              "}\n",
              "\n",
              "#sk-container-id-3 div.sk-toggleable__content.fitted pre {\n",
              "  /* unfitted */\n",
              "  background-color: var(--sklearn-color-fitted-level-0);\n",
              "}\n",
              "\n",
              "#sk-container-id-3 input.sk-toggleable__control:checked~div.sk-toggleable__content {\n",
              "  /* Expand drop-down */\n",
              "  max-height: 200px;\n",
              "  max-width: 100%;\n",
              "  overflow: auto;\n",
              "}\n",
              "\n",
              "#sk-container-id-3 input.sk-toggleable__control:checked~label.sk-toggleable__label-arrow:before {\n",
              "  content: \"▾\";\n",
              "}\n",
              "\n",
              "/* Pipeline/ColumnTransformer-specific style */\n",
              "\n",
              "#sk-container-id-3 div.sk-label input.sk-toggleable__control:checked~label.sk-toggleable__label {\n",
              "  color: var(--sklearn-color-text);\n",
              "  background-color: var(--sklearn-color-unfitted-level-2);\n",
              "}\n",
              "\n",
              "#sk-container-id-3 div.sk-label.fitted input.sk-toggleable__control:checked~label.sk-toggleable__label {\n",
              "  background-color: var(--sklearn-color-fitted-level-2);\n",
              "}\n",
              "\n",
              "/* Estimator-specific style */\n",
              "\n",
              "/* Colorize estimator box */\n",
              "#sk-container-id-3 div.sk-estimator input.sk-toggleable__control:checked~label.sk-toggleable__label {\n",
              "  /* unfitted */\n",
              "  background-color: var(--sklearn-color-unfitted-level-2);\n",
              "}\n",
              "\n",
              "#sk-container-id-3 div.sk-estimator.fitted input.sk-toggleable__control:checked~label.sk-toggleable__label {\n",
              "  /* fitted */\n",
              "  background-color: var(--sklearn-color-fitted-level-2);\n",
              "}\n",
              "\n",
              "#sk-container-id-3 div.sk-label label.sk-toggleable__label,\n",
              "#sk-container-id-3 div.sk-label label {\n",
              "  /* The background is the default theme color */\n",
              "  color: var(--sklearn-color-text-on-default-background);\n",
              "}\n",
              "\n",
              "/* On hover, darken the color of the background */\n",
              "#sk-container-id-3 div.sk-label:hover label.sk-toggleable__label {\n",
              "  color: var(--sklearn-color-text);\n",
              "  background-color: var(--sklearn-color-unfitted-level-2);\n",
              "}\n",
              "\n",
              "/* Label box, darken color on hover, fitted */\n",
              "#sk-container-id-3 div.sk-label.fitted:hover label.sk-toggleable__label.fitted {\n",
              "  color: var(--sklearn-color-text);\n",
              "  background-color: var(--sklearn-color-fitted-level-2);\n",
              "}\n",
              "\n",
              "/* Estimator label */\n",
              "\n",
              "#sk-container-id-3 div.sk-label label {\n",
              "  font-family: monospace;\n",
              "  font-weight: bold;\n",
              "  display: inline-block;\n",
              "  line-height: 1.2em;\n",
              "}\n",
              "\n",
              "#sk-container-id-3 div.sk-label-container {\n",
              "  text-align: center;\n",
              "}\n",
              "\n",
              "/* Estimator-specific */\n",
              "#sk-container-id-3 div.sk-estimator {\n",
              "  font-family: monospace;\n",
              "  border: 1px dotted var(--sklearn-color-border-box);\n",
              "  border-radius: 0.25em;\n",
              "  box-sizing: border-box;\n",
              "  margin-bottom: 0.5em;\n",
              "  /* unfitted */\n",
              "  background-color: var(--sklearn-color-unfitted-level-0);\n",
              "}\n",
              "\n",
              "#sk-container-id-3 div.sk-estimator.fitted {\n",
              "  /* fitted */\n",
              "  background-color: var(--sklearn-color-fitted-level-0);\n",
              "}\n",
              "\n",
              "/* on hover */\n",
              "#sk-container-id-3 div.sk-estimator:hover {\n",
              "  /* unfitted */\n",
              "  background-color: var(--sklearn-color-unfitted-level-2);\n",
              "}\n",
              "\n",
              "#sk-container-id-3 div.sk-estimator.fitted:hover {\n",
              "  /* fitted */\n",
              "  background-color: var(--sklearn-color-fitted-level-2);\n",
              "}\n",
              "\n",
              "/* Specification for estimator info (e.g. \"i\" and \"?\") */\n",
              "\n",
              "/* Common style for \"i\" and \"?\" */\n",
              "\n",
              ".sk-estimator-doc-link,\n",
              "a:link.sk-estimator-doc-link,\n",
              "a:visited.sk-estimator-doc-link {\n",
              "  float: right;\n",
              "  font-size: smaller;\n",
              "  line-height: 1em;\n",
              "  font-family: monospace;\n",
              "  background-color: var(--sklearn-color-background);\n",
              "  border-radius: 1em;\n",
              "  height: 1em;\n",
              "  width: 1em;\n",
              "  text-decoration: none !important;\n",
              "  margin-left: 1ex;\n",
              "  /* unfitted */\n",
              "  border: var(--sklearn-color-unfitted-level-1) 1pt solid;\n",
              "  color: var(--sklearn-color-unfitted-level-1);\n",
              "}\n",
              "\n",
              ".sk-estimator-doc-link.fitted,\n",
              "a:link.sk-estimator-doc-link.fitted,\n",
              "a:visited.sk-estimator-doc-link.fitted {\n",
              "  /* fitted */\n",
              "  border: var(--sklearn-color-fitted-level-1) 1pt solid;\n",
              "  color: var(--sklearn-color-fitted-level-1);\n",
              "}\n",
              "\n",
              "/* On hover */\n",
              "div.sk-estimator:hover .sk-estimator-doc-link:hover,\n",
              ".sk-estimator-doc-link:hover,\n",
              "div.sk-label-container:hover .sk-estimator-doc-link:hover,\n",
              ".sk-estimator-doc-link:hover {\n",
              "  /* unfitted */\n",
              "  background-color: var(--sklearn-color-unfitted-level-3);\n",
              "  color: var(--sklearn-color-background);\n",
              "  text-decoration: none;\n",
              "}\n",
              "\n",
              "div.sk-estimator.fitted:hover .sk-estimator-doc-link.fitted:hover,\n",
              ".sk-estimator-doc-link.fitted:hover,\n",
              "div.sk-label-container:hover .sk-estimator-doc-link.fitted:hover,\n",
              ".sk-estimator-doc-link.fitted:hover {\n",
              "  /* fitted */\n",
              "  background-color: var(--sklearn-color-fitted-level-3);\n",
              "  color: var(--sklearn-color-background);\n",
              "  text-decoration: none;\n",
              "}\n",
              "\n",
              "/* Span, style for the box shown on hovering the info icon */\n",
              ".sk-estimator-doc-link span {\n",
              "  display: none;\n",
              "  z-index: 9999;\n",
              "  position: relative;\n",
              "  font-weight: normal;\n",
              "  right: .2ex;\n",
              "  padding: .5ex;\n",
              "  margin: .5ex;\n",
              "  width: min-content;\n",
              "  min-width: 20ex;\n",
              "  max-width: 50ex;\n",
              "  color: var(--sklearn-color-text);\n",
              "  box-shadow: 2pt 2pt 4pt #999;\n",
              "  /* unfitted */\n",
              "  background: var(--sklearn-color-unfitted-level-0);\n",
              "  border: .5pt solid var(--sklearn-color-unfitted-level-3);\n",
              "}\n",
              "\n",
              ".sk-estimator-doc-link.fitted span {\n",
              "  /* fitted */\n",
              "  background: var(--sklearn-color-fitted-level-0);\n",
              "  border: var(--sklearn-color-fitted-level-3);\n",
              "}\n",
              "\n",
              ".sk-estimator-doc-link:hover span {\n",
              "  display: block;\n",
              "}\n",
              "\n",
              "/* \"?\"-specific style due to the `<a>` HTML tag */\n",
              "\n",
              "#sk-container-id-3 a.estimator_doc_link {\n",
              "  float: right;\n",
              "  font-size: 1rem;\n",
              "  line-height: 1em;\n",
              "  font-family: monospace;\n",
              "  background-color: var(--sklearn-color-background);\n",
              "  border-radius: 1rem;\n",
              "  height: 1rem;\n",
              "  width: 1rem;\n",
              "  text-decoration: none;\n",
              "  /* unfitted */\n",
              "  color: var(--sklearn-color-unfitted-level-1);\n",
              "  border: var(--sklearn-color-unfitted-level-1) 1pt solid;\n",
              "}\n",
              "\n",
              "#sk-container-id-3 a.estimator_doc_link.fitted {\n",
              "  /* fitted */\n",
              "  border: var(--sklearn-color-fitted-level-1) 1pt solid;\n",
              "  color: var(--sklearn-color-fitted-level-1);\n",
              "}\n",
              "\n",
              "/* On hover */\n",
              "#sk-container-id-3 a.estimator_doc_link:hover {\n",
              "  /* unfitted */\n",
              "  background-color: var(--sklearn-color-unfitted-level-3);\n",
              "  color: var(--sklearn-color-background);\n",
              "  text-decoration: none;\n",
              "}\n",
              "\n",
              "#sk-container-id-3 a.estimator_doc_link.fitted:hover {\n",
              "  /* fitted */\n",
              "  background-color: var(--sklearn-color-fitted-level-3);\n",
              "}\n",
              "</style><div id=\"sk-container-id-3\" class=\"sk-top-container\"><div class=\"sk-text-repr-fallback\"><pre>RandomForestClassifier(random_state=42)</pre><b>In a Jupyter environment, please rerun this cell to show the HTML representation or trust the notebook. <br />On GitHub, the HTML representation is unable to render, please try loading this page with nbviewer.org.</b></div><div class=\"sk-container\" hidden><div class=\"sk-item\"><div class=\"sk-estimator fitted sk-toggleable\"><input class=\"sk-toggleable__control sk-hidden--visually\" id=\"sk-estimator-id-3\" type=\"checkbox\" checked><label for=\"sk-estimator-id-3\" class=\"sk-toggleable__label fitted sk-toggleable__label-arrow fitted\">&nbsp;&nbsp;RandomForestClassifier<a class=\"sk-estimator-doc-link fitted\" rel=\"noreferrer\" target=\"_blank\" href=\"https://scikit-learn.org/1.4/modules/generated/sklearn.ensemble.RandomForestClassifier.html\">?<span>Documentation for RandomForestClassifier</span></a><span class=\"sk-estimator-doc-link fitted\">i<span>Fitted</span></span></label><div class=\"sk-toggleable__content fitted\"><pre>RandomForestClassifier(random_state=42)</pre></div> </div></div></div></div>"
            ],
            "text/plain": [
              "RandomForestClassifier(random_state=42)"
            ]
          },
          "execution_count": 98,
          "metadata": {},
          "output_type": "execute_result"
        }
      ],
      "source": [
        "# Create RandomForestClassifier\n",
        "rf_classifier = RandomForestClassifier(n_estimators=100, random_state=42)\n",
        "rf_classifier.fit(df_train_rf, y_train)"
      ]
    },
    {
      "cell_type": "code",
      "execution_count": null,
      "metadata": {
        "id": "61ISQp4BP9pK"
      },
      "outputs": [
        {
          "name": "stdout",
          "output_type": "stream",
          "text": [
            "Accuracy: 0.7828282828282829\n",
            "\n",
            "Classification Report:\n",
            "               precision    recall  f1-score   support\n",
            "\n",
            "         0.0       0.78      0.99      0.87       148\n",
            "         1.0       0.89      0.16      0.27        50\n",
            "\n",
            "    accuracy                           0.78       198\n",
            "   macro avg       0.83      0.58      0.57       198\n",
            "weighted avg       0.81      0.78      0.72       198\n",
            "\n",
            "\n",
            "Confusion Matrix:\n",
            " [[147   1]\n",
            " [ 42   8]]\n"
          ]
        }
      ],
      "source": [
        "# Evaluate RF\n",
        "y_pred_rf = rf_classifier.predict(df_test_rf)\n",
        "\n",
        "accuracy = accuracy_score(y_test, y_pred_rf)\n",
        "print(\"Accuracy:\", accuracy)\n",
        "\n",
        "report = classification_report(y_test, y_pred_rf)\n",
        "print(\"\\nClassification Report:\\n\", report)\n",
        "\n",
        "conf_matrix = confusion_matrix(y_test, y_pred_rf)\n",
        "print(\"\\nConfusion Matrix:\\n\", conf_matrix)"
      ]
    },
    {
      "cell_type": "markdown",
      "metadata": {
        "id": "uhFUr1-fQc3W"
      },
      "source": [
        "## With Supplementary Data"
      ]
    },
    {
      "cell_type": "code",
      "execution_count": null,
      "metadata": {},
      "outputs": [],
      "source": [
        "df_supp_supervised = df_supplementary[df_supplementary['outcome_available']==1]\n",
        "X_train_total = pd.concat([X_train, df_supp_supervised], ignore_index=True)"
      ]
    },
    {
      "cell_type": "code",
      "execution_count": null,
      "metadata": {},
      "outputs": [],
      "source": [
        "df_y_supp_supervised = outcome_supplementary.dropna()['new_child']\n",
        "y_train_rf = pd.concat([y_train, df_y_supp_supervised], ignore_index=True)"
      ]
    },
    {
      "cell_type": "code",
      "execution_count": null,
      "metadata": {
        "id": "xSmt2QYjQrz1"
      },
      "outputs": [
        {
          "name": "stdout",
          "output_type": "stream",
          "text": [
            "Number of remaining columns: 3031\n"
          ]
        }
      ],
      "source": [
        "df_train_rf = X_train_total[X_train_total['outcome_available']==1]\n",
        "threshold = len(df_train_rf) * 0.75\n",
        "df_train_rf = df_train_rf.dropna(thresh=threshold, axis=1)\n",
        "numeric_columns = df_train_rf.select_dtypes(include='number').columns\n",
        "df_train_rf = df_train_rf[numeric_columns]\n",
        "print(\"Number of remaining columns:\", len(df_train_rf.columns))"
      ]
    },
    {
      "cell_type": "code",
      "execution_count": null,
      "metadata": {
        "id": "XYB_AmOqQrz3"
      },
      "outputs": [
        {
          "name": "stdout",
          "output_type": "stream",
          "text": [
            "['nomem_encr', 'outcome_available', 'cf17j_m', 'cf18k_m', 'cf19l_m', 'cf20m_m', 'cf17j001', 'cf18k001', 'cf19l001', 'cf20m001', 'cf17j003', 'cf18k003', 'cf19l003', 'cf20m003', 'cf17j004', 'cf18k004', 'cf19l004', 'cf20m004', 'cf17j024', 'cf18k024', 'cf19l024', 'cf20m024', 'cf17j388', 'cf18k388', 'cf19l388', 'cf20m388', 'cf17j389', 'cf18k389', 'cf19l389', 'cf20m389', 'cf17j390', 'cf18k390', 'cf19l390', 'cf20m390', 'cf17j391', 'cf18k391', 'cf19l391', 'cf20m391', 'cf17j392', 'cf18k392', 'cf19l392', 'cf20m392', 'cf17j397', 'cf18k397', 'cf19l397', 'cf20m397', 'cf17j432', 'cf18k432', 'cf19l432', 'cf17j454', 'cf18k454', 'cf19l454', 'cf20m454', 'cf17j471', 'cf18k471', 'cf19l471', 'cf20m471', 'cf19l522', 'cf19l524', 'cf20m526', 'ca18f_m', 'ca20g_m', 'ca20g001', 'ca20g002', 'ca20g003', 'ca18f005', 'ca20g005', 'ca18f006', 'ca20g006', 'ca18f007', 'ca20g007', 'ca18f008', 'ca20g008', 'ca18f009', 'ca20g009', 'ca18f010', 'ca20g010', 'ca18f011', 'ca20g011', 'ca20g012', 'ca18f057', 'ca20g057', 'ca18f058', 'ca20g058', 'ca18f060', 'ca20g060', 'ca18f061', 'ca20g061', 'ca18f062', 'ca20g062', 'ca18f066', 'ca20g066', 'ca18f067', 'ca20g067', 'ca18f068', 'ca20g068', 'ca18f069', 'ca20g069', 'ca18f070', 'ca20g070', 'ca18f075', 'ca20g075', 'ca18f078', 'ca20g078', 'ca18f079', 'ca20g079', 'ca18f080', 'ca20g080', 'ca18f081', 'ca20g081', 'ca20g082', 'ca18f087', 'ca20g087', 'ci18k_m', 'ci19l_m', 'ci20m_m', 'ci18k001', 'ci19l001', 'ci20m001', 'ci18k002', 'ci19l002', 'ci20m002', 'ci18k003', 'ci19l003', 'ci20m003', 'ci18k005', 'ci19l005', 'ci20m005', 'ci18k006', 'ci19l006', 'ci20m006', 'ci19l007', 'ci20m007', 'ci18k008', 'ci19l008', 'ci20m008', 'ci18k037', 'ci19l037', 'ci20m037', 'ci18k038', 'ci19l038', 'ci20m038', 'ci18k039', 'ci19l039', 'ci20m039', 'ci18k040', 'ci19l040', 'ci20m040', 'ci18k041', 'ci19l041', 'ci20m041', 'ci18k042', 'ci19l042', 'ci20m042', 'ci18k043', 'ci19l043', 'ci20m043', 'ci18k044', 'ci19l044', 'ci20m044', 'ci18k045', 'ci19l045', 'ci20m045', 'ci18k087', 'ci19l087', 'ci20m087', 'ci18k088', 'ci18k089', 'ci18k090', 'ci19l090', 'ci20m090', 'ci18k091', 'ci19l091', 'ci20m091', 'ci18k092', 'ci18k094', 'ci19l094', 'ci20m094', 'ci18k095', 'ci18k096', 'ci19l096', 'ci20m096', 'ci18k098', 'ci19l098', 'ci20m098', 'ci18k099', 'ci19l099', 'ci20m099', 'ci18k100', 'ci19l100', 'ci20m100', 'ci18k101', 'ci19l101', 'ci20m101', 'ci19l144', 'ci20m144', 'ci19l145', 'ci19l146', 'ci20m146', 'ci19l147', 'ci20m147', 'ci19l148', 'ci20m148', 'ci19l149', 'ci20m149', 'ci19l150', 'ci20m150', 'ci19l151', 'ci20m151', 'ci19l152', 'ci20m152', 'ci19l153', 'ci20m153', 'ci19l154', 'ci20m154', 'ci18k175', 'ci19l175', 'ci20m175', 'ci18k177', 'ci19l177', 'ci20m177', 'ci19l203', 'ci20m203', 'ci19l205', 'ci20m205', 'ci19l207', 'ci20m207', 'ci20m209', 'ci20m211', 'ci19l213', 'ci20m213', 'ci20m237', 'ci20m238', 'ci20m239', 'ci20m240', 'ci20m241', 'ci20m242', 'ci20m245', 'ci20m246', 'ci20m247', 'ci20m248', 'ci20m249', 'ci20m250', 'ci20m251', 'ci20m252', 'ci20m253', 'ci20m254', 'ci20m258', 'ci20m261', 'ci18k263', 'ci20m292', 'ci20m293', 'ci20m294', 'ci20m295', 'ci20m301', 'ci20m303', 'ci20m306', 'ci20m307', 'ci20m309', 'ci18k313', 'ci19l313', 'ci20m313', 'ci18k314', 'ci19l314', 'ci20m314', 'ci18k315', 'ci19l315', 'ci20m315', 'ci18k316', 'ci19l316', 'ci20m316', 'ci18k317', 'ci19l317', 'ci20m317', 'ci18k322', 'ci19l322', 'ci20m322', 'ci18k326', 'ci19l326', 'ci20m326', 'ci18k327', 'ci19l327', 'ci20m327', 'ci18k328', 'ci19l328', 'ci20m328', 'ci18k329', 'ci20m340', 'ci18k341', 'ci19l341', 'ci20m341', 'ci20m352', 'ci20m353', 'ci20m354', 'ci20m355', 'ci20m356', 'ci19l374', 'ci20m374', 'ci20m377', 'ci20m378', 'ci19l380', 'ci20m380', 'ci20m382', 'ci19l383', 'ci20m383', 'ch17j_m', 'ch18k_m', 'ch19l_m', 'ch20m_m', 'ch17j001', 'ch18k001', 'ch19l001', 'ch20m001', 'ch17j002', 'ch18k002', 'ch19l002', 'ch20m002', 'ch17j003', 'ch18k003', 'ch19l003', 'ch20m003', 'ch17j004', 'ch18k004', 'ch19l004', 'ch20m004', 'ch17j005', 'ch18k005', 'ch19l005', 'ch20m005', 'ch17j011', 'ch18k011', 'ch19l011', 'ch20m011', 'ch17j012', 'ch18k012', 'ch19l012', 'ch20m012', 'ch17j013', 'ch18k013', 'ch19l013', 'ch20m013', 'ch17j014', 'ch18k014', 'ch19l014', 'ch20m014', 'ch17j015', 'ch18k015', 'ch19l015', 'ch20m015', 'ch17j016', 'ch18k016', 'ch19l016', 'ch20m016', 'ch17j017', 'ch18k017', 'ch19l017', 'ch20m017', 'ch17j018', 'ch18k018', 'ch19l018', 'ch20m018', 'ch17j020', 'ch18k020', 'ch19l020', 'ch20m020', 'ch17j021', 'ch18k021', 'ch19l021', 'ch20m021', 'ch17j022', 'ch18k022', 'ch19l022', 'ch20m022', 'ch17j023', 'ch18k023', 'ch19l023', 'ch20m023', 'ch17j024', 'ch18k024', 'ch19l024', 'ch20m024', 'ch17j025', 'ch18k025', 'ch19l025', 'ch20m025', 'ch17j026', 'ch18k026', 'ch19l026', 'ch20m026', 'ch17j027', 'ch18k027', 'ch19l027', 'ch20m027', 'ch17j028', 'ch18k028', 'ch19l028', 'ch20m028', 'ch17j029', 'ch18k029', 'ch19l029', 'ch20m029', 'ch17j030', 'ch18k030', 'ch19l030', 'ch20m030', 'ch17j031', 'ch18k031', 'ch19l031', 'ch20m031', 'ch17j032', 'ch18k032', 'ch19l032', 'ch20m032', 'ch17j033', 'ch18k033', 'ch19l033', 'ch20m033', 'ch17j034', 'ch18k034', 'ch19l034', 'ch20m034', 'ch17j035', 'ch18k035', 'ch19l035', 'ch20m035', 'ch17j036', 'ch18k036', 'ch19l036', 'ch20m036', 'ch17j037', 'ch18k037', 'ch19l037', 'ch20m037', 'ch17j038', 'ch18k038', 'ch19l038', 'ch20m038', 'ch17j039', 'ch18k039', 'ch19l039', 'ch20m039', 'ch17j040', 'ch18k040', 'ch19l040', 'ch20m040', 'ch17j041', 'ch18k041', 'ch19l041', 'ch20m041', 'ch17j042', 'ch18k042', 'ch19l042', 'ch20m042', 'ch17j043', 'ch18k043', 'ch19l043', 'ch20m043', 'ch17j044', 'ch18k044', 'ch19l044', 'ch20m044', 'ch17j045', 'ch18k045', 'ch19l045', 'ch20m045', 'ch17j070', 'ch18k070', 'ch19l070', 'ch20m070', 'ch17j071', 'ch18k071', 'ch19l071', 'ch20m071', 'ch17j072', 'ch18k072', 'ch19l072', 'ch20m072', 'ch17j073', 'ch18k073', 'ch19l073', 'ch20m073', 'ch17j074', 'ch18k074', 'ch19l074', 'ch20m074', 'ch17j075', 'ch18k075', 'ch19l075', 'ch20m075', 'ch17j076', 'ch18k076', 'ch19l076', 'ch20m076', 'ch17j077', 'ch18k077', 'ch19l077', 'ch20m077', 'ch17j078', 'ch18k078', 'ch19l078', 'ch20m078', 'ch17j079', 'ch18k079', 'ch19l079', 'ch20m079', 'ch17j080', 'ch18k080', 'ch19l080', 'ch20m080', 'ch17j081', 'ch18k081', 'ch19l081', 'ch20m081', 'ch17j082', 'ch18k082', 'ch19l082', 'ch20m082', 'ch17j083', 'ch18k083', 'ch19l083', 'ch20m083', 'ch17j084', 'ch18k084', 'ch19l084', 'ch20m084', 'ch17j085', 'ch18k085', 'ch19l085', 'ch20m085', 'ch17j086', 'ch18k086', 'ch19l086', 'ch20m086', 'ch17j087', 'ch18k087', 'ch19l087', 'ch20m087', 'ch17j088', 'ch18k088', 'ch19l088', 'ch20m088', 'ch17j089', 'ch18k089', 'ch19l089', 'ch20m089', 'ch17j090', 'ch18k090', 'ch19l090', 'ch20m090', 'ch17j091', 'ch18k091', 'ch19l091', 'ch20m091', 'ch17j092', 'ch18k092', 'ch19l092', 'ch20m092', 'ch17j093', 'ch18k093', 'ch19l093', 'ch20m093', 'ch17j094', 'ch18k094', 'ch19l094', 'ch20m094', 'ch17j095', 'ch18k095', 'ch19l095', 'ch20m095', 'ch17j096', 'ch18k096', 'ch19l096', 'ch20m096', 'ch17j097', 'ch18k097', 'ch19l097', 'ch20m097', 'ch17j098', 'ch18k098', 'ch19l098', 'ch20m098', 'ch17j099', 'ch18k099', 'ch19l099', 'ch20m099', 'ch17j125', 'ch18k125', 'ch19l125', 'ch20m125', 'ch17j133', 'ch18k133', 'ch19l133', 'ch20m133', 'ch20m134', 'ch17j159', 'ch18k159', 'ch19l159', 'ch20m159', 'ch17j160', 'ch18k160', 'ch19l160', 'ch20m160', 'ch17j161', 'ch18k161', 'ch19l161', 'ch20m161', 'ch17j162', 'ch18k162', 'ch19l162', 'ch20m162', 'ch17j163', 'ch18k163', 'ch19l163', 'ch20m163', 'ch17j169', 'ch18k169', 'ch19l169', 'ch20m169', 'ch17j170', 'ch18k170', 'ch19l170', 'ch20m170', 'ch17j171', 'ch18k171', 'ch19l171', 'ch20m171', 'ch17j172', 'ch18k172', 'ch19l172', 'ch20m172', 'ch17j173', 'ch18k173', 'ch19l173', 'ch20m173', 'ch17j174', 'ch18k174', 'ch19l174', 'ch20m174', 'ch17j175', 'ch18k175', 'ch19l175', 'ch20m175', 'ch17j176', 'ch18k176', 'ch19l176', 'ch20m176', 'ch17j177', 'ch18k177', 'ch19l177', 'ch20m177', 'ch17j178', 'ch18k178', 'ch19l178', 'ch20m178', 'ch17j179', 'ch18k179', 'ch19l179', 'ch20m179', 'ch17j180', 'ch18k180', 'ch19l180', 'ch20m180', 'ch17j181', 'ch18k181', 'ch19l181', 'ch20m181', 'ch17j182', 'ch18k182', 'ch19l182', 'ch20m182', 'ch17j183', 'ch18k183', 'ch19l183', 'ch20m183', 'ch17j184', 'ch18k184', 'ch19l184', 'ch20m184', 'ch17j185', 'ch18k185', 'ch17j188', 'ch18k188', 'ch17j191', 'ch18k191', 'ch17j194', 'ch18k194', 'ch17j196', 'ch18k196', 'ch17j197', 'ch18k197', 'ch17j198', 'ch18k198', 'ch17j199', 'ch18k199', 'ch17j200', 'ch18k200', 'ch17j201', 'ch18k201', 'ch17j202', 'ch18k202', 'ch17j203', 'ch18k203', 'ch17j206', 'ch18k206', 'ch19l206', 'ch20m206', 'ch17j207', 'ch18k207', 'ch19l207', 'ch20m207', 'ch17j208', 'ch18k208', 'ch19l208', 'ch20m208', 'ch17j209', 'ch18k209', 'ch19l209', 'ch20m209', 'ch17j210', 'ch18k210', 'ch19l210', 'ch20m210', 'ch17j211', 'ch18k211', 'ch19l211', 'ch20m211', 'ch17j212', 'ch18k212', 'ch19l212', 'ch20m212', 'ch17j213', 'ch18k213', 'ch19l213', 'ch20m213', 'ch17j214', 'ch18k214', 'ch19l214', 'ch20m214', 'ch17j215', 'ch18k215', 'ch19l215', 'ch20m215', 'ch17j216', 'ch18k216', 'ch19l216', 'ch20m216', 'ch17j217', 'ch18k217', 'ch19l217', 'ch20m217', 'ch17j218', 'ch18k218', 'ch19l218', 'ch20m218', 'ch17j219', 'ch18k219', 'ch19l219', 'ch20m219', 'ch17j220', 'ch18k220', 'ch19l220', 'ch20m220', 'ch17j221', 'ch18k221', 'ch19l221', 'ch20m221', 'ch17j222', 'ch18k222', 'ch19l222', 'ch20m222', 'ch17j223', 'ch18k223', 'ch19l223', 'ch20m223', 'ch17j224', 'ch18k224', 'ch19l224', 'ch20m224', 'ch17j225', 'ch18k225', 'ch19l225', 'ch20m225', 'ch17j226', 'ch18k226', 'ch19l226', 'ch20m226', 'ch17j227', 'ch18k227', 'ch19l227', 'ch20m227', 'ch17j228', 'ch18k228', 'ch19l228', 'ch20m228', 'ch17j229', 'ch18k229', 'ch19l229', 'ch20m229', 'ch17j232', 'ch18k232', 'ch19l232', 'ch20m232', 'ch17j233', 'ch18k233', 'ch19l233', 'ch20m233', 'ch17j234', 'ch18k234', 'ch19l234', 'ch20m234', 'ch17j235', 'ch18k235', 'ch19l235', 'ch20m235', 'ch17j238', 'ch18k238', 'ch17j239', 'ch18k239', 'ch19l239', 'ch20m239', 'ch17j245', 'ch18k245', 'ch17j246', 'ch18k246', 'ch17j247', 'ch18k247', 'ch17j249', 'ch18k249', 'ch17j250', 'ch18k250', 'ch19l250', 'ch20m250', 'ch17j251', 'ch18k251', 'ch19l251', 'ch20m251', 'ch17j252', 'ch18k252', 'ch19l252', 'ch20m252', 'ch17j253', 'ch18k253', 'ch19l253', 'ch20m253', 'ch17j254', 'ch18k254', 'ch19l254', 'ch20m254', 'ch17j256', 'ch18k256', 'ch17j258', 'ch18k258', 'ch17j259', 'ch18k259', 'ch19l259', 'ch20m259', 'ch19l260', 'ch20m260', 'ch17j261', 'ch18k261', 'ch17j262', 'ch18k262', 'ch18k263', 'ch19l263', 'ch20m263', 'ch17j267', 'ch18k267', 'ch19l267', 'ch20m267', 'ch20m269', 'ch20m270', 'cp17i_m', 'cp18j_m', 'cp19k_m', 'cp20l_m', 'cp17i001', 'cp18j001', 'cp17i002', 'cp18j002', 'cp17i003', 'cp18j003', 'cp17i004', 'cp18j004', 'cp17i005', 'cp18j005', 'cp17i006', 'cp18j006', 'cp17i007', 'cp18j007', 'cp17i008', 'cp18j008', 'cp17i009', 'cp18j009', 'cp17i010', 'cp18j010', 'cp19k010', 'cp20l010', 'cp17i011', 'cp18j011', 'cp19k011', 'cp20l011', 'cp17i012', 'cp18j012', 'cp19k012', 'cp20l012', 'cp17i013', 'cp18j013', 'cp19k013', 'cp20l013', 'cp17i014', 'cp18j014', 'cp19k014', 'cp20l014', 'cp17i015', 'cp18j015', 'cp19k015', 'cp20l015', 'cp17i016', 'cp18j016', 'cp19k016', 'cp20l016', 'cp17i017', 'cp18j017', 'cp19k017', 'cp20l017', 'cp17i018', 'cp18j018', 'cp19k018', 'cp20l018', 'cp17i019', 'cp18j019', 'cp19k019', 'cp20l019', 'cp17i020', 'cp19k020', 'cp20l020', 'cp17i021', 'cp19k021', 'cp20l021', 'cp17i022', 'cp19k022', 'cp20l022', 'cp17i023', 'cp19k023', 'cp20l023', 'cp17i024', 'cp19k024', 'cp20l024', 'cp17i025', 'cp19k025', 'cp20l025', 'cp17i026', 'cp19k026', 'cp20l026', 'cp17i027', 'cp19k027', 'cp20l027', 'cp17i028', 'cp19k028', 'cp20l028', 'cp17i029', 'cp19k029', 'cp20l029', 'cp17i030', 'cp19k030', 'cp20l030', 'cp17i031', 'cp19k031', 'cp20l031', 'cp17i032', 'cp19k032', 'cp20l032', 'cp17i033', 'cp19k033', 'cp20l033', 'cp17i034', 'cp19k034', 'cp20l034', 'cp17i035', 'cp19k035', 'cp20l035', 'cp17i036', 'cp19k036', 'cp20l036', 'cp17i037', 'cp19k037', 'cp20l037', 'cp17i038', 'cp19k038', 'cp20l038', 'cp17i039', 'cp19k039', 'cp20l039', 'cp17i040', 'cp19k040', 'cp20l040', 'cp17i041', 'cp19k041', 'cp20l041', 'cp17i042', 'cp19k042', 'cp20l042', 'cp17i043', 'cp19k043', 'cp20l043', 'cp17i044', 'cp19k044', 'cp20l044', 'cp17i045', 'cp19k045', 'cp20l045', 'cp17i046', 'cp19k046', 'cp20l046', 'cp17i047', 'cp19k047', 'cp20l047', 'cp17i048', 'cp19k048', 'cp20l048', 'cp17i049', 'cp19k049', 'cp20l049', 'cp17i050', 'cp19k050', 'cp20l050', 'cp17i051', 'cp19k051', 'cp20l051', 'cp17i052', 'cp19k052', 'cp20l052', 'cp17i053', 'cp19k053', 'cp20l053', 'cp17i054', 'cp19k054', 'cp20l054', 'cp17i055', 'cp19k055', 'cp20l055', 'cp17i056', 'cp19k056', 'cp20l056', 'cp17i057', 'cp19k057', 'cp20l057', 'cp17i058', 'cp19k058', 'cp20l058', 'cp17i059', 'cp19k059', 'cp20l059', 'cp17i060', 'cp19k060', 'cp20l060', 'cp17i061', 'cp19k061', 'cp20l061', 'cp17i062', 'cp19k062', 'cp20l062', 'cp17i063', 'cp19k063', 'cp20l063', 'cp17i064', 'cp19k064', 'cp20l064', 'cp17i065', 'cp19k065', 'cp20l065', 'cp17i066', 'cp19k066', 'cp20l066', 'cp17i067', 'cp19k067', 'cp20l067', 'cp17i068', 'cp19k068', 'cp20l068', 'cp17i069', 'cp19k069', 'cp20l069', 'cp17i070', 'cp19k070', 'cp20l070', 'cp17i071', 'cp19k071', 'cp20l071', 'cp17i072', 'cp19k072', 'cp20l072', 'cp17i073', 'cp19k073', 'cp20l073', 'cp17i074', 'cp19k074', 'cp20l074', 'cp17i075', 'cp19k075', 'cp20l075', 'cp17i076', 'cp19k076', 'cp20l076', 'cp17i077', 'cp19k077', 'cp20l077', 'cp17i078', 'cp19k078', 'cp20l078', 'cp17i079', 'cp19k079', 'cp20l079', 'cp17i080', 'cp17i081', 'cp17i082', 'cp17i083', 'cp17i084', 'cp17i085', 'cp17i086', 'cp17i087', 'cp17i088', 'cp17i089', 'cp17i090', 'cp17i091', 'cp17i092', 'cp17i093', 'cp17i094', 'cp17i095', 'cp17i096', 'cp17i097', 'cp17i098', 'cp17i099', 'cp19k099', 'cp20l099', 'cp17i100', 'cp19k100', 'cp20l100', 'cp17i101', 'cp19k101', 'cp20l101', 'cp17i102', 'cp19k102', 'cp20l102', 'cp17i103', 'cp19k103', 'cp20l103', 'cp17i104', 'cp19k104', 'cp20l104', 'cp17i105', 'cp19k105', 'cp20l105', 'cp17i106', 'cp19k106', 'cp20l106', 'cp17i107', 'cp19k107', 'cp20l107', 'cp17i108', 'cp19k108', 'cp20l108', 'cp17i109', 'cp19k109', 'cp20l109', 'cp17i110', 'cp19k110', 'cp20l110', 'cp17i111', 'cp19k111', 'cp20l111', 'cp17i112', 'cp19k112', 'cp20l112', 'cp17i113', 'cp19k113', 'cp20l113', 'cp17i114', 'cp19k114', 'cp20l114', 'cp17i115', 'cp19k115', 'cp20l115', 'cp17i116', 'cp19k116', 'cp20l116', 'cp17i117', 'cp19k117', 'cp20l117', 'cp17i118', 'cp19k118', 'cp20l118', 'cp17i119', 'cp19k119', 'cp20l119', 'cp17i120', 'cp19k120', 'cp20l120', 'cp17i121', 'cp19k121', 'cp20l121', 'cp17i122', 'cp19k122', 'cp20l122', 'cp17i123', 'cp19k123', 'cp20l123', 'cp17i124', 'cp19k124', 'cp20l124', 'cp17i125', 'cp19k125', 'cp20l125', 'cp17i126', 'cp19k126', 'cp20l126', 'cp17i127', 'cp19k127', 'cp20l127', 'cp17i128', 'cp19k128', 'cp20l128', 'cp17i129', 'cp19k129', 'cp20l129', 'cp17i130', 'cp19k130', 'cp20l130', 'cp17i131', 'cp19k131', 'cp20l131', 'cp17i132', 'cp19k132', 'cp20l132', 'cp17i133', 'cp19k133', 'cp20l133', 'cp17i134', 'cp19k134', 'cp20l134', 'cp17i135', 'cp18j135', 'cp19k135', 'cp20l135', 'cp17i136', 'cp19k136', 'cp20l136', 'cp17i137', 'cp19k137', 'cp20l137', 'cp17i138', 'cp19k138', 'cp20l138', 'cp17i139', 'cp19k139', 'cp20l139', 'cp17i140', 'cp19k140', 'cp20l140', 'cp17i141', 'cp19k141', 'cp20l141', 'cp17i142', 'cp19k142', 'cp20l142', 'cp17i143', 'cp19k143', 'cp20l143', 'cp17i144', 'cp19k144', 'cp20l144', 'cp17i145', 'cp19k145', 'cp20l145', 'cp17i146', 'cp19k146', 'cp20l146', 'cp17i147', 'cp19k147', 'cp20l147', 'cp17i148', 'cp19k148', 'cp20l148', 'cp17i149', 'cp19k149', 'cp20l149', 'cp17i150', 'cp19k150', 'cp20l150', 'cp17i151', 'cp19k151', 'cp20l151', 'cp17i152', 'cp19k152', 'cp20l152', 'cp17i153', 'cp19k153', 'cp20l153', 'cp17i154', 'cp19k154', 'cp20l154', 'cp17i155', 'cp19k155', 'cp20l155', 'cp17i156', 'cp19k156', 'cp20l156', 'cp17i157', 'cp19k157', 'cp20l157', 'cp17i158', 'cp19k158', 'cp20l158', 'cp17i159', 'cp19k159', 'cp20l159', 'cp17i160', 'cp19k160', 'cp20l160', 'cp17i161', 'cp19k161', 'cp20l161', 'cp17i162', 'cp19k162', 'cp20l162', 'cp17i163', 'cp19k163', 'cp20l163', 'cp17i164', 'cp19k164', 'cp20l164', 'cp17i165', 'cp19k165', 'cp20l165', 'cp17i166', 'cp17i167', 'cp17i168', 'cp17i169', 'cp17i170', 'cp17i171', 'cp17i172', 'cp17i173', 'cp17i174', 'cp17i175', 'cp17i176', 'cp17i177', 'cp17i178', 'cp17i179', 'cp17i180', 'cp17i181', 'cp17i182', 'cp17i183', 'cp17i184', 'cp18j184', 'cp19k184', 'cp20l184', 'cp17i185', 'cp18j185', 'cp19k185', 'cp20l185', 'cp17i186', 'cp18j186', 'cp19k186', 'cp20l186', 'cp17i187', 'cp18j187', 'cp19k187', 'cp20l187', 'cp17i188', 'cp18j188', 'cp19k188', 'cp20l188', 'cp17i190', 'cp17i192', 'cp17i193', 'cp18j193', 'cp19k193', 'cp20l193', 'cp17i194', 'cp18j194', 'cp18j197', 'cp17i198', 'cp18j198', 'cp19k198', 'cp20l198', 'cp17i199', 'cp18j199', 'cp19k199', 'cp20l199', 'cp17i200', 'cp18j200', 'cp19k200', 'cp20l200', 'cp17i201', 'cp18j201', 'cp19k201', 'cp20l201', 'cp17i202', 'cp18j202', 'cp19k202', 'cp20l202', 'cp17i203', 'cp18j203', 'cp19k203', 'cp20l203', 'cp17i204', 'cp18j204', 'cp19k204', 'cp20l204', 'cp17i205', 'cp18j205', 'cp19k205', 'cp20l205', 'cp17i206', 'cp18j206', 'cp19k206', 'cp20l206', 'cp17i207', 'cp18j207', 'cp19k207', 'cp20l207', 'cv18j_m1', 'cv18j_m2', 'cv18j_m3', 'cv19k_m1', 'cv19k_m2', 'cv19k_m3', 'cv20l_m1', 'cv20l_m2', 'cv20l_m3', 'cv18j001', 'cv19k001', 'cv20l001', 'cv18j002', 'cv19k002', 'cv20l002', 'cv18j003', 'cv19k003', 'cv20l003', 'cv18j004', 'cv19k004', 'cv20l004', 'cv18j006', 'cv19k006', 'cv20l006', 'cv18j007', 'cv19k007', 'cv18j008', 'cv19k008', 'cv20l008', 'cv18j009', 'cv19k009', 'cv20l009', 'cv18j010', 'cv19k010', 'cv20l010', 'cv18j011', 'cv19k011', 'cv20l011', 'cv18j012', 'cv19k012', 'cv20l012', 'cv18j013', 'cv19k013', 'cv20l013', 'cv18j014', 'cv19k014', 'cv20l014', 'cv18j015', 'cv19k015', 'cv20l015', 'cv18j016', 'cv19k016', 'cv20l016', 'cv18j017', 'cv19k017', 'cv20l017', 'cv18j018', 'cv19k018', 'cv20l018', 'cv18j019', 'cv19k019', 'cv20l019', 'cv18j020', 'cv19k020', 'cv20l020', 'cv18j021', 'cv19k021', 'cv20l021', 'cv18j022', 'cv19k022', 'cv20l022', 'cv18j023', 'cv19k023', 'cv20l023', 'cv18j024', 'cv19k024', 'cv20l024', 'cv18j025', 'cv19k025', 'cv20l025', 'cv18j026', 'cv19k026', 'cv20l026', 'cv18j027', 'cv19k027', 'cv20l027', 'cv18j028', 'cv19k028', 'cv20l028', 'cv18j029', 'cv19k029', 'cv20l029', 'cv18j030', 'cv19k030', 'cv20l030', 'cv18j031', 'cv19k031', 'cv20l031', 'cv18j032', 'cv19k032', 'cv20l032', 'cv18j033', 'cv19k033', 'cv20l033', 'cv18j034', 'cv19k034', 'cv20l034', 'cv18j035', 'cv19k035', 'cv20l035', 'cv18j036', 'cv19k036', 'cv20l036', 'cv18j037', 'cv19k037', 'cv20l037', 'cv18j038', 'cv19k038', 'cv20l038', 'cv18j039', 'cv19k039', 'cv20l039', 'cv18j040', 'cv19k040', 'cv20l040', 'cv18j041', 'cv19k041', 'cv20l041', 'cv18j042', 'cv19k042', 'cv20l042', 'cv18j043', 'cv19k043', 'cv20l043', 'cv18j044', 'cv19k044', 'cv20l044', 'cv18j045', 'cv19k045', 'cv20l045', 'cv18j046', 'cv19k046', 'cv20l046', 'cv18j047', 'cv19k047', 'cv20l047', 'cv18j048', 'cv19k048', 'cv20l048', 'cv18j049', 'cv19k049', 'cv20l049', 'cv18j050', 'cv19k050', 'cv20l050', 'cv18j051', 'cv19k051', 'cv20l051', 'cv18j052', 'cv19k052', 'cv20l052', 'cv18j053', 'cv19k053', 'cv20l053', 'cv18j065', 'cv19k065', 'cv20l065', 'cv18j066', 'cv19k066', 'cv20l066', 'cv18j067', 'cv19k067', 'cv20l067', 'cv18j068', 'cv19k068', 'cv20l068', 'cv18j069', 'cv19k069', 'cv20l069', 'cv18j070', 'cv19k070', 'cv20l070', 'cv18j071', 'cv19k071', 'cv20l071', 'cv18j072', 'cv19k072', 'cv20l072', 'cv18j073', 'cv19k073', 'cv20l073', 'cv18j074', 'cv19k074', 'cv18j098', 'cv19k098', 'cv20l098', 'cv20l101', 'cv18j102', 'cv19k102', 'cv20l102', 'cv18j103', 'cv19k103', 'cv20l103', 'cv18j104', 'cv19k104', 'cv20l104', 'cv18j105', 'cv19k105', 'cv20l105', 'cv18j106', 'cv19k106', 'cv20l106', 'cv18j107', 'cv19k107', 'cv20l107', 'cv18j108', 'cv19k108', 'cv20l108', 'cv18j109', 'cv19k109', 'cv20l109', 'cv18j110', 'cv19k110', 'cv20l110', 'cv18j111', 'cv19k111', 'cv20l111', 'cv18j112', 'cv19k112', 'cv20l112', 'cv18j113', 'cv19k113', 'cv20l113', 'cv18j114', 'cv19k114', 'cv20l114', 'cv18j115', 'cv19k115', 'cv20l115', 'cv18j116', 'cv19k116', 'cv20l116', 'cv18j117', 'cv19k117', 'cv20l117', 'cv18j118', 'cv19k118', 'cv20l118', 'cv18j119', 'cv19k119', 'cv20l119', 'cv18j120', 'cv19k120', 'cv20l120', 'cv18j121', 'cv19k121', 'cv20l121', 'cv18j122', 'cv19k122', 'cv20l122', 'cv18j123', 'cv19k123', 'cv20l123', 'cv18j124', 'cv19k124', 'cv20l124', 'cv18j125', 'cv19k125', 'cv20l125', 'cv18j126', 'cv19k126', 'cv20l126', 'cv18j127', 'cv19k127', 'cv20l127', 'cv18j128', 'cv19k128', 'cv20l128', 'cv18j129', 'cv19k129', 'cv20l129', 'cv18j130', 'cv19k130', 'cv20l130', 'cv18j131', 'cv19k131', 'cv20l131', 'cv18j132', 'cv19k132', 'cv20l132', 'cv18j133', 'cv19k133', 'cv20l133', 'cv18j134', 'cv19k134', 'cv20l134', 'cv18j139', 'cv19k139', 'cv20l139', 'cv18j140', 'cv19k140', 'cv20l140', 'cv18j141', 'cv19k141', 'cv20l141', 'cv18j142', 'cv19k142', 'cv20l142', 'cv18j143', 'cv19k143', 'cv20l143', 'cv18j144', 'cv19k144', 'cv20l144', 'cv18j145', 'cv19k145', 'cv20l145', 'cv18j146', 'cv19k146', 'cv20l146', 'cv18j147', 'cv19k147', 'cv20l147', 'cv18j148', 'cv19k148', 'cv20l148', 'cv18j151', 'cv19k151', 'cv20l151', 'cv18j152', 'cv19k152', 'cv20l152', 'cv18j153', 'cv19k153', 'cv20l153', 'cv18j154', 'cv19k154', 'cv20l154', 'cv18j160', 'cv19k160', 'cv20l160', 'cv18j166', 'cv19k166', 'cv20l166', 'cv18j167', 'cv19k167', 'cv20l167', 'cv18j199', 'cv19k199', 'cv20l199', 'cv19k211', 'cv20l211', 'cv20l212', 'cv19k213', 'cv20l213', 'cv20l214', 'cv20l215', 'cv20l216', 'cv20l217', 'cv20l218', 'cv20l219', 'cv20l220', 'cv20l221', 'cv18j222', 'cv19k222', 'cv20l222', 'cv18j224', 'cv19k224', 'cv20l224', 'cv20l225', 'cv20l240', 'cv18j242', 'cv19k242', 'cv20l242', 'cv18j243', 'cv19k243', 'cv20l243', 'cv20l264', 'cv20l266', 'cv18j274', 'cv19k274', 'cv20l274', 'cv18j275', 'cv19k275', 'cv20l275', 'cv18j276', 'cv19k276', 'cv20l276', 'cv18j277', 'cv19k277', 'cv20l277', 'cv18j278', 'cv19k278', 'cv20l278', 'cv18j279', 'cv19k279', 'cv20l279', 'cv18j280', 'cv19k280', 'cv20l280', 'cv18j281', 'cv19k281', 'cv20l281', 'cv18j282', 'cv19k282', 'cv20l282', 'cv18j283', 'cv19k283', 'cv20l283', 'cv18j284', 'cv19k284', 'cv20l284', 'cv18j285', 'cv19k285', 'cv20l285', 'cv18j286', 'cv19k286', 'cv20l286', 'cv18j287', 'cv19k287', 'cv20l287', 'cv18j288', 'cv19k288', 'cv20l288', 'cv18j301', 'cv19k301', 'cv20l301', 'cv18j302', 'cv19k302', 'cv20l302', 'cv18j303', 'cv19k303', 'cv20l303', 'cv20l305', 'cv20l306', 'cr17j_m', 'cr18k_m', 'cr19l_m', 'cr20m_m', 'cr17j001', 'cr17j002', 'cr18k002', 'cr17j011', 'cr18k011', 'cr17j012', 'cr18k012', 'cr17j030', 'cr18k030', 'cr19l030', 'cr20m030', 'cr18k031', 'cr19l031', 'cr20m031', 'cr18k032', 'cr17j034', 'cr18k034', 'cr17j035', 'cr18k035', 'cr17j037', 'cr18k037', 'cr17j040', 'cr18k040', 'cr17j041', 'cr18k041', 'cr19l041', 'cr20m041', 'cr17j042', 'cr18k042', 'cr19l042', 'cr20m042', 'cr17j079', 'cr18k079', 'cr19l079', 'cr20m079', 'cr17j080', 'cr18k080', 'cr19l080', 'cr20m080', 'cr17j081', 'cr18k081', 'cr19l081', 'cr20m081', 'cr17j082', 'cr18k082', 'cr19l082', 'cr20m082', 'cr17j083', 'cr18k083', 'cr19l083', 'cr20m083', 'cr17j084', 'cr18k084', 'cr19l084', 'cr20m084', 'cr17j085', 'cr18k085', 'cr19l085', 'cr20m085', 'cr17j086', 'cr18k086', 'cr19l086', 'cr20m086', 'cr17j087', 'cr18k087', 'cr19l087', 'cr20m087', 'cr17j089', 'cr18k089', 'cr19l089', 'cr20m089', 'cr17j092', 'cr18k092', 'cr19l092', 'cr20m092', 'cr17j093', 'cr18k093', 'cr19l093', 'cr20m093', 'cr17j094', 'cr18k094', 'cr19l094', 'cr20m094', 'cr17j095', 'cr18k095', 'cr19l095', 'cr20m095', 'cr18k096', 'cr19l096', 'cr20m096', 'cr17j097', 'cr18k097', 'cr19l097', 'cr20m097', 'cr17j098', 'cr18k098', 'cr19l098', 'cr20m098', 'cr17j101', 'cr18k101', 'cr17j102', 'cr18k102', 'cr17j103', 'cr18k103', 'cr17j104', 'cr18k104', 'cr17j105', 'cr18k105', 'cr17j108', 'cr18k108', 'cr17j109', 'cr18k109', 'cr19l109', 'cr20m109', 'cr17j110', 'cr18k110', 'cr19l110', 'cr20m110', 'cr17j111', 'cr18k111', 'cr19l111', 'cr20m111', 'cr17j112', 'cr18k112', 'cr19l112', 'cr20m112', 'cr17j113', 'cr18k113', 'cr19l113', 'cr20m113', 'cr17j120', 'cr18k120', 'cr19l120', 'cr20m120', 'cr19l134', 'cr20m134', 'cr19l142', 'cr20m142', 'cr19l143', 'cr20m143', 'cr19l162', 'cr20m162', 'cr19l163', 'cr20m163', 'cr19l164', 'cr20m164', 'cr19l165', 'cr20m165', 'cr19l166', 'cr20m166', 'cr19l167', 'cr20m167', 'cr19l168', 'cr20m168', 'cr19l169', 'cr20m169', 'cr19l170', 'cr20m170', 'cr19l171', 'cr20m171', 'cr19l172', 'cr20m172', 'cr19l173', 'cr20m173', 'cr19l174', 'cr20m174', 'cr19l175', 'cr20m175', 'cr19l176', 'cr20m176', 'cr19l177', 'cr20m177', 'cr19l178', 'cr20m178', 'cr19l179', 'cr20m179', 'cs17j_m', 'cs18k_m', 'cs19l_m', 'cs20m_m', 'cs17j001', 'cs18k001', 'cs19l001', 'cs20m001', 'cs17j002', 'cs18k002', 'cs19l002', 'cs17j003', 'cs18k003', 'cs19l003', 'cs20m003', 'cs17j004', 'cs18k004', 'cs19l004', 'cs20m004', 'cs17j005', 'cs18k005', 'cs19l005', 'cs20m005', 'cs17j006', 'cs18k006', 'cs19l006', 'cs20m006', 'cs17j007', 'cs18k007', 'cs19l007', 'cs20m007', 'cs17j008', 'cs18k008', 'cs19l008', 'cs20m008', 'cs17j009', 'cs18k009', 'cs19l009', 'cs20m009', 'cs17j010', 'cs18k010', 'cs19l010', 'cs20m010', 'cs17j011', 'cs18k011', 'cs19l011', 'cs20m011', 'cs17j012', 'cs18k012', 'cs19l012', 'cs20m012', 'cs17j013', 'cs18k013', 'cs19l013', 'cs20m013', 'cs17j014', 'cs18k014', 'cs19l014', 'cs20m014', 'cs17j015', 'cs18k015', 'cs19l015', 'cs20m015', 'cs17j016', 'cs18k016', 'cs19l016', 'cs20m016', 'cs17j017', 'cs18k017', 'cs19l017', 'cs20m017', 'cs17j018', 'cs18k018', 'cs19l018', 'cs20m018', 'cs17j019', 'cs18k019', 'cs19l019', 'cs20m019', 'cs17j020', 'cs18k020', 'cs19l020', 'cs20m020', 'cs17j021', 'cs18k021', 'cs19l021', 'cs20m021', 'cs17j022', 'cs18k022', 'cs19l022', 'cs20m022', 'cs17j023', 'cs18k023', 'cs19l023', 'cs20m023', 'cs17j024', 'cs18k024', 'cs19l024', 'cs20m024', 'cs17j025', 'cs18k025', 'cs19l025', 'cs20m025', 'cs17j026', 'cs18k026', 'cs19l026', 'cs20m026', 'cs17j027', 'cs18k027', 'cs19l027', 'cs20m027', 'cs17j028', 'cs18k028', 'cs19l028', 'cs20m028', 'cs17j029', 'cs18k029', 'cs19l029', 'cs20m029', 'cs17j030', 'cs18k030', 'cs19l030', 'cs20m030', 'cs17j031', 'cs18k031', 'cs19l031', 'cs20m031', 'cs17j032', 'cs18k032', 'cs19l032', 'cs20m032', 'cs17j033', 'cs18k033', 'cs19l033', 'cs20m033', 'cs17j034', 'cs18k034', 'cs19l034', 'cs20m034', 'cs17j035', 'cs18k035', 'cs19l035', 'cs20m035', 'cs17j036', 'cs18k036', 'cs19l036', 'cs20m036', 'cs17j037', 'cs18k037', 'cs19l037', 'cs20m037', 'cs17j038', 'cs18k038', 'cs19l038', 'cs20m038', 'cs17j039', 'cs18k039', 'cs19l039', 'cs20m039', 'cs17j040', 'cs18k040', 'cs19l040', 'cs20m040', 'cs17j041', 'cs18k041', 'cs19l041', 'cs20m041', 'cs17j042', 'cs18k042', 'cs19l042', 'cs20m042', 'cs17j043', 'cs18k043', 'cs19l043', 'cs20m043', 'cs17j044', 'cs18k044', 'cs19l044', 'cs20m044', 'cs17j045', 'cs18k045', 'cs19l045', 'cs20m045', 'cs17j046', 'cs18k046', 'cs19l046', 'cs20m046', 'cs17j047', 'cs18k047', 'cs19l047', 'cs20m047', 'cs17j048', 'cs18k048', 'cs19l048', 'cs20m048', 'cs17j049', 'cs18k049', 'cs19l049', 'cs20m049', 'cs17j050', 'cs18k050', 'cs19l050', 'cs20m050', 'cs17j051', 'cs18k051', 'cs19l051', 'cs20m051', 'cs17j052', 'cs18k052', 'cs19l052', 'cs20m052', 'cs17j053', 'cs18k053', 'cs19l053', 'cs20m053', 'cs17j054', 'cs18k054', 'cs19l054', 'cs20m054', 'cs17j055', 'cs18k055', 'cs19l055', 'cs20m055', 'cs17j056', 'cs18k056', 'cs19l056', 'cs20m056', 'cs17j057', 'cs18k057', 'cs19l057', 'cs20m057', 'cs17j058', 'cs18k058', 'cs19l058', 'cs20m058', 'cs17j059', 'cs18k059', 'cs19l059', 'cs20m059', 'cs17j060', 'cs18k060', 'cs19l060', 'cs20m060', 'cs17j061', 'cs18k061', 'cs19l061', 'cs20m061', 'cs17j062', 'cs18k062', 'cs19l062', 'cs20m062', 'cs17j063', 'cs18k063', 'cs19l063', 'cs20m063', 'cs17j070', 'cs18k070', 'cs19l070', 'cs20m070', 'cs17j077', 'cs18k077', 'cs19l077', 'cs17j082', 'cs18k082', 'cs19l082', 'cs17j083', 'cs18k083', 'cs19l083', 'cs17j087', 'cs18k087', 'cs19l087', 'cs17j088', 'cs18k088', 'cs19l088', 'cs17j089', 'cs18k089', 'cs19l089', 'cs17j090', 'cs18k090', 'cs19l090', 'cs20m093', 'cs20m094', 'cs20m098', 'cs20m099', 'cs20m100', 'cs20m101', 'cs17j102', 'cs18k102', 'cs19l102', 'cs20m102', 'cs17j103', 'cs18k103', 'cs19l103', 'cs20m103', 'cs17j104', 'cs18k104', 'cs19l104', 'cs20m104', 'cs17j124', 'cs18k124', 'cs19l124', 'cs20m124', 'cs17j125', 'cs18k125', 'cs19l125', 'cs20m125', 'cs17j126', 'cs18k126', 'cs19l126', 'cs20m126', 'cs17j127', 'cs18k127', 'cs19l127', 'cs17j130', 'cs18k130', 'cs19l130', 'cs20m131', 'cs17j132', 'cs18k132', 'cs19l132', 'cs17j133', 'cs18k133', 'cs19l133', 'cs17j134', 'cs18k134', 'cs19l134', 'cs17j135', 'cs18k135', 'cs19l135', 'cs17j136', 'cs18k136', 'cs19l136', 'cs17j137', 'cs18k137', 'cs19l137', 'cs17j138', 'cs18k138', 'cs19l138', 'cs17j139', 'cs18k139', 'cs19l139', 'cs17j141', 'cs18k141', 'cs19l141', 'cs17j142', 'cs18k142', 'cs19l142', 'cs17j143', 'cs18k143', 'cs19l143', 'cs17j144', 'cs18k144', 'cs19l144', 'cs17j145', 'cs18k145', 'cs19l145', 'cs17j146', 'cs18k146', 'cs19l146', 'cs17j147', 'cs18k147', 'cs19l147', 'cs17j148', 'cs18k148', 'cs19l148', 'cs17j149', 'cs18k149', 'cs19l149', 'cs17j150', 'cs18k150', 'cs19l150', 'cs17j151', 'cs18k151', 'cs19l151', 'cs17j152', 'cs18k152', 'cs19l152', 'cs17j153', 'cs18k153', 'cs19l153', 'cs17j154', 'cs18k154', 'cs19l154', 'cs17j155', 'cs18k155', 'cs19l155', 'cs17j156', 'cs18k156', 'cs19l156', 'cs17j157', 'cs18k157', 'cs19l157', 'cs17j158', 'cs18k158', 'cs19l158', 'cs17j159', 'cs18k159', 'cs19l159', 'cs20m160', 'cs20m161', 'cs20m162', 'cs20m164', 'cs20m165', 'cs20m166', 'cs20m167', 'cs20m169', 'cs20m171', 'cs20m172', 'cs20m173', 'cs20m174', 'cs20m175', 'cs20m176', 'cs20m177', 'cs20m178', 'cs20m179', 'cs20m180', 'cs20m181', 'cs20m182', 'cs20m183', 'cs20m184', 'cs20m185', 'cs20m186', 'cs20m191', 'cs20m205', 'cs20m229', 'cs20m231', 'cs20m235', 'cs17j242', 'cs18k242', 'cs20m242', 'cs17j243', 'cs18k243', 'cs20m243', 'cs17j244', 'cs18k244', 'cs20m244', 'cs17j245', 'cs18k245', 'cs20m245', 'cs17j251', 'cs18k251', 'cs19l251', 'cs17j252', 'cs18k252', 'cs19l252', 'cs17j253', 'cs18k253', 'cs19l253', 'cs17j254', 'cs18k254', 'cs19l254', 'cs17j260', 'cs18k260', 'cs19l260', 'cs17j261', 'cs18k261', 'cs19l261', 'cs17j262', 'cs18k262', 'cs19l262', 'cs17j263', 'cs18k263', 'cs19l263', 'cs17j264', 'cs18k264', 'cs19l264', 'cs17j265', 'cs18k265', 'cs19l265', 'cs17j266', 'cs18k266', 'cs19l266', 'cs17j267', 'cs18k267', 'cs19l267', 'cs20m267', 'cs18k268', 'cs19l268', 'cs20m268', 'cs20m269', 'cs20m270', 'cs20m277', 'cs20m278', 'cs20m279', 'cs20m280', 'cs20m281', 'cs20m282', 'cs17j283', 'cs18k283', 'cs19l283', 'cs20m283', 'cs17j284', 'cs18k284', 'cs19l284', 'cs20m284', 'cs17j285', 'cs18k285', 'cs19l285', 'cs20m285', 'cs17j286', 'cs18k286', 'cs19l286', 'cs20m286', 'cs17j287', 'cs18k287', 'cs19l287', 'cs20m287', 'cs17j288', 'cs18k288', 'cs19l288', 'cs20m288', 'cs17j289', 'cs18k289', 'cs19l289', 'cs20m289', 'cs17j290', 'cs18k290', 'cs19l290', 'cs20m290', 'cs17j291', 'cs18k291', 'cs19l291', 'cs20m291', 'cs17j292', 'cs18k292', 'cs19l292', 'cs20m292', 'cs17j293', 'cs18k293', 'cs19l293', 'cs17j294', 'cs18k294', 'cs19l294', 'cs20m294', 'cs17j295', 'cs18k295', 'cs19l295', 'cs20m295', 'cs17j296', 'cs18k296', 'cs19l296', 'cs20m296', 'cs17j297', 'cs18k297', 'cs19l297', 'cs20m297', 'cs17j298', 'cs18k298', 'cs19l298', 'cs20m298', 'cs20m315', 'cs20m320', 'cs20m321', 'cs20m323', 'cs20m324', 'cs20m325', 'cs20m326', 'cs20m327', 'cs20m329', 'cs20m330', 'cs17j379', 'cs18k379', 'cs19l379', 'cs20m379', 'cs17j410', 'cs18k410', 'cs19l410', 'cs20m410', 'cs17j411', 'cs18k411', 'cs19l411', 'cs20m411', 'cs17j412', 'cs18k412', 'cs19l412', 'cs20m412', 'cs17j413', 'cs18k413', 'cs19l413', 'cs20m413', 'cs17j414', 'cs18k414', 'cs19l414', 'cs20m414', 'cs17j415', 'cs18k415', 'cs19l415', 'cs20m415', 'cs17j418', 'cs18k418', 'cs20m426', 'cs17j429', 'cs18k429', 'cs19l429', 'cs17j430', 'cs18k430', 'cs19l430', 'cs17j431', 'cs18k431', 'cs19l431', 'cs17j432', 'cs18k432', 'cs19l432', 'cs17j435', 'cs18k435', 'cs19l435', 'cs20m436', 'cs20m437', 'cs20m438', 'cs20m439', 'cs20m440', 'cs20m443', 'cs17j444', 'cs18k444', 'cs19l444', 'cs20m444', 'cs17j445', 'cs18k445', 'cs19l445', 'cs20m445', 'cs17j446', 'cs18k446', 'cs19l446', 'cs20m446', 'cs17j448', 'cs18k448', 'cs19l448', 'cs17j449', 'cs18k449', 'cs19l449', 'cs20m449', 'cs17j450', 'cs18k450', 'cs19l450', 'cs20m450', 'cs17j451', 'cs18k451', 'cs19l451', 'cs20m451', 'cs20m472', 'cs20m473', 'cs20m474', 'cs20m480', 'cs17j483', 'cs18k483', 'cs19l483', 'cs20m483', 'cs17j484', 'cs18k484', 'cs19l484', 'cs20m484', 'cs17j485', 'cs18k485', 'cs19l485', 'cs20m485', 'cs17j486', 'cs18k486', 'cs19l486', 'cs20m487', 'cs17j488', 'cs18k488', 'cs19l488', 'cs17j489', 'cs18k489', 'cs19l489', 'cs17j490', 'cs18k490', 'cs19l490', 'cs17j491', 'cs18k491', 'cs19l491', 'cs17j492', 'cs18k492', 'cs19l492', 'cs17j493', 'cs18k493', 'cs19l493', 'cs20m494', 'cs20m495', 'cs20m496', 'cs20m497', 'cs20m499', 'cs20m500', 'cs17j504', 'cs18k504', 'cs19l504', 'cs20m504', 'cs17j505', 'cs18k505', 'cs19l505', 'cs20m505', 'cs17j506', 'cs18k506', 'cs19l506', 'cs20m506', 'cs17j507', 'cs18k507', 'cs19l507', 'cs20m507', 'cs17j514', 'cs18k514', 'cs19l514', 'cs17j515', 'cs18k515', 'cs19l515', 'cs20m516', 'cs20m517', 'cs17j518', 'cs18k518', 'cs19l518', 'cs20m523', 'cs20m524', 'cs20m525', 'cs20m526', 'cs20m527', 'cs20m568', 'cs20m569', 'cs20m570', 'cs20m571', 'cs20m572', 'cs20m577', 'cs20m578', 'cs20m579', 'cs20m580', 'cs20m581', 'cs20m587', 'cs20m588', 'cs20m589', 'cs20m594', 'cs20m598', 'cw18k000', 'cw19l000', 'cw20m000', 'cw17j_m', 'cw18k_m', 'cw19l_m', 'cw20m_m', 'cw17j001', 'cw18k001', 'cw19l001', 'cw20m001', 'cw17j002', 'cw18k002', 'cw19l002', 'cw20m002', 'cw17j003', 'cw18k003', 'cw19l003', 'cw20m003', 'cw17j004', 'cw18k004', 'cw17j005', 'cw18k005', 'cw20m005', 'cw18k008', 'cw19l008', 'cw20m008', 'cw18k011', 'cw19l011', 'cw20m011', 'cw18k012', 'cw19l012', 'cw20m012', 'cw18k013', 'cw19l013', 'cw20m013', 'cw18k014', 'cw19l014', 'cw20m014', 'cw18k015', 'cw19l015', 'cw20m015', 'cw18k016', 'cw19l016', 'cw20m016', 'cw18k017', 'cw19l017', 'cw20m017', 'cw18k018', 'cw19l018', 'cw20m018', 'cw18k019', 'cw19l019', 'cw20m019', 'cw18k020', 'cw19l020', 'cw20m020', 'cw18k021', 'cw19l021', 'cw20m021', 'cw18k022', 'cw19l022', 'cw20m022', 'cw18k023', 'cw19l023', 'cw20m023', 'cw18k024', 'cw19l024', 'cw20m024', 'cw18k025', 'cw19l025', 'cw20m025', 'cw18k026', 'cw19l026', 'cw20m026', 'cw18k027', 'cw19l027', 'cw20m027', 'cw18k028', 'cw19l028', 'cw17j088', 'cw18k088', 'cw19l088', 'cw20m088', 'cw17j089', 'cw18k089', 'cw19l089', 'cw20m089', 'cw17j090', 'cw18k090', 'cw19l090', 'cw20m090', 'cw17j091', 'cw18k091', 'cw19l091', 'cw20m091', 'cw17j092', 'cw18k092', 'cw19l092', 'cw20m092', 'cw17j093', 'cw18k093', 'cw19l093', 'cw20m093', 'cw17j094', 'cw18k094', 'cw19l094', 'cw20m094', 'cw17j095', 'cw18k095', 'cw19l095', 'cw20m095', 'cw17j096', 'cw18k096', 'cw19l096', 'cw20m096', 'cw17j097', 'cw18k097', 'cw19l097', 'cw20m097', 'cw17j098', 'cw18k098', 'cw19l098', 'cw20m098', 'cw17j099', 'cw18k099', 'cw19l099', 'cw20m099', 'cw17j100', 'cw18k100', 'cw19l100', 'cw20m100', 'cw17j101', 'cw18k101', 'cw19l101', 'cw20m101', 'cw17j102', 'cw18k102', 'cw19l102', 'cw20m102', 'cw20m114', 'cw20m115', 'cw20m116', 'cw20m117', 'cw20m118', 'cw18k404', 'cw19l404', 'cw20m404', 'cw18k405', 'cw19l405', 'cw20m405', 'cw18k450', 'cw19l450', 'cw20m450', 'cw18k496', 'cw19l496', 'cw20m496', 'cw18k497', 'cw19l497', 'cw20m497', 'cw18k498', 'cw19l498', 'cw20m498', 'cw18k499', 'cw19l499', 'cw20m499', 'cw18k500', 'cw19l500', 'cw20m500', 'cw18k505', 'cw19l505', 'cw20m505', 'cw20m511', 'cw17j522', 'cw18k522', 'cw19l522', 'cw20m522', 'cw17j523', 'cw18k523', 'cw19l523', 'cw20m523', 'cw18k525', 'cw19l525', 'cw20m525', 'cw19l572', 'cw20m572', 'cw19l576', 'cw20m576', 'birthyear_bg', 'gender_bg', 'migration_background_bg', 'age_bg', 'belbezig_2015', 'belbezig_2016', 'belbezig_2017', 'belbezig_2018', 'belbezig_2019', 'belbezig_2020', 'brutohh_f_2017', 'brutohh_f_2018', 'brutohh_f_2019', 'brutohh_f_2020', 'brutoink_f_2017', 'brutoink_f_2018', 'brutoink_f_2019', 'brutoink_f_2020', 'burgstat_2015', 'burgstat_2016', 'burgstat_2017', 'burgstat_2018', 'burgstat_2019', 'burgstat_2020', 'netinc_2019', 'netinc_2020', 'nettohh_f_2017', 'nettohh_f_2018', 'nettohh_f_2019', 'nettohh_f_2020', 'nettoink_2017', 'nettoink_2018', 'nettoink_2019', 'nettoink_2020', 'nettoink_f_2017', 'nettoink_f_2018', 'nettoink_f_2019', 'nettoink_f_2020', 'oplcat_2016', 'oplcat_2017', 'oplcat_2018', 'oplcat_2019', 'oplcat_2020', 'oplmet_2015', 'oplmet_2016', 'oplmet_2017', 'oplmet_2018', 'oplmet_2019', 'oplmet_2020', 'oplzon_2015', 'oplzon_2016', 'oplzon_2017', 'oplzon_2018', 'oplzon_2019', 'oplzon_2020', 'partner_2015', 'partner_2016', 'partner_2017', 'partner_2018', 'partner_2019', 'partner_2020', 'sted_2017', 'sted_2018', 'sted_2019', 'sted_2020', 'woning_2015', 'woning_2016', 'woning_2017', 'woning_2018', 'woning_2019', 'woning_2020', 'woonvorm_2015', 'woonvorm_2016', 'woonvorm_2017', 'woonvorm_2018', 'woonvorm_2019', 'woonvorm_2020']\n"
          ]
        }
      ],
      "source": [
        "# Update test data to have same columns\n",
        "columns_list = df_train_rf.columns.tolist()\n",
        "print(columns_list)\n",
        "df_test_rf = X_test[columns_list]"
      ]
    },
    {
      "cell_type": "code",
      "execution_count": null,
      "metadata": {
        "id": "Pde8vKw-Qrz5"
      },
      "outputs": [],
      "source": [
        "# Impute remaining columns\n",
        "imputer = SimpleImputer(strategy='mean')\n",
        "df_train_rf = pd.DataFrame(imputer.fit_transform(df_train_rf), columns=df_train_rf.columns)\n",
        "df_test_rf = pd.DataFrame(imputer.fit_transform(df_test_rf), columns=df_test_rf.columns)"
      ]
    },
    {
      "cell_type": "code",
      "execution_count": null,
      "metadata": {
        "id": "AOv1IWGwQrz5"
      },
      "outputs": [
        {
          "name": "stdout",
          "output_type": "stream",
          "text": [
            "(3595, 5317)\n",
            "(3595,)\n",
            "(198, 5317)\n",
            "(198,)\n"
          ]
        }
      ],
      "source": [
        "print(df_train_rf.shape)\n",
        "print(y_train_rf.shape)\n",
        "print(df_test_rf.shape)\n",
        "print(y_test.shape)"
      ]
    },
    {
      "cell_type": "code",
      "execution_count": null,
      "metadata": {
        "id": "C8iYPqlRQrz6"
      },
      "outputs": [
        {
          "data": {
            "text/html": [
              "<style>#sk-container-id-4 {\n",
              "  /* Definition of color scheme common for light and dark mode */\n",
              "  --sklearn-color-text: black;\n",
              "  --sklearn-color-line: gray;\n",
              "  /* Definition of color scheme for unfitted estimators */\n",
              "  --sklearn-color-unfitted-level-0: #fff5e6;\n",
              "  --sklearn-color-unfitted-level-1: #f6e4d2;\n",
              "  --sklearn-color-unfitted-level-2: #ffe0b3;\n",
              "  --sklearn-color-unfitted-level-3: chocolate;\n",
              "  /* Definition of color scheme for fitted estimators */\n",
              "  --sklearn-color-fitted-level-0: #f0f8ff;\n",
              "  --sklearn-color-fitted-level-1: #d4ebff;\n",
              "  --sklearn-color-fitted-level-2: #b3dbfd;\n",
              "  --sklearn-color-fitted-level-3: cornflowerblue;\n",
              "\n",
              "  /* Specific color for light theme */\n",
              "  --sklearn-color-text-on-default-background: var(--sg-text-color, var(--theme-code-foreground, var(--jp-content-font-color1, black)));\n",
              "  --sklearn-color-background: var(--sg-background-color, var(--theme-background, var(--jp-layout-color0, white)));\n",
              "  --sklearn-color-border-box: var(--sg-text-color, var(--theme-code-foreground, var(--jp-content-font-color1, black)));\n",
              "  --sklearn-color-icon: #696969;\n",
              "\n",
              "  @media (prefers-color-scheme: dark) {\n",
              "    /* Redefinition of color scheme for dark theme */\n",
              "    --sklearn-color-text-on-default-background: var(--sg-text-color, var(--theme-code-foreground, var(--jp-content-font-color1, white)));\n",
              "    --sklearn-color-background: var(--sg-background-color, var(--theme-background, var(--jp-layout-color0, #111)));\n",
              "    --sklearn-color-border-box: var(--sg-text-color, var(--theme-code-foreground, var(--jp-content-font-color1, white)));\n",
              "    --sklearn-color-icon: #878787;\n",
              "  }\n",
              "}\n",
              "\n",
              "#sk-container-id-4 {\n",
              "  color: var(--sklearn-color-text);\n",
              "}\n",
              "\n",
              "#sk-container-id-4 pre {\n",
              "  padding: 0;\n",
              "}\n",
              "\n",
              "#sk-container-id-4 input.sk-hidden--visually {\n",
              "  border: 0;\n",
              "  clip: rect(1px 1px 1px 1px);\n",
              "  clip: rect(1px, 1px, 1px, 1px);\n",
              "  height: 1px;\n",
              "  margin: -1px;\n",
              "  overflow: hidden;\n",
              "  padding: 0;\n",
              "  position: absolute;\n",
              "  width: 1px;\n",
              "}\n",
              "\n",
              "#sk-container-id-4 div.sk-dashed-wrapped {\n",
              "  border: 1px dashed var(--sklearn-color-line);\n",
              "  margin: 0 0.4em 0.5em 0.4em;\n",
              "  box-sizing: border-box;\n",
              "  padding-bottom: 0.4em;\n",
              "  background-color: var(--sklearn-color-background);\n",
              "}\n",
              "\n",
              "#sk-container-id-4 div.sk-container {\n",
              "  /* jupyter's `normalize.less` sets `[hidden] { display: none; }`\n",
              "     but bootstrap.min.css set `[hidden] { display: none !important; }`\n",
              "     so we also need the `!important` here to be able to override the\n",
              "     default hidden behavior on the sphinx rendered scikit-learn.org.\n",
              "     See: https://github.com/scikit-learn/scikit-learn/issues/21755 */\n",
              "  display: inline-block !important;\n",
              "  position: relative;\n",
              "}\n",
              "\n",
              "#sk-container-id-4 div.sk-text-repr-fallback {\n",
              "  display: none;\n",
              "}\n",
              "\n",
              "div.sk-parallel-item,\n",
              "div.sk-serial,\n",
              "div.sk-item {\n",
              "  /* draw centered vertical line to link estimators */\n",
              "  background-image: linear-gradient(var(--sklearn-color-text-on-default-background), var(--sklearn-color-text-on-default-background));\n",
              "  background-size: 2px 100%;\n",
              "  background-repeat: no-repeat;\n",
              "  background-position: center center;\n",
              "}\n",
              "\n",
              "/* Parallel-specific style estimator block */\n",
              "\n",
              "#sk-container-id-4 div.sk-parallel-item::after {\n",
              "  content: \"\";\n",
              "  width: 100%;\n",
              "  border-bottom: 2px solid var(--sklearn-color-text-on-default-background);\n",
              "  flex-grow: 1;\n",
              "}\n",
              "\n",
              "#sk-container-id-4 div.sk-parallel {\n",
              "  display: flex;\n",
              "  align-items: stretch;\n",
              "  justify-content: center;\n",
              "  background-color: var(--sklearn-color-background);\n",
              "  position: relative;\n",
              "}\n",
              "\n",
              "#sk-container-id-4 div.sk-parallel-item {\n",
              "  display: flex;\n",
              "  flex-direction: column;\n",
              "}\n",
              "\n",
              "#sk-container-id-4 div.sk-parallel-item:first-child::after {\n",
              "  align-self: flex-end;\n",
              "  width: 50%;\n",
              "}\n",
              "\n",
              "#sk-container-id-4 div.sk-parallel-item:last-child::after {\n",
              "  align-self: flex-start;\n",
              "  width: 50%;\n",
              "}\n",
              "\n",
              "#sk-container-id-4 div.sk-parallel-item:only-child::after {\n",
              "  width: 0;\n",
              "}\n",
              "\n",
              "/* Serial-specific style estimator block */\n",
              "\n",
              "#sk-container-id-4 div.sk-serial {\n",
              "  display: flex;\n",
              "  flex-direction: column;\n",
              "  align-items: center;\n",
              "  background-color: var(--sklearn-color-background);\n",
              "  padding-right: 1em;\n",
              "  padding-left: 1em;\n",
              "}\n",
              "\n",
              "\n",
              "/* Toggleable style: style used for estimator/Pipeline/ColumnTransformer box that is\n",
              "clickable and can be expanded/collapsed.\n",
              "- Pipeline and ColumnTransformer use this feature and define the default style\n",
              "- Estimators will overwrite some part of the style using the `sk-estimator` class\n",
              "*/\n",
              "\n",
              "/* Pipeline and ColumnTransformer style (default) */\n",
              "\n",
              "#sk-container-id-4 div.sk-toggleable {\n",
              "  /* Default theme specific background. It is overwritten whether we have a\n",
              "  specific estimator or a Pipeline/ColumnTransformer */\n",
              "  background-color: var(--sklearn-color-background);\n",
              "}\n",
              "\n",
              "/* Toggleable label */\n",
              "#sk-container-id-4 label.sk-toggleable__label {\n",
              "  cursor: pointer;\n",
              "  display: block;\n",
              "  width: 100%;\n",
              "  margin-bottom: 0;\n",
              "  padding: 0.5em;\n",
              "  box-sizing: border-box;\n",
              "  text-align: center;\n",
              "}\n",
              "\n",
              "#sk-container-id-4 label.sk-toggleable__label-arrow:before {\n",
              "  /* Arrow on the left of the label */\n",
              "  content: \"▸\";\n",
              "  float: left;\n",
              "  margin-right: 0.25em;\n",
              "  color: var(--sklearn-color-icon);\n",
              "}\n",
              "\n",
              "#sk-container-id-4 label.sk-toggleable__label-arrow:hover:before {\n",
              "  color: var(--sklearn-color-text);\n",
              "}\n",
              "\n",
              "/* Toggleable content - dropdown */\n",
              "\n",
              "#sk-container-id-4 div.sk-toggleable__content {\n",
              "  max-height: 0;\n",
              "  max-width: 0;\n",
              "  overflow: hidden;\n",
              "  text-align: left;\n",
              "  /* unfitted */\n",
              "  background-color: var(--sklearn-color-unfitted-level-0);\n",
              "}\n",
              "\n",
              "#sk-container-id-4 div.sk-toggleable__content.fitted {\n",
              "  /* fitted */\n",
              "  background-color: var(--sklearn-color-fitted-level-0);\n",
              "}\n",
              "\n",
              "#sk-container-id-4 div.sk-toggleable__content pre {\n",
              "  margin: 0.2em;\n",
              "  border-radius: 0.25em;\n",
              "  color: var(--sklearn-color-text);\n",
              "  /* unfitted */\n",
              "  background-color: var(--sklearn-color-unfitted-level-0);\n",
              "}\n",
              "\n",
              "#sk-container-id-4 div.sk-toggleable__content.fitted pre {\n",
              "  /* unfitted */\n",
              "  background-color: var(--sklearn-color-fitted-level-0);\n",
              "}\n",
              "\n",
              "#sk-container-id-4 input.sk-toggleable__control:checked~div.sk-toggleable__content {\n",
              "  /* Expand drop-down */\n",
              "  max-height: 200px;\n",
              "  max-width: 100%;\n",
              "  overflow: auto;\n",
              "}\n",
              "\n",
              "#sk-container-id-4 input.sk-toggleable__control:checked~label.sk-toggleable__label-arrow:before {\n",
              "  content: \"▾\";\n",
              "}\n",
              "\n",
              "/* Pipeline/ColumnTransformer-specific style */\n",
              "\n",
              "#sk-container-id-4 div.sk-label input.sk-toggleable__control:checked~label.sk-toggleable__label {\n",
              "  color: var(--sklearn-color-text);\n",
              "  background-color: var(--sklearn-color-unfitted-level-2);\n",
              "}\n",
              "\n",
              "#sk-container-id-4 div.sk-label.fitted input.sk-toggleable__control:checked~label.sk-toggleable__label {\n",
              "  background-color: var(--sklearn-color-fitted-level-2);\n",
              "}\n",
              "\n",
              "/* Estimator-specific style */\n",
              "\n",
              "/* Colorize estimator box */\n",
              "#sk-container-id-4 div.sk-estimator input.sk-toggleable__control:checked~label.sk-toggleable__label {\n",
              "  /* unfitted */\n",
              "  background-color: var(--sklearn-color-unfitted-level-2);\n",
              "}\n",
              "\n",
              "#sk-container-id-4 div.sk-estimator.fitted input.sk-toggleable__control:checked~label.sk-toggleable__label {\n",
              "  /* fitted */\n",
              "  background-color: var(--sklearn-color-fitted-level-2);\n",
              "}\n",
              "\n",
              "#sk-container-id-4 div.sk-label label.sk-toggleable__label,\n",
              "#sk-container-id-4 div.sk-label label {\n",
              "  /* The background is the default theme color */\n",
              "  color: var(--sklearn-color-text-on-default-background);\n",
              "}\n",
              "\n",
              "/* On hover, darken the color of the background */\n",
              "#sk-container-id-4 div.sk-label:hover label.sk-toggleable__label {\n",
              "  color: var(--sklearn-color-text);\n",
              "  background-color: var(--sklearn-color-unfitted-level-2);\n",
              "}\n",
              "\n",
              "/* Label box, darken color on hover, fitted */\n",
              "#sk-container-id-4 div.sk-label.fitted:hover label.sk-toggleable__label.fitted {\n",
              "  color: var(--sklearn-color-text);\n",
              "  background-color: var(--sklearn-color-fitted-level-2);\n",
              "}\n",
              "\n",
              "/* Estimator label */\n",
              "\n",
              "#sk-container-id-4 div.sk-label label {\n",
              "  font-family: monospace;\n",
              "  font-weight: bold;\n",
              "  display: inline-block;\n",
              "  line-height: 1.2em;\n",
              "}\n",
              "\n",
              "#sk-container-id-4 div.sk-label-container {\n",
              "  text-align: center;\n",
              "}\n",
              "\n",
              "/* Estimator-specific */\n",
              "#sk-container-id-4 div.sk-estimator {\n",
              "  font-family: monospace;\n",
              "  border: 1px dotted var(--sklearn-color-border-box);\n",
              "  border-radius: 0.25em;\n",
              "  box-sizing: border-box;\n",
              "  margin-bottom: 0.5em;\n",
              "  /* unfitted */\n",
              "  background-color: var(--sklearn-color-unfitted-level-0);\n",
              "}\n",
              "\n",
              "#sk-container-id-4 div.sk-estimator.fitted {\n",
              "  /* fitted */\n",
              "  background-color: var(--sklearn-color-fitted-level-0);\n",
              "}\n",
              "\n",
              "/* on hover */\n",
              "#sk-container-id-4 div.sk-estimator:hover {\n",
              "  /* unfitted */\n",
              "  background-color: var(--sklearn-color-unfitted-level-2);\n",
              "}\n",
              "\n",
              "#sk-container-id-4 div.sk-estimator.fitted:hover {\n",
              "  /* fitted */\n",
              "  background-color: var(--sklearn-color-fitted-level-2);\n",
              "}\n",
              "\n",
              "/* Specification for estimator info (e.g. \"i\" and \"?\") */\n",
              "\n",
              "/* Common style for \"i\" and \"?\" */\n",
              "\n",
              ".sk-estimator-doc-link,\n",
              "a:link.sk-estimator-doc-link,\n",
              "a:visited.sk-estimator-doc-link {\n",
              "  float: right;\n",
              "  font-size: smaller;\n",
              "  line-height: 1em;\n",
              "  font-family: monospace;\n",
              "  background-color: var(--sklearn-color-background);\n",
              "  border-radius: 1em;\n",
              "  height: 1em;\n",
              "  width: 1em;\n",
              "  text-decoration: none !important;\n",
              "  margin-left: 1ex;\n",
              "  /* unfitted */\n",
              "  border: var(--sklearn-color-unfitted-level-1) 1pt solid;\n",
              "  color: var(--sklearn-color-unfitted-level-1);\n",
              "}\n",
              "\n",
              ".sk-estimator-doc-link.fitted,\n",
              "a:link.sk-estimator-doc-link.fitted,\n",
              "a:visited.sk-estimator-doc-link.fitted {\n",
              "  /* fitted */\n",
              "  border: var(--sklearn-color-fitted-level-1) 1pt solid;\n",
              "  color: var(--sklearn-color-fitted-level-1);\n",
              "}\n",
              "\n",
              "/* On hover */\n",
              "div.sk-estimator:hover .sk-estimator-doc-link:hover,\n",
              ".sk-estimator-doc-link:hover,\n",
              "div.sk-label-container:hover .sk-estimator-doc-link:hover,\n",
              ".sk-estimator-doc-link:hover {\n",
              "  /* unfitted */\n",
              "  background-color: var(--sklearn-color-unfitted-level-3);\n",
              "  color: var(--sklearn-color-background);\n",
              "  text-decoration: none;\n",
              "}\n",
              "\n",
              "div.sk-estimator.fitted:hover .sk-estimator-doc-link.fitted:hover,\n",
              ".sk-estimator-doc-link.fitted:hover,\n",
              "div.sk-label-container:hover .sk-estimator-doc-link.fitted:hover,\n",
              ".sk-estimator-doc-link.fitted:hover {\n",
              "  /* fitted */\n",
              "  background-color: var(--sklearn-color-fitted-level-3);\n",
              "  color: var(--sklearn-color-background);\n",
              "  text-decoration: none;\n",
              "}\n",
              "\n",
              "/* Span, style for the box shown on hovering the info icon */\n",
              ".sk-estimator-doc-link span {\n",
              "  display: none;\n",
              "  z-index: 9999;\n",
              "  position: relative;\n",
              "  font-weight: normal;\n",
              "  right: .2ex;\n",
              "  padding: .5ex;\n",
              "  margin: .5ex;\n",
              "  width: min-content;\n",
              "  min-width: 20ex;\n",
              "  max-width: 50ex;\n",
              "  color: var(--sklearn-color-text);\n",
              "  box-shadow: 2pt 2pt 4pt #999;\n",
              "  /* unfitted */\n",
              "  background: var(--sklearn-color-unfitted-level-0);\n",
              "  border: .5pt solid var(--sklearn-color-unfitted-level-3);\n",
              "}\n",
              "\n",
              ".sk-estimator-doc-link.fitted span {\n",
              "  /* fitted */\n",
              "  background: var(--sklearn-color-fitted-level-0);\n",
              "  border: var(--sklearn-color-fitted-level-3);\n",
              "}\n",
              "\n",
              ".sk-estimator-doc-link:hover span {\n",
              "  display: block;\n",
              "}\n",
              "\n",
              "/* \"?\"-specific style due to the `<a>` HTML tag */\n",
              "\n",
              "#sk-container-id-4 a.estimator_doc_link {\n",
              "  float: right;\n",
              "  font-size: 1rem;\n",
              "  line-height: 1em;\n",
              "  font-family: monospace;\n",
              "  background-color: var(--sklearn-color-background);\n",
              "  border-radius: 1rem;\n",
              "  height: 1rem;\n",
              "  width: 1rem;\n",
              "  text-decoration: none;\n",
              "  /* unfitted */\n",
              "  color: var(--sklearn-color-unfitted-level-1);\n",
              "  border: var(--sklearn-color-unfitted-level-1) 1pt solid;\n",
              "}\n",
              "\n",
              "#sk-container-id-4 a.estimator_doc_link.fitted {\n",
              "  /* fitted */\n",
              "  border: var(--sklearn-color-fitted-level-1) 1pt solid;\n",
              "  color: var(--sklearn-color-fitted-level-1);\n",
              "}\n",
              "\n",
              "/* On hover */\n",
              "#sk-container-id-4 a.estimator_doc_link:hover {\n",
              "  /* unfitted */\n",
              "  background-color: var(--sklearn-color-unfitted-level-3);\n",
              "  color: var(--sklearn-color-background);\n",
              "  text-decoration: none;\n",
              "}\n",
              "\n",
              "#sk-container-id-4 a.estimator_doc_link.fitted:hover {\n",
              "  /* fitted */\n",
              "  background-color: var(--sklearn-color-fitted-level-3);\n",
              "}\n",
              "</style><div id=\"sk-container-id-4\" class=\"sk-top-container\"><div class=\"sk-text-repr-fallback\"><pre>RandomForestClassifier(random_state=42)</pre><b>In a Jupyter environment, please rerun this cell to show the HTML representation or trust the notebook. <br />On GitHub, the HTML representation is unable to render, please try loading this page with nbviewer.org.</b></div><div class=\"sk-container\" hidden><div class=\"sk-item\"><div class=\"sk-estimator fitted sk-toggleable\"><input class=\"sk-toggleable__control sk-hidden--visually\" id=\"sk-estimator-id-4\" type=\"checkbox\" checked><label for=\"sk-estimator-id-4\" class=\"sk-toggleable__label fitted sk-toggleable__label-arrow fitted\">&nbsp;&nbsp;RandomForestClassifier<a class=\"sk-estimator-doc-link fitted\" rel=\"noreferrer\" target=\"_blank\" href=\"https://scikit-learn.org/1.4/modules/generated/sklearn.ensemble.RandomForestClassifier.html\">?<span>Documentation for RandomForestClassifier</span></a><span class=\"sk-estimator-doc-link fitted\">i<span>Fitted</span></span></label><div class=\"sk-toggleable__content fitted\"><pre>RandomForestClassifier(random_state=42)</pre></div> </div></div></div></div>"
            ],
            "text/plain": [
              "RandomForestClassifier(random_state=42)"
            ]
          },
          "execution_count": 105,
          "metadata": {},
          "output_type": "execute_result"
        }
      ],
      "source": [
        "# Create RandomForestClassifier\n",
        "rf_classifier = RandomForestClassifier(n_estimators=100, random_state=42)\n",
        "rf_classifier.fit(df_train_rf, y_train_rf)"
      ]
    },
    {
      "cell_type": "code",
      "execution_count": null,
      "metadata": {
        "id": "tloEAUeqQrz6"
      },
      "outputs": [
        {
          "name": "stdout",
          "output_type": "stream",
          "text": [
            "Accuracy: 0.7525252525252525\n",
            "\n",
            "Classification Report:\n",
            "               precision    recall  f1-score   support\n",
            "\n",
            "         0.0       0.75      1.00      0.86       148\n",
            "         1.0       1.00      0.02      0.04        50\n",
            "\n",
            "    accuracy                           0.75       198\n",
            "   macro avg       0.88      0.51      0.45       198\n",
            "weighted avg       0.81      0.75      0.65       198\n",
            "\n",
            "\n",
            "Confusion Matrix:\n",
            " [[148   0]\n",
            " [ 49   1]]\n"
          ]
        }
      ],
      "source": [
        "# Evaluate RF\n",
        "y_pred_rf = rf_classifier.predict(df_test_rf)\n",
        "\n",
        "accuracy = accuracy_score(y_test, y_pred_rf)\n",
        "print(\"Accuracy:\", accuracy)\n",
        "\n",
        "report = classification_report(y_test, y_pred_rf)\n",
        "print(\"\\nClassification Report:\\n\", report)\n",
        "\n",
        "conf_matrix = confusion_matrix(y_test, y_pred_rf)\n",
        "print(\"\\nConfusion Matrix:\\n\", conf_matrix)"
      ]
    },
    {
      "cell_type": "markdown",
      "metadata": {
        "id": "xeMeRO6HKGwC"
      },
      "source": [
        "# Deep learning with/without Supplementary Data"
      ]
    },
    {
      "cell_type": "markdown",
      "metadata": {},
      "source": [
        "## Without Supplementary Data"
      ]
    },
    {
      "cell_type": "code",
      "execution_count": null,
      "metadata": {},
      "outputs": [],
      "source": [
        "import torch\n",
        "import torch.nn as nn\n",
        "import torch.optim as optim\n",
        "from torch.utils.data import DataLoader, TensorDataset\n",
        "from sklearn.preprocessing import StandardScaler\n",
        "from sklearn.metrics import classification_report, accuracy_score"
      ]
    },
    {
      "cell_type": "code",
      "execution_count": null,
      "metadata": {},
      "outputs": [],
      "source": [
        "class SimpleNN(nn.Module):\n",
        "  def __init__(self, input_size):\n",
        "    super(SimpleNN, self).__init__()\n",
        "    self.fc1 = nn.Linear(input_size, 128)\n",
        "    self.fc2 = nn.Linear(128, 64)\n",
        "    self.fc3 = nn.Linear(64, 2)\n",
        "\n",
        "  def forward(self, x):\n",
        "    x = torch.relu(self.fc1(x))\n",
        "    x = torch.relu(self.fc2(x))\n",
        "    x = self.fc3(x)\n",
        "    return x"
      ]
    },
    {
      "cell_type": "code",
      "execution_count": null,
      "metadata": {},
      "outputs": [
        {
          "name": "stdout",
          "output_type": "stream",
          "text": [
            "Number of remaining columns: 879\n"
          ]
        }
      ],
      "source": [
        "df_train_nn = X_train[X_train['outcome_available']==1]\n",
        "threshold = len(df_train_nn) * 0.75\n",
        "df_train_nn = df_train_nn.dropna(thresh=threshold, axis=1)\n",
        "numeric_columns = df_train_nn.select_dtypes(include='number').columns\n",
        "df_train_nn = df_train_nn[numeric_columns]\n",
        "print(\"Number of remaining columns:\", len(df_train_nn.columns))"
      ]
    },
    {
      "cell_type": "code",
      "execution_count": null,
      "metadata": {},
      "outputs": [
        {
          "name": "stdout",
          "output_type": "stream",
          "text": [
            "['nomem_encr', 'outcome_available', 'cf20m_m', 'cf20m001', 'cf20m003', 'cf20m004', 'cf20m005', 'cf20m007', 'cf20m009', 'cf20m011', 'cf20m020', 'cf20m022', 'cf20m024', 'cf20m128', 'cf20m137', 'cf20m151', 'cf20m161', 'cf20m162', 'cf20m388', 'cf20m389', 'cf20m390', 'cf20m391', 'cf20m392', 'cf20m397', 'cf20m453', 'cf20m454', 'cf20m471', 'cf20m504', 'cf20m505', 'cf20m506', 'cf20m507', 'cf20m508', 'cf20m509', 'cf20m510', 'cf20m511', 'cf20m512', 'cf20m526', 'ca20g_m', 'ca20g001', 'ca20g002', 'ca20g003', 'ca20g005', 'ca20g006', 'ca20g007', 'ca20g008', 'ca20g009', 'ca20g010', 'ca20g011', 'ca20g012', 'ca20g057', 'ca20g058', 'ca20g060', 'ca20g061', 'ca20g062', 'ca20g066', 'ca20g067', 'ca20g068', 'ca20g069', 'ca20g070', 'ca20g075', 'ca20g078', 'ca20g079', 'ca20g080', 'ca20g081', 'ca20g082', 'ca20g087', 'ci20m_m', 'ci20m001', 'ci20m002', 'ci20m003', 'ci20m005', 'ci20m006', 'ci20m007', 'ci20m008', 'ci20m037', 'ci20m038', 'ci20m039', 'ci20m040', 'ci20m041', 'ci20m042', 'ci20m043', 'ci20m044', 'ci20m045', 'ci20m087', 'ci20m090', 'ci20m091', 'ci20m094', 'ci20m096', 'ci20m098', 'ci20m099', 'ci20m100', 'ci20m101', 'ci20m144', 'ci20m146', 'ci20m147', 'ci20m148', 'ci20m149', 'ci20m150', 'ci20m151', 'ci20m152', 'ci20m153', 'ci20m154', 'ci20m175', 'ci20m177', 'ci20m203', 'ci20m205', 'ci20m207', 'ci20m213', 'ci20m313', 'ci20m314', 'ci20m315', 'ci20m316', 'ci20m317', 'ci20m322', 'ci20m326', 'ci20m327', 'ci20m328', 'ci20m341', 'ci20m374', 'ci20m380', 'ci20m383', 'ch20m_m', 'ch20m001', 'ch20m002', 'ch20m003', 'ch20m004', 'ch20m005', 'ch20m006', 'ch20m007', 'ch20m011', 'ch20m012', 'ch20m013', 'ch20m014', 'ch20m015', 'ch20m016', 'ch20m017', 'ch20m018', 'ch20m020', 'ch20m021', 'ch20m022', 'ch20m023', 'ch20m024', 'ch20m025', 'ch20m026', 'ch20m027', 'ch20m028', 'ch20m029', 'ch20m030', 'ch20m031', 'ch20m032', 'ch20m033', 'ch20m034', 'ch20m035', 'ch20m036', 'ch20m037', 'ch20m038', 'ch20m039', 'ch20m040', 'ch20m041', 'ch20m042', 'ch20m043', 'ch20m044', 'ch20m045', 'ch20m070', 'ch20m071', 'ch20m072', 'ch20m073', 'ch20m074', 'ch20m075', 'ch20m076', 'ch20m077', 'ch20m078', 'ch20m079', 'ch20m080', 'ch20m081', 'ch20m082', 'ch20m083', 'ch20m084', 'ch20m085', 'ch20m086', 'ch20m087', 'ch20m088', 'ch20m089', 'ch20m090', 'ch20m091', 'ch20m092', 'ch20m093', 'ch20m094', 'ch20m095', 'ch20m096', 'ch20m097', 'ch20m098', 'ch20m099', 'ch20m125', 'ch20m133', 'ch20m159', 'ch20m160', 'ch20m161', 'ch20m162', 'ch20m163', 'ch20m169', 'ch20m170', 'ch20m171', 'ch20m172', 'ch20m173', 'ch20m174', 'ch20m175', 'ch20m176', 'ch20m177', 'ch20m178', 'ch20m179', 'ch20m180', 'ch20m181', 'ch20m182', 'ch20m183', 'ch20m184', 'ch20m206', 'ch20m207', 'ch20m208', 'ch20m209', 'ch20m210', 'ch20m211', 'ch20m212', 'ch20m213', 'ch20m214', 'ch20m215', 'ch20m216', 'ch20m217', 'ch20m218', 'ch20m219', 'ch20m220', 'ch20m221', 'ch20m222', 'ch20m223', 'ch20m224', 'ch20m225', 'ch20m226', 'ch20m227', 'ch20m228', 'ch20m229', 'ch20m232', 'ch20m233', 'ch20m234', 'ch20m235', 'ch20m239', 'ch20m250', 'ch20m251', 'ch20m252', 'ch20m253', 'ch20m254', 'ch20m259', 'ch20m260', 'ch20m263', 'ch20m267', 'ch20m269', 'ch20m270', 'cp20l_m', 'cp20l010', 'cp20l011', 'cp20l012', 'cp20l013', 'cp20l014', 'cp20l015', 'cp20l016', 'cp20l017', 'cp20l018', 'cp20l019', 'cp20l020', 'cp20l021', 'cp20l022', 'cp20l023', 'cp20l024', 'cp20l025', 'cp20l026', 'cp20l027', 'cp20l028', 'cp20l029', 'cp20l030', 'cp20l031', 'cp20l032', 'cp20l033', 'cp20l034', 'cp20l035', 'cp20l036', 'cp20l037', 'cp20l038', 'cp20l039', 'cp20l040', 'cp20l041', 'cp20l042', 'cp20l043', 'cp20l044', 'cp20l045', 'cp20l046', 'cp20l047', 'cp20l048', 'cp20l049', 'cp20l050', 'cp20l051', 'cp20l052', 'cp20l053', 'cp20l054', 'cp20l055', 'cp20l056', 'cp20l057', 'cp20l058', 'cp20l059', 'cp20l060', 'cp20l061', 'cp20l062', 'cp20l063', 'cp20l064', 'cp20l065', 'cp20l066', 'cp20l067', 'cp20l068', 'cp20l069', 'cp20l070', 'cp20l071', 'cp20l072', 'cp20l073', 'cp20l074', 'cp20l075', 'cp20l076', 'cp20l077', 'cp20l078', 'cp20l079', 'cp20l099', 'cp20l100', 'cp20l101', 'cp20l102', 'cp20l103', 'cp20l104', 'cp20l105', 'cp20l106', 'cp20l107', 'cp20l108', 'cp20l109', 'cp20l110', 'cp20l111', 'cp20l112', 'cp20l113', 'cp20l114', 'cp20l115', 'cp20l116', 'cp20l117', 'cp20l118', 'cp20l119', 'cp20l120', 'cp20l121', 'cp20l122', 'cp20l123', 'cp20l124', 'cp20l125', 'cp20l126', 'cp20l127', 'cp20l128', 'cp20l129', 'cp20l130', 'cp20l131', 'cp20l132', 'cp20l133', 'cp20l134', 'cp20l135', 'cp20l136', 'cp20l137', 'cp20l138', 'cp20l139', 'cp20l140', 'cp20l141', 'cp20l142', 'cp20l143', 'cp20l144', 'cp20l145', 'cp20l146', 'cp20l147', 'cp20l148', 'cp20l149', 'cp20l150', 'cp20l151', 'cp20l152', 'cp20l153', 'cp20l154', 'cp20l155', 'cp20l156', 'cp20l157', 'cp20l158', 'cp20l159', 'cp20l160', 'cp20l161', 'cp20l162', 'cp20l163', 'cp20l164', 'cp20l165', 'cp20l184', 'cp20l185', 'cp20l186', 'cp20l187', 'cp20l188', 'cp20l193', 'cp20l198', 'cp20l199', 'cp20l200', 'cp20l201', 'cp20l202', 'cp20l203', 'cp20l204', 'cp20l205', 'cp20l206', 'cp20l207', 'cv20l_m1', 'cv20l_m2', 'cv20l_m3', 'cv20l001', 'cv20l002', 'cv20l003', 'cv20l004', 'cv20l006', 'cv20l008', 'cv20l010', 'cv20l012', 'cv20l013', 'cv20l015', 'cv20l016', 'cv20l021', 'cv20l023', 'cv20l024', 'cv20l025', 'cv20l028', 'cv20l029', 'cv20l040', 'cv20l041', 'cv20l047', 'cv20l048', 'cv20l049', 'cv20l050', 'cv20l051', 'cv20l052', 'cv20l065', 'cv20l066', 'cv20l067', 'cv20l068', 'cv20l069', 'cv20l070', 'cv20l071', 'cv20l072', 'cv20l073', 'cv20l098', 'cv20l102', 'cv20l103', 'cv20l104', 'cv20l105', 'cv20l106', 'cv20l107', 'cv20l108', 'cv20l109', 'cv20l110', 'cv20l111', 'cv20l112', 'cv20l113', 'cv20l114', 'cv20l115', 'cv20l116', 'cv20l117', 'cv20l118', 'cv20l119', 'cv20l120', 'cv20l121', 'cv20l122', 'cv20l123', 'cv20l124', 'cv20l125', 'cv20l126', 'cv20l127', 'cv20l128', 'cv20l129', 'cv20l130', 'cv20l131', 'cv20l132', 'cv20l133', 'cv20l134', 'cv20l139', 'cv20l140', 'cv20l141', 'cv20l142', 'cv20l143', 'cv20l144', 'cv20l145', 'cv20l146', 'cv20l147', 'cv20l148', 'cv20l151', 'cv20l152', 'cv20l153', 'cv20l154', 'cv20l160', 'cv20l166', 'cv20l167', 'cv20l199', 'cv20l242', 'cv20l274', 'cv20l275', 'cv20l276', 'cv20l277', 'cv20l278', 'cv20l279', 'cv20l280', 'cv20l281', 'cv20l282', 'cv20l283', 'cv20l284', 'cv20l285', 'cv20l286', 'cv20l287', 'cv20l288', 'cv20l301', 'cv20l302', 'cv20l303', 'cr20m_m', 'cr20m030', 'cr20m031', 'cr20m041', 'cr20m042', 'cr20m079', 'cr20m080', 'cr20m081', 'cr20m082', 'cr20m083', 'cr20m084', 'cr20m085', 'cr20m086', 'cr20m087', 'cr20m089', 'cr20m092', 'cr20m093', 'cr20m094', 'cr20m095', 'cr20m096', 'cr20m097', 'cr20m098', 'cr20m109', 'cr20m110', 'cr20m111', 'cr20m112', 'cr20m113', 'cr20m120', 'cr20m134', 'cr20m142', 'cr20m143', 'cr20m162', 'cr20m163', 'cr20m164', 'cr20m165', 'cr20m166', 'cr20m167', 'cr20m168', 'cr20m169', 'cr20m170', 'cr20m171', 'cr20m172', 'cr20m173', 'cr20m174', 'cr20m175', 'cr20m176', 'cr20m177', 'cr20m178', 'cr20m179', 'cs20m_m', 'cs20m001', 'cs20m003', 'cs20m004', 'cs20m005', 'cs20m006', 'cs20m007', 'cs20m008', 'cs20m009', 'cs20m010', 'cs20m011', 'cs20m012', 'cs20m013', 'cs20m014', 'cs20m015', 'cs20m016', 'cs20m017', 'cs20m018', 'cs20m019', 'cs20m020', 'cs20m021', 'cs20m022', 'cs20m023', 'cs20m024', 'cs20m025', 'cs20m026', 'cs20m027', 'cs20m028', 'cs20m029', 'cs20m030', 'cs20m031', 'cs20m032', 'cs20m033', 'cs20m034', 'cs20m035', 'cs20m036', 'cs20m037', 'cs20m038', 'cs20m039', 'cs20m040', 'cs20m041', 'cs20m042', 'cs20m043', 'cs20m044', 'cs20m045', 'cs20m046', 'cs20m047', 'cs20m048', 'cs20m049', 'cs20m050', 'cs20m051', 'cs20m052', 'cs20m053', 'cs20m054', 'cs20m055', 'cs20m056', 'cs20m057', 'cs20m058', 'cs20m059', 'cs20m060', 'cs20m061', 'cs20m062', 'cs20m063', 'cs20m070', 'cs20m093', 'cs20m094', 'cs20m098', 'cs20m099', 'cs20m100', 'cs20m101', 'cs20m102', 'cs20m103', 'cs20m104', 'cs20m124', 'cs20m125', 'cs20m126', 'cs20m131', 'cs20m160', 'cs20m161', 'cs20m162', 'cs20m164', 'cs20m165', 'cs20m166', 'cs20m167', 'cs20m169', 'cs20m171', 'cs20m172', 'cs20m173', 'cs20m174', 'cs20m175', 'cs20m176', 'cs20m177', 'cs20m178', 'cs20m179', 'cs20m180', 'cs20m181', 'cs20m182', 'cs20m183', 'cs20m184', 'cs20m185', 'cs20m186', 'cs20m191', 'cs20m229', 'cs20m231', 'cs20m242', 'cs20m243', 'cs20m244', 'cs20m245', 'cs20m267', 'cs20m268', 'cs20m269', 'cs20m277', 'cs20m278', 'cs20m279', 'cs20m280', 'cs20m281', 'cs20m282', 'cs20m283', 'cs20m284', 'cs20m285', 'cs20m286', 'cs20m287', 'cs20m288', 'cs20m289', 'cs20m290', 'cs20m291', 'cs20m292', 'cs20m294', 'cs20m295', 'cs20m296', 'cs20m297', 'cs20m298', 'cs20m315', 'cs20m320', 'cs20m321', 'cs20m323', 'cs20m324', 'cs20m325', 'cs20m326', 'cs20m327', 'cs20m329', 'cs20m330', 'cs20m379', 'cs20m410', 'cs20m411', 'cs20m412', 'cs20m413', 'cs20m414', 'cs20m415', 'cs20m426', 'cs20m436', 'cs20m437', 'cs20m438', 'cs20m439', 'cs20m440', 'cs20m443', 'cs20m444', 'cs20m445', 'cs20m446', 'cs20m449', 'cs20m450', 'cs20m451', 'cs20m472', 'cs20m473', 'cs20m474', 'cs20m480', 'cs20m483', 'cs20m484', 'cs20m485', 'cs20m487', 'cs20m494', 'cs20m495', 'cs20m496', 'cs20m497', 'cs20m499', 'cs20m500', 'cs20m501', 'cs20m504', 'cs20m505', 'cs20m506', 'cs20m507', 'cs20m516', 'cs20m517', 'cs20m523', 'cs20m524', 'cs20m525', 'cs20m526', 'cs20m527', 'cs20m568', 'cs20m569', 'cs20m570', 'cs20m571', 'cs20m572', 'cs20m577', 'cs20m578', 'cs20m579', 'cs20m580', 'cs20m581', 'cs20m585', 'cs20m587', 'cs20m588', 'cs20m589', 'cs20m594', 'cs20m596', 'cs20m598', 'cw20m000', 'cw20m_m', 'cw20m001', 'cw20m002', 'cw20m003', 'cw20m005', 'cw20m008', 'cw20m011', 'cw20m012', 'cw20m013', 'cw20m014', 'cw20m015', 'cw20m016', 'cw20m017', 'cw20m018', 'cw20m019', 'cw20m020', 'cw20m021', 'cw20m022', 'cw20m023', 'cw20m024', 'cw20m025', 'cw20m026', 'cw20m027', 'cw20m088', 'cw20m089', 'cw20m090', 'cw20m091', 'cw20m092', 'cw20m093', 'cw20m094', 'cw20m095', 'cw20m096', 'cw20m097', 'cw20m098', 'cw20m099', 'cw20m100', 'cw20m101', 'cw20m102', 'cw20m114', 'cw20m115', 'cw20m116', 'cw20m117', 'cw20m118', 'cw20m450', 'cw20m496', 'cw20m497', 'cw20m498', 'cw20m499', 'cw20m500', 'cw20m505', 'cw20m511', 'cw20m522', 'cw20m523', 'cw20m525', 'cw20m572', 'cw20m576', 'birthyear_bg', 'gender_bg', 'migration_background_bg', 'age_bg', 'belbezig_2017', 'belbezig_2018', 'belbezig_2019', 'belbezig_2020', 'brutohh_f_2019', 'brutohh_f_2020', 'brutoink_f_2019', 'brutoink_f_2020', 'burgstat_2017', 'burgstat_2018', 'burgstat_2019', 'burgstat_2020', 'nettohh_f_2019', 'nettohh_f_2020', 'nettoink_2019', 'nettoink_2020', 'nettoink_f_2019', 'nettoink_f_2020', 'oplcat_2017', 'oplcat_2018', 'oplcat_2019', 'oplcat_2020', 'oplmet_2017', 'oplmet_2018', 'oplmet_2019', 'oplmet_2020', 'oplzon_2017', 'oplzon_2018', 'oplzon_2019', 'oplzon_2020', 'partner_2017', 'partner_2018', 'partner_2019', 'partner_2020', 'sted_2017', 'sted_2018', 'sted_2019', 'sted_2020', 'woning_2017', 'woning_2018', 'woning_2019', 'woning_2020', 'woonvorm_2017', 'woonvorm_2018', 'woonvorm_2019', 'woonvorm_2020']\n"
          ]
        }
      ],
      "source": [
        "# Update test data to have same columns\n",
        "columns_list = df_train_nn.columns.tolist()\n",
        "print(columns_list)\n",
        "df_test_nn = X_test[columns_list]"
      ]
    },
    {
      "cell_type": "code",
      "execution_count": null,
      "metadata": {},
      "outputs": [],
      "source": [
        "# Impute remaining columns\n",
        "imputer = SimpleImputer(strategy='mean')\n",
        "df_train_nn = pd.DataFrame(imputer.fit_transform(df_train_nn), columns=df_train_nn.columns)\n",
        "df_test_nn = pd.DataFrame(imputer.fit_transform(df_test_nn), columns=df_test_nn.columns)"
      ]
    },
    {
      "cell_type": "code",
      "execution_count": null,
      "metadata": {},
      "outputs": [
        {
          "name": "stdout",
          "output_type": "stream",
          "text": [
            "(789, 879)\n",
            "(789,)\n",
            "(198, 879)\n",
            "(198,)\n"
          ]
        }
      ],
      "source": [
        "print(df_train_nn.shape)\n",
        "print(y_train.shape)\n",
        "print(df_test_nn.shape)\n",
        "print(y_test.shape)"
      ]
    },
    {
      "cell_type": "code",
      "execution_count": null,
      "metadata": {},
      "outputs": [],
      "source": [
        "# Convert data to PyTorch tensors\n",
        "X_train_tensor = torch.tensor(df_train_nn.values, dtype=torch.float32)\n",
        "y_train_tensor = torch.tensor(y_train.values, dtype=torch.long)\n",
        "X_test_tensor = torch.tensor(df_test_nn.values, dtype=torch.float32)\n",
        "y_test_tensor = torch.tensor(y_test.values, dtype=torch.long)\n",
        "\n",
        "# Standardize the data\n",
        "scaler = StandardScaler()\n",
        "X_train_scaled = scaler.fit_transform(X_train_tensor)\n",
        "X_test_scaled = scaler.transform(X_test_tensor)"
      ]
    },
    {
      "cell_type": "code",
      "execution_count": null,
      "metadata": {},
      "outputs": [],
      "source": [
        "# Initialize the model, loss function, and optimizer\n",
        "input_size = X_train_tensor.shape[1]\n",
        "model = SimpleNN(input_size)\n",
        "criterion = nn.CrossEntropyLoss(weight=torch.tensor([1, 4.65566]))\n",
        "optimizer = optim.Adam(model.parameters(), lr=0.001)\n",
        "\n",
        "train_dataset = TensorDataset(X_train_tensor, y_train_tensor)\n",
        "train_loader = DataLoader(train_dataset, batch_size=64, shuffle=True)"
      ]
    },
    {
      "cell_type": "code",
      "execution_count": null,
      "metadata": {},
      "outputs": [
        {
          "name": "stdout",
          "output_type": "stream",
          "text": [
            "Accuracy: 0.4393939393939394\n",
            "\n",
            "Classification Report:\n",
            "               precision    recall  f1-score   support\n",
            "\n",
            "           0       0.71      0.03      0.06       148\n",
            "           1       0.25      0.96      0.40        50\n",
            "\n",
            "    accuracy                           0.27       198\n",
            "   macro avg       0.48      0.50      0.23       198\n",
            "weighted avg       0.60      0.27      0.15       198\n",
            "\n",
            "\n",
            "Confusion Matrix:\n",
            " [[  5 143]\n",
            " [  2  48]]\n"
          ]
        }
      ],
      "source": [
        "num_epochs = 250\n",
        "for epoch in range(num_epochs):\n",
        "  for inputs, labels in train_loader:\n",
        "    optimizer.zero_grad()\n",
        "    outputs = model(inputs)\n",
        "    loss = criterion(outputs, labels)\n",
        "    loss.backward()\n",
        "    optimizer.step()\n",
        "\n",
        "with torch.no_grad():\n",
        "  model.eval()\n",
        "  outputs = model(X_test_tensor)\n",
        "  _, y_pred_nn = torch.max(outputs, 1)\n",
        "  acc = accuracy_score(y_test_tensor, predicted)\n",
        "  report = classification_report(y_test_tensor, y_pred_nn)\n",
        "  conf_matrix = confusion_matrix(y_test, y_pred_nn)\n",
        "\n",
        "\n",
        "print(\"Accuracy:\", acc)\n",
        "print(\"\\nClassification Report:\\n\", report)\n",
        "print(\"\\nConfusion Matrix:\\n\", conf_matrix)"
      ]
    },
    {
      "cell_type": "markdown",
      "metadata": {},
      "source": [
        "## With Supplementary Data"
      ]
    },
    {
      "cell_type": "code",
      "execution_count": null,
      "metadata": {},
      "outputs": [],
      "source": [
        "df_supp_supervised = df_supplementary[df_supplementary['outcome_available']==1]\n",
        "X_train_total = pd.concat([X_train, df_supp_supervised], ignore_index=True)"
      ]
    },
    {
      "cell_type": "code",
      "execution_count": null,
      "metadata": {},
      "outputs": [],
      "source": [
        "df_y_supp_supervised = outcome_supplementary.dropna()['new_child']\n",
        "y_train_nn = pd.concat([y_train, df_y_supp_supervised], ignore_index=True)"
      ]
    },
    {
      "cell_type": "code",
      "execution_count": null,
      "metadata": {},
      "outputs": [
        {
          "name": "stdout",
          "output_type": "stream",
          "text": [
            "Number of remaining columns: 3031\n"
          ]
        }
      ],
      "source": [
        "df_train_nn = X_train_total[X_train_total['outcome_available']==1]\n",
        "threshold = len(df_train_nn) * 0.75\n",
        "df_train_nn = df_train_nn.dropna(thresh=threshold, axis=1)\n",
        "numeric_columns = df_train_nn.select_dtypes(include='number').columns\n",
        "df_train_nn = df_train_nn[numeric_columns]\n",
        "print(\"Number of remaining columns:\", len(df_train_nn.columns))"
      ]
    },
    {
      "cell_type": "code",
      "execution_count": null,
      "metadata": {},
      "outputs": [],
      "source": [
        "# Get all rows that are not in test set\n",
        "train_nomem_encr_set = set(df_train_total['nomem_encr'])\n",
        "test_nomem_encr_set = set(X_test['nomem_encr'])\n",
        "unique_in_train_not_in_test = train_nomem_encr_set - test_nomem_encr_set\n",
        "df_train_cluster = df_train_total[df_train_total['nomem_encr'].isin(unique_in_train_not_in_test)]\n",
        "outcome_cluster = outcome_total[outcome_total['nomem_encr'].isin(unique_in_train_not_in_test)]"
      ]
    },
    {
      "cell_type": "code",
      "execution_count": null,
      "metadata": {},
      "outputs": [
        {
          "name": "stdout",
          "output_type": "stream",
          "text": [
            "['nomem_encr', 'outcome_available', 'cf17j_m', 'cf18k_m', 'cf19l_m', 'cf20m_m', 'cf17j001', 'cf18k001', 'cf19l001', 'cf20m001', 'cf17j003', 'cf18k003', 'cf19l003', 'cf20m003', 'cf17j004', 'cf18k004', 'cf19l004', 'cf20m004', 'cf17j024', 'cf18k024', 'cf19l024', 'cf20m024', 'cf17j388', 'cf18k388', 'cf19l388', 'cf20m388', 'cf17j389', 'cf18k389', 'cf19l389', 'cf20m389', 'cf17j390', 'cf18k390', 'cf19l390', 'cf20m390', 'cf17j391', 'cf18k391', 'cf19l391', 'cf20m391', 'cf17j392', 'cf18k392', 'cf19l392', 'cf20m392', 'cf17j397', 'cf18k397', 'cf19l397', 'cf20m397', 'cf17j432', 'cf18k432', 'cf19l432', 'cf17j454', 'cf18k454', 'cf19l454', 'cf20m454', 'cf17j471', 'cf18k471', 'cf19l471', 'cf20m471', 'cf19l522', 'cf19l524', 'cf20m526', 'ca18f_m', 'ca20g_m', 'ca20g001', 'ca20g002', 'ca20g003', 'ca18f005', 'ca20g005', 'ca18f006', 'ca20g006', 'ca18f007', 'ca20g007', 'ca18f008', 'ca20g008', 'ca18f009', 'ca20g009', 'ca18f010', 'ca20g010', 'ca18f011', 'ca20g011', 'ca20g012', 'ca18f057', 'ca20g057', 'ca18f058', 'ca20g058', 'ca18f060', 'ca20g060', 'ca18f061', 'ca20g061', 'ca18f062', 'ca20g062', 'ca18f066', 'ca20g066', 'ca18f067', 'ca20g067', 'ca18f068', 'ca20g068', 'ca18f069', 'ca20g069', 'ca18f070', 'ca20g070', 'ca18f075', 'ca20g075', 'ca18f078', 'ca20g078', 'ca18f079', 'ca20g079', 'ca18f080', 'ca20g080', 'ca18f081', 'ca20g081', 'ca20g082', 'ca18f087', 'ca20g087', 'ci18k_m', 'ci19l_m', 'ci20m_m', 'ci18k001', 'ci19l001', 'ci20m001', 'ci18k002', 'ci19l002', 'ci20m002', 'ci18k003', 'ci19l003', 'ci20m003', 'ci18k005', 'ci19l005', 'ci20m005', 'ci18k006', 'ci19l006', 'ci20m006', 'ci19l007', 'ci20m007', 'ci18k008', 'ci19l008', 'ci20m008', 'ci18k037', 'ci19l037', 'ci20m037', 'ci18k038', 'ci19l038', 'ci20m038', 'ci18k039', 'ci19l039', 'ci20m039', 'ci18k040', 'ci19l040', 'ci20m040', 'ci18k041', 'ci19l041', 'ci20m041', 'ci18k042', 'ci19l042', 'ci20m042', 'ci18k043', 'ci19l043', 'ci20m043', 'ci18k044', 'ci19l044', 'ci20m044', 'ci18k045', 'ci19l045', 'ci20m045', 'ci18k087', 'ci19l087', 'ci20m087', 'ci18k088', 'ci18k089', 'ci18k090', 'ci19l090', 'ci20m090', 'ci18k091', 'ci19l091', 'ci20m091', 'ci18k092', 'ci18k094', 'ci19l094', 'ci20m094', 'ci18k095', 'ci18k096', 'ci19l096', 'ci20m096', 'ci18k098', 'ci19l098', 'ci20m098', 'ci18k099', 'ci19l099', 'ci20m099', 'ci18k100', 'ci19l100', 'ci20m100', 'ci18k101', 'ci19l101', 'ci20m101', 'ci19l144', 'ci20m144', 'ci19l145', 'ci19l146', 'ci20m146', 'ci19l147', 'ci20m147', 'ci19l148', 'ci20m148', 'ci19l149', 'ci20m149', 'ci19l150', 'ci20m150', 'ci19l151', 'ci20m151', 'ci19l152', 'ci20m152', 'ci19l153', 'ci20m153', 'ci19l154', 'ci20m154', 'ci18k175', 'ci19l175', 'ci20m175', 'ci18k177', 'ci19l177', 'ci20m177', 'ci19l203', 'ci20m203', 'ci19l205', 'ci20m205', 'ci19l207', 'ci20m207', 'ci20m209', 'ci20m211', 'ci19l213', 'ci20m213', 'ci20m237', 'ci20m238', 'ci20m239', 'ci20m240', 'ci20m241', 'ci20m242', 'ci20m245', 'ci20m246', 'ci20m247', 'ci20m248', 'ci20m249', 'ci20m250', 'ci20m251', 'ci20m252', 'ci20m253', 'ci20m254', 'ci20m258', 'ci20m261', 'ci18k263', 'ci20m292', 'ci20m293', 'ci20m294', 'ci20m295', 'ci20m301', 'ci20m303', 'ci20m306', 'ci20m307', 'ci20m309', 'ci18k313', 'ci19l313', 'ci20m313', 'ci18k314', 'ci19l314', 'ci20m314', 'ci18k315', 'ci19l315', 'ci20m315', 'ci18k316', 'ci19l316', 'ci20m316', 'ci18k317', 'ci19l317', 'ci20m317', 'ci18k322', 'ci19l322', 'ci20m322', 'ci18k326', 'ci19l326', 'ci20m326', 'ci18k327', 'ci19l327', 'ci20m327', 'ci18k328', 'ci19l328', 'ci20m328', 'ci18k329', 'ci20m340', 'ci18k341', 'ci19l341', 'ci20m341', 'ci20m352', 'ci20m353', 'ci20m354', 'ci20m355', 'ci20m356', 'ci19l374', 'ci20m374', 'ci20m377', 'ci20m378', 'ci19l380', 'ci20m380', 'ci20m382', 'ci19l383', 'ci20m383', 'ch17j_m', 'ch18k_m', 'ch19l_m', 'ch20m_m', 'ch17j001', 'ch18k001', 'ch19l001', 'ch20m001', 'ch17j002', 'ch18k002', 'ch19l002', 'ch20m002', 'ch17j003', 'ch18k003', 'ch19l003', 'ch20m003', 'ch17j004', 'ch18k004', 'ch19l004', 'ch20m004', 'ch17j005', 'ch18k005', 'ch19l005', 'ch20m005', 'ch17j011', 'ch18k011', 'ch19l011', 'ch20m011', 'ch17j012', 'ch18k012', 'ch19l012', 'ch20m012', 'ch17j013', 'ch18k013', 'ch19l013', 'ch20m013', 'ch17j014', 'ch18k014', 'ch19l014', 'ch20m014', 'ch17j015', 'ch18k015', 'ch19l015', 'ch20m015', 'ch17j016', 'ch18k016', 'ch19l016', 'ch20m016', 'ch17j017', 'ch18k017', 'ch19l017', 'ch20m017', 'ch17j018', 'ch18k018', 'ch19l018', 'ch20m018', 'ch17j020', 'ch18k020', 'ch19l020', 'ch20m020', 'ch17j021', 'ch18k021', 'ch19l021', 'ch20m021', 'ch17j022', 'ch18k022', 'ch19l022', 'ch20m022', 'ch17j023', 'ch18k023', 'ch19l023', 'ch20m023', 'ch17j024', 'ch18k024', 'ch19l024', 'ch20m024', 'ch17j025', 'ch18k025', 'ch19l025', 'ch20m025', 'ch17j026', 'ch18k026', 'ch19l026', 'ch20m026', 'ch17j027', 'ch18k027', 'ch19l027', 'ch20m027', 'ch17j028', 'ch18k028', 'ch19l028', 'ch20m028', 'ch17j029', 'ch18k029', 'ch19l029', 'ch20m029', 'ch17j030', 'ch18k030', 'ch19l030', 'ch20m030', 'ch17j031', 'ch18k031', 'ch19l031', 'ch20m031', 'ch17j032', 'ch18k032', 'ch19l032', 'ch20m032', 'ch17j033', 'ch18k033', 'ch19l033', 'ch20m033', 'ch17j034', 'ch18k034', 'ch19l034', 'ch20m034', 'ch17j035', 'ch18k035', 'ch19l035', 'ch20m035', 'ch17j036', 'ch18k036', 'ch19l036', 'ch20m036', 'ch17j037', 'ch18k037', 'ch19l037', 'ch20m037', 'ch17j038', 'ch18k038', 'ch19l038', 'ch20m038', 'ch17j039', 'ch18k039', 'ch19l039', 'ch20m039', 'ch17j040', 'ch18k040', 'ch19l040', 'ch20m040', 'ch17j041', 'ch18k041', 'ch19l041', 'ch20m041', 'ch17j042', 'ch18k042', 'ch19l042', 'ch20m042', 'ch17j043', 'ch18k043', 'ch19l043', 'ch20m043', 'ch17j044', 'ch18k044', 'ch19l044', 'ch20m044', 'ch17j045', 'ch18k045', 'ch19l045', 'ch20m045', 'ch17j070', 'ch18k070', 'ch19l070', 'ch20m070', 'ch17j071', 'ch18k071', 'ch19l071', 'ch20m071', 'ch17j072', 'ch18k072', 'ch19l072', 'ch20m072', 'ch17j073', 'ch18k073', 'ch19l073', 'ch20m073', 'ch17j074', 'ch18k074', 'ch19l074', 'ch20m074', 'ch17j075', 'ch18k075', 'ch19l075', 'ch20m075', 'ch17j076', 'ch18k076', 'ch19l076', 'ch20m076', 'ch17j077', 'ch18k077', 'ch19l077', 'ch20m077', 'ch17j078', 'ch18k078', 'ch19l078', 'ch20m078', 'ch17j079', 'ch18k079', 'ch19l079', 'ch20m079', 'ch17j080', 'ch18k080', 'ch19l080', 'ch20m080', 'ch17j081', 'ch18k081', 'ch19l081', 'ch20m081', 'ch17j082', 'ch18k082', 'ch19l082', 'ch20m082', 'ch17j083', 'ch18k083', 'ch19l083', 'ch20m083', 'ch17j084', 'ch18k084', 'ch19l084', 'ch20m084', 'ch17j085', 'ch18k085', 'ch19l085', 'ch20m085', 'ch17j086', 'ch18k086', 'ch19l086', 'ch20m086', 'ch17j087', 'ch18k087', 'ch19l087', 'ch20m087', 'ch17j088', 'ch18k088', 'ch19l088', 'ch20m088', 'ch17j089', 'ch18k089', 'ch19l089', 'ch20m089', 'ch17j090', 'ch18k090', 'ch19l090', 'ch20m090', 'ch17j091', 'ch18k091', 'ch19l091', 'ch20m091', 'ch17j092', 'ch18k092', 'ch19l092', 'ch20m092', 'ch17j093', 'ch18k093', 'ch19l093', 'ch20m093', 'ch17j094', 'ch18k094', 'ch19l094', 'ch20m094', 'ch17j095', 'ch18k095', 'ch19l095', 'ch20m095', 'ch17j096', 'ch18k096', 'ch19l096', 'ch20m096', 'ch17j097', 'ch18k097', 'ch19l097', 'ch20m097', 'ch17j098', 'ch18k098', 'ch19l098', 'ch20m098', 'ch17j099', 'ch18k099', 'ch19l099', 'ch20m099', 'ch17j125', 'ch18k125', 'ch19l125', 'ch20m125', 'ch17j133', 'ch18k133', 'ch19l133', 'ch20m133', 'ch20m134', 'ch17j159', 'ch18k159', 'ch19l159', 'ch20m159', 'ch17j160', 'ch18k160', 'ch19l160', 'ch20m160', 'ch17j161', 'ch18k161', 'ch19l161', 'ch20m161', 'ch17j162', 'ch18k162', 'ch19l162', 'ch20m162', 'ch17j163', 'ch18k163', 'ch19l163', 'ch20m163', 'ch17j169', 'ch18k169', 'ch19l169', 'ch20m169', 'ch17j170', 'ch18k170', 'ch19l170', 'ch20m170', 'ch17j171', 'ch18k171', 'ch19l171', 'ch20m171', 'ch17j172', 'ch18k172', 'ch19l172', 'ch20m172', 'ch17j173', 'ch18k173', 'ch19l173', 'ch20m173', 'ch17j174', 'ch18k174', 'ch19l174', 'ch20m174', 'ch17j175', 'ch18k175', 'ch19l175', 'ch20m175', 'ch17j176', 'ch18k176', 'ch19l176', 'ch20m176', 'ch17j177', 'ch18k177', 'ch19l177', 'ch20m177', 'ch17j178', 'ch18k178', 'ch19l178', 'ch20m178', 'ch17j179', 'ch18k179', 'ch19l179', 'ch20m179', 'ch17j180', 'ch18k180', 'ch19l180', 'ch20m180', 'ch17j181', 'ch18k181', 'ch19l181', 'ch20m181', 'ch17j182', 'ch18k182', 'ch19l182', 'ch20m182', 'ch17j183', 'ch18k183', 'ch19l183', 'ch20m183', 'ch17j184', 'ch18k184', 'ch19l184', 'ch20m184', 'ch17j185', 'ch18k185', 'ch17j188', 'ch18k188', 'ch17j191', 'ch18k191', 'ch17j194', 'ch18k194', 'ch17j196', 'ch18k196', 'ch17j197', 'ch18k197', 'ch17j198', 'ch18k198', 'ch17j199', 'ch18k199', 'ch17j200', 'ch18k200', 'ch17j201', 'ch18k201', 'ch17j202', 'ch18k202', 'ch17j203', 'ch18k203', 'ch17j206', 'ch18k206', 'ch19l206', 'ch20m206', 'ch17j207', 'ch18k207', 'ch19l207', 'ch20m207', 'ch17j208', 'ch18k208', 'ch19l208', 'ch20m208', 'ch17j209', 'ch18k209', 'ch19l209', 'ch20m209', 'ch17j210', 'ch18k210', 'ch19l210', 'ch20m210', 'ch17j211', 'ch18k211', 'ch19l211', 'ch20m211', 'ch17j212', 'ch18k212', 'ch19l212', 'ch20m212', 'ch17j213', 'ch18k213', 'ch19l213', 'ch20m213', 'ch17j214', 'ch18k214', 'ch19l214', 'ch20m214', 'ch17j215', 'ch18k215', 'ch19l215', 'ch20m215', 'ch17j216', 'ch18k216', 'ch19l216', 'ch20m216', 'ch17j217', 'ch18k217', 'ch19l217', 'ch20m217', 'ch17j218', 'ch18k218', 'ch19l218', 'ch20m218', 'ch17j219', 'ch18k219', 'ch19l219', 'ch20m219', 'ch17j220', 'ch18k220', 'ch19l220', 'ch20m220', 'ch17j221', 'ch18k221', 'ch19l221', 'ch20m221', 'ch17j222', 'ch18k222', 'ch19l222', 'ch20m222', 'ch17j223', 'ch18k223', 'ch19l223', 'ch20m223', 'ch17j224', 'ch18k224', 'ch19l224', 'ch20m224', 'ch17j225', 'ch18k225', 'ch19l225', 'ch20m225', 'ch17j226', 'ch18k226', 'ch19l226', 'ch20m226', 'ch17j227', 'ch18k227', 'ch19l227', 'ch20m227', 'ch17j228', 'ch18k228', 'ch19l228', 'ch20m228', 'ch17j229', 'ch18k229', 'ch19l229', 'ch20m229', 'ch17j232', 'ch18k232', 'ch19l232', 'ch20m232', 'ch17j233', 'ch18k233', 'ch19l233', 'ch20m233', 'ch17j234', 'ch18k234', 'ch19l234', 'ch20m234', 'ch17j235', 'ch18k235', 'ch19l235', 'ch20m235', 'ch17j238', 'ch18k238', 'ch17j239', 'ch18k239', 'ch19l239', 'ch20m239', 'ch17j245', 'ch18k245', 'ch17j246', 'ch18k246', 'ch17j247', 'ch18k247', 'ch17j249', 'ch18k249', 'ch17j250', 'ch18k250', 'ch19l250', 'ch20m250', 'ch17j251', 'ch18k251', 'ch19l251', 'ch20m251', 'ch17j252', 'ch18k252', 'ch19l252', 'ch20m252', 'ch17j253', 'ch18k253', 'ch19l253', 'ch20m253', 'ch17j254', 'ch18k254', 'ch19l254', 'ch20m254', 'ch17j256', 'ch18k256', 'ch17j258', 'ch18k258', 'ch17j259', 'ch18k259', 'ch19l259', 'ch20m259', 'ch19l260', 'ch20m260', 'ch17j261', 'ch18k261', 'ch17j262', 'ch18k262', 'ch18k263', 'ch19l263', 'ch20m263', 'ch17j267', 'ch18k267', 'ch19l267', 'ch20m267', 'ch20m269', 'ch20m270', 'cp17i_m', 'cp18j_m', 'cp19k_m', 'cp20l_m', 'cp17i001', 'cp18j001', 'cp17i002', 'cp18j002', 'cp17i003', 'cp18j003', 'cp17i004', 'cp18j004', 'cp17i005', 'cp18j005', 'cp17i006', 'cp18j006', 'cp17i007', 'cp18j007', 'cp17i008', 'cp18j008', 'cp17i009', 'cp18j009', 'cp17i010', 'cp18j010', 'cp19k010', 'cp20l010', 'cp17i011', 'cp18j011', 'cp19k011', 'cp20l011', 'cp17i012', 'cp18j012', 'cp19k012', 'cp20l012', 'cp17i013', 'cp18j013', 'cp19k013', 'cp20l013', 'cp17i014', 'cp18j014', 'cp19k014', 'cp20l014', 'cp17i015', 'cp18j015', 'cp19k015', 'cp20l015', 'cp17i016', 'cp18j016', 'cp19k016', 'cp20l016', 'cp17i017', 'cp18j017', 'cp19k017', 'cp20l017', 'cp17i018', 'cp18j018', 'cp19k018', 'cp20l018', 'cp17i019', 'cp18j019', 'cp19k019', 'cp20l019', 'cp17i020', 'cp19k020', 'cp20l020', 'cp17i021', 'cp19k021', 'cp20l021', 'cp17i022', 'cp19k022', 'cp20l022', 'cp17i023', 'cp19k023', 'cp20l023', 'cp17i024', 'cp19k024', 'cp20l024', 'cp17i025', 'cp19k025', 'cp20l025', 'cp17i026', 'cp19k026', 'cp20l026', 'cp17i027', 'cp19k027', 'cp20l027', 'cp17i028', 'cp19k028', 'cp20l028', 'cp17i029', 'cp19k029', 'cp20l029', 'cp17i030', 'cp19k030', 'cp20l030', 'cp17i031', 'cp19k031', 'cp20l031', 'cp17i032', 'cp19k032', 'cp20l032', 'cp17i033', 'cp19k033', 'cp20l033', 'cp17i034', 'cp19k034', 'cp20l034', 'cp17i035', 'cp19k035', 'cp20l035', 'cp17i036', 'cp19k036', 'cp20l036', 'cp17i037', 'cp19k037', 'cp20l037', 'cp17i038', 'cp19k038', 'cp20l038', 'cp17i039', 'cp19k039', 'cp20l039', 'cp17i040', 'cp19k040', 'cp20l040', 'cp17i041', 'cp19k041', 'cp20l041', 'cp17i042', 'cp19k042', 'cp20l042', 'cp17i043', 'cp19k043', 'cp20l043', 'cp17i044', 'cp19k044', 'cp20l044', 'cp17i045', 'cp19k045', 'cp20l045', 'cp17i046', 'cp19k046', 'cp20l046', 'cp17i047', 'cp19k047', 'cp20l047', 'cp17i048', 'cp19k048', 'cp20l048', 'cp17i049', 'cp19k049', 'cp20l049', 'cp17i050', 'cp19k050', 'cp20l050', 'cp17i051', 'cp19k051', 'cp20l051', 'cp17i052', 'cp19k052', 'cp20l052', 'cp17i053', 'cp19k053', 'cp20l053', 'cp17i054', 'cp19k054', 'cp20l054', 'cp17i055', 'cp19k055', 'cp20l055', 'cp17i056', 'cp19k056', 'cp20l056', 'cp17i057', 'cp19k057', 'cp20l057', 'cp17i058', 'cp19k058', 'cp20l058', 'cp17i059', 'cp19k059', 'cp20l059', 'cp17i060', 'cp19k060', 'cp20l060', 'cp17i061', 'cp19k061', 'cp20l061', 'cp17i062', 'cp19k062', 'cp20l062', 'cp17i063', 'cp19k063', 'cp20l063', 'cp17i064', 'cp19k064', 'cp20l064', 'cp17i065', 'cp19k065', 'cp20l065', 'cp17i066', 'cp19k066', 'cp20l066', 'cp17i067', 'cp19k067', 'cp20l067', 'cp17i068', 'cp19k068', 'cp20l068', 'cp17i069', 'cp19k069', 'cp20l069', 'cp17i070', 'cp19k070', 'cp20l070', 'cp17i071', 'cp19k071', 'cp20l071', 'cp17i072', 'cp19k072', 'cp20l072', 'cp17i073', 'cp19k073', 'cp20l073', 'cp17i074', 'cp19k074', 'cp20l074', 'cp17i075', 'cp19k075', 'cp20l075', 'cp17i076', 'cp19k076', 'cp20l076', 'cp17i077', 'cp19k077', 'cp20l077', 'cp17i078', 'cp19k078', 'cp20l078', 'cp17i079', 'cp19k079', 'cp20l079', 'cp17i080', 'cp17i081', 'cp17i082', 'cp17i083', 'cp17i084', 'cp17i085', 'cp17i086', 'cp17i087', 'cp17i088', 'cp17i089', 'cp17i090', 'cp17i091', 'cp17i092', 'cp17i093', 'cp17i094', 'cp17i095', 'cp17i096', 'cp17i097', 'cp17i098', 'cp17i099', 'cp19k099', 'cp20l099', 'cp17i100', 'cp19k100', 'cp20l100', 'cp17i101', 'cp19k101', 'cp20l101', 'cp17i102', 'cp19k102', 'cp20l102', 'cp17i103', 'cp19k103', 'cp20l103', 'cp17i104', 'cp19k104', 'cp20l104', 'cp17i105', 'cp19k105', 'cp20l105', 'cp17i106', 'cp19k106', 'cp20l106', 'cp17i107', 'cp19k107', 'cp20l107', 'cp17i108', 'cp19k108', 'cp20l108', 'cp17i109', 'cp19k109', 'cp20l109', 'cp17i110', 'cp19k110', 'cp20l110', 'cp17i111', 'cp19k111', 'cp20l111', 'cp17i112', 'cp19k112', 'cp20l112', 'cp17i113', 'cp19k113', 'cp20l113', 'cp17i114', 'cp19k114', 'cp20l114', 'cp17i115', 'cp19k115', 'cp20l115', 'cp17i116', 'cp19k116', 'cp20l116', 'cp17i117', 'cp19k117', 'cp20l117', 'cp17i118', 'cp19k118', 'cp20l118', 'cp17i119', 'cp19k119', 'cp20l119', 'cp17i120', 'cp19k120', 'cp20l120', 'cp17i121', 'cp19k121', 'cp20l121', 'cp17i122', 'cp19k122', 'cp20l122', 'cp17i123', 'cp19k123', 'cp20l123', 'cp17i124', 'cp19k124', 'cp20l124', 'cp17i125', 'cp19k125', 'cp20l125', 'cp17i126', 'cp19k126', 'cp20l126', 'cp17i127', 'cp19k127', 'cp20l127', 'cp17i128', 'cp19k128', 'cp20l128', 'cp17i129', 'cp19k129', 'cp20l129', 'cp17i130', 'cp19k130', 'cp20l130', 'cp17i131', 'cp19k131', 'cp20l131', 'cp17i132', 'cp19k132', 'cp20l132', 'cp17i133', 'cp19k133', 'cp20l133', 'cp17i134', 'cp19k134', 'cp20l134', 'cp17i135', 'cp18j135', 'cp19k135', 'cp20l135', 'cp17i136', 'cp19k136', 'cp20l136', 'cp17i137', 'cp19k137', 'cp20l137', 'cp17i138', 'cp19k138', 'cp20l138', 'cp17i139', 'cp19k139', 'cp20l139', 'cp17i140', 'cp19k140', 'cp20l140', 'cp17i141', 'cp19k141', 'cp20l141', 'cp17i142', 'cp19k142', 'cp20l142', 'cp17i143', 'cp19k143', 'cp20l143', 'cp17i144', 'cp19k144', 'cp20l144', 'cp17i145', 'cp19k145', 'cp20l145', 'cp17i146', 'cp19k146', 'cp20l146', 'cp17i147', 'cp19k147', 'cp20l147', 'cp17i148', 'cp19k148', 'cp20l148', 'cp17i149', 'cp19k149', 'cp20l149', 'cp17i150', 'cp19k150', 'cp20l150', 'cp17i151', 'cp19k151', 'cp20l151', 'cp17i152', 'cp19k152', 'cp20l152', 'cp17i153', 'cp19k153', 'cp20l153', 'cp17i154', 'cp19k154', 'cp20l154', 'cp17i155', 'cp19k155', 'cp20l155', 'cp17i156', 'cp19k156', 'cp20l156', 'cp17i157', 'cp19k157', 'cp20l157', 'cp17i158', 'cp19k158', 'cp20l158', 'cp17i159', 'cp19k159', 'cp20l159', 'cp17i160', 'cp19k160', 'cp20l160', 'cp17i161', 'cp19k161', 'cp20l161', 'cp17i162', 'cp19k162', 'cp20l162', 'cp17i163', 'cp19k163', 'cp20l163', 'cp17i164', 'cp19k164', 'cp20l164', 'cp17i165', 'cp19k165', 'cp20l165', 'cp17i166', 'cp17i167', 'cp17i168', 'cp17i169', 'cp17i170', 'cp17i171', 'cp17i172', 'cp17i173', 'cp17i174', 'cp17i175', 'cp17i176', 'cp17i177', 'cp17i178', 'cp17i179', 'cp17i180', 'cp17i181', 'cp17i182', 'cp17i183', 'cp17i184', 'cp18j184', 'cp19k184', 'cp20l184', 'cp17i185', 'cp18j185', 'cp19k185', 'cp20l185', 'cp17i186', 'cp18j186', 'cp19k186', 'cp20l186', 'cp17i187', 'cp18j187', 'cp19k187', 'cp20l187', 'cp17i188', 'cp18j188', 'cp19k188', 'cp20l188', 'cp17i190', 'cp17i192', 'cp17i193', 'cp18j193', 'cp19k193', 'cp20l193', 'cp17i194', 'cp18j194', 'cp18j197', 'cp17i198', 'cp18j198', 'cp19k198', 'cp20l198', 'cp17i199', 'cp18j199', 'cp19k199', 'cp20l199', 'cp17i200', 'cp18j200', 'cp19k200', 'cp20l200', 'cp17i201', 'cp18j201', 'cp19k201', 'cp20l201', 'cp17i202', 'cp18j202', 'cp19k202', 'cp20l202', 'cp17i203', 'cp18j203', 'cp19k203', 'cp20l203', 'cp17i204', 'cp18j204', 'cp19k204', 'cp20l204', 'cp17i205', 'cp18j205', 'cp19k205', 'cp20l205', 'cp17i206', 'cp18j206', 'cp19k206', 'cp20l206', 'cp17i207', 'cp18j207', 'cp19k207', 'cp20l207', 'cv18j_m1', 'cv18j_m2', 'cv18j_m3', 'cv19k_m1', 'cv19k_m2', 'cv19k_m3', 'cv20l_m1', 'cv20l_m2', 'cv20l_m3', 'cv18j001', 'cv19k001', 'cv20l001', 'cv18j002', 'cv19k002', 'cv20l002', 'cv18j003', 'cv19k003', 'cv20l003', 'cv18j004', 'cv19k004', 'cv20l004', 'cv18j006', 'cv19k006', 'cv20l006', 'cv18j007', 'cv19k007', 'cv18j008', 'cv19k008', 'cv20l008', 'cv18j009', 'cv19k009', 'cv20l009', 'cv18j010', 'cv19k010', 'cv20l010', 'cv18j011', 'cv19k011', 'cv20l011', 'cv18j012', 'cv19k012', 'cv20l012', 'cv18j013', 'cv19k013', 'cv20l013', 'cv18j014', 'cv19k014', 'cv20l014', 'cv18j015', 'cv19k015', 'cv20l015', 'cv18j016', 'cv19k016', 'cv20l016', 'cv18j017', 'cv19k017', 'cv20l017', 'cv18j018', 'cv19k018', 'cv20l018', 'cv18j019', 'cv19k019', 'cv20l019', 'cv18j020', 'cv19k020', 'cv20l020', 'cv18j021', 'cv19k021', 'cv20l021', 'cv18j022', 'cv19k022', 'cv20l022', 'cv18j023', 'cv19k023', 'cv20l023', 'cv18j024', 'cv19k024', 'cv20l024', 'cv18j025', 'cv19k025', 'cv20l025', 'cv18j026', 'cv19k026', 'cv20l026', 'cv18j027', 'cv19k027', 'cv20l027', 'cv18j028', 'cv19k028', 'cv20l028', 'cv18j029', 'cv19k029', 'cv20l029', 'cv18j030', 'cv19k030', 'cv20l030', 'cv18j031', 'cv19k031', 'cv20l031', 'cv18j032', 'cv19k032', 'cv20l032', 'cv18j033', 'cv19k033', 'cv20l033', 'cv18j034', 'cv19k034', 'cv20l034', 'cv18j035', 'cv19k035', 'cv20l035', 'cv18j036', 'cv19k036', 'cv20l036', 'cv18j037', 'cv19k037', 'cv20l037', 'cv18j038', 'cv19k038', 'cv20l038', 'cv18j039', 'cv19k039', 'cv20l039', 'cv18j040', 'cv19k040', 'cv20l040', 'cv18j041', 'cv19k041', 'cv20l041', 'cv18j042', 'cv19k042', 'cv20l042', 'cv18j043', 'cv19k043', 'cv20l043', 'cv18j044', 'cv19k044', 'cv20l044', 'cv18j045', 'cv19k045', 'cv20l045', 'cv18j046', 'cv19k046', 'cv20l046', 'cv18j047', 'cv19k047', 'cv20l047', 'cv18j048', 'cv19k048', 'cv20l048', 'cv18j049', 'cv19k049', 'cv20l049', 'cv18j050', 'cv19k050', 'cv20l050', 'cv18j051', 'cv19k051', 'cv20l051', 'cv18j052', 'cv19k052', 'cv20l052', 'cv18j053', 'cv19k053', 'cv20l053', 'cv18j065', 'cv19k065', 'cv20l065', 'cv18j066', 'cv19k066', 'cv20l066', 'cv18j067', 'cv19k067', 'cv20l067', 'cv18j068', 'cv19k068', 'cv20l068', 'cv18j069', 'cv19k069', 'cv20l069', 'cv18j070', 'cv19k070', 'cv20l070', 'cv18j071', 'cv19k071', 'cv20l071', 'cv18j072', 'cv19k072', 'cv20l072', 'cv18j073', 'cv19k073', 'cv20l073', 'cv18j074', 'cv19k074', 'cv18j098', 'cv19k098', 'cv20l098', 'cv20l101', 'cv18j102', 'cv19k102', 'cv20l102', 'cv18j103', 'cv19k103', 'cv20l103', 'cv18j104', 'cv19k104', 'cv20l104', 'cv18j105', 'cv19k105', 'cv20l105', 'cv18j106', 'cv19k106', 'cv20l106', 'cv18j107', 'cv19k107', 'cv20l107', 'cv18j108', 'cv19k108', 'cv20l108', 'cv18j109', 'cv19k109', 'cv20l109', 'cv18j110', 'cv19k110', 'cv20l110', 'cv18j111', 'cv19k111', 'cv20l111', 'cv18j112', 'cv19k112', 'cv20l112', 'cv18j113', 'cv19k113', 'cv20l113', 'cv18j114', 'cv19k114', 'cv20l114', 'cv18j115', 'cv19k115', 'cv20l115', 'cv18j116', 'cv19k116', 'cv20l116', 'cv18j117', 'cv19k117', 'cv20l117', 'cv18j118', 'cv19k118', 'cv20l118', 'cv18j119', 'cv19k119', 'cv20l119', 'cv18j120', 'cv19k120', 'cv20l120', 'cv18j121', 'cv19k121', 'cv20l121', 'cv18j122', 'cv19k122', 'cv20l122', 'cv18j123', 'cv19k123', 'cv20l123', 'cv18j124', 'cv19k124', 'cv20l124', 'cv18j125', 'cv19k125', 'cv20l125', 'cv18j126', 'cv19k126', 'cv20l126', 'cv18j127', 'cv19k127', 'cv20l127', 'cv18j128', 'cv19k128', 'cv20l128', 'cv18j129', 'cv19k129', 'cv20l129', 'cv18j130', 'cv19k130', 'cv20l130', 'cv18j131', 'cv19k131', 'cv20l131', 'cv18j132', 'cv19k132', 'cv20l132', 'cv18j133', 'cv19k133', 'cv20l133', 'cv18j134', 'cv19k134', 'cv20l134', 'cv18j139', 'cv19k139', 'cv20l139', 'cv18j140', 'cv19k140', 'cv20l140', 'cv18j141', 'cv19k141', 'cv20l141', 'cv18j142', 'cv19k142', 'cv20l142', 'cv18j143', 'cv19k143', 'cv20l143', 'cv18j144', 'cv19k144', 'cv20l144', 'cv18j145', 'cv19k145', 'cv20l145', 'cv18j146', 'cv19k146', 'cv20l146', 'cv18j147', 'cv19k147', 'cv20l147', 'cv18j148', 'cv19k148', 'cv20l148', 'cv18j151', 'cv19k151', 'cv20l151', 'cv18j152', 'cv19k152', 'cv20l152', 'cv18j153', 'cv19k153', 'cv20l153', 'cv18j154', 'cv19k154', 'cv20l154', 'cv18j160', 'cv19k160', 'cv20l160', 'cv18j166', 'cv19k166', 'cv20l166', 'cv18j167', 'cv19k167', 'cv20l167', 'cv18j199', 'cv19k199', 'cv20l199', 'cv19k211', 'cv20l211', 'cv20l212', 'cv19k213', 'cv20l213', 'cv20l214', 'cv20l215', 'cv20l216', 'cv20l217', 'cv20l218', 'cv20l219', 'cv20l220', 'cv20l221', 'cv18j222', 'cv19k222', 'cv20l222', 'cv18j224', 'cv19k224', 'cv20l224', 'cv20l225', 'cv20l240', 'cv18j242', 'cv19k242', 'cv20l242', 'cv18j243', 'cv19k243', 'cv20l243', 'cv20l264', 'cv20l266', 'cv18j274', 'cv19k274', 'cv20l274', 'cv18j275', 'cv19k275', 'cv20l275', 'cv18j276', 'cv19k276', 'cv20l276', 'cv18j277', 'cv19k277', 'cv20l277', 'cv18j278', 'cv19k278', 'cv20l278', 'cv18j279', 'cv19k279', 'cv20l279', 'cv18j280', 'cv19k280', 'cv20l280', 'cv18j281', 'cv19k281', 'cv20l281', 'cv18j282', 'cv19k282', 'cv20l282', 'cv18j283', 'cv19k283', 'cv20l283', 'cv18j284', 'cv19k284', 'cv20l284', 'cv18j285', 'cv19k285', 'cv20l285', 'cv18j286', 'cv19k286', 'cv20l286', 'cv18j287', 'cv19k287', 'cv20l287', 'cv18j288', 'cv19k288', 'cv20l288', 'cv18j301', 'cv19k301', 'cv20l301', 'cv18j302', 'cv19k302', 'cv20l302', 'cv18j303', 'cv19k303', 'cv20l303', 'cv20l305', 'cv20l306', 'cr17j_m', 'cr18k_m', 'cr19l_m', 'cr20m_m', 'cr17j001', 'cr17j002', 'cr18k002', 'cr17j011', 'cr18k011', 'cr17j012', 'cr18k012', 'cr17j030', 'cr18k030', 'cr19l030', 'cr20m030', 'cr18k031', 'cr19l031', 'cr20m031', 'cr18k032', 'cr17j034', 'cr18k034', 'cr17j035', 'cr18k035', 'cr17j037', 'cr18k037', 'cr17j040', 'cr18k040', 'cr17j041', 'cr18k041', 'cr19l041', 'cr20m041', 'cr17j042', 'cr18k042', 'cr19l042', 'cr20m042', 'cr17j079', 'cr18k079', 'cr19l079', 'cr20m079', 'cr17j080', 'cr18k080', 'cr19l080', 'cr20m080', 'cr17j081', 'cr18k081', 'cr19l081', 'cr20m081', 'cr17j082', 'cr18k082', 'cr19l082', 'cr20m082', 'cr17j083', 'cr18k083', 'cr19l083', 'cr20m083', 'cr17j084', 'cr18k084', 'cr19l084', 'cr20m084', 'cr17j085', 'cr18k085', 'cr19l085', 'cr20m085', 'cr17j086', 'cr18k086', 'cr19l086', 'cr20m086', 'cr17j087', 'cr18k087', 'cr19l087', 'cr20m087', 'cr17j089', 'cr18k089', 'cr19l089', 'cr20m089', 'cr17j092', 'cr18k092', 'cr19l092', 'cr20m092', 'cr17j093', 'cr18k093', 'cr19l093', 'cr20m093', 'cr17j094', 'cr18k094', 'cr19l094', 'cr20m094', 'cr17j095', 'cr18k095', 'cr19l095', 'cr20m095', 'cr18k096', 'cr19l096', 'cr20m096', 'cr17j097', 'cr18k097', 'cr19l097', 'cr20m097', 'cr17j098', 'cr18k098', 'cr19l098', 'cr20m098', 'cr17j101', 'cr18k101', 'cr17j102', 'cr18k102', 'cr17j103', 'cr18k103', 'cr17j104', 'cr18k104', 'cr17j105', 'cr18k105', 'cr17j108', 'cr18k108', 'cr17j109', 'cr18k109', 'cr19l109', 'cr20m109', 'cr17j110', 'cr18k110', 'cr19l110', 'cr20m110', 'cr17j111', 'cr18k111', 'cr19l111', 'cr20m111', 'cr17j112', 'cr18k112', 'cr19l112', 'cr20m112', 'cr17j113', 'cr18k113', 'cr19l113', 'cr20m113', 'cr17j120', 'cr18k120', 'cr19l120', 'cr20m120', 'cr19l134', 'cr20m134', 'cr19l142', 'cr20m142', 'cr19l143', 'cr20m143', 'cr19l162', 'cr20m162', 'cr19l163', 'cr20m163', 'cr19l164', 'cr20m164', 'cr19l165', 'cr20m165', 'cr19l166', 'cr20m166', 'cr19l167', 'cr20m167', 'cr19l168', 'cr20m168', 'cr19l169', 'cr20m169', 'cr19l170', 'cr20m170', 'cr19l171', 'cr20m171', 'cr19l172', 'cr20m172', 'cr19l173', 'cr20m173', 'cr19l174', 'cr20m174', 'cr19l175', 'cr20m175', 'cr19l176', 'cr20m176', 'cr19l177', 'cr20m177', 'cr19l178', 'cr20m178', 'cr19l179', 'cr20m179', 'cs17j_m', 'cs18k_m', 'cs19l_m', 'cs20m_m', 'cs17j001', 'cs18k001', 'cs19l001', 'cs20m001', 'cs17j002', 'cs18k002', 'cs19l002', 'cs17j003', 'cs18k003', 'cs19l003', 'cs20m003', 'cs17j004', 'cs18k004', 'cs19l004', 'cs20m004', 'cs17j005', 'cs18k005', 'cs19l005', 'cs20m005', 'cs17j006', 'cs18k006', 'cs19l006', 'cs20m006', 'cs17j007', 'cs18k007', 'cs19l007', 'cs20m007', 'cs17j008', 'cs18k008', 'cs19l008', 'cs20m008', 'cs17j009', 'cs18k009', 'cs19l009', 'cs20m009', 'cs17j010', 'cs18k010', 'cs19l010', 'cs20m010', 'cs17j011', 'cs18k011', 'cs19l011', 'cs20m011', 'cs17j012', 'cs18k012', 'cs19l012', 'cs20m012', 'cs17j013', 'cs18k013', 'cs19l013', 'cs20m013', 'cs17j014', 'cs18k014', 'cs19l014', 'cs20m014', 'cs17j015', 'cs18k015', 'cs19l015', 'cs20m015', 'cs17j016', 'cs18k016', 'cs19l016', 'cs20m016', 'cs17j017', 'cs18k017', 'cs19l017', 'cs20m017', 'cs17j018', 'cs18k018', 'cs19l018', 'cs20m018', 'cs17j019', 'cs18k019', 'cs19l019', 'cs20m019', 'cs17j020', 'cs18k020', 'cs19l020', 'cs20m020', 'cs17j021', 'cs18k021', 'cs19l021', 'cs20m021', 'cs17j022', 'cs18k022', 'cs19l022', 'cs20m022', 'cs17j023', 'cs18k023', 'cs19l023', 'cs20m023', 'cs17j024', 'cs18k024', 'cs19l024', 'cs20m024', 'cs17j025', 'cs18k025', 'cs19l025', 'cs20m025', 'cs17j026', 'cs18k026', 'cs19l026', 'cs20m026', 'cs17j027', 'cs18k027', 'cs19l027', 'cs20m027', 'cs17j028', 'cs18k028', 'cs19l028', 'cs20m028', 'cs17j029', 'cs18k029', 'cs19l029', 'cs20m029', 'cs17j030', 'cs18k030', 'cs19l030', 'cs20m030', 'cs17j031', 'cs18k031', 'cs19l031', 'cs20m031', 'cs17j032', 'cs18k032', 'cs19l032', 'cs20m032', 'cs17j033', 'cs18k033', 'cs19l033', 'cs20m033', 'cs17j034', 'cs18k034', 'cs19l034', 'cs20m034', 'cs17j035', 'cs18k035', 'cs19l035', 'cs20m035', 'cs17j036', 'cs18k036', 'cs19l036', 'cs20m036', 'cs17j037', 'cs18k037', 'cs19l037', 'cs20m037', 'cs17j038', 'cs18k038', 'cs19l038', 'cs20m038', 'cs17j039', 'cs18k039', 'cs19l039', 'cs20m039', 'cs17j040', 'cs18k040', 'cs19l040', 'cs20m040', 'cs17j041', 'cs18k041', 'cs19l041', 'cs20m041', 'cs17j042', 'cs18k042', 'cs19l042', 'cs20m042', 'cs17j043', 'cs18k043', 'cs19l043', 'cs20m043', 'cs17j044', 'cs18k044', 'cs19l044', 'cs20m044', 'cs17j045', 'cs18k045', 'cs19l045', 'cs20m045', 'cs17j046', 'cs18k046', 'cs19l046', 'cs20m046', 'cs17j047', 'cs18k047', 'cs19l047', 'cs20m047', 'cs17j048', 'cs18k048', 'cs19l048', 'cs20m048', 'cs17j049', 'cs18k049', 'cs19l049', 'cs20m049', 'cs17j050', 'cs18k050', 'cs19l050', 'cs20m050', 'cs17j051', 'cs18k051', 'cs19l051', 'cs20m051', 'cs17j052', 'cs18k052', 'cs19l052', 'cs20m052', 'cs17j053', 'cs18k053', 'cs19l053', 'cs20m053', 'cs17j054', 'cs18k054', 'cs19l054', 'cs20m054', 'cs17j055', 'cs18k055', 'cs19l055', 'cs20m055', 'cs17j056', 'cs18k056', 'cs19l056', 'cs20m056', 'cs17j057', 'cs18k057', 'cs19l057', 'cs20m057', 'cs17j058', 'cs18k058', 'cs19l058', 'cs20m058', 'cs17j059', 'cs18k059', 'cs19l059', 'cs20m059', 'cs17j060', 'cs18k060', 'cs19l060', 'cs20m060', 'cs17j061', 'cs18k061', 'cs19l061', 'cs20m061', 'cs17j062', 'cs18k062', 'cs19l062', 'cs20m062', 'cs17j063', 'cs18k063', 'cs19l063', 'cs20m063', 'cs17j070', 'cs18k070', 'cs19l070', 'cs20m070', 'cs17j077', 'cs18k077', 'cs19l077', 'cs17j082', 'cs18k082', 'cs19l082', 'cs17j083', 'cs18k083', 'cs19l083', 'cs17j087', 'cs18k087', 'cs19l087', 'cs17j088', 'cs18k088', 'cs19l088', 'cs17j089', 'cs18k089', 'cs19l089', 'cs17j090', 'cs18k090', 'cs19l090', 'cs20m093', 'cs20m094', 'cs20m098', 'cs20m099', 'cs20m100', 'cs20m101', 'cs17j102', 'cs18k102', 'cs19l102', 'cs20m102', 'cs17j103', 'cs18k103', 'cs19l103', 'cs20m103', 'cs17j104', 'cs18k104', 'cs19l104', 'cs20m104', 'cs17j124', 'cs18k124', 'cs19l124', 'cs20m124', 'cs17j125', 'cs18k125', 'cs19l125', 'cs20m125', 'cs17j126', 'cs18k126', 'cs19l126', 'cs20m126', 'cs17j127', 'cs18k127', 'cs19l127', 'cs17j130', 'cs18k130', 'cs19l130', 'cs20m131', 'cs17j132', 'cs18k132', 'cs19l132', 'cs17j133', 'cs18k133', 'cs19l133', 'cs17j134', 'cs18k134', 'cs19l134', 'cs17j135', 'cs18k135', 'cs19l135', 'cs17j136', 'cs18k136', 'cs19l136', 'cs17j137', 'cs18k137', 'cs19l137', 'cs17j138', 'cs18k138', 'cs19l138', 'cs17j139', 'cs18k139', 'cs19l139', 'cs17j141', 'cs18k141', 'cs19l141', 'cs17j142', 'cs18k142', 'cs19l142', 'cs17j143', 'cs18k143', 'cs19l143', 'cs17j144', 'cs18k144', 'cs19l144', 'cs17j145', 'cs18k145', 'cs19l145', 'cs17j146', 'cs18k146', 'cs19l146', 'cs17j147', 'cs18k147', 'cs19l147', 'cs17j148', 'cs18k148', 'cs19l148', 'cs17j149', 'cs18k149', 'cs19l149', 'cs17j150', 'cs18k150', 'cs19l150', 'cs17j151', 'cs18k151', 'cs19l151', 'cs17j152', 'cs18k152', 'cs19l152', 'cs17j153', 'cs18k153', 'cs19l153', 'cs17j154', 'cs18k154', 'cs19l154', 'cs17j155', 'cs18k155', 'cs19l155', 'cs17j156', 'cs18k156', 'cs19l156', 'cs17j157', 'cs18k157', 'cs19l157', 'cs17j158', 'cs18k158', 'cs19l158', 'cs17j159', 'cs18k159', 'cs19l159', 'cs20m160', 'cs20m161', 'cs20m162', 'cs20m164', 'cs20m165', 'cs20m166', 'cs20m167', 'cs20m169', 'cs20m171', 'cs20m172', 'cs20m173', 'cs20m174', 'cs20m175', 'cs20m176', 'cs20m177', 'cs20m178', 'cs20m179', 'cs20m180', 'cs20m181', 'cs20m182', 'cs20m183', 'cs20m184', 'cs20m185', 'cs20m186', 'cs20m191', 'cs20m205', 'cs20m229', 'cs20m231', 'cs20m235', 'cs17j242', 'cs18k242', 'cs20m242', 'cs17j243', 'cs18k243', 'cs20m243', 'cs17j244', 'cs18k244', 'cs20m244', 'cs17j245', 'cs18k245', 'cs20m245', 'cs17j251', 'cs18k251', 'cs19l251', 'cs17j252', 'cs18k252', 'cs19l252', 'cs17j253', 'cs18k253', 'cs19l253', 'cs17j254', 'cs18k254', 'cs19l254', 'cs17j260', 'cs18k260', 'cs19l260', 'cs17j261', 'cs18k261', 'cs19l261', 'cs17j262', 'cs18k262', 'cs19l262', 'cs17j263', 'cs18k263', 'cs19l263', 'cs17j264', 'cs18k264', 'cs19l264', 'cs17j265', 'cs18k265', 'cs19l265', 'cs17j266', 'cs18k266', 'cs19l266', 'cs17j267', 'cs18k267', 'cs19l267', 'cs20m267', 'cs18k268', 'cs19l268', 'cs20m268', 'cs20m269', 'cs20m270', 'cs20m277', 'cs20m278', 'cs20m279', 'cs20m280', 'cs20m281', 'cs20m282', 'cs17j283', 'cs18k283', 'cs19l283', 'cs20m283', 'cs17j284', 'cs18k284', 'cs19l284', 'cs20m284', 'cs17j285', 'cs18k285', 'cs19l285', 'cs20m285', 'cs17j286', 'cs18k286', 'cs19l286', 'cs20m286', 'cs17j287', 'cs18k287', 'cs19l287', 'cs20m287', 'cs17j288', 'cs18k288', 'cs19l288', 'cs20m288', 'cs17j289', 'cs18k289', 'cs19l289', 'cs20m289', 'cs17j290', 'cs18k290', 'cs19l290', 'cs20m290', 'cs17j291', 'cs18k291', 'cs19l291', 'cs20m291', 'cs17j292', 'cs18k292', 'cs19l292', 'cs20m292', 'cs17j293', 'cs18k293', 'cs19l293', 'cs17j294', 'cs18k294', 'cs19l294', 'cs20m294', 'cs17j295', 'cs18k295', 'cs19l295', 'cs20m295', 'cs17j296', 'cs18k296', 'cs19l296', 'cs20m296', 'cs17j297', 'cs18k297', 'cs19l297', 'cs20m297', 'cs17j298', 'cs18k298', 'cs19l298', 'cs20m298', 'cs20m315', 'cs20m320', 'cs20m321', 'cs20m323', 'cs20m324', 'cs20m325', 'cs20m326', 'cs20m327', 'cs20m329', 'cs20m330', 'cs17j379', 'cs18k379', 'cs19l379', 'cs20m379', 'cs17j410', 'cs18k410', 'cs19l410', 'cs20m410', 'cs17j411', 'cs18k411', 'cs19l411', 'cs20m411', 'cs17j412', 'cs18k412', 'cs19l412', 'cs20m412', 'cs17j413', 'cs18k413', 'cs19l413', 'cs20m413', 'cs17j414', 'cs18k414', 'cs19l414', 'cs20m414', 'cs17j415', 'cs18k415', 'cs19l415', 'cs20m415', 'cs17j418', 'cs18k418', 'cs20m426', 'cs17j429', 'cs18k429', 'cs19l429', 'cs17j430', 'cs18k430', 'cs19l430', 'cs17j431', 'cs18k431', 'cs19l431', 'cs17j432', 'cs18k432', 'cs19l432', 'cs17j435', 'cs18k435', 'cs19l435', 'cs20m436', 'cs20m437', 'cs20m438', 'cs20m439', 'cs20m440', 'cs20m443', 'cs17j444', 'cs18k444', 'cs19l444', 'cs20m444', 'cs17j445', 'cs18k445', 'cs19l445', 'cs20m445', 'cs17j446', 'cs18k446', 'cs19l446', 'cs20m446', 'cs17j448', 'cs18k448', 'cs19l448', 'cs17j449', 'cs18k449', 'cs19l449', 'cs20m449', 'cs17j450', 'cs18k450', 'cs19l450', 'cs20m450', 'cs17j451', 'cs18k451', 'cs19l451', 'cs20m451', 'cs20m472', 'cs20m473', 'cs20m474', 'cs20m480', 'cs17j483', 'cs18k483', 'cs19l483', 'cs20m483', 'cs17j484', 'cs18k484', 'cs19l484', 'cs20m484', 'cs17j485', 'cs18k485', 'cs19l485', 'cs20m485', 'cs17j486', 'cs18k486', 'cs19l486', 'cs20m487', 'cs17j488', 'cs18k488', 'cs19l488', 'cs17j489', 'cs18k489', 'cs19l489', 'cs17j490', 'cs18k490', 'cs19l490', 'cs17j491', 'cs18k491', 'cs19l491', 'cs17j492', 'cs18k492', 'cs19l492', 'cs17j493', 'cs18k493', 'cs19l493', 'cs20m494', 'cs20m495', 'cs20m496', 'cs20m497', 'cs20m499', 'cs20m500', 'cs17j504', 'cs18k504', 'cs19l504', 'cs20m504', 'cs17j505', 'cs18k505', 'cs19l505', 'cs20m505', 'cs17j506', 'cs18k506', 'cs19l506', 'cs20m506', 'cs17j507', 'cs18k507', 'cs19l507', 'cs20m507', 'cs17j514', 'cs18k514', 'cs19l514', 'cs17j515', 'cs18k515', 'cs19l515', 'cs20m516', 'cs20m517', 'cs17j518', 'cs18k518', 'cs19l518', 'cs20m523', 'cs20m524', 'cs20m525', 'cs20m526', 'cs20m527', 'cs20m568', 'cs20m569', 'cs20m570', 'cs20m571', 'cs20m572', 'cs20m577', 'cs20m578', 'cs20m579', 'cs20m580', 'cs20m581', 'cs20m587', 'cs20m588', 'cs20m589', 'cs20m594', 'cs20m598', 'cw18k000', 'cw19l000', 'cw20m000', 'cw17j_m', 'cw18k_m', 'cw19l_m', 'cw20m_m', 'cw17j001', 'cw18k001', 'cw19l001', 'cw20m001', 'cw17j002', 'cw18k002', 'cw19l002', 'cw20m002', 'cw17j003', 'cw18k003', 'cw19l003', 'cw20m003', 'cw17j004', 'cw18k004', 'cw17j005', 'cw18k005', 'cw20m005', 'cw18k008', 'cw19l008', 'cw20m008', 'cw18k011', 'cw19l011', 'cw20m011', 'cw18k012', 'cw19l012', 'cw20m012', 'cw18k013', 'cw19l013', 'cw20m013', 'cw18k014', 'cw19l014', 'cw20m014', 'cw18k015', 'cw19l015', 'cw20m015', 'cw18k016', 'cw19l016', 'cw20m016', 'cw18k017', 'cw19l017', 'cw20m017', 'cw18k018', 'cw19l018', 'cw20m018', 'cw18k019', 'cw19l019', 'cw20m019', 'cw18k020', 'cw19l020', 'cw20m020', 'cw18k021', 'cw19l021', 'cw20m021', 'cw18k022', 'cw19l022', 'cw20m022', 'cw18k023', 'cw19l023', 'cw20m023', 'cw18k024', 'cw19l024', 'cw20m024', 'cw18k025', 'cw19l025', 'cw20m025', 'cw18k026', 'cw19l026', 'cw20m026', 'cw18k027', 'cw19l027', 'cw20m027', 'cw18k028', 'cw19l028', 'cw17j088', 'cw18k088', 'cw19l088', 'cw20m088', 'cw17j089', 'cw18k089', 'cw19l089', 'cw20m089', 'cw17j090', 'cw18k090', 'cw19l090', 'cw20m090', 'cw17j091', 'cw18k091', 'cw19l091', 'cw20m091', 'cw17j092', 'cw18k092', 'cw19l092', 'cw20m092', 'cw17j093', 'cw18k093', 'cw19l093', 'cw20m093', 'cw17j094', 'cw18k094', 'cw19l094', 'cw20m094', 'cw17j095', 'cw18k095', 'cw19l095', 'cw20m095', 'cw17j096', 'cw18k096', 'cw19l096', 'cw20m096', 'cw17j097', 'cw18k097', 'cw19l097', 'cw20m097', 'cw17j098', 'cw18k098', 'cw19l098', 'cw20m098', 'cw17j099', 'cw18k099', 'cw19l099', 'cw20m099', 'cw17j100', 'cw18k100', 'cw19l100', 'cw20m100', 'cw17j101', 'cw18k101', 'cw19l101', 'cw20m101', 'cw17j102', 'cw18k102', 'cw19l102', 'cw20m102', 'cw20m114', 'cw20m115', 'cw20m116', 'cw20m117', 'cw20m118', 'cw18k404', 'cw19l404', 'cw20m404', 'cw18k405', 'cw19l405', 'cw20m405', 'cw18k450', 'cw19l450', 'cw20m450', 'cw18k496', 'cw19l496', 'cw20m496', 'cw18k497', 'cw19l497', 'cw20m497', 'cw18k498', 'cw19l498', 'cw20m498', 'cw18k499', 'cw19l499', 'cw20m499', 'cw18k500', 'cw19l500', 'cw20m500', 'cw18k505', 'cw19l505', 'cw20m505', 'cw20m511', 'cw17j522', 'cw18k522', 'cw19l522', 'cw20m522', 'cw17j523', 'cw18k523', 'cw19l523', 'cw20m523', 'cw18k525', 'cw19l525', 'cw20m525', 'cw19l572', 'cw20m572', 'cw19l576', 'cw20m576', 'birthyear_bg', 'gender_bg', 'migration_background_bg', 'age_bg', 'belbezig_2015', 'belbezig_2016', 'belbezig_2017', 'belbezig_2018', 'belbezig_2019', 'belbezig_2020', 'brutohh_f_2017', 'brutohh_f_2018', 'brutohh_f_2019', 'brutohh_f_2020', 'brutoink_f_2017', 'brutoink_f_2018', 'brutoink_f_2019', 'brutoink_f_2020', 'burgstat_2015', 'burgstat_2016', 'burgstat_2017', 'burgstat_2018', 'burgstat_2019', 'burgstat_2020', 'netinc_2019', 'netinc_2020', 'nettohh_f_2017', 'nettohh_f_2018', 'nettohh_f_2019', 'nettohh_f_2020', 'nettoink_2017', 'nettoink_2018', 'nettoink_2019', 'nettoink_2020', 'nettoink_f_2017', 'nettoink_f_2018', 'nettoink_f_2019', 'nettoink_f_2020', 'oplcat_2016', 'oplcat_2017', 'oplcat_2018', 'oplcat_2019', 'oplcat_2020', 'oplmet_2015', 'oplmet_2016', 'oplmet_2017', 'oplmet_2018', 'oplmet_2019', 'oplmet_2020', 'oplzon_2015', 'oplzon_2016', 'oplzon_2017', 'oplzon_2018', 'oplzon_2019', 'oplzon_2020', 'partner_2015', 'partner_2016', 'partner_2017', 'partner_2018', 'partner_2019', 'partner_2020', 'sted_2017', 'sted_2018', 'sted_2019', 'sted_2020', 'woning_2015', 'woning_2016', 'woning_2017', 'woning_2018', 'woning_2019', 'woning_2020', 'woonvorm_2015', 'woonvorm_2016', 'woonvorm_2017', 'woonvorm_2018', 'woonvorm_2019', 'woonvorm_2020']\n"
          ]
        }
      ],
      "source": [
        "# Update test data to have same columns\n",
        "columns_list = df_train_nn.columns.tolist()\n",
        "print(columns_list)\n",
        "df_test_nn = X_test[columns_list]"
      ]
    },
    {
      "cell_type": "code",
      "execution_count": null,
      "metadata": {},
      "outputs": [],
      "source": [
        "# Impute remaining columns\n",
        "imputer = SimpleImputer(strategy='mean')\n",
        "df_train_nn = pd.DataFrame(imputer.fit_transform(df_train_nn), columns=df_train_rf.columns)\n",
        "df_test_nn = pd.DataFrame(imputer.fit_transform(df_test_nn), columns=df_test_nn.columns)"
      ]
    },
    {
      "cell_type": "code",
      "execution_count": null,
      "metadata": {},
      "outputs": [
        {
          "name": "stdout",
          "output_type": "stream",
          "text": [
            "(3595, 3031)\n",
            "(3595,)\n",
            "(198, 3031)\n",
            "(198,)\n"
          ]
        }
      ],
      "source": [
        "print(df_train_nn.shape)\n",
        "print(y_train_nn.shape)\n",
        "print(df_test_nn.shape)\n",
        "print(y_test.shape)"
      ]
    },
    {
      "cell_type": "code",
      "execution_count": null,
      "metadata": {},
      "outputs": [],
      "source": [
        "class SimpleNN(nn.Module):\n",
        "  def __init__(self, input_size):\n",
        "    super(SimpleNN, self).__init__()\n",
        "    self.fc1 = nn.Linear(input_size, 128)\n",
        "    self.fc2 = nn.Linear(128, 64)\n",
        "    self.fc3 = nn.Linear(64, 2)\n",
        "\n",
        "  def forward(self, x):\n",
        "    x = torch.relu(self.fc1(x))\n",
        "    x = torch.relu(self.fc2(x))\n",
        "    x = self.fc3(x)\n",
        "    return x"
      ]
    },
    {
      "cell_type": "code",
      "execution_count": null,
      "metadata": {},
      "outputs": [],
      "source": [
        "# Convert data to PyTorch tensors\n",
        "X_train_tensor = torch.tensor(df_train_nn.values, dtype=torch.float32)\n",
        "y_train_tensor = torch.tensor(y_train_nn.values, dtype=torch.long)\n",
        "X_test_tensor = torch.tensor(df_test_nn.values, dtype=torch.float32)\n",
        "y_test_tensor = torch.tensor(y_test.values, dtype=torch.long)\n",
        "\n",
        "# Standardize the data\n",
        "scaler = StandardScaler()\n",
        "X_train_scaled = scaler.fit_transform(X_train_tensor)\n",
        "X_test_scaled = scaler.transform(X_test_tensor)"
      ]
    },
    {
      "cell_type": "code",
      "execution_count": 55,
      "metadata": {},
      "outputs": [],
      "source": [
        "# Initialize the model, loss function, and optimizer\n",
        "input_size = X_train_tensor.shape[1]\n",
        "model = SimpleNN(input_size)\n",
        "criterion = nn.CrossEntropyLoss(weight=torch.tensor([1.0, 20.0]))\n",
        "optimizer = optim.Adam(model.parameters(), lr=0.001)\n",
        "\n",
        "train_dataset = TensorDataset(X_train_tensor, y_train_tensor)\n",
        "train_loader = DataLoader(train_dataset, batch_size=64, shuffle=True)"
      ]
    },
    {
      "cell_type": "code",
      "execution_count": 56,
      "metadata": {},
      "outputs": [
        {
          "name": "stdout",
          "output_type": "stream",
          "text": [
            "Accuracy: 0.4393939393939394\n",
            "\n",
            "Classification Report:\n",
            "               precision    recall  f1-score   support\n",
            "\n",
            "           0       0.75      1.00      0.86       148\n",
            "           1       0.00      0.00      0.00        50\n",
            "\n",
            "    accuracy                           0.75       198\n",
            "   macro avg       0.37      0.50      0.43       198\n",
            "weighted avg       0.56      0.75      0.64       198\n",
            "\n",
            "\n",
            "Confusion Matrix:\n",
            " [[148   0]\n",
            " [ 50   0]]\n"
          ]
        },
        {
          "name": "stderr",
          "output_type": "stream",
          "text": [
            "/Users/arnavkumar/opt/anaconda3/envs/eyra-rank/lib/python3.11/site-packages/sklearn/metrics/_classification.py:1509: UndefinedMetricWarning: Precision is ill-defined and being set to 0.0 in labels with no predicted samples. Use `zero_division` parameter to control this behavior.\n",
            "  _warn_prf(average, modifier, f\"{metric.capitalize()} is\", len(result))\n",
            "/Users/arnavkumar/opt/anaconda3/envs/eyra-rank/lib/python3.11/site-packages/sklearn/metrics/_classification.py:1509: UndefinedMetricWarning: Precision is ill-defined and being set to 0.0 in labels with no predicted samples. Use `zero_division` parameter to control this behavior.\n",
            "  _warn_prf(average, modifier, f\"{metric.capitalize()} is\", len(result))\n",
            "/Users/arnavkumar/opt/anaconda3/envs/eyra-rank/lib/python3.11/site-packages/sklearn/metrics/_classification.py:1509: UndefinedMetricWarning: Precision is ill-defined and being set to 0.0 in labels with no predicted samples. Use `zero_division` parameter to control this behavior.\n",
            "  _warn_prf(average, modifier, f\"{metric.capitalize()} is\", len(result))\n"
          ]
        }
      ],
      "source": [
        "num_epochs = 250\n",
        "for epoch in range(num_epochs):\n",
        "  for inputs, labels in train_loader:\n",
        "    optimizer.zero_grad()\n",
        "    outputs = model(inputs)\n",
        "    loss = criterion(outputs, labels)\n",
        "    loss.backward()\n",
        "    optimizer.step()\n",
        "\n",
        "with torch.no_grad():\n",
        "  model.eval()\n",
        "  outputs = model(X_test_tensor)\n",
        "  _, y_pred_nn = torch.max(outputs, 1)\n",
        "  acc = accuracy_score(y_test_tensor, predicted)\n",
        "  report = classification_report(y_test_tensor, y_pred_nn)\n",
        "  conf_matrix = confusion_matrix(y_test, y_pred_nn)\n",
        "\n",
        "\n",
        "print(\"Accuracy:\", acc)\n",
        "print(\"\\nClassification Report:\\n\", report)\n",
        "print(\"\\nConfusion Matrix:\\n\", conf_matrix)"
      ]
    },
    {
      "cell_type": "markdown",
      "metadata": {
        "id": "01yyZrkBKKVu"
      },
      "source": [
        "# Semi-supervised learning with/without Supplementary Data with RF or DL"
      ]
    },
    {
      "cell_type": "code",
      "execution_count": 61,
      "metadata": {},
      "outputs": [],
      "source": [
        "from sklearn.cluster import KMeans"
      ]
    },
    {
      "cell_type": "code",
      "execution_count": 72,
      "metadata": {},
      "outputs": [],
      "source": [
        "# Get all rows that are not in test set\n",
        "train_nomem_encr_set = set(df_train_total['nomem_encr'])\n",
        "test_nomem_encr_set = set(X_test['nomem_encr'])\n",
        "unique_in_train_not_in_test = train_nomem_encr_set - test_nomem_encr_set\n",
        "df_train_cluster = df_train_total[df_train_total['nomem_encr'].isin(unique_in_train_not_in_test)]\n",
        "outcome_cluster = outcome_total[outcome_total['nomem_encr'].isin(unique_in_train_not_in_test)]"
      ]
    },
    {
      "cell_type": "code",
      "execution_count": 73,
      "metadata": {},
      "outputs": [
        {
          "name": "stdout",
          "output_type": "stream",
          "text": [
            "(16864, 81)\n",
            "Number of remaining columns: 81\n"
          ]
        }
      ],
      "source": [
        "threshold = len(df_train_cluster) * 0.5\n",
        "df_train_cluster = df_train_cluster.dropna(thresh=threshold, axis=1)\n",
        "numeric_columns = df_train_cluster.select_dtypes(include='number').columns\n",
        "df_train_cluster = df_train_cluster[numeric_columns]\n",
        "print(\"Number of remaining columns:\", len(df_train_cluster.columns))"
      ]
    },
    {
      "cell_type": "code",
      "execution_count": 76,
      "metadata": {},
      "outputs": [],
      "source": [
        "# Impute remaining columns\n",
        "imputer = SimpleImputer(strategy='mean')\n",
        "df_train_cluster = pd.DataFrame(imputer.fit_transform(df_train_cluster), columns=df_train_cluster.columns)\n"
      ]
    },
    {
      "cell_type": "code",
      "execution_count": 78,
      "metadata": {},
      "outputs": [],
      "source": [
        "kmeans = KMeans(n_clusters=10, random_state=42)\n",
        "\n",
        "# Fit KMeans model to the data\n",
        "# If you have selected features, replace df_train_cluster with features\n",
        "kmeans.fit(df_train_cluster)\n",
        "\n",
        "# Get cluster labels\n",
        "cluster_labels = kmeans.labels_"
      ]
    }
  ],
  "metadata": {
    "colab": {
      "provenance": [],
      "toc_visible": true
    },
    "kernelspec": {
      "display_name": "Python 3",
      "name": "python3"
    },
    "language_info": {
      "codemirror_mode": {
        "name": "ipython",
        "version": 3
      },
      "file_extension": ".py",
      "mimetype": "text/x-python",
      "name": "python",
      "nbconvert_exporter": "python",
      "pygments_lexer": "ipython3",
      "version": "3.11.9"
    }
  },
  "nbformat": 4,
  "nbformat_minor": 0
}
